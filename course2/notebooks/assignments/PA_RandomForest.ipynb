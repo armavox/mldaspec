{
 "cells": [
  {
   "cell_type": "markdown",
   "metadata": {},
   "source": [
    "# Programming assignment. Random Forest Classifier\n",
    "---"
   ]
  },
  {
   "cell_type": "code",
   "execution_count": 395,
   "metadata": {},
   "outputs": [],
   "source": [
    "from sklearn import (datasets, model_selection,\n",
    "                     ensemble, tree, metrics,\n",
    "                     learning_curve)\n",
    "\n",
    "import numpy as np\n",
    "import pandas as pd\n",
    "import matplotlib.pyplot as plt"
   ]
  },
  {
   "cell_type": "markdown",
   "metadata": {},
   "source": [
    "# 0 Import data"
   ]
  },
  {
   "cell_type": "code",
   "execution_count": 26,
   "metadata": {},
   "outputs": [],
   "source": [
    "X, y = datasets.load_digits(return_X_y=True)"
   ]
  },
  {
   "cell_type": "code",
   "execution_count": 27,
   "metadata": {},
   "outputs": [
    {
     "name": "stdout",
     "output_type": "stream",
     "text": [
      "Optical Recognition of Handwritten Digits Data Set\n",
      "===================================================\n",
      "\n",
      "Notes\n",
      "-----\n",
      "Data Set Characteristics:\n",
      "    :Number of Instances: 5620\n",
      "    :Number of Attributes: 64\n",
      "    :Attribute Information: 8x8 image of integer pixels in the range 0..16.\n",
      "    :Missing Attribute Values: None\n",
      "    :Creator: E. Alpaydin (alpaydin '@' boun.edu.tr)\n",
      "    :Date: July; 1998\n",
      "\n",
      "This is a copy of the test set of the UCI ML hand-written digits datasets\n",
      "http://archive.ics.uci.edu/ml/datasets/Optical+Recognition+of+Handwritten+Digits\n",
      "\n",
      "The data set contains images of hand-written digits: 10 classes where\n",
      "each class refers to a digit.\n",
      "\n",
      "Preprocessing programs made available by NIST were used to extract\n",
      "normalized bitmaps of handwritten digits from a preprinted form. From a\n",
      "total of 43 people, 30 contributed to the training set and different 13\n",
      "to the test set. 32x32 bitmaps are divided into nonoverlapping blocks of\n",
      "4x4 and the number of on pixels are counted in each block. This generates\n",
      "an input matrix of 8x8 where each element is an integer in the range\n",
      "0..16. This reduces dimensionality and gives invariance to small\n",
      "distortions.\n",
      "\n",
      "For info on NIST preprocessing routines, see M. D. Garris, J. L. Blue, G.\n",
      "T. Candela, D. L. Dimmick, J. Geist, P. J. Grother, S. A. Janet, and C.\n",
      "L. Wilson, NIST Form-Based Handprint Recognition System, NISTIR 5469,\n",
      "1994.\n",
      "\n",
      "References\n",
      "----------\n",
      "  - C. Kaynak (1995) Methods of Combining Multiple Classifiers and Their\n",
      "    Applications to Handwritten Digit Recognition, MSc Thesis, Institute of\n",
      "    Graduate Studies in Science and Engineering, Bogazici University.\n",
      "  - E. Alpaydin, C. Kaynak (1998) Cascading Classifiers, Kybernetika.\n",
      "  - Ken Tang and Ponnuthurai N. Suganthan and Xi Yao and A. Kai Qin.\n",
      "    Linear dimensionalityreduction using relevance weighted LDA. School of\n",
      "    Electrical and Electronic Engineering Nanyang Technological University.\n",
      "    2005.\n",
      "  - Claudio Gentile. A New Approximate Maximal Margin Classification\n",
      "    Algorithm. NIPS. 2000.\n",
      "\n"
     ]
    }
   ],
   "source": [
    "print(datasets.load_digits().DESCR)"
   ]
  },
  {
   "cell_type": "markdown",
   "metadata": {},
   "source": [
    "## 1 Preprocessing data"
   ]
  },
  {
   "cell_type": "markdown",
   "metadata": {},
   "source": [
    "### 1.1 Missing values"
   ]
  },
  {
   "cell_type": "code",
   "execution_count": 29,
   "metadata": {},
   "outputs": [
    {
     "name": "stdout",
     "output_type": "stream",
     "text": [
      "(1797, 64) (1797,)\n"
     ]
    }
   ],
   "source": [
    "print(X.shape, y.shape)"
   ]
  },
  {
   "cell_type": "code",
   "execution_count": 37,
   "metadata": {},
   "outputs": [],
   "source": [
    "X_df = pd.DataFrame(X)\n",
    "y_df = pd.DataFrame(y)"
   ]
  },
  {
   "cell_type": "code",
   "execution_count": 44,
   "metadata": {},
   "outputs": [
    {
     "data": {
      "text/html": [
       "<div>\n",
       "<style scoped>\n",
       "    .dataframe tbody tr th:only-of-type {\n",
       "        vertical-align: middle;\n",
       "    }\n",
       "\n",
       "    .dataframe tbody tr th {\n",
       "        vertical-align: top;\n",
       "    }\n",
       "\n",
       "    .dataframe thead th {\n",
       "        text-align: right;\n",
       "    }\n",
       "</style>\n",
       "<table border=\"1\" class=\"dataframe\">\n",
       "  <thead>\n",
       "    <tr style=\"text-align: right;\">\n",
       "      <th></th>\n",
       "      <th>0</th>\n",
       "      <th>1</th>\n",
       "      <th>2</th>\n",
       "      <th>3</th>\n",
       "      <th>4</th>\n",
       "      <th>5</th>\n",
       "      <th>6</th>\n",
       "      <th>7</th>\n",
       "      <th>8</th>\n",
       "      <th>9</th>\n",
       "      <th>...</th>\n",
       "      <th>54</th>\n",
       "      <th>55</th>\n",
       "      <th>56</th>\n",
       "      <th>57</th>\n",
       "      <th>58</th>\n",
       "      <th>59</th>\n",
       "      <th>60</th>\n",
       "      <th>61</th>\n",
       "      <th>62</th>\n",
       "      <th>63</th>\n",
       "    </tr>\n",
       "  </thead>\n",
       "  <tbody>\n",
       "    <tr>\n",
       "      <th>0</th>\n",
       "      <td>0.0</td>\n",
       "      <td>0.0</td>\n",
       "      <td>5.0</td>\n",
       "      <td>13.0</td>\n",
       "      <td>9.0</td>\n",
       "      <td>1.0</td>\n",
       "      <td>0.0</td>\n",
       "      <td>0.0</td>\n",
       "      <td>0.0</td>\n",
       "      <td>0.0</td>\n",
       "      <td>...</td>\n",
       "      <td>0.0</td>\n",
       "      <td>0.0</td>\n",
       "      <td>0.0</td>\n",
       "      <td>0.0</td>\n",
       "      <td>6.0</td>\n",
       "      <td>13.0</td>\n",
       "      <td>10.0</td>\n",
       "      <td>0.0</td>\n",
       "      <td>0.0</td>\n",
       "      <td>0.0</td>\n",
       "    </tr>\n",
       "    <tr>\n",
       "      <th>1</th>\n",
       "      <td>0.0</td>\n",
       "      <td>0.0</td>\n",
       "      <td>0.0</td>\n",
       "      <td>12.0</td>\n",
       "      <td>13.0</td>\n",
       "      <td>5.0</td>\n",
       "      <td>0.0</td>\n",
       "      <td>0.0</td>\n",
       "      <td>0.0</td>\n",
       "      <td>0.0</td>\n",
       "      <td>...</td>\n",
       "      <td>0.0</td>\n",
       "      <td>0.0</td>\n",
       "      <td>0.0</td>\n",
       "      <td>0.0</td>\n",
       "      <td>0.0</td>\n",
       "      <td>11.0</td>\n",
       "      <td>16.0</td>\n",
       "      <td>10.0</td>\n",
       "      <td>0.0</td>\n",
       "      <td>0.0</td>\n",
       "    </tr>\n",
       "  </tbody>\n",
       "</table>\n",
       "<p>2 rows × 64 columns</p>\n",
       "</div>"
      ],
      "text/plain": [
       "    0    1    2     3     4    5    6    7    8    9  ...    54   55   56  \\\n",
       "0  0.0  0.0  5.0  13.0   9.0  1.0  0.0  0.0  0.0  0.0 ...   0.0  0.0  0.0   \n",
       "1  0.0  0.0  0.0  12.0  13.0  5.0  0.0  0.0  0.0  0.0 ...   0.0  0.0  0.0   \n",
       "\n",
       "    57   58    59    60    61   62   63  \n",
       "0  0.0  6.0  13.0  10.0   0.0  0.0  0.0  \n",
       "1  0.0  0.0  11.0  16.0  10.0  0.0  0.0  \n",
       "\n",
       "[2 rows x 64 columns]"
      ]
     },
     "execution_count": 44,
     "metadata": {},
     "output_type": "execute_result"
    }
   ],
   "source": [
    "X_df.head(2)  # Number of attributes = 64: {0, ..., 63}"
   ]
  },
  {
   "cell_type": "code",
   "execution_count": 43,
   "metadata": {},
   "outputs": [
    {
     "data": {
      "text/html": [
       "<div>\n",
       "<style scoped>\n",
       "    .dataframe tbody tr th:only-of-type {\n",
       "        vertical-align: middle;\n",
       "    }\n",
       "\n",
       "    .dataframe tbody tr th {\n",
       "        vertical-align: top;\n",
       "    }\n",
       "\n",
       "    .dataframe thead th {\n",
       "        text-align: right;\n",
       "    }\n",
       "</style>\n",
       "<table border=\"1\" class=\"dataframe\">\n",
       "  <thead>\n",
       "    <tr style=\"text-align: right;\">\n",
       "      <th></th>\n",
       "      <th>0</th>\n",
       "      <th>1</th>\n",
       "      <th>2</th>\n",
       "      <th>3</th>\n",
       "      <th>4</th>\n",
       "      <th>5</th>\n",
       "      <th>6</th>\n",
       "      <th>7</th>\n",
       "      <th>8</th>\n",
       "      <th>9</th>\n",
       "      <th>...</th>\n",
       "      <th>1787</th>\n",
       "      <th>1788</th>\n",
       "      <th>1789</th>\n",
       "      <th>1790</th>\n",
       "      <th>1791</th>\n",
       "      <th>1792</th>\n",
       "      <th>1793</th>\n",
       "      <th>1794</th>\n",
       "      <th>1795</th>\n",
       "      <th>1796</th>\n",
       "    </tr>\n",
       "  </thead>\n",
       "  <tbody>\n",
       "    <tr>\n",
       "      <th>0</th>\n",
       "      <td>0</td>\n",
       "      <td>1</td>\n",
       "      <td>2</td>\n",
       "      <td>3</td>\n",
       "      <td>4</td>\n",
       "      <td>5</td>\n",
       "      <td>6</td>\n",
       "      <td>7</td>\n",
       "      <td>8</td>\n",
       "      <td>9</td>\n",
       "      <td>...</td>\n",
       "      <td>5</td>\n",
       "      <td>4</td>\n",
       "      <td>8</td>\n",
       "      <td>8</td>\n",
       "      <td>4</td>\n",
       "      <td>9</td>\n",
       "      <td>0</td>\n",
       "      <td>8</td>\n",
       "      <td>9</td>\n",
       "      <td>8</td>\n",
       "    </tr>\n",
       "  </tbody>\n",
       "</table>\n",
       "<p>1 rows × 1797 columns</p>\n",
       "</div>"
      ],
      "text/plain": [
       "   0     1     2     3     4     5     6     7     8     9     ...   1787  \\\n",
       "0     0     1     2     3     4     5     6     7     8     9  ...      5   \n",
       "\n",
       "   1788  1789  1790  1791  1792  1793  1794  1795  1796  \n",
       "0     4     8     8     4     9     0     8     9     8  \n",
       "\n",
       "[1 rows x 1797 columns]"
      ]
     },
     "execution_count": 43,
     "metadata": {},
     "output_type": "execute_result"
    }
   ],
   "source": [
    "y_df.T.head(5)  # Number of classes = 5, number of instances = 1796."
   ]
  },
  {
   "cell_type": "markdown",
   "metadata": {},
   "source": [
    "Check if the missing values present"
   ]
  },
  {
   "cell_type": "code",
   "execution_count": 49,
   "metadata": {},
   "outputs": [
    {
     "name": "stdout",
     "output_type": "stream",
     "text": [
      "X missing vals:  False\n",
      "y missing vals:  False\n"
     ]
    }
   ],
   "source": [
    "print('X missing vals: ', X_df.isna().any().any())  # First .any() for rows, second — for columns.\n",
    "print('y missing vals: ', y_df.isna().any().any())  # Same"
   ]
  },
  {
   "cell_type": "markdown",
   "metadata": {},
   "source": [
    "### 1.2 Categorical features"
   ]
  },
  {
   "cell_type": "markdown",
   "metadata": {},
   "source": [
    "In this data there are no categorical and binary values, so we continue work with real values."
   ]
  },
  {
   "cell_type": "markdown",
   "metadata": {},
   "source": [
    "### 1.3 Stratification"
   ]
  },
  {
   "cell_type": "code",
   "execution_count": 54,
   "metadata": {},
   "outputs": [],
   "source": [
    "X_train, X_test, y_train, y_test = model_selection.train_test_split(\n",
    "    X, y, test_size=0.3, stratify=y)"
   ]
  },
  {
   "cell_type": "code",
   "execution_count": 55,
   "metadata": {},
   "outputs": [
    {
     "name": "stdout",
     "output_type": "stream",
     "text": [
      "(1257, 64) (1257,)\n",
      "(540, 64) (540,)\n"
     ]
    }
   ],
   "source": [
    "print(X_train.shape, y_train.shape)\n",
    "print(X_test.shape, y_test.shape)"
   ]
  },
  {
   "cell_type": "markdown",
   "metadata": {},
   "source": [
    "### 1.4 Balancing classes"
   ]
  },
  {
   "cell_type": "markdown",
   "metadata": {},
   "source": [
    "Check if classes are disbalanced."
   ]
  },
  {
   "cell_type": "code",
   "execution_count": 65,
   "metadata": {},
   "outputs": [
    {
     "name": "stdout",
     "output_type": "stream",
     "text": [
      "Number of objects of...\n",
      "class 0: 124\n",
      "class 1: 127\n",
      "class 2: 124\n",
      "class 3: 128\n",
      "class 4: 127\n",
      "class 5: 127\n",
      "class 6: 127\n",
      "class 7: 125\n",
      "class 8: 122\n",
      "class 9: 126\n"
     ]
    }
   ],
   "source": [
    "val_set = set(y)\n",
    "print('Number of objects of...')\n",
    "for val in val_set:\n",
    "    print(f'class {val}:', np.sum(y_train==val))"
   ]
  },
  {
   "cell_type": "markdown",
   "metadata": {},
   "source": [
    "### 1.5 Scaling"
   ]
  },
  {
   "cell_type": "code",
   "execution_count": 83,
   "metadata": {},
   "outputs": [
    {
     "data": {
      "text/plain": [
       "array([0.00000000e+00, 2.90373906e-01, 5.11774065e+00, 1.18210024e+01,\n",
       "       1.19037391e+01, 5.77167860e+00, 1.40015911e+00, 1.36833731e-01,\n",
       "       4.77326969e-03, 1.96340493e+00, 1.03221957e+01, 1.20334129e+01,\n",
       "       1.02601432e+01, 8.00875099e+00, 1.86316627e+00, 1.33651551e-01,\n",
       "       3.18217979e-03, 2.65712013e+00, 9.92521877e+00, 6.99363564e+00,\n",
       "       7.11694511e+00, 7.64916468e+00, 1.83134447e+00, 5.88703262e-02,\n",
       "       1.59108990e-03, 2.56085919e+00, 9.10262530e+00, 8.76213206e+00,\n",
       "       9.93874304e+00, 7.49005569e+00, 2.29355609e+00, 2.38663484e-03,\n",
       "       0.00000000e+00, 2.36833731e+00, 7.68257757e+00, 9.12887828e+00,\n",
       "       1.03603819e+01, 8.62688942e+00, 2.89737470e+00, 0.00000000e+00,\n",
       "       9.54653938e-03, 1.63007160e+00, 6.89180589e+00, 7.26014320e+00,\n",
       "       7.76292761e+00, 8.12251392e+00, 3.44391408e+00, 2.78440732e-02,\n",
       "       1.03420843e-02, 7.42243437e-01, 7.50596659e+00, 9.57995227e+00,\n",
       "       9.45107399e+00, 8.61256961e+00, 3.70883055e+00, 2.04455052e-01,\n",
       "       7.95544948e-04, 2.77645187e-01, 5.46459825e+00, 1.20763723e+01,\n",
       "       1.17732697e+01, 6.70485282e+00, 2.02307080e+00, 3.38106603e-01])"
      ]
     },
     "execution_count": 83,
     "metadata": {},
     "output_type": "execute_result"
    }
   ],
   "source": [
    "X_train.mean(axis=0)"
   ]
  },
  {
   "cell_type": "markdown",
   "metadata": {},
   "source": [
    "It will be better to scale the data, but it is not mentioned in the task, so we pass this step. In most cases scaling is performed as following:\n",
    "\n",
    "---\n",
    "```python\n",
    "    from sklearn.preprocessing import StandartScaler\n",
    "    scaler = StandartScaler()\n",
    "    X_train_scaled = scaler.fit_transform(X_train)\n",
    "    X_test_scaled = scaler.transform(X_test)\n",
    "```\n",
    "---"
   ]
  },
  {
   "cell_type": "markdown",
   "metadata": {},
   "source": [
    "---\n",
    "## 2 Models training"
   ]
  },
  {
   "cell_type": "markdown",
   "metadata": {},
   "source": [
    "### 2.1 Decision Tree Classifier"
   ]
  },
  {
   "cell_type": "code",
   "execution_count": 85,
   "metadata": {},
   "outputs": [],
   "source": [
    "from sklearn.tree import DecisionTreeClassifier"
   ]
  },
  {
   "cell_type": "code",
   "execution_count": 120,
   "metadata": {},
   "outputs": [
    {
     "data": {
      "text/plain": [
       "DecisionTreeClassifier(class_weight=None, criterion='gini', max_depth=None,\n",
       "            max_features=None, max_leaf_nodes=None,\n",
       "            min_impurity_decrease=0.0, min_impurity_split=None,\n",
       "            min_samples_leaf=1, min_samples_split=2,\n",
       "            min_weight_fraction_leaf=0.0, presort=False, random_state=None,\n",
       "            splitter='best')"
      ]
     },
     "execution_count": 120,
     "metadata": {},
     "output_type": "execute_result"
    }
   ],
   "source": [
    "\"\"\"Definition and training step\"\"\"\n",
    "tree_clf = DecisionTreeClassifier()\n",
    "# tree_clf.fit(X, y)"
   ]
  },
  {
   "cell_type": "code",
   "execution_count": 123,
   "metadata": {},
   "outputs": [
    {
     "name": "stdout",
     "output_type": "stream",
     "text": [
      "Answer: 0.8236604157933186\n"
     ]
    }
   ],
   "source": [
    "\"\"\"Validation step\"\"\"\n",
    "score = model_selection.cross_val_score(tree_clf, X, y, cv=10, n_jobs=-1)\n",
    "print('Answer:', score.mean())"
   ]
  },
  {
   "cell_type": "markdown",
   "metadata": {},
   "source": [
    "### 2.2 Bagging Classifier"
   ]
  },
  {
   "cell_type": "markdown",
   "metadata": {},
   "source": [
    "#### 2.2.1 Bagging Classifier with default parameters"
   ]
  },
  {
   "cell_type": "code",
   "execution_count": 96,
   "metadata": {},
   "outputs": [],
   "source": [
    "from sklearn.ensemble import BaggingClassifier"
   ]
  },
  {
   "cell_type": "code",
   "execution_count": 124,
   "metadata": {},
   "outputs": [
    {
     "data": {
      "text/plain": [
       "BaggingClassifier(base_estimator=None, bootstrap=True,\n",
       "         bootstrap_features=False, max_features=1.0, max_samples=1.0,\n",
       "         n_estimators=100, n_jobs=1, oob_score=False, random_state=None,\n",
       "         verbose=0, warm_start=False)"
      ]
     },
     "execution_count": 124,
     "metadata": {},
     "output_type": "execute_result"
    }
   ],
   "source": [
    "\"\"\"Definition and #training step\"\"\"\n",
    "bagg_clf = BaggingClassifier(n_estimators=100)\n",
    "# bagg_clf.fit(X, y)"
   ]
  },
  {
   "cell_type": "code",
   "execution_count": 125,
   "metadata": {},
   "outputs": [
    {
     "name": "stdout",
     "output_type": "stream",
     "text": [
      "Answer: 0.9221054937586872\n"
     ]
    }
   ],
   "source": [
    "\"\"\"Cross-validation step\"\"\"\n",
    "score = model_selection.cross_val_score(bagg_clf, X, y, cv=10, n_jobs=-1)\n",
    "print('Answer:', score.mean())"
   ]
  },
  {
   "cell_type": "markdown",
   "metadata": {},
   "source": [
    "#### 2.2.2 Bagging Classifier with contraint of features"
   ]
  },
  {
   "cell_type": "markdown",
   "metadata": {},
   "source": [
    "In this case we define number of features for training trees as $\\sqrt{d}$, where $d$ is the total number of features."
   ]
  },
  {
   "cell_type": "code",
   "execution_count": 391,
   "metadata": {},
   "outputs": [
    {
     "name": "stdout",
     "output_type": "stream",
     "text": [
      "Answer: 0.9271813255256948\n"
     ]
    }
   ],
   "source": [
    "\"\"\"Definition and #training step\"\"\"\n",
    "bagg_clf = BaggingClassifier(n_estimators=100,\n",
    "                             max_features=int(np.sqrt(X.shape[1])))\n",
    "# bagg_clf.fit(X, y)\n",
    "\n",
    "\"\"\"Cross-validation step\"\"\"\n",
    "score = model_selection.cross_val_score(bagg_clf, X, y, cv=10, n_jobs=-1)\n",
    "print('Answer:', score.mean())"
   ]
  },
  {
   "cell_type": "markdown",
   "metadata": {},
   "source": [
    "#### 2.2.3 Bagging Classifier with randomized trees"
   ]
  },
  {
   "cell_type": "markdown",
   "metadata": {},
   "source": [
    "In this case we will define number of features for every base tree."
   ]
  },
  {
   "cell_type": "code",
   "execution_count": 392,
   "metadata": {},
   "outputs": [
    {
     "name": "stdout",
     "output_type": "stream",
     "text": [
      "Answer: 0.9555858540647373\n"
     ]
    }
   ],
   "source": [
    "\"\"\"Definition and #training step\"\"\"\n",
    "bagg_clf = BaggingClassifier(DecisionTreeClassifier(max_features='sqrt'),\n",
    "                             n_estimators=100)\n",
    "# bagg_clf.fit(X, y)\n",
    "\n",
    "\"\"\"Cross-validation step\"\"\"\n",
    "score = model_selection.cross_val_score(bagg_clf, X, y, cv=10, n_jobs=-1)\n",
    "print('Answer:', score.mean())"
   ]
  },
  {
   "cell_type": "markdown",
   "metadata": {},
   "source": [
    "### 2.3 Random Forest Classifier"
   ]
  },
  {
   "cell_type": "markdown",
   "metadata": {},
   "source": [
    "Previous Bagging Classifier with randomized trees from (2.2.3) exactly is the Random Forset Classifier. In this section we will compare RFC from the `sklearn.ensemble` module with the previous one."
   ]
  },
  {
   "cell_type": "code",
   "execution_count": 146,
   "metadata": {},
   "outputs": [],
   "source": [
    "from sklearn.ensemble import RandomForestClassifier"
   ]
  },
  {
   "cell_type": "code",
   "execution_count": 389,
   "metadata": {},
   "outputs": [],
   "source": [
    "\"\"\"Definition and #training step\"\"\"\n",
    "rf_clf = RandomForestClassifier(n_estimators=100)\n",
    "# rf_clf.fit(X, y)"
   ]
  },
  {
   "cell_type": "code",
   "execution_count": 390,
   "metadata": {},
   "outputs": [
    {
     "name": "stdout",
     "output_type": "stream",
     "text": [
      "Answer: 0.9571978276974782\n"
     ]
    }
   ],
   "source": [
    "\"\"\"Cross-validation step\"\"\"\n",
    "score = model_selection.cross_val_score(rf_clf, X, y, cv=10, n_jobs=-1)\n",
    "print('Answer:', score.mean())"
   ]
  },
  {
   "cell_type": "markdown",
   "metadata": {},
   "source": [
    "Close enough."
   ]
  },
  {
   "cell_type": "markdown",
   "metadata": {},
   "source": [
    "#### 2.3.1 Estimating the impact of parameters of the Random Forest Classifier "
   ]
  },
  {
   "cell_type": "markdown",
   "metadata": {},
   "source": [
    "We will compare the following parameters:\n",
    "\n",
    "---\n",
    "```python\n",
    "    'n_estimators': np.arange(5,100, step=5)\n",
    "    'max_features': np.arange(1, X.shape[1], step=10)\n",
    "    'max_depth': [1, 5, 10, None] \n",
    "```\n",
    "---"
   ]
  },
  {
   "cell_type": "code",
   "execution_count": 260,
   "metadata": {},
   "outputs": [],
   "source": [
    "\"\"\"Auxiliary function to return arrays of RFC quality values \n",
    "according to arrays of different params.\n",
    "\"\"\"\n",
    "def score_arrays(train_data, train_labels, test_data=None, test_labels=None,\n",
    "                 n_estimators=10,\n",
    "                 max_features='auto',\n",
    "                 max_depth=None,\n",
    "                 test=False):\n",
    "    \"\"\"Fuction to return the array of score values according to parameters\n",
    "    given in arguments.\n",
    "    \n",
    "    Returns\n",
    "    -------\n",
    "    n_estimators_q_range : ndarray\n",
    "    \n",
    "    max_features_q_range : ndarray\n",
    "    \n",
    "    max_depth_q_range : ndarray\n",
    "    \"\"\"\n",
    "    \n",
    "    from sklearn import model_selection, ensemble\n",
    "    \n",
    "    n_estimators_q_range = []\n",
    "    n_estimators_test_q_range = []\n",
    "    for num_ests in n_estimators:\n",
    "        estimator = ensemble.RandomForestClassifier(n_estimators=num_ests)\n",
    "        estimator.fit(train_data, train_labels)\n",
    "        \n",
    "        n_estimators_q_range.append(model_selection.cross_val_score(estimator, \n",
    "                                    train_data, train_labels, cv=10, n_jobs=-1).mean())\n",
    "        if test: \n",
    "            n_estimators_test_q_range.append(model_selection.cross_val_score(estimator, \n",
    "                                    test_data, test_labels, cv=10, n_jobs=-1).mean())\n",
    "            \n",
    "    max_features_q_range = []\n",
    "    max_features_test_q_range = []\n",
    "    for n_features in max_features:\n",
    "        estimator = ensemble.RandomForestClassifier(max_features=n_features)\n",
    "        estimator.fit(train_data, train_labels)\n",
    "        \n",
    "        max_features_q_range.append(model_selection.cross_val_score(estimator, \n",
    "                                    train_data, train_labels, cv=10, n_jobs=-1).mean())\n",
    "        if test: \n",
    "            max_features_test_q_range.append(model_selection.cross_val_score(estimator, \n",
    "                                    test_data, test_labels, cv=10, n_jobs=-1).mean())\n",
    "    \n",
    "    max_depth_q_range = []\n",
    "    max_depth_test_q_range = []\n",
    "    for depth in max_depth:\n",
    "        estimator = ensemble.RandomForestClassifier(max_depth=depth)\n",
    "        estimator.fit(train_data, train_labels)\n",
    "        \n",
    "        max_depth_q_range.append(model_selection.cross_val_score(estimator, \n",
    "                                    train_data, train_labels, cv=10, n_jobs=-1).mean())\n",
    "        if test: \n",
    "            max_depth_test_q_range.append(model_selection.cross_val_score(estimator, \n",
    "                                    test_data, test_labels, cv=10, n_jobs=-1).mean())\n",
    "        \n",
    "    return ([np.array(n_estimators_q_range), \n",
    "            np.array(max_features_q_range),\n",
    "            np.array(max_depth_q_range)],\n",
    "            [np.array(n_estimators_test_q_range),\n",
    "            np.array(max_features_test_q_range),\n",
    "            np.array(max_depth_test_q_range)])\n"
   ]
  },
  {
   "cell_type": "markdown",
   "metadata": {},
   "source": [
    "Estimating scores with auxiliary function"
   ]
  },
  {
   "cell_type": "code",
   "execution_count": 281,
   "metadata": {},
   "outputs": [
    {
     "name": "stdout",
     "output_type": "stream",
     "text": [
      "CPU times: user 12.3 s, sys: 3.72 s, total: 16.1 s\n",
      "Wall time: 33.6 s\n"
     ]
    }
   ],
   "source": [
    "%%time\n",
    "estimators_range = np.arange(5,100, step=5)\n",
    "max_features_range = np.arange(1, X.shape[1], step=5)\n",
    "max_depth_range = [1, 2, 3, 4, 5, 6, 7, 8, 9, 10, None]\n",
    "\n",
    "# rf_train_score = score_arrays(X_train, y_train, estimators_range,\n",
    "#                         max_features_range,\n",
    "#                         max_depth_range)\n",
    "\n",
    "rf_train_test_score = score_arrays(X_train, y_train, X_test, y_test, estimators_range,\n",
    "                        max_features_range,\n",
    "                        max_depth_range, test=True)"
   ]
  },
  {
   "cell_type": "markdown",
   "metadata": {},
   "source": [
    "To see the dependence of the estimate on the parameters plot several we will draw several plots in parameter/quality coordinates"
   ]
  },
  {
   "cell_type": "code",
   "execution_count": 283,
   "metadata": {},
   "outputs": [
    {
     "data": {
      "image/png": "[encoded data removed]",
      "text/plain": [
       "<Figure size 1152x288 with 3 Axes>"
      ]
     },
     "metadata": {
      "needs_background": "light"
     },
     "output_type": "display_data"
    }
   ],
   "source": [
    "\"\"\"Plot dependencies\"\"\"\n",
    "fig, ax = plt.subplots(1,3, sharey=True, figsize=(16,4))\n",
    "\n",
    "fig.suptitle('Parameters impact on score in RFC', fontsize=16, y=1.05)\n",
    "\n",
    "ax[0].plot(estimators_range, rf_train_test_score[0][0], label='train')\n",
    "ax[0].plot(estimators_range, rf_train_test_score[1][0], label='test', c='g')\n",
    "ax[0].set(xlabel='Number of trees',\n",
    "          ylabel='Quality score',\n",
    "         title='Dependency on number of base trees')\n",
    "ax[0].legend(loc='lower right')\n",
    "\n",
    "ax[1].plot(max_features_range, rf_train_test_score[0][1], label='train')\n",
    "ax[1].plot(max_features_range, rf_train_test_score[1][1], label='test', c='g')\n",
    "ax[1].set(xlabel='Number of features',\n",
    "         title='Dependency on number of features')\n",
    "ax[1].legend(loc='lower right')\n",
    "\n",
    "ax[2].plot(max_depth_range, rf_train_test_score[0][2], label='train')\n",
    "ax[2].plot(max_depth_range, rf_train_test_score[1][2], label='test', c='g')\n",
    "ax[2].set(xlabel='Depth',\n",
    "         title='Dependency on depth of trees')\n",
    "ax[2].legend(loc='lower right')\n",
    "\n",
    "for ax in ax:\n",
    "    ax.grid(True)\n",
    "    \n",
    "fig.tight_layout();\n"
   ]
  },
  {
   "cell_type": "markdown",
   "metadata": {},
   "source": [
    "Answers according to the task:\n",
    "\n",
    " ---\n",
    " (2, 3, 4, 7)\n",
    " \n",
    " ---"
   ]
  },
  {
   "cell_type": "code",
   "execution_count": null,
   "metadata": {},
   "outputs": [],
   "source": []
  }
 ],
 "metadata": {
  "kernelspec": {
   "display_name": "Python 3.7 [mldaspec]",
   "language": "python",
   "name": "mldaspec"
  },
  "language_info": {
   "codemirror_mode": {
    "name": "ipython",
    "version": 3
   },
   "file_extension": ".py",
   "mimetype": "text/x-python",
   "name": "python",
   "nbconvert_exporter": "python",
   "pygments_lexer": "ipython3",
   "version": "3.7.0"
  }
 },
 "nbformat": 4,
 "nbformat_minor": 2
}
