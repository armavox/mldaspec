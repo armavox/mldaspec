{
 "cells": [
  {
   "cell_type": "markdown",
   "metadata": {},
   "source": [
    "**Programming Assignment. Clustering**\n",
    "\n",
    "---"
   ]
  },
  {
   "cell_type": "code",
   "execution_count": 1,
   "metadata": {},
   "outputs": [],
   "source": [
    "import re\n",
    "import numpy as np\n",
    "import pandas as pd\n",
    "import matplotlib.pyplot as plt\n",
    "%matplotlib inline"
   ]
  },
  {
   "cell_type": "markdown",
   "metadata": {},
   "source": [
    "In that task we will consider the order from the cruise travel agency 'Carnival Cluise Line'. Client wants to promote its services with placing banners across the world. To test the effect from banner placing the client wants to place only 20 banners.\n",
    "\n",
    "Our aim is to choose the best places for theese banners.\n",
    "\n",
    "To find the most visited spots we will use the **Forsquare** service.\n",
    "\n",
    "Free-access data is fetched from the checkins.dat from (https://archive.org/details/201309_foursquare_dataset_umn)"
   ]
  },
  {
   "cell_type": "markdown",
   "metadata": {},
   "source": [
    "___\n",
    "# **Preparing the data**"
   ]
  },
  {
   "cell_type": "markdown",
   "metadata": {},
   "source": [
    "##  **Importing data and converting to pandas DataFrame**"
   ]
  },
  {
   "cell_type": "markdown",
   "metadata": {},
   "source": [
    "Preprocessing file with the data to csv-like form"
   ]
  },
  {
   "cell_type": "code",
   "execution_count": 2,
   "metadata": {},
   "outputs": [],
   "source": [
    "with open('../data/umn_foursquare_datasets/checkins.dat') as f:\n",
    "    data = []\n",
    "    for line in f:\n",
    "        # Exclude rows with '--+--'\n",
    "        if line !='\\n' and not re.search(r'\\+', line):\n",
    "            # Split each row by '|'\n",
    "            line = re.split('\\|', line)\n",
    "            # Remove spaces around the items\n",
    "            line = list(map(lambda l: l.strip(), line))\n",
    "            data.append(line)\n",
    "#the_number_of_symbols_to_limit_the_line_length_is__________________________79"
   ]
  },
  {
   "cell_type": "markdown",
   "metadata": {},
   "source": [
    "Make the pandas DataFrame"
   ]
  },
  {
   "cell_type": "code",
   "execution_count": 3,
   "metadata": {},
   "outputs": [
    {
     "data": {
      "text/html": [
       "<div>\n",
       "<style scoped>\n",
       "    .dataframe tbody tr th:only-of-type {\n",
       "        vertical-align: middle;\n",
       "    }\n",
       "\n",
       "    .dataframe tbody tr th {\n",
       "        vertical-align: top;\n",
       "    }\n",
       "\n",
       "    .dataframe thead th {\n",
       "        text-align: right;\n",
       "    }\n",
       "</style>\n",
       "<table border=\"1\" class=\"dataframe\">\n",
       "  <thead>\n",
       "    <tr style=\"text-align: right;\">\n",
       "      <th></th>\n",
       "      <th>user_id</th>\n",
       "      <th>venue_id</th>\n",
       "      <th>latitude</th>\n",
       "      <th>longitude</th>\n",
       "      <th>created_at</th>\n",
       "    </tr>\n",
       "  </thead>\n",
       "  <tbody>\n",
       "    <tr>\n",
       "      <th>984301</th>\n",
       "      <td>2041916</td>\n",
       "      <td>5222</td>\n",
       "      <td></td>\n",
       "      <td></td>\n",
       "      <td>2012-04-21 17:39:01</td>\n",
       "    </tr>\n",
       "    <tr>\n",
       "      <th>984222</th>\n",
       "      <td>15824</td>\n",
       "      <td>5222</td>\n",
       "      <td>38.8951118</td>\n",
       "      <td>-77.0363658</td>\n",
       "      <td>2012-04-21 17:43:47</td>\n",
       "    </tr>\n",
       "    <tr>\n",
       "      <th>984315</th>\n",
       "      <td>1764391</td>\n",
       "      <td>5222</td>\n",
       "      <td></td>\n",
       "      <td></td>\n",
       "      <td>2012-04-21 17:37:18</td>\n",
       "    </tr>\n",
       "    <tr>\n",
       "      <th>984234</th>\n",
       "      <td>44652</td>\n",
       "      <td>5222</td>\n",
       "      <td>33.800745</td>\n",
       "      <td>-84.41052</td>\n",
       "      <td>2012-04-21 17:43:43</td>\n",
       "    </tr>\n",
       "    <tr>\n",
       "      <th>984249</th>\n",
       "      <td>2146840</td>\n",
       "      <td>5222</td>\n",
       "      <td></td>\n",
       "      <td></td>\n",
       "      <td>2012-04-21 17:42:58</td>\n",
       "    </tr>\n",
       "  </tbody>\n",
       "</table>\n",
       "</div>"
      ],
      "text/plain": [
       "        user_id venue_id    latitude    longitude           created_at\n",
       "984301  2041916     5222                           2012-04-21 17:39:01\n",
       "984222    15824     5222  38.8951118  -77.0363658  2012-04-21 17:43:47\n",
       "984315  1764391     5222                           2012-04-21 17:37:18\n",
       "984234    44652     5222   33.800745    -84.41052  2012-04-21 17:43:43\n",
       "984249  2146840     5222                           2012-04-21 17:42:58"
      ]
     },
     "execution_count": 3,
     "metadata": {},
     "output_type": "execute_result"
    }
   ],
   "source": [
    "df = pd.DataFrame(data[1:], columns=data[0], index=[s[0] for s in data[1:]])\n",
    "df = df.drop('id', axis=1)\n",
    "df.head()"
   ]
  },
  {
   "cell_type": "markdown",
   "metadata": {},
   "source": [
    "## **Preprocessing the data**"
   ]
  },
  {
   "cell_type": "markdown",
   "metadata": {},
   "source": [
    "Look at the NaN values"
   ]
  },
  {
   "cell_type": "code",
   "execution_count": 4,
   "metadata": {},
   "outputs": [
    {
     "data": {
      "text/plain": [
       "''"
      ]
     },
     "execution_count": 4,
     "metadata": {},
     "output_type": "execute_result"
    }
   ],
   "source": [
    "df['latitude'].iloc[0]"
   ]
  },
  {
   "cell_type": "markdown",
   "metadata": {},
   "source": [
    "We will replace these values with np.nan and drop rows containing it form dataset according to the task. These rows are not informative because of the doesn't contain coordinates."
   ]
  },
  {
   "cell_type": "code",
   "execution_count": 383,
   "metadata": {},
   "outputs": [
    {
     "data": {
      "text/html": [
       "<div>\n",
       "<style scoped>\n",
       "    .dataframe tbody tr th:only-of-type {\n",
       "        vertical-align: middle;\n",
       "    }\n",
       "\n",
       "    .dataframe tbody tr th {\n",
       "        vertical-align: top;\n",
       "    }\n",
       "\n",
       "    .dataframe thead th {\n",
       "        text-align: right;\n",
       "    }\n",
       "</style>\n",
       "<table border=\"1\" class=\"dataframe\">\n",
       "  <thead>\n",
       "    <tr style=\"text-align: right;\">\n",
       "      <th></th>\n",
       "      <th>user_id</th>\n",
       "      <th>venue_id</th>\n",
       "      <th>latitude</th>\n",
       "      <th>longitude</th>\n",
       "      <th>created_at</th>\n",
       "    </tr>\n",
       "  </thead>\n",
       "  <tbody>\n",
       "    <tr>\n",
       "      <th>984222</th>\n",
       "      <td>15824</td>\n",
       "      <td>5222</td>\n",
       "      <td>38.895112</td>\n",
       "      <td>-77.036366</td>\n",
       "      <td>2012-04-21 17:43:47</td>\n",
       "    </tr>\n",
       "    <tr>\n",
       "      <th>984234</th>\n",
       "      <td>44652</td>\n",
       "      <td>5222</td>\n",
       "      <td>33.800745</td>\n",
       "      <td>-84.410520</td>\n",
       "      <td>2012-04-21 17:43:43</td>\n",
       "    </tr>\n",
       "    <tr>\n",
       "      <th>984291</th>\n",
       "      <td>105054</td>\n",
       "      <td>5222</td>\n",
       "      <td>45.523452</td>\n",
       "      <td>-122.676207</td>\n",
       "      <td>2012-04-21 17:39:22</td>\n",
       "    </tr>\n",
       "    <tr>\n",
       "      <th>984318</th>\n",
       "      <td>2146539</td>\n",
       "      <td>5222</td>\n",
       "      <td>40.764462</td>\n",
       "      <td>-111.904565</td>\n",
       "      <td>2012-04-21 17:35:46</td>\n",
       "    </tr>\n",
       "    <tr>\n",
       "      <th>984232</th>\n",
       "      <td>93870</td>\n",
       "      <td>380645</td>\n",
       "      <td>33.448377</td>\n",
       "      <td>-112.074037</td>\n",
       "      <td>2012-04-21 17:38:18</td>\n",
       "    </tr>\n",
       "  </tbody>\n",
       "</table>\n",
       "</div>"
      ],
      "text/plain": [
       "        user_id  venue_id   latitude   longitude           created_at\n",
       "984222    15824      5222  38.895112  -77.036366  2012-04-21 17:43:47\n",
       "984234    44652      5222  33.800745  -84.410520  2012-04-21 17:43:43\n",
       "984291   105054      5222  45.523452 -122.676207  2012-04-21 17:39:22\n",
       "984318  2146539      5222  40.764462 -111.904565  2012-04-21 17:35:46\n",
       "984232    93870    380645  33.448377 -112.074037  2012-04-21 17:38:18"
      ]
     },
     "execution_count": 383,
     "metadata": {},
     "output_type": "execute_result"
    }
   ],
   "source": [
    "df = df.replace('', np.nan).dropna()\n",
    "df.head()"
   ]
  },
  {
   "cell_type": "markdown",
   "metadata": {},
   "source": [
    "Fetching to native formats: user_id, venue_id to integers, latitude and longitude to floats."
   ]
  },
  {
   "cell_type": "code",
   "execution_count": 7,
   "metadata": {},
   "outputs": [
    {
     "name": "stdout",
     "output_type": "stream",
     "text": [
      "<class 'pandas.core.frame.DataFrame'>\n",
      "Index: 396634 entries, 984222 to 956733\n",
      "Data columns (total 5 columns):\n",
      "user_id       396634 non-null object\n",
      "venue_id      396634 non-null object\n",
      "latitude      396634 non-null object\n",
      "longitude     396634 non-null object\n",
      "created_at    396634 non-null object\n",
      "dtypes: object(5)\n",
      "memory usage: 18.2+ MB\n"
     ]
    }
   ],
   "source": [
    "df.info()"
   ]
  },
  {
   "cell_type": "code",
   "execution_count": 8,
   "metadata": {},
   "outputs": [],
   "source": [
    "int_cols = ['user_id', 'venue_id']\n",
    "float_cols = ['latitude', 'longitude']"
   ]
  },
  {
   "cell_type": "code",
   "execution_count": 9,
   "metadata": {},
   "outputs": [
    {
     "name": "stdout",
     "output_type": "stream",
     "text": [
      "<class 'pandas.core.frame.DataFrame'>\n",
      "Index: 396634 entries, 984222 to 956733\n",
      "Data columns (total 5 columns):\n",
      "user_id       396634 non-null int64\n",
      "venue_id      396634 non-null int64\n",
      "latitude      396634 non-null float64\n",
      "longitude     396634 non-null float64\n",
      "created_at    396634 non-null object\n",
      "dtypes: float64(2), int64(2), object(1)\n",
      "memory usage: 18.2+ MB\n"
     ]
    }
   ],
   "source": [
    "df[int_cols] = df[int_cols].applymap(int)\n",
    "df[float_cols] = df[float_cols].applymap(float)\n",
    "df.info()"
   ]
  },
  {
   "cell_type": "markdown",
   "metadata": {},
   "source": [
    "Total size of our dataset is:"
   ]
  },
  {
   "cell_type": "code",
   "execution_count": 10,
   "metadata": {},
   "outputs": [
    {
     "data": {
      "text/plain": [
       "user_id       396634\n",
       "venue_id      396634\n",
       "latitude      396634\n",
       "longitude     396634\n",
       "created_at    396634\n",
       "dtype: int64"
      ]
     },
     "execution_count": 10,
     "metadata": {},
     "output_type": "execute_result"
    }
   ],
   "source": [
    "df.count()"
   ]
  },
  {
   "cell_type": "markdown",
   "metadata": {},
   "source": [
    "___\n",
    "# **Clustering with the MeanShift**"
   ]
  },
  {
   "cell_type": "code",
   "execution_count": 11,
   "metadata": {},
   "outputs": [],
   "source": [
    "from sklearn.cluster import MeanShift"
   ]
  },
  {
   "cell_type": "markdown",
   "metadata": {},
   "source": [
    "## **Fitting the algorithm**"
   ]
  },
  {
   "cell_type": "markdown",
   "metadata": {},
   "source": [
    "Select the coordinates as data for clustering. Then fit clusterizer on the 100 000 points. Bandwidth threshold 0.1 can be converted in kms as 5-10 km"
   ]
  },
  {
   "cell_type": "code",
   "execution_count": 16,
   "metadata": {},
   "outputs": [],
   "source": [
    "X = np.array(df[float_cols])"
   ]
  },
  {
   "cell_type": "code",
   "execution_count": 31,
   "metadata": {},
   "outputs": [
    {
     "name": "stdout",
     "output_type": "stream",
     "text": [
      "CPU times: user 1min 50s, sys: 888 ms, total: 1min 51s\n",
      "Wall time: 1min 52s\n"
     ]
    }
   ],
   "source": [
    "%%time\n",
    "mean_shift_clr = MeanShift(bandwidth=0.1)\n",
    "preds = mean_shift_clr.fit_predict(X[:100_000])"
   ]
  },
  {
   "cell_type": "code",
   "execution_count": 376,
   "metadata": {},
   "outputs": [
    {
     "data": {
      "image/png": "[encoded data removed]",
      "text/plain": [
       "<Figure size 720x720 with 1 Axes>"
      ]
     },
     "metadata": {
      "needs_background": "light"
     },
     "output_type": "display_data"
    }
   ],
   "source": [
    "plt.figure(figsize=(10,10))\n",
    "colors = np.array([x for x in 'bgrcmykbgrcmykbgrcmykbgrcmyk'])\n",
    "colors = np.hstack([colors] * 20)\n",
    "\n",
    "centers = mean_shift_clr.cluster_centers_\n",
    "center_colors = colors[:len(centers)]\n",
    "\n",
    "plt.scatter(centers[:, 0], centers[:, 1], c=center_colors)\n",
    "plt.xlabel('Latitude')\n",
    "plt.ylabel('Longitude')\n",
    "plt.title('Positions of centers of clusters');"
   ]
  },
  {
   "cell_type": "markdown",
   "metadata": {},
   "source": [
    "## **Processing results**"
   ]
  },
  {
   "cell_type": "markdown",
   "metadata": {},
   "source": [
    "### Finding the optimal clusters"
   ]
  },
  {
   "cell_type": "markdown",
   "metadata": {},
   "source": [
    "Select clusters with more that 15 entries"
   ]
  },
  {
   "cell_type": "code",
   "execution_count": 72,
   "metadata": {},
   "outputs": [],
   "source": [
    "from collections import Counter\n",
    "\n",
    "count = Counter(preds)\n",
    "count_arr = np.array(count.most_common())\n",
    "most_clusters = count_arr[count_arr[:,1]>15]"
   ]
  },
  {
   "cell_type": "code",
   "execution_count": 77,
   "metadata": {},
   "outputs": [
    {
     "data": {
      "text/plain": [
       "array([[    0, 12471],\n",
       "       [    1,  4692],\n",
       "       [    2,  3994]])"
      ]
     },
     "execution_count": 77,
     "metadata": {},
     "output_type": "execute_result"
    }
   ],
   "source": [
    "most_clusters[:3]"
   ]
  },
  {
   "cell_type": "markdown",
   "metadata": {},
   "source": [
    "Get optimal cluster centers with more than 15 entries incorporated. It means, that we choose adequately visited places for further processing"
   ]
  },
  {
   "cell_type": "code",
   "execution_count": 401,
   "metadata": {},
   "outputs": [
    {
     "data": {
      "text/plain": [
       "array([[  40.7177164 ,  -73.99183542],\n",
       "       [  33.44943805, -112.00213969],\n",
       "       [  33.44638027, -111.90188756],\n",
       "       [  37.68868157, -122.40933037],\n",
       "       [  41.87824378,  -87.62984336]])"
      ]
     },
     "execution_count": 401,
     "metadata": {},
     "output_type": "execute_result"
    }
   ],
   "source": [
    "optimal_centers = []\n",
    "for i in most_clusters[:,0]:\n",
    "    # Note that clr.cluster_centers_ returns centers of clr with \n",
    "    # index equals number of cluster.  So cluster_centers_[0] \n",
    "    # belongs to the cluster 0. \n",
    "    optimal_centers.append(list(mean_shift_clr.cluster_centers_[i]))\n",
    "\n",
    "optimal_centers = np.array(optimal_centers)\n",
    "optimal_centers[:5]"
   ]
  },
  {
   "cell_type": "markdown",
   "metadata": {},
   "source": [
    "Writing data to vizualise on the map with https://mapcustomizer.com"
   ]
  },
  {
   "cell_type": "code",
   "execution_count": 112,
   "metadata": {},
   "outputs": [],
   "source": [
    "with open('../data/optimal_centers.txt', 'w') as fout:\n",
    "    for line in optimal_centers:\n",
    "        fout.write(str(line[0]) +','+ str(line[1]) + '\\n')"
   ]
  },
  {
   "cell_type": "markdown",
   "metadata": {},
   "source": [
    "### Selecting the cluster point nearest to any office"
   ]
  },
  {
   "cell_type": "markdown",
   "metadata": {},
   "source": [
    "We need to put several banners near the company offices (like in the same districs or quarters). As we concluded, optimal cluster centers are the best points to place the banners, we will choose the 20 nearest clusters to offices and propose they to client."
   ]
  },
  {
   "cell_type": "markdown",
   "metadata": {},
   "source": [
    "File processing\n",
    "___"
   ]
  },
  {
   "cell_type": "code",
   "execution_count": 377,
   "metadata": {},
   "outputs": [
    {
     "data": {
      "text/plain": [
       "['33.751277, -118.188740 (Los Angeles)',\n",
       " '25.867736, -80.324116 (Miami)',\n",
       " '51.503016, -0.075479 (London)',\n",
       " '52.378894, 4.885084 (Amsterdam)',\n",
       " '39.366487, 117.036146 (Beijing)',\n",
       " '-33.868457, 151.205134 (Sydney)']"
      ]
     },
     "execution_count": 377,
     "metadata": {},
     "output_type": "execute_result"
    }
   ],
   "source": [
    "with open('../data/umn_foursquare_datasets/offices.txt') as f:\n",
    "    offices = []\n",
    "    for line in f:\n",
    "        if line != '\\n': \n",
    "            offices.append(line.strip('\\n'))\n",
    "offices"
   ]
  },
  {
   "cell_type": "markdown",
   "metadata": {},
   "source": [
    "Parsing resulted file. We will make office coords dictionary with key as city to simplify the processing in the future"
   ]
  },
  {
   "cell_type": "code",
   "execution_count": 299,
   "metadata": {},
   "outputs": [],
   "source": [
    "off_coords = []\n",
    "for line in offices:\n",
    "    line = line.split(', ')\n",
    "    line.append(line[1].split(' (')[1].strip(')'))\n",
    "    line[1] = line[1].split(' (')[0].strip()\n",
    "    off_coords.append(line)\n",
    "\n",
    "office_coords = np.array(off_coords)\n",
    "\n",
    "office_coords = {\n",
    "    line[2]: np.array(line)[:2].astype(float) for line in off_coords\n",
    "}"
   ]
  },
  {
   "cell_type": "markdown",
   "metadata": {},
   "source": [
    "Estimating the distances and printing results."
   ]
  },
  {
   "cell_type": "code",
   "execution_count": 382,
   "metadata": {},
   "outputs": [
    {
     "name": "stdout",
     "output_type": "stream",
     "text": [
      "Distance: 0.0078    Point coords: -33.8606 151.2048\tCity: Sydney\n",
      "Distance: 0.0094    Point coords: 52.3730 4.8923\tCity: Amsterdam\n",
      "Distance: 0.0227    Point coords: 25.8457 -80.3189\tCity: Miami\n",
      "Distance: 0.0501    Point coords: 51.5030 -0.1255\tCity: London\n",
      "Distance: 0.0708    Point coords: 33.8099 -118.1489\tCity: Los Angeles\n",
      "Distance: 0.1341    Point coords: 25.7858 -80.2179\tCity: Miami\n",
      "Distance: 0.1674    Point coords: 25.7053 -80.2834\tCity: Miami\n",
      "Distance: 0.1889    Point coords: 26.0101 -80.2000\tCity: Miami\n",
      "Distance: 0.1958    Point coords: 33.8883 -118.0489\tCity: Los Angeles\n",
      "Distance: 0.2118    Point coords: 33.8730 -118.3621\tCity: Los Angeles\n"
     ]
    }
   ],
   "source": [
    "dist = []\n",
    "for office, coords in office_coords.items():\n",
    "    for point in optimal_centers:\n",
    "        distance = np.linalg.norm(coords - point)\n",
    "        dist.append((distance, point, office))\n",
    "\n",
    "# The number of optimal centers from sorted dist set can be choosen.\n",
    "for dist, point, city in sorted(dist)[:10]:\n",
    "    print(f'Distance: {dist:.4f}\\\n",
    "    Point coords: {point[0]:.4f} {point[1]:.4f}\\\n",
    "\\tCity: {city}')"
   ]
  }
 ],
 "metadata": {
  "kernelspec": {
   "display_name": "Python 3.7 [mldaspec]",
   "language": "python",
   "name": "mldaspec"
  },
  "language_info": {
   "codemirror_mode": {
    "name": "ipython",
    "version": 3
   },
   "file_extension": ".py",
   "mimetype": "text/x-python",
   "name": "python",
   "nbconvert_exporter": "python",
   "pygments_lexer": "ipython3",
   "version": "3.7.0"
  }
 },
 "nbformat": 4,
 "nbformat_minor": 2
}
