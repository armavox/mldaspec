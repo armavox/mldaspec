{
 "cells": [
  {
   "cell_type": "markdown",
   "metadata": {},
   "source": [
    "# Тематическая модель [Постнауки](http://postnauka.ru)\n",
    "## Peer Review (optional)"
   ]
  },
  {
   "cell_type": "markdown",
   "metadata": {},
   "source": [
    "В этом задании мы применим аппарат тематического моделирования к коллекции текстовых записей видеолекций, скачанных с сайта Постнаука. Мы будем визуализировать модель и создавать прототип тематического навигатора по коллекции. В коллекции 1728 документов, размер словаря - 38467 слов. Слова лемматизированы, то есть приведены к начальной форме, с помощью программы [mystem](https://tech.yandex.ru/mystem/), коллекция сохранена в [формате vowpal wabbit](http://docs.bigartm.org/en/latest/formats.html). В каждой строке до первой черты записана информация о документе (ссылка на страницу с лекцией), после первой черты следует описание документа. Используются две модальности - текстовая (\"text\") и модальность авторов (\"author\"); у каждого документа один автор."
   ]
  },
  {
   "cell_type": "markdown",
   "metadata": {},
   "source": [
    "Для выполнения задания понадобится библиотека [BigARTM](http://docs.bigartm.org). В демонстрации показан пример использования библиотеки версии 0.7.4, на сайте предлагается скачивать версию 0.8.0. В новой версии изменены принципы работы со словарями: они вынесены в отдельный класс (пример в [Release Notes](http://docs.bigartm.org/en/stable/release_notes/python.html)). Строить модель и извлекать ее параметры нужно так же, как показано в демонстрации. Вы можете использовать [предыдущий релиз](http://bigartm.readthedocs.io/en/v0.7.6/download.html) или [новый релиз](http://docs.bigartm.org/en/latest/download.html) на ваше усмотрение.\n",
    "\n",
    "Спецификации всех функций вы можете смотреть на странице [Python API](http://bigartm.readthedocs.io/en/stable/python_interface.html)."
   ]
  },
  {
   "cell_type": "code",
   "execution_count": 18,
   "metadata": {},
   "outputs": [],
   "source": [
    "import artm"
   ]
  },
  {
   "cell_type": "code",
   "execution_count": 19,
   "metadata": {},
   "outputs": [],
   "source": [
    "from matplotlib import pyplot as plt\n",
    "import seaborn\n",
    "%matplotlib inline\n",
    "seaborn.set_style(\"whitegrid\", {'axes.grid' : False})"
   ]
  },
  {
   "cell_type": "code",
   "execution_count": 20,
   "metadata": {},
   "outputs": [],
   "source": [
    "import numpy as np\n",
    "import pandas as pd"
   ]
  },
  {
   "cell_type": "markdown",
   "metadata": {},
   "source": [
    "##### Считывание данных"
   ]
  },
  {
   "cell_type": "markdown",
   "metadata": {},
   "source": [
    "Создайте объект класса artm.BatchVectorizer, который будет ссылаться на директорию с пакетами данных (батчами). Чтобы библиотека могла преобразовать текстовый файл в батчи, создайте пустую директорию и укажите ее название в параметре target_folder. Размер батча для небольших коллекций (как наша) не важен, вы можете указать любой."
   ]
  },
  {
   "cell_type": "code",
   "execution_count": 21,
   "metadata": {},
   "outputs": [],
   "source": [
    "# Ваш код\n",
    "# batch_vectorizer = artm.BatchVectorizer(data_path=\"D:\\Coursera_ML\\HA 3.4\\lectures.txt\", data_format=\"vowpal_wabbit\", target_folder=\"lectures_batches\", \n",
    "#                                        batch_size=100)\n",
    "batch_vectorizer = artm.BatchVectorizer(data_path='../../data/lectures.txt',\n",
    "                                        data_format='vowpal_wabbit',\n",
    "                                        target_folder='lectures_batches')"
   ]
  },
  {
   "cell_type": "markdown",
   "metadata": {},
   "source": [
    "##### Инициализация модели"
   ]
  },
  {
   "cell_type": "markdown",
   "metadata": {},
   "source": [
    "Создайте объект класса artm.Model с 30 темами, именами тем, указанными ниже и единичными весами обеих модальностей. Количество тем выбрано не очень большим, чтобы вам было удобнее работать с темами. На этой коллекции можно строить и большее число тем, тогда они будут более узко специализированы."
   ]
  },
  {
   "cell_type": "code",
   "execution_count": 22,
   "metadata": {},
   "outputs": [],
   "source": [
    "T = 30   # количество тем\n",
    "topic_names=[\"sbj\"+str(i) for i in range(T-1)]+[\"bcg\"]\n",
    "# Ваш код\n",
    "model_artm = artm.ARTM(num_topics=T, topic_names=[\"sbj\"+str(i) for i in range(T)], class_ids={\"text\":1,'author':1},cache_theta=True,reuse_theta=True)"
   ]
  },
  {
   "cell_type": "markdown",
   "metadata": {},
   "source": [
    "Мы будем строить 29 предметных тем и одну фоновую. \n",
    "\n",
    "Соберите словарь с помощью метода gather_dictionary и инициализируйте модель, указав random_seed=1. Обязательно укажите свое название словаря, оно понадобится при добавлении регуляризаторов."
   ]
  },
  {
   "cell_type": "code",
   "execution_count": 23,
   "metadata": {},
   "outputs": [],
   "source": [
    "# Ваш код\n",
    "np.random.seed(1)\n",
    "dictionary = artm.Dictionary('dictionary')\n",
    "dictionary.gather(batch_vectorizer.data_path)\n",
    "model_artm.initialize('dictionary')"
   ]
  },
  {
   "cell_type": "markdown",
   "metadata": {},
   "source": [
    "##### Добавление score"
   ]
  },
  {
   "cell_type": "markdown",
   "metadata": {},
   "source": [
    "Создайте два измерителя качества artm.TopTokensScore - по одному для каждой модальности; количество токенов 15. Названия для score придумайте самостоятельно."
   ]
  },
  {
   "cell_type": "code",
   "execution_count": 24,
   "metadata": {},
   "outputs": [],
   "source": [
    "# Ваш код\n",
    "model_artm.scores.add(artm.TopTokensScore(name='TTScore_text', class_id=\"text\",num_tokens=15))\n",
    "model_artm.scores.add(artm.TopTokensScore(name='TTScore_author', class_id=\"author\",num_tokens=15))"
   ]
  },
  {
   "cell_type": "code",
   "execution_count": 25,
   "metadata": {},
   "outputs": [],
   "source": [
    "# Code from tutorial to monitor topics phi sparsity.\n",
    "model_artm.scores.add(\n",
    "    artm.SparsityPhiScore(\n",
    "        name='sparsity_phi_score_sbj',\n",
    "        class_id='text',\n",
    "        topic_names=model_artm.topic_names[0:29]\n",
    "    )\n",
    ")\n",
    "model_artm.scores.add(\n",
    "    artm.SparsityPhiScore(\n",
    "        name='sparsity_phi_score_bcg',\n",
    "        class_id='text',\n",
    "        topic_names=model_artm.topic_names[29:]\n",
    "    )\n",
    ")"
   ]
  },
  {
   "cell_type": "markdown",
   "metadata": {},
   "source": [
    "##### Построение модели"
   ]
  },
  {
   "cell_type": "markdown",
   "metadata": {},
   "source": [
    "Мы будем строить модель в два этапа: сначала добавим сглаживающий регуляризатор фоновой темы и настроим параметры модели, затем - добавим разреживающий регуляризатор предметрых тем и выполним еще несколько итераций. Так мы сможем получить наиболее чистые от фоновых слов предметные темы. Сглаживающий и разреживающий регуляризаторы задаются одним и тем же классом artm.SmoothSparsePhiRegularizer: если коэффициент tau положительный, то регуляризатор будет сглаживающий, если отрицательный - разреживающий.\n",
    "\n",
    "Если вы хотите подробнее разобраться, как выполняется регуляризация тематической модели в BigARTM, вы можете прочитать [статью](https://s3-eu-west-1.amazonaws.com/artm/voron-potap14artm-rus.pdf), раздел 4."
   ]
  },
  {
   "cell_type": "markdown",
   "metadata": {},
   "source": [
    "Добавьте сглаживающий регуляризатор с коэффициентом tau = 1e5, указав название своего словаря в dictionary, модальность текста в class_ids и тему \"bcg\" в topic_names."
   ]
  },
  {
   "cell_type": "code",
   "execution_count": 26,
   "metadata": {},
   "outputs": [],
   "source": [
    "# Ваш код\n",
    "model_artm.regularizers.add(artm.SmoothSparsePhiRegularizer(name='SmoothPhi', tau=1e5, dictionary=dictionary,class_ids='text',topic_names=['bcg']))"
   ]
  },
  {
   "cell_type": "markdown",
   "metadata": {},
   "source": [
    "Выполните 30 итераций по коллекции (num_collection_passes), количество внутренних итераций установите равным 1. Используйте метод fit_offline модели."
   ]
  },
  {
   "cell_type": "code",
   "execution_count": 27,
   "metadata": {},
   "outputs": [],
   "source": [
    "# Ваш код\n",
    "model_artm.num_document_passes = 1\n",
    "model_artm.fit_offline(batch_vectorizer=batch_vectorizer, num_collection_passes=30)"
   ]
  },
  {
   "cell_type": "code",
   "execution_count": 28,
   "metadata": {},
   "outputs": [
    {
     "name": "stdout",
     "output_type": "stream",
     "text": [
      "sbj sparsity: 0.7797842025756836\n",
      "bcg sparsity: 0.8015345335006714\n"
     ]
    },
    {
     "data": {
      "image/png": "[encoded data removed]",
      "text/plain": [
       "<Figure size 432x288 with 1 Axes>"
      ]
     },
     "metadata": {},
     "output_type": "display_data"
    }
   ],
   "source": [
    "plt.plot(model_artm.score_tracker['sparsity_phi_score_sbj'].value, label='sbj')\n",
    "plt.plot(model_artm.score_tracker['sparsity_phi_score_bcg'].value, label='bcg')\n",
    "plt.legend(loc='best');\n",
    "print('sbj sparsity:', model_artm.score_tracker['sparsity_phi_score_sbj'].last_value)\n",
    "print('bcg sparsity:', model_artm.score_tracker['sparsity_phi_score_bcg'].last_value)"
   ]
  },
  {
   "cell_type": "markdown",
   "metadata": {},
   "source": [
    "Добавьте разреживающий регуляризатор с коэффициентом tau=-1e5, указав название своего словаря, модальность текста в class_ids и все темы \"sbjX\" в topic_names."
   ]
  },
  {
   "cell_type": "code",
   "execution_count": 29,
   "metadata": {},
   "outputs": [],
   "source": [
    "# Ваш код\n",
    "sbj=list(set(topic_names)-set('bcg'))\n",
    "model_artm.regularizers.add(artm.SmoothSparsePhiRegularizer(name='SparsePhi', tau=-1e5, dictionary=dictionary,class_ids='text',topic_names=sbj))"
   ]
  },
  {
   "cell_type": "markdown",
   "metadata": {},
   "source": [
    "Выполните еще 15 проходов по коллекции."
   ]
  },
  {
   "cell_type": "code",
   "execution_count": 30,
   "metadata": {},
   "outputs": [],
   "source": [
    "# Ваш код\n",
    "model_artm.fit_offline(batch_vectorizer=batch_vectorizer, num_collection_passes=15)"
   ]
  },
  {
   "cell_type": "code",
   "execution_count": null,
   "metadata": {},
   "outputs": [],
   "source": []
  },
  {
   "cell_type": "markdown",
   "metadata": {},
   "source": [
    "##### Интерпретация тем"
   ]
  },
  {
   "cell_type": "markdown",
   "metadata": {},
   "source": [
    "Используя созданные score, выведите топы слов и топы авторов в темах. Удобнее всего выводить топ слов каждой темы с новой строки, указывая название темы в начале строки, и аналогично с авторами."
   ]
  },
  {
   "cell_type": "code",
   "execution_count": 31,
   "metadata": {},
   "outputs": [
    {
     "ename": "SyntaxError",
     "evalue": "Missing parentheses in call to 'print' (<ipython-input-31-12d17ba76bc8>, line 3)",
     "output_type": "error",
     "traceback": [
      "\u001b[0;36m  File \u001b[0;32m\"<ipython-input-31-12d17ba76bc8>\"\u001b[0;36m, line \u001b[0;32m3\u001b[0m\n\u001b[0;31m    print topic_name + ': ',\u001b[0m\n\u001b[0m                   ^\u001b[0m\n\u001b[0;31mSyntaxError\u001b[0m\u001b[0;31m:\u001b[0m Missing parentheses in call to 'print'\n"
     ]
    }
   ],
   "source": [
    "# Ваш код\n",
    "for topic_name in model_artm.topic_names:\n",
    "    print topic_name + ': ',\n",
    "    tokens = model_artm.score_tracker[\"TTScore_text\"].last_tokens\n",
    "    for word in tokens[topic_name]:    \n",
    "        print word,\n",
    "    print"
   ]
  },
  {
   "cell_type": "code",
   "execution_count": 32,
   "metadata": {},
   "outputs": [
    {
     "ename": "SyntaxError",
     "evalue": "Missing parentheses in call to 'print' (<ipython-input-32-5934bc06af81>, line 3)",
     "output_type": "error",
     "traceback": [
      "\u001b[0;36m  File \u001b[0;32m\"<ipython-input-32-5934bc06af81>\"\u001b[0;36m, line \u001b[0;32m3\u001b[0m\n\u001b[0;31m    print topic_name + ': ',\u001b[0m\n\u001b[0m                   ^\u001b[0m\n\u001b[0;31mSyntaxError\u001b[0m\u001b[0;31m:\u001b[0m Missing parentheses in call to 'print'\n"
     ]
    }
   ],
   "source": [
    "# Ваш код\n",
    "for topic_name in model_artm.topic_names:\n",
    "    print topic_name + ': ',\n",
    "    tokens = model_artm.score_tracker[\"TTScore_author\"].last_tokens\n",
    "    for word in tokens[topic_name]:    \n",
    "        print word,\n",
    "    print"
   ]
  },
  {
   "cell_type": "markdown",
   "metadata": {},
   "source": [
    "В последней теме \"bcg\" должны находиться общеупотребительные слова.\n",
    "\n",
    "Важный шаг в работе с тематической моделью, когда речь идет о визуализации или создании тематического навигатора, это именование тем. Понять, о чем каждая тема, можно по списку ее топовых слов. Например, тему\n",
    "    \n",
    "    частица взаимодействие физика кварк симметрия элементарный нейтрино стандартный материя протон бозон заряд масса ускоритель слабый\n",
    "    \n",
    "можно назвать \"Физика элементарных частиц\". \n",
    "\n",
    "Дайте названия 29 предметным темам. Если вы не знаете, как назвать тему, назовите ее первым встретившимся в ней существительным, хотя при таком подходе навигатор будет менее информативным. Из названий тем составьте список из 29 строк и запишите го в переменную sbj_topic_labels. В переменной topic_labels будут храниться названия всех тем, включая фоновую."
   ]
  },
  {
   "cell_type": "code",
   "execution_count": 33,
   "metadata": {},
   "outputs": [],
   "source": [
    "sbj_topic_labels = []   # запишите названия тем в список\n",
    "for topic_name in model_artm.topic_names[:-1]:\n",
    "    tokens = model_artm.score_tracker[\"TTScore_text\"].last_tokens\n",
    "    sbj_topic_labels.append(tokens[topic_name][0])\n",
    "\n",
    "topic_labels = sbj_topic_labels + [u'Фоновая тема']"
   ]
  },
  {
   "cell_type": "code",
   "execution_count": 34,
   "metadata": {},
   "outputs": [],
   "source": [
    "model_artm.topic_names=topic_labels"
   ]
  },
  {
   "cell_type": "markdown",
   "metadata": {},
   "source": [
    "##### Анализ тем"
   ]
  },
  {
   "cell_type": "markdown",
   "metadata": {},
   "source": [
    "Далее мы будем работать с распределениями тем в документах (матрица $\\Theta$) и авторов в темах (одна из двух матриц $\\Phi$, соответствующая модальности авторов). \n",
    "Создайте переменные, содержащие две этих матрицы, с помощью методов get_phi и get_theta модели. Назовите переменные theta и phi_a. Выведите формы обеих матриц, чтобы понять, по каким осям стоят темы."
   ]
  },
  {
   "cell_type": "code",
   "execution_count": 35,
   "metadata": {},
   "outputs": [
    {
     "name": "stdout",
     "output_type": "stream",
     "text": [
      "(30, 1728)\n",
      "(539, 30)\n"
     ]
    }
   ],
   "source": [
    "model_artm.theta_columns_naming = \"title\" # включает именование столбцов Theta их названиями-ссылками, а не внутренними id \n",
    "# Ваш код\n",
    "theta = model_artm.get_theta()\n",
    "print(theta.shape)\n",
    "phi_a = model_artm.get_phi(class_ids='author')\n",
    "print(phi_a.shape)"
   ]
  },
  {
   "cell_type": "markdown",
   "metadata": {},
   "source": [
    "Визуализируем фрагмент матрицы $\\Theta$ - первые 100 документов (это наиболее простой способ визуально оценить, как темы распределяются в документах). С помощью метода seaborn.heatmap выведите фрагмент theta как изображение. Рекомендация: создайте фигуру pyplot размера (20, 10)."
   ]
  },
  {
   "cell_type": "code",
   "execution_count": 36,
   "metadata": {},
   "outputs": [
    {
     "data": {
      "image/png": "[encoded data removed]",
      "text/plain": [
       "<Figure size 1440x720 with 2 Axes>"
      ]
     },
     "metadata": {},
     "output_type": "display_data"
    }
   ],
   "source": [
    "# Ваш код\n",
    "import seaborn as sns\n",
    "plt.figure(figsize=(20,10))\n",
    "sns.heatmap(theta.iloc[:,:100])\n",
    "plt.show()"
   ]
  },
  {
   "cell_type": "code",
   "execution_count": null,
   "metadata": {},
   "outputs": [],
   "source": []
  },
  {
   "cell_type": "markdown",
   "metadata": {},
   "source": [
    "Вы должны увидеть, что фоновая тема имеет большую вероятность в почти каждом документе, и это логично. Кроме того, есть еще одна тема, которая чаще других встречается в документах. Судя по всему, это тема содержит много слов по науку в целом, а каждый документ (видео) в нашей коллекции связан с наукой. Можно (необязательно) дать этой теме название \"Наука\".\n",
    "\n",
    "Помимо этих двух тем, фоновой и общенаучной, каждый документ характеризуется малым числом других тем."
   ]
  },
  {
   "cell_type": "markdown",
   "metadata": {},
   "source": [
    "Оценим $p(t)$ - долю каждой темы во всей коллекции. По формуле полной вероятности вычислять эти величины нужно как\n",
    "$p(t) = \\sum_d p(t|d) p(d)$. Согласно вероятностной модели, $p(d)$ пропорционально длине документа d. Поступим проще: будем полагать, что все документы равновероятны. Тогда оценить $p(t)$ можно, просуммировав $p(t|d)$ по всем документам, а затем разделив полученный вектор на его сумму. \n",
    "\n",
    "Создайте переменную-датафрейм с T строками, индексированными названиями тем, и 1 столбцом, содержащим оценки $p(t)$. Выведите датафрейм на печать."
   ]
  },
  {
   "cell_type": "code",
   "execution_count": 37,
   "metadata": {},
   "outputs": [
    {
     "data": {
      "text/html": [
       "<div>\n",
       "<style scoped>\n",
       "    .dataframe tbody tr th:only-of-type {\n",
       "        vertical-align: middle;\n",
       "    }\n",
       "\n",
       "    .dataframe tbody tr th {\n",
       "        vertical-align: top;\n",
       "    }\n",
       "\n",
       "    .dataframe thead th {\n",
       "        text-align: right;\n",
       "    }\n",
       "</style>\n",
       "<table border=\"1\" class=\"dataframe\">\n",
       "  <thead>\n",
       "    <tr style=\"text-align: right;\">\n",
       "      <th></th>\n",
       "      <th>p(t)</th>\n",
       "    </tr>\n",
       "  </thead>\n",
       "  <tbody>\n",
       "    <tr>\n",
       "      <th>власть</th>\n",
       "      <td>0.013168</td>\n",
       "    </tr>\n",
       "    <tr>\n",
       "      <th>земля</th>\n",
       "      <td>0.013936</td>\n",
       "    </tr>\n",
       "    <tr>\n",
       "      <th>система</th>\n",
       "      <td>0.011335</td>\n",
       "    </tr>\n",
       "    <tr>\n",
       "      <th>культура</th>\n",
       "      <td>0.017115</td>\n",
       "    </tr>\n",
       "    <tr>\n",
       "      <th>право</th>\n",
       "      <td>0.009540</td>\n",
       "    </tr>\n",
       "    <tr>\n",
       "      <th>материал</th>\n",
       "      <td>0.011434</td>\n",
       "    </tr>\n",
       "    <tr>\n",
       "      <th>книга</th>\n",
       "      <td>0.009394</td>\n",
       "    </tr>\n",
       "    <tr>\n",
       "      <th>смерть</th>\n",
       "      <td>0.005412</td>\n",
       "    </tr>\n",
       "    <tr>\n",
       "      <th>метод</th>\n",
       "      <td>0.015084</td>\n",
       "    </tr>\n",
       "    <tr>\n",
       "      <th>частица</th>\n",
       "      <td>0.028208</td>\n",
       "    </tr>\n",
       "    <tr>\n",
       "      <th>россия</th>\n",
       "      <td>0.018293</td>\n",
       "    </tr>\n",
       "    <tr>\n",
       "      <th>ребенок</th>\n",
       "      <td>0.008421</td>\n",
       "    </tr>\n",
       "    <tr>\n",
       "      <th>растение</th>\n",
       "      <td>0.008524</td>\n",
       "    </tr>\n",
       "    <tr>\n",
       "      <th>территория</th>\n",
       "      <td>0.015380</td>\n",
       "    </tr>\n",
       "    <tr>\n",
       "      <th>звезда</th>\n",
       "      <td>0.022264</td>\n",
       "    </tr>\n",
       "    <tr>\n",
       "      <th>задача</th>\n",
       "      <td>0.019086</td>\n",
       "    </tr>\n",
       "    <tr>\n",
       "      <th>раса</th>\n",
       "      <td>0.004837</td>\n",
       "    </tr>\n",
       "    <tr>\n",
       "      <th>политический</th>\n",
       "      <td>0.021049</td>\n",
       "    </tr>\n",
       "    <tr>\n",
       "      <th>слово</th>\n",
       "      <td>0.009950</td>\n",
       "    </tr>\n",
       "    <tr>\n",
       "      <th>революция</th>\n",
       "      <td>0.008501</td>\n",
       "    </tr>\n",
       "    <tr>\n",
       "      <th>город</th>\n",
       "      <td>0.012081</td>\n",
       "    </tr>\n",
       "    <tr>\n",
       "      <th>болезнь</th>\n",
       "      <td>0.010215</td>\n",
       "    </tr>\n",
       "    <tr>\n",
       "      <th>социальный</th>\n",
       "      <td>0.014763</td>\n",
       "    </tr>\n",
       "    <tr>\n",
       "      <th>модель</th>\n",
       "      <td>0.009988</td>\n",
       "    </tr>\n",
       "    <tr>\n",
       "      <th>исторический</th>\n",
       "      <td>0.016420</td>\n",
       "    </tr>\n",
       "    <tr>\n",
       "      <th>программа</th>\n",
       "      <td>0.003800</td>\n",
       "    </tr>\n",
       "    <tr>\n",
       "      <th>экономический</th>\n",
       "      <td>0.015167</td>\n",
       "    </tr>\n",
       "    <tr>\n",
       "      <th>клетка</th>\n",
       "      <td>0.027408</td>\n",
       "    </tr>\n",
       "    <tr>\n",
       "      <th>температура</th>\n",
       "      <td>0.010048</td>\n",
       "    </tr>\n",
       "    <tr>\n",
       "      <th>Фоновая тема</th>\n",
       "      <td>0.609178</td>\n",
       "    </tr>\n",
       "  </tbody>\n",
       "</table>\n",
       "</div>"
      ],
      "text/plain": [
       "                   p(t)\n",
       "власть         0.013168\n",
       "земля          0.013936\n",
       "система        0.011335\n",
       "культура       0.017115\n",
       "право          0.009540\n",
       "материал       0.011434\n",
       "книга          0.009394\n",
       "смерть         0.005412\n",
       "метод          0.015084\n",
       "частица        0.028208\n",
       "россия         0.018293\n",
       "ребенок        0.008421\n",
       "растение       0.008524\n",
       "территория     0.015380\n",
       "звезда         0.022264\n",
       "задача         0.019086\n",
       "раса           0.004837\n",
       "политический   0.021049\n",
       "слово          0.009950\n",
       "революция      0.008501\n",
       "город          0.012081\n",
       "болезнь        0.010215\n",
       "социальный     0.014763\n",
       "модель         0.009988\n",
       "исторический   0.016420\n",
       "программа      0.003800\n",
       "экономический  0.015167\n",
       "клетка         0.027408\n",
       "температура    0.010048\n",
       "Фоновая тема   0.609178"
      ]
     },
     "execution_count": 37,
     "metadata": {},
     "output_type": "execute_result"
    }
   ],
   "source": [
    "# Ваш код\n",
    "import pandas as pd\n",
    "\n",
    "T=(theta.apply(lambda x: np.sum(x),axis=1))\n",
    "T.index=topic_labels\n",
    "T=pd.DataFrame(T/np.sum(T),columns=['p(t)'])\n",
    "T"
   ]
  },
  {
   "cell_type": "markdown",
   "metadata": {},
   "source": [
    "Найдите 5 самых распространенных и 3 наименее освещенных темы в коллекции (наибольшие и наименьшие $p(t)$ соответственно), не считая фоновую и общенаучную. Укажите названия, которые вы дали этим темам."
   ]
  },
  {
   "cell_type": "raw",
   "metadata": {},
   "source": []
  },
  {
   "cell_type": "markdown",
   "metadata": {},
   "source": [
    "Визуализируйте матрицу $\\Phi$ модальности авторов в виде изображения. Рекомендация: установите yticklabels=False в heatmap."
   ]
  },
  {
   "cell_type": "code",
   "execution_count": 38,
   "metadata": {},
   "outputs": [
    {
     "name": "stdout",
     "output_type": "stream",
     "text": [
      "задача          0.019086\n",
      "политический    0.021049\n",
      "звезда          0.022264\n",
      "клетка          0.027408\n",
      "частица         0.028208\n",
      "Name: p(t), dtype: float64\n",
      "программа    0.003800\n",
      "раса         0.004837\n",
      "смерть       0.005412\n",
      "Name: p(t), dtype: float64\n"
     ]
    }
   ],
   "source": [
    "# Ваш код\n",
    "print(T['p(t)'].sort_values()[-6:-1])\n",
    "print(T['p(t)'].sort_values()[0:3])"
   ]
  },
  {
   "cell_type": "code",
   "execution_count": 39,
   "metadata": {},
   "outputs": [
    {
     "data": {
      "image/png": "[encoded data removed]",
      "text/plain": [
       "<Figure size 1440x720 with 2 Axes>"
      ]
     },
     "metadata": {},
     "output_type": "display_data"
    }
   ],
   "source": [
    "# Ваш код\n",
    "\n",
    "import seaborn as sns\n",
    "plt.figure(figsize=(20,10))\n",
    "sns.heatmap(phi_a,yticklabels=False)\n",
    "plt.show()"
   ]
  },
  {
   "cell_type": "markdown",
   "metadata": {},
   "source": [
    "Каждой теме соответствует не очень большое число авторов - матрица достаточно разреженная. Кроме того, некоторые темы имеют доминирующего автора $a$, имеющего большую вероятность $p(a|t)$ - этот автор записал больше всего лекций по теме. "
   ]
  },
  {
   "cell_type": "markdown",
   "metadata": {},
   "source": [
    "Будем считать, что автор $a$ значим в теме, если $p(a|t) > 0.01$. Для каждого автора посчитайте, в скольких темах он значим. Найдите авторов-рекордсменов, которые значимы (а значит, читали лекции) в >= 3 темах."
   ]
  },
  {
   "cell_type": "raw",
   "metadata": {},
   "source": [
    "Ваш ответ:\n",
    "авторы, значимые в не менее чем 3 темах:"
   ]
  },
  {
   "cell_type": "code",
   "execution_count": 40,
   "metadata": {},
   "outputs": [
    {
     "data": {
      "text/plain": [
       "Ольга_Тогоева          3\n",
       "Дмитрий_Лось           3\n",
       "Алина_Бодрова          3\n",
       "Шринивас_Шридхар       3\n",
       "Михаил_Алексеевский    3\n",
       "Михаил_Соколов         3\n",
       "Дина_Гусейнова         3\n",
       "Александр_Филиппов     3\n",
       "Михаил_Маяцкий         4\n",
       "dtype: int64"
      ]
     },
     "execution_count": 40,
     "metadata": {},
     "output_type": "execute_result"
    }
   ],
   "source": [
    "A=phi_a.apply(lambda x: sum(x>0.01),axis=1)\n",
    "A[A>=3]"
   ]
  },
  {
   "cell_type": "markdown",
   "metadata": {},
   "source": [
    "Большинство авторов значимы в 1 теме, что логично."
   ]
  },
  {
   "cell_type": "markdown",
   "metadata": {},
   "source": [
    "##### Построение тематической карты авторов"
   ]
  },
  {
   "cell_type": "markdown",
   "metadata": {},
   "source": [
    "По сути, в матрице $\\Phi$, соответствующей модальности авторов, записаны тематические кластеры авторов. Для любого автора мы можем составить его тематический круг - авторов, разбирающихся в той же теме, что и данный. Интересующиеся слушатели могут попробовать выполнить эту процедуру для ученых, читающих лекции на Постнауке, которых они знают (например, на Постнауке есть лекции с К. В. Воронцовым - лектором текущего модуля :)\n",
    "\n",
    "Составим карту близости авторов по тематике их исследований. Для этого применим метод понижения размерности MDS к тематическим профилям авторов.\n",
    "\n",
    "Чтобы получить тематический профиль автора, распределение $p(t|a)$, нужно воспользоваться формулой Байеса: \n",
    "$p(t|a) = \\frac {p(a|t) p(t)} {\\sum_t' p(a|t') p(t')}$. Все необходимые для этого величины у вас есть и записаны в переменных phi и pt. \n",
    "\n",
    "Передайте матрицу тематических профилей авторов, записанных по строкам, в метод MDS с n_components=2. Используйте косинусную метрику (она хорошо подходит для поиска расстояний между векторами, имеющими фиксированную сумму компонент)."
   ]
  },
  {
   "cell_type": "code",
   "execution_count": 41,
   "metadata": {},
   "outputs": [],
   "source": [
    "from sklearn.manifold import MDS\n",
    "from sklearn.metrics import pairwise_distances"
   ]
  },
  {
   "cell_type": "code",
   "execution_count": 42,
   "metadata": {},
   "outputs": [
    {
     "name": "stderr",
     "output_type": "stream",
     "text": [
      "/Users/artem/miniconda3/envs/bigartm/lib/python3.5/site-packages/ipykernel_launcher.py:4: FutureWarning: Sorting because non-concatenation axis is not aligned. A future version\n",
      "of pandas will change to not sort by default.\n",
      "\n",
      "To accept the future behavior, pass 'sort=False'.\n",
      "\n",
      "To retain the current behavior and silence the warning, pass 'sort=True'.\n",
      "\n",
      "  after removing the cwd from sys.path.\n",
      "/Users/artem/miniconda3/envs/bigartm/lib/python3.5/site-packages/ipykernel_launcher.py:5: DeprecationWarning: \n",
      ".ix is deprecated. Please use\n",
      ".loc for label based indexing or\n",
      ".iloc for positional indexing\n",
      "\n",
      "See the documentation here:\n",
      "http://pandas.pydata.org/pandas-docs/stable/indexing.html#ix-indexer-is-deprecated\n",
      "  \"\"\"\n",
      "/Users/artem/miniconda3/envs/bigartm/lib/python3.5/site-packages/pandas/core/indexing.py:890: DeprecationWarning: \n",
      ".ix is deprecated. Please use\n",
      ".loc for label based indexing or\n",
      ".iloc for positional indexing\n",
      "\n",
      "See the documentation here:\n",
      "http://pandas.pydata.org/pandas-docs/stable/indexing.html#ix-indexer-is-deprecated\n",
      "  retval = getattr(retval, self.name)._getitem_axis(key, axis=i)\n"
     ]
    }
   ],
   "source": [
    "# Ваш код\n",
    "P_a=pd.DataFrame(np.dot(phi_a,T),index=phi_a.index,columns=['p(a)'])\n",
    "concat1=pd.concat([phi_a, P_a], axis=1)\n",
    "concat2=pd.concat([concat1, T.transpose()], axis=0)\n",
    "concat2.ix['p(t)',0]=1\n",
    "c1=concat2.apply(lambda x: x*x[-1],axis=0)\n",
    "c2=c1.apply(lambda x: x/x[0],axis=1)\n",
    "A_profiles=c2.ix[:-1,1:]"
   ]
  },
  {
   "cell_type": "markdown",
   "metadata": {},
   "source": [
    "Визуализируйте найденные двумерные представления с помощью функции scatter. "
   ]
  },
  {
   "cell_type": "code",
   "execution_count": 45,
   "metadata": {},
   "outputs": [
    {
     "data": {
      "text/html": [
       "<div>\n",
       "<style scoped>\n",
       "    .dataframe tbody tr th:only-of-type {\n",
       "        vertical-align: middle;\n",
       "    }\n",
       "\n",
       "    .dataframe tbody tr th {\n",
       "        vertical-align: top;\n",
       "    }\n",
       "\n",
       "    .dataframe thead th {\n",
       "        text-align: right;\n",
       "    }\n",
       "</style>\n",
       "<table border=\"1\" class=\"dataframe\">\n",
       "  <thead>\n",
       "    <tr style=\"text-align: right;\">\n",
       "      <th></th>\n",
       "      <th>Фоновая тема</th>\n",
       "      <th>болезнь</th>\n",
       "      <th>власть</th>\n",
       "      <th>город</th>\n",
       "      <th>задача</th>\n",
       "      <th>звезда</th>\n",
       "      <th>земля</th>\n",
       "      <th>исторический</th>\n",
       "      <th>клетка</th>\n",
       "      <th>книга</th>\n",
       "      <th>...</th>\n",
       "      <th>революция</th>\n",
       "      <th>россия</th>\n",
       "      <th>система</th>\n",
       "      <th>слово</th>\n",
       "      <th>смерть</th>\n",
       "      <th>социальный</th>\n",
       "      <th>температура</th>\n",
       "      <th>территория</th>\n",
       "      <th>частица</th>\n",
       "      <th>экономический</th>\n",
       "    </tr>\n",
       "  </thead>\n",
       "  <tbody>\n",
       "    <tr>\n",
       "      <th>Дэвид_Гросс</th>\n",
       "      <td>0.000000</td>\n",
       "      <td>0.000000e+00</td>\n",
       "      <td>0.000000</td>\n",
       "      <td>0.000000e+00</td>\n",
       "      <td>0.000000e+00</td>\n",
       "      <td>0.000000e+00</td>\n",
       "      <td>0.000000e+00</td>\n",
       "      <td>0.000000e+00</td>\n",
       "      <td>0.000000e+00</td>\n",
       "      <td>0.000000</td>\n",
       "      <td>...</td>\n",
       "      <td>0.000000e+00</td>\n",
       "      <td>0.000000e+00</td>\n",
       "      <td>0.000000</td>\n",
       "      <td>0.000000e+00</td>\n",
       "      <td>0.000000e+00</td>\n",
       "      <td>0.000000e+00</td>\n",
       "      <td>0.000000e+00</td>\n",
       "      <td>0.000000e+00</td>\n",
       "      <td>1.000000e+00</td>\n",
       "      <td>0.000000e+00</td>\n",
       "    </tr>\n",
       "    <tr>\n",
       "      <th>Павел_Степанцов</th>\n",
       "      <td>0.000000</td>\n",
       "      <td>0.000000e+00</td>\n",
       "      <td>0.000000</td>\n",
       "      <td>0.000000e+00</td>\n",
       "      <td>0.000000e+00</td>\n",
       "      <td>0.000000e+00</td>\n",
       "      <td>0.000000e+00</td>\n",
       "      <td>0.000000e+00</td>\n",
       "      <td>0.000000e+00</td>\n",
       "      <td>0.000000</td>\n",
       "      <td>...</td>\n",
       "      <td>0.000000e+00</td>\n",
       "      <td>0.000000e+00</td>\n",
       "      <td>0.000000</td>\n",
       "      <td>0.000000e+00</td>\n",
       "      <td>0.000000e+00</td>\n",
       "      <td>0.000000e+00</td>\n",
       "      <td>0.000000e+00</td>\n",
       "      <td>0.000000e+00</td>\n",
       "      <td>0.000000e+00</td>\n",
       "      <td>0.000000e+00</td>\n",
       "    </tr>\n",
       "    <tr>\n",
       "      <th>Ирина_Каспэ</th>\n",
       "      <td>0.000000</td>\n",
       "      <td>0.000000e+00</td>\n",
       "      <td>0.000000</td>\n",
       "      <td>0.000000e+00</td>\n",
       "      <td>0.000000e+00</td>\n",
       "      <td>0.000000e+00</td>\n",
       "      <td>0.000000e+00</td>\n",
       "      <td>0.000000e+00</td>\n",
       "      <td>0.000000e+00</td>\n",
       "      <td>0.000000</td>\n",
       "      <td>...</td>\n",
       "      <td>0.000000e+00</td>\n",
       "      <td>0.000000e+00</td>\n",
       "      <td>0.000000</td>\n",
       "      <td>0.000000e+00</td>\n",
       "      <td>0.000000e+00</td>\n",
       "      <td>0.000000e+00</td>\n",
       "      <td>0.000000e+00</td>\n",
       "      <td>0.000000e+00</td>\n",
       "      <td>0.000000e+00</td>\n",
       "      <td>0.000000e+00</td>\n",
       "    </tr>\n",
       "    <tr>\n",
       "      <th>Александр_Беленький</th>\n",
       "      <td>0.000000</td>\n",
       "      <td>0.000000e+00</td>\n",
       "      <td>0.000000</td>\n",
       "      <td>0.000000e+00</td>\n",
       "      <td>0.000000e+00</td>\n",
       "      <td>0.000000e+00</td>\n",
       "      <td>0.000000e+00</td>\n",
       "      <td>0.000000e+00</td>\n",
       "      <td>0.000000e+00</td>\n",
       "      <td>0.000000</td>\n",
       "      <td>...</td>\n",
       "      <td>0.000000e+00</td>\n",
       "      <td>0.000000e+00</td>\n",
       "      <td>0.000000</td>\n",
       "      <td>0.000000e+00</td>\n",
       "      <td>0.000000e+00</td>\n",
       "      <td>0.000000e+00</td>\n",
       "      <td>0.000000e+00</td>\n",
       "      <td>0.000000e+00</td>\n",
       "      <td>0.000000e+00</td>\n",
       "      <td>0.000000e+00</td>\n",
       "    </tr>\n",
       "    <tr>\n",
       "      <th>Татьяна_Гусарова</th>\n",
       "      <td>0.000000</td>\n",
       "      <td>0.000000e+00</td>\n",
       "      <td>0.000000</td>\n",
       "      <td>0.000000e+00</td>\n",
       "      <td>0.000000e+00</td>\n",
       "      <td>0.000000e+00</td>\n",
       "      <td>0.000000e+00</td>\n",
       "      <td>0.000000e+00</td>\n",
       "      <td>0.000000e+00</td>\n",
       "      <td>0.000000</td>\n",
       "      <td>...</td>\n",
       "      <td>0.000000e+00</td>\n",
       "      <td>0.000000e+00</td>\n",
       "      <td>0.000000</td>\n",
       "      <td>0.000000e+00</td>\n",
       "      <td>0.000000e+00</td>\n",
       "      <td>0.000000e+00</td>\n",
       "      <td>0.000000e+00</td>\n",
       "      <td>0.000000e+00</td>\n",
       "      <td>0.000000e+00</td>\n",
       "      <td>0.000000e+00</td>\n",
       "    </tr>\n",
       "    <tr>\n",
       "      <th>Андрей_Коротаев</th>\n",
       "      <td>0.000000</td>\n",
       "      <td>0.000000e+00</td>\n",
       "      <td>0.000000</td>\n",
       "      <td>0.000000e+00</td>\n",
       "      <td>0.000000e+00</td>\n",
       "      <td>0.000000e+00</td>\n",
       "      <td>0.000000e+00</td>\n",
       "      <td>0.000000e+00</td>\n",
       "      <td>0.000000e+00</td>\n",
       "      <td>0.000000</td>\n",
       "      <td>...</td>\n",
       "      <td>0.000000e+00</td>\n",
       "      <td>0.000000e+00</td>\n",
       "      <td>0.000000</td>\n",
       "      <td>0.000000e+00</td>\n",
       "      <td>0.000000e+00</td>\n",
       "      <td>0.000000e+00</td>\n",
       "      <td>0.000000e+00</td>\n",
       "      <td>0.000000e+00</td>\n",
       "      <td>0.000000e+00</td>\n",
       "      <td>0.000000e+00</td>\n",
       "    </tr>\n",
       "    <tr>\n",
       "      <th>Галина_Зеленина</th>\n",
       "      <td>0.000000</td>\n",
       "      <td>0.000000e+00</td>\n",
       "      <td>0.000000</td>\n",
       "      <td>0.000000e+00</td>\n",
       "      <td>0.000000e+00</td>\n",
       "      <td>0.000000e+00</td>\n",
       "      <td>0.000000e+00</td>\n",
       "      <td>9.999998e-01</td>\n",
       "      <td>0.000000e+00</td>\n",
       "      <td>0.000000</td>\n",
       "      <td>...</td>\n",
       "      <td>1.630959e-11</td>\n",
       "      <td>2.288094e-07</td>\n",
       "      <td>0.000000</td>\n",
       "      <td>0.000000e+00</td>\n",
       "      <td>0.000000e+00</td>\n",
       "      <td>0.000000e+00</td>\n",
       "      <td>0.000000e+00</td>\n",
       "      <td>0.000000e+00</td>\n",
       "      <td>0.000000e+00</td>\n",
       "      <td>0.000000e+00</td>\n",
       "    </tr>\n",
       "    <tr>\n",
       "      <th>Ирина_Левонтина</th>\n",
       "      <td>0.000000</td>\n",
       "      <td>4.888622e-10</td>\n",
       "      <td>0.000000</td>\n",
       "      <td>0.000000e+00</td>\n",
       "      <td>0.000000e+00</td>\n",
       "      <td>0.000000e+00</td>\n",
       "      <td>0.000000e+00</td>\n",
       "      <td>5.410735e-01</td>\n",
       "      <td>0.000000e+00</td>\n",
       "      <td>0.000000</td>\n",
       "      <td>...</td>\n",
       "      <td>0.000000e+00</td>\n",
       "      <td>0.000000e+00</td>\n",
       "      <td>0.000000</td>\n",
       "      <td>0.000000e+00</td>\n",
       "      <td>0.000000e+00</td>\n",
       "      <td>0.000000e+00</td>\n",
       "      <td>0.000000e+00</td>\n",
       "      <td>0.000000e+00</td>\n",
       "      <td>0.000000e+00</td>\n",
       "      <td>0.000000e+00</td>\n",
       "    </tr>\n",
       "    <tr>\n",
       "      <th>Алексей_Малашенко</th>\n",
       "      <td>0.000000</td>\n",
       "      <td>0.000000e+00</td>\n",
       "      <td>0.000000</td>\n",
       "      <td>0.000000e+00</td>\n",
       "      <td>0.000000e+00</td>\n",
       "      <td>0.000000e+00</td>\n",
       "      <td>0.000000e+00</td>\n",
       "      <td>5.812384e-07</td>\n",
       "      <td>0.000000e+00</td>\n",
       "      <td>0.000000</td>\n",
       "      <td>...</td>\n",
       "      <td>0.000000e+00</td>\n",
       "      <td>0.000000e+00</td>\n",
       "      <td>0.000000</td>\n",
       "      <td>0.000000e+00</td>\n",
       "      <td>0.000000e+00</td>\n",
       "      <td>0.000000e+00</td>\n",
       "      <td>0.000000e+00</td>\n",
       "      <td>4.760834e-05</td>\n",
       "      <td>0.000000e+00</td>\n",
       "      <td>0.000000e+00</td>\n",
       "    </tr>\n",
       "    <tr>\n",
       "      <th>Дэвид_Кларк</th>\n",
       "      <td>0.000000</td>\n",
       "      <td>0.000000e+00</td>\n",
       "      <td>0.000000</td>\n",
       "      <td>4.001559e-06</td>\n",
       "      <td>9.999960e-01</td>\n",
       "      <td>0.000000e+00</td>\n",
       "      <td>0.000000e+00</td>\n",
       "      <td>0.000000e+00</td>\n",
       "      <td>0.000000e+00</td>\n",
       "      <td>0.000000</td>\n",
       "      <td>...</td>\n",
       "      <td>0.000000e+00</td>\n",
       "      <td>0.000000e+00</td>\n",
       "      <td>0.000000</td>\n",
       "      <td>0.000000e+00</td>\n",
       "      <td>0.000000e+00</td>\n",
       "      <td>0.000000e+00</td>\n",
       "      <td>0.000000e+00</td>\n",
       "      <td>0.000000e+00</td>\n",
       "      <td>0.000000e+00</td>\n",
       "      <td>0.000000e+00</td>\n",
       "    </tr>\n",
       "    <tr>\n",
       "      <th>Михаил_Полуэктов</th>\n",
       "      <td>0.000000</td>\n",
       "      <td>0.000000e+00</td>\n",
       "      <td>0.000000</td>\n",
       "      <td>0.000000e+00</td>\n",
       "      <td>0.000000e+00</td>\n",
       "      <td>0.000000e+00</td>\n",
       "      <td>0.000000e+00</td>\n",
       "      <td>0.000000e+00</td>\n",
       "      <td>0.000000e+00</td>\n",
       "      <td>0.000000</td>\n",
       "      <td>...</td>\n",
       "      <td>0.000000e+00</td>\n",
       "      <td>0.000000e+00</td>\n",
       "      <td>0.000000</td>\n",
       "      <td>0.000000e+00</td>\n",
       "      <td>0.000000e+00</td>\n",
       "      <td>0.000000e+00</td>\n",
       "      <td>0.000000e+00</td>\n",
       "      <td>0.000000e+00</td>\n",
       "      <td>0.000000e+00</td>\n",
       "      <td>0.000000e+00</td>\n",
       "    </tr>\n",
       "    <tr>\n",
       "      <th>Алексей_Москалев</th>\n",
       "      <td>0.000000</td>\n",
       "      <td>0.000000e+00</td>\n",
       "      <td>0.000000</td>\n",
       "      <td>0.000000e+00</td>\n",
       "      <td>0.000000e+00</td>\n",
       "      <td>0.000000e+00</td>\n",
       "      <td>0.000000e+00</td>\n",
       "      <td>0.000000e+00</td>\n",
       "      <td>0.000000e+00</td>\n",
       "      <td>0.000000</td>\n",
       "      <td>...</td>\n",
       "      <td>0.000000e+00</td>\n",
       "      <td>0.000000e+00</td>\n",
       "      <td>0.000000</td>\n",
       "      <td>0.000000e+00</td>\n",
       "      <td>0.000000e+00</td>\n",
       "      <td>0.000000e+00</td>\n",
       "      <td>0.000000e+00</td>\n",
       "      <td>0.000000e+00</td>\n",
       "      <td>0.000000e+00</td>\n",
       "      <td>0.000000e+00</td>\n",
       "    </tr>\n",
       "    <tr>\n",
       "      <th>Екатерина_Болтунова</th>\n",
       "      <td>0.000000</td>\n",
       "      <td>0.000000e+00</td>\n",
       "      <td>1.000000</td>\n",
       "      <td>0.000000e+00</td>\n",
       "      <td>0.000000e+00</td>\n",
       "      <td>0.000000e+00</td>\n",
       "      <td>0.000000e+00</td>\n",
       "      <td>0.000000e+00</td>\n",
       "      <td>0.000000e+00</td>\n",
       "      <td>0.000000</td>\n",
       "      <td>...</td>\n",
       "      <td>0.000000e+00</td>\n",
       "      <td>0.000000e+00</td>\n",
       "      <td>0.000000</td>\n",
       "      <td>0.000000e+00</td>\n",
       "      <td>0.000000e+00</td>\n",
       "      <td>0.000000e+00</td>\n",
       "      <td>0.000000e+00</td>\n",
       "      <td>0.000000e+00</td>\n",
       "      <td>0.000000e+00</td>\n",
       "      <td>0.000000e+00</td>\n",
       "    </tr>\n",
       "    <tr>\n",
       "      <th>Юрий_Рогулёв</th>\n",
       "      <td>0.000000</td>\n",
       "      <td>0.000000e+00</td>\n",
       "      <td>0.000000</td>\n",
       "      <td>0.000000e+00</td>\n",
       "      <td>0.000000e+00</td>\n",
       "      <td>0.000000e+00</td>\n",
       "      <td>0.000000e+00</td>\n",
       "      <td>0.000000e+00</td>\n",
       "      <td>0.000000e+00</td>\n",
       "      <td>0.000000</td>\n",
       "      <td>...</td>\n",
       "      <td>0.000000e+00</td>\n",
       "      <td>0.000000e+00</td>\n",
       "      <td>0.000000</td>\n",
       "      <td>0.000000e+00</td>\n",
       "      <td>0.000000e+00</td>\n",
       "      <td>0.000000e+00</td>\n",
       "      <td>0.000000e+00</td>\n",
       "      <td>0.000000e+00</td>\n",
       "      <td>0.000000e+00</td>\n",
       "      <td>0.000000e+00</td>\n",
       "    </tr>\n",
       "    <tr>\n",
       "      <th>Антон_Чугунов</th>\n",
       "      <td>0.000000</td>\n",
       "      <td>0.000000e+00</td>\n",
       "      <td>0.000000</td>\n",
       "      <td>0.000000e+00</td>\n",
       "      <td>0.000000e+00</td>\n",
       "      <td>0.000000e+00</td>\n",
       "      <td>0.000000e+00</td>\n",
       "      <td>0.000000e+00</td>\n",
       "      <td>1.322485e-05</td>\n",
       "      <td>0.000000</td>\n",
       "      <td>...</td>\n",
       "      <td>0.000000e+00</td>\n",
       "      <td>0.000000e+00</td>\n",
       "      <td>0.000000</td>\n",
       "      <td>0.000000e+00</td>\n",
       "      <td>0.000000e+00</td>\n",
       "      <td>0.000000e+00</td>\n",
       "      <td>0.000000e+00</td>\n",
       "      <td>0.000000e+00</td>\n",
       "      <td>0.000000e+00</td>\n",
       "      <td>0.000000e+00</td>\n",
       "    </tr>\n",
       "    <tr>\n",
       "      <th>Александр_Мещеряков</th>\n",
       "      <td>0.000000</td>\n",
       "      <td>0.000000e+00</td>\n",
       "      <td>0.000000</td>\n",
       "      <td>0.000000e+00</td>\n",
       "      <td>0.000000e+00</td>\n",
       "      <td>0.000000e+00</td>\n",
       "      <td>0.000000e+00</td>\n",
       "      <td>1.000000e+00</td>\n",
       "      <td>0.000000e+00</td>\n",
       "      <td>0.000000</td>\n",
       "      <td>...</td>\n",
       "      <td>0.000000e+00</td>\n",
       "      <td>0.000000e+00</td>\n",
       "      <td>0.000000</td>\n",
       "      <td>0.000000e+00</td>\n",
       "      <td>0.000000e+00</td>\n",
       "      <td>0.000000e+00</td>\n",
       "      <td>0.000000e+00</td>\n",
       "      <td>0.000000e+00</td>\n",
       "      <td>0.000000e+00</td>\n",
       "      <td>0.000000e+00</td>\n",
       "    </tr>\n",
       "    <tr>\n",
       "      <th>Алексей_Котов</th>\n",
       "      <td>0.000000</td>\n",
       "      <td>0.000000e+00</td>\n",
       "      <td>0.000000</td>\n",
       "      <td>0.000000e+00</td>\n",
       "      <td>0.000000e+00</td>\n",
       "      <td>0.000000e+00</td>\n",
       "      <td>0.000000e+00</td>\n",
       "      <td>0.000000e+00</td>\n",
       "      <td>0.000000e+00</td>\n",
       "      <td>0.000000</td>\n",
       "      <td>...</td>\n",
       "      <td>0.000000e+00</td>\n",
       "      <td>0.000000e+00</td>\n",
       "      <td>1.000000</td>\n",
       "      <td>0.000000e+00</td>\n",
       "      <td>0.000000e+00</td>\n",
       "      <td>0.000000e+00</td>\n",
       "      <td>0.000000e+00</td>\n",
       "      <td>0.000000e+00</td>\n",
       "      <td>0.000000e+00</td>\n",
       "      <td>0.000000e+00</td>\n",
       "    </tr>\n",
       "    <tr>\n",
       "      <th>Георгий_Старостин</th>\n",
       "      <td>1.000000</td>\n",
       "      <td>0.000000e+00</td>\n",
       "      <td>0.000000</td>\n",
       "      <td>0.000000e+00</td>\n",
       "      <td>0.000000e+00</td>\n",
       "      <td>0.000000e+00</td>\n",
       "      <td>0.000000e+00</td>\n",
       "      <td>0.000000e+00</td>\n",
       "      <td>0.000000e+00</td>\n",
       "      <td>0.000000</td>\n",
       "      <td>...</td>\n",
       "      <td>0.000000e+00</td>\n",
       "      <td>0.000000e+00</td>\n",
       "      <td>0.000000</td>\n",
       "      <td>0.000000e+00</td>\n",
       "      <td>0.000000e+00</td>\n",
       "      <td>0.000000e+00</td>\n",
       "      <td>0.000000e+00</td>\n",
       "      <td>5.876561e-10</td>\n",
       "      <td>0.000000e+00</td>\n",
       "      <td>0.000000e+00</td>\n",
       "    </tr>\n",
       "    <tr>\n",
       "      <th>Илья_Виньковецкий</th>\n",
       "      <td>0.000000</td>\n",
       "      <td>0.000000e+00</td>\n",
       "      <td>0.000000</td>\n",
       "      <td>0.000000e+00</td>\n",
       "      <td>0.000000e+00</td>\n",
       "      <td>0.000000e+00</td>\n",
       "      <td>0.000000e+00</td>\n",
       "      <td>0.000000e+00</td>\n",
       "      <td>0.000000e+00</td>\n",
       "      <td>0.000000</td>\n",
       "      <td>...</td>\n",
       "      <td>0.000000e+00</td>\n",
       "      <td>1.000000e+00</td>\n",
       "      <td>0.000000</td>\n",
       "      <td>0.000000e+00</td>\n",
       "      <td>0.000000e+00</td>\n",
       "      <td>0.000000e+00</td>\n",
       "      <td>0.000000e+00</td>\n",
       "      <td>0.000000e+00</td>\n",
       "      <td>0.000000e+00</td>\n",
       "      <td>0.000000e+00</td>\n",
       "    </tr>\n",
       "    <tr>\n",
       "      <th>Кирилл_Кожанов</th>\n",
       "      <td>1.000000</td>\n",
       "      <td>0.000000e+00</td>\n",
       "      <td>0.000000</td>\n",
       "      <td>0.000000e+00</td>\n",
       "      <td>0.000000e+00</td>\n",
       "      <td>0.000000e+00</td>\n",
       "      <td>0.000000e+00</td>\n",
       "      <td>1.971138e-11</td>\n",
       "      <td>0.000000e+00</td>\n",
       "      <td>0.000000</td>\n",
       "      <td>...</td>\n",
       "      <td>0.000000e+00</td>\n",
       "      <td>0.000000e+00</td>\n",
       "      <td>0.000000</td>\n",
       "      <td>0.000000e+00</td>\n",
       "      <td>0.000000e+00</td>\n",
       "      <td>0.000000e+00</td>\n",
       "      <td>0.000000e+00</td>\n",
       "      <td>0.000000e+00</td>\n",
       "      <td>0.000000e+00</td>\n",
       "      <td>0.000000e+00</td>\n",
       "    </tr>\n",
       "    <tr>\n",
       "      <th>Сергей_Таскаев</th>\n",
       "      <td>0.000000</td>\n",
       "      <td>0.000000e+00</td>\n",
       "      <td>0.000000</td>\n",
       "      <td>0.000000e+00</td>\n",
       "      <td>0.000000e+00</td>\n",
       "      <td>0.000000e+00</td>\n",
       "      <td>0.000000e+00</td>\n",
       "      <td>0.000000e+00</td>\n",
       "      <td>0.000000e+00</td>\n",
       "      <td>0.000000</td>\n",
       "      <td>...</td>\n",
       "      <td>0.000000e+00</td>\n",
       "      <td>0.000000e+00</td>\n",
       "      <td>0.000000</td>\n",
       "      <td>0.000000e+00</td>\n",
       "      <td>0.000000e+00</td>\n",
       "      <td>0.000000e+00</td>\n",
       "      <td>0.000000e+00</td>\n",
       "      <td>0.000000e+00</td>\n",
       "      <td>0.000000e+00</td>\n",
       "      <td>0.000000e+00</td>\n",
       "    </tr>\n",
       "    <tr>\n",
       "      <th>Сергей_Нечаев</th>\n",
       "      <td>0.000000</td>\n",
       "      <td>0.000000e+00</td>\n",
       "      <td>0.000000</td>\n",
       "      <td>0.000000e+00</td>\n",
       "      <td>0.000000e+00</td>\n",
       "      <td>0.000000e+00</td>\n",
       "      <td>0.000000e+00</td>\n",
       "      <td>0.000000e+00</td>\n",
       "      <td>0.000000e+00</td>\n",
       "      <td>0.000000</td>\n",
       "      <td>...</td>\n",
       "      <td>0.000000e+00</td>\n",
       "      <td>0.000000e+00</td>\n",
       "      <td>0.000000</td>\n",
       "      <td>0.000000e+00</td>\n",
       "      <td>0.000000e+00</td>\n",
       "      <td>0.000000e+00</td>\n",
       "      <td>0.000000e+00</td>\n",
       "      <td>0.000000e+00</td>\n",
       "      <td>0.000000e+00</td>\n",
       "      <td>0.000000e+00</td>\n",
       "    </tr>\n",
       "    <tr>\n",
       "      <th>Кристофер_Карр</th>\n",
       "      <td>0.000000</td>\n",
       "      <td>0.000000e+00</td>\n",
       "      <td>0.000000</td>\n",
       "      <td>0.000000e+00</td>\n",
       "      <td>0.000000e+00</td>\n",
       "      <td>6.277897e-11</td>\n",
       "      <td>6.570147e-07</td>\n",
       "      <td>0.000000e+00</td>\n",
       "      <td>1.702899e-06</td>\n",
       "      <td>0.000000</td>\n",
       "      <td>...</td>\n",
       "      <td>0.000000e+00</td>\n",
       "      <td>0.000000e+00</td>\n",
       "      <td>0.000006</td>\n",
       "      <td>0.000000e+00</td>\n",
       "      <td>0.000000e+00</td>\n",
       "      <td>9.999915e-01</td>\n",
       "      <td>2.508737e-12</td>\n",
       "      <td>0.000000e+00</td>\n",
       "      <td>0.000000e+00</td>\n",
       "      <td>0.000000e+00</td>\n",
       "    </tr>\n",
       "    <tr>\n",
       "      <th>Валерий_Рязанов</th>\n",
       "      <td>0.000000</td>\n",
       "      <td>0.000000e+00</td>\n",
       "      <td>0.000000</td>\n",
       "      <td>0.000000e+00</td>\n",
       "      <td>0.000000e+00</td>\n",
       "      <td>0.000000e+00</td>\n",
       "      <td>0.000000e+00</td>\n",
       "      <td>0.000000e+00</td>\n",
       "      <td>0.000000e+00</td>\n",
       "      <td>0.000000</td>\n",
       "      <td>...</td>\n",
       "      <td>0.000000e+00</td>\n",
       "      <td>0.000000e+00</td>\n",
       "      <td>0.000000</td>\n",
       "      <td>0.000000e+00</td>\n",
       "      <td>0.000000e+00</td>\n",
       "      <td>0.000000e+00</td>\n",
       "      <td>9.999991e-01</td>\n",
       "      <td>0.000000e+00</td>\n",
       "      <td>9.245548e-07</td>\n",
       "      <td>0.000000e+00</td>\n",
       "    </tr>\n",
       "    <tr>\n",
       "      <th>Дмитрий_Дождев</th>\n",
       "      <td>0.000000</td>\n",
       "      <td>0.000000e+00</td>\n",
       "      <td>0.000000</td>\n",
       "      <td>0.000000e+00</td>\n",
       "      <td>0.000000e+00</td>\n",
       "      <td>0.000000e+00</td>\n",
       "      <td>0.000000e+00</td>\n",
       "      <td>0.000000e+00</td>\n",
       "      <td>0.000000e+00</td>\n",
       "      <td>0.000000</td>\n",
       "      <td>...</td>\n",
       "      <td>0.000000e+00</td>\n",
       "      <td>0.000000e+00</td>\n",
       "      <td>0.000000</td>\n",
       "      <td>0.000000e+00</td>\n",
       "      <td>0.000000e+00</td>\n",
       "      <td>0.000000e+00</td>\n",
       "      <td>0.000000e+00</td>\n",
       "      <td>0.000000e+00</td>\n",
       "      <td>0.000000e+00</td>\n",
       "      <td>0.000000e+00</td>\n",
       "    </tr>\n",
       "    <tr>\n",
       "      <th>Илья_Кукулин</th>\n",
       "      <td>0.000000</td>\n",
       "      <td>0.000000e+00</td>\n",
       "      <td>0.000000</td>\n",
       "      <td>9.659081e-14</td>\n",
       "      <td>0.000000e+00</td>\n",
       "      <td>0.000000e+00</td>\n",
       "      <td>0.000000e+00</td>\n",
       "      <td>0.000000e+00</td>\n",
       "      <td>0.000000e+00</td>\n",
       "      <td>0.029044</td>\n",
       "      <td>...</td>\n",
       "      <td>0.000000e+00</td>\n",
       "      <td>6.672643e-01</td>\n",
       "      <td>0.000000</td>\n",
       "      <td>0.000000e+00</td>\n",
       "      <td>1.243420e-12</td>\n",
       "      <td>0.000000e+00</td>\n",
       "      <td>0.000000e+00</td>\n",
       "      <td>0.000000e+00</td>\n",
       "      <td>0.000000e+00</td>\n",
       "      <td>2.731307e-14</td>\n",
       "    </tr>\n",
       "    <tr>\n",
       "      <th>Анна_Рогожина</th>\n",
       "      <td>0.000146</td>\n",
       "      <td>0.000000e+00</td>\n",
       "      <td>0.000000</td>\n",
       "      <td>0.000000e+00</td>\n",
       "      <td>0.000000e+00</td>\n",
       "      <td>0.000000e+00</td>\n",
       "      <td>0.000000e+00</td>\n",
       "      <td>0.000000e+00</td>\n",
       "      <td>0.000000e+00</td>\n",
       "      <td>0.440404</td>\n",
       "      <td>...</td>\n",
       "      <td>0.000000e+00</td>\n",
       "      <td>0.000000e+00</td>\n",
       "      <td>0.000000</td>\n",
       "      <td>0.000000e+00</td>\n",
       "      <td>0.000000e+00</td>\n",
       "      <td>0.000000e+00</td>\n",
       "      <td>0.000000e+00</td>\n",
       "      <td>5.594495e-01</td>\n",
       "      <td>0.000000e+00</td>\n",
       "      <td>0.000000e+00</td>\n",
       "    </tr>\n",
       "    <tr>\n",
       "      <th>Марина_Корсакова-Крейн</th>\n",
       "      <td>0.000000</td>\n",
       "      <td>0.000000e+00</td>\n",
       "      <td>0.000000</td>\n",
       "      <td>0.000000e+00</td>\n",
       "      <td>0.000000e+00</td>\n",
       "      <td>0.000000e+00</td>\n",
       "      <td>0.000000e+00</td>\n",
       "      <td>0.000000e+00</td>\n",
       "      <td>0.000000e+00</td>\n",
       "      <td>0.000000</td>\n",
       "      <td>...</td>\n",
       "      <td>0.000000e+00</td>\n",
       "      <td>0.000000e+00</td>\n",
       "      <td>0.000000</td>\n",
       "      <td>0.000000e+00</td>\n",
       "      <td>0.000000e+00</td>\n",
       "      <td>0.000000e+00</td>\n",
       "      <td>0.000000e+00</td>\n",
       "      <td>0.000000e+00</td>\n",
       "      <td>1.000000e+00</td>\n",
       "      <td>0.000000e+00</td>\n",
       "    </tr>\n",
       "    <tr>\n",
       "      <th>Андрей_Иванцов</th>\n",
       "      <td>1.000000</td>\n",
       "      <td>0.000000e+00</td>\n",
       "      <td>0.000000</td>\n",
       "      <td>0.000000e+00</td>\n",
       "      <td>0.000000e+00</td>\n",
       "      <td>0.000000e+00</td>\n",
       "      <td>4.627789e-09</td>\n",
       "      <td>0.000000e+00</td>\n",
       "      <td>0.000000e+00</td>\n",
       "      <td>0.000000</td>\n",
       "      <td>...</td>\n",
       "      <td>0.000000e+00</td>\n",
       "      <td>0.000000e+00</td>\n",
       "      <td>0.000000</td>\n",
       "      <td>0.000000e+00</td>\n",
       "      <td>0.000000e+00</td>\n",
       "      <td>0.000000e+00</td>\n",
       "      <td>0.000000e+00</td>\n",
       "      <td>0.000000e+00</td>\n",
       "      <td>0.000000e+00</td>\n",
       "      <td>0.000000e+00</td>\n",
       "    </tr>\n",
       "    <tr>\n",
       "      <th>Дэвид_С._Джонс</th>\n",
       "      <td>0.000000</td>\n",
       "      <td>8.152560e-13</td>\n",
       "      <td>0.000000</td>\n",
       "      <td>0.000000e+00</td>\n",
       "      <td>0.000000e+00</td>\n",
       "      <td>0.000000e+00</td>\n",
       "      <td>0.000000e+00</td>\n",
       "      <td>0.000000e+00</td>\n",
       "      <td>0.000000e+00</td>\n",
       "      <td>0.000000</td>\n",
       "      <td>...</td>\n",
       "      <td>0.000000e+00</td>\n",
       "      <td>0.000000e+00</td>\n",
       "      <td>0.000000</td>\n",
       "      <td>0.000000e+00</td>\n",
       "      <td>0.000000e+00</td>\n",
       "      <td>0.000000e+00</td>\n",
       "      <td>0.000000e+00</td>\n",
       "      <td>0.000000e+00</td>\n",
       "      <td>0.000000e+00</td>\n",
       "      <td>0.000000e+00</td>\n",
       "    </tr>\n",
       "    <tr>\n",
       "      <th>...</th>\n",
       "      <td>...</td>\n",
       "      <td>...</td>\n",
       "      <td>...</td>\n",
       "      <td>...</td>\n",
       "      <td>...</td>\n",
       "      <td>...</td>\n",
       "      <td>...</td>\n",
       "      <td>...</td>\n",
       "      <td>...</td>\n",
       "      <td>...</td>\n",
       "      <td>...</td>\n",
       "      <td>...</td>\n",
       "      <td>...</td>\n",
       "      <td>...</td>\n",
       "      <td>...</td>\n",
       "      <td>...</td>\n",
       "      <td>...</td>\n",
       "      <td>...</td>\n",
       "      <td>...</td>\n",
       "      <td>...</td>\n",
       "      <td>...</td>\n",
       "    </tr>\n",
       "    <tr>\n",
       "      <th>Пётр_Образцов</th>\n",
       "      <td>0.000000</td>\n",
       "      <td>0.000000e+00</td>\n",
       "      <td>0.000000</td>\n",
       "      <td>0.000000e+00</td>\n",
       "      <td>0.000000e+00</td>\n",
       "      <td>0.000000e+00</td>\n",
       "      <td>0.000000e+00</td>\n",
       "      <td>0.000000e+00</td>\n",
       "      <td>0.000000e+00</td>\n",
       "      <td>0.000000</td>\n",
       "      <td>...</td>\n",
       "      <td>0.000000e+00</td>\n",
       "      <td>0.000000e+00</td>\n",
       "      <td>0.000000</td>\n",
       "      <td>0.000000e+00</td>\n",
       "      <td>0.000000e+00</td>\n",
       "      <td>0.000000e+00</td>\n",
       "      <td>0.000000e+00</td>\n",
       "      <td>0.000000e+00</td>\n",
       "      <td>0.000000e+00</td>\n",
       "      <td>0.000000e+00</td>\n",
       "    </tr>\n",
       "    <tr>\n",
       "      <th>Эдуард_Боос</th>\n",
       "      <td>0.000000</td>\n",
       "      <td>0.000000e+00</td>\n",
       "      <td>0.000000</td>\n",
       "      <td>0.000000e+00</td>\n",
       "      <td>0.000000e+00</td>\n",
       "      <td>4.109406e-09</td>\n",
       "      <td>0.000000e+00</td>\n",
       "      <td>0.000000e+00</td>\n",
       "      <td>0.000000e+00</td>\n",
       "      <td>0.000000</td>\n",
       "      <td>...</td>\n",
       "      <td>0.000000e+00</td>\n",
       "      <td>0.000000e+00</td>\n",
       "      <td>0.000000</td>\n",
       "      <td>0.000000e+00</td>\n",
       "      <td>0.000000e+00</td>\n",
       "      <td>0.000000e+00</td>\n",
       "      <td>0.000000e+00</td>\n",
       "      <td>0.000000e+00</td>\n",
       "      <td>1.000000e+00</td>\n",
       "      <td>0.000000e+00</td>\n",
       "    </tr>\n",
       "    <tr>\n",
       "      <th>Дмитрий_Казанцев</th>\n",
       "      <td>0.000000</td>\n",
       "      <td>0.000000e+00</td>\n",
       "      <td>0.000000</td>\n",
       "      <td>0.000000e+00</td>\n",
       "      <td>0.000000e+00</td>\n",
       "      <td>3.779461e-09</td>\n",
       "      <td>0.000000e+00</td>\n",
       "      <td>0.000000e+00</td>\n",
       "      <td>0.000000e+00</td>\n",
       "      <td>0.000000</td>\n",
       "      <td>...</td>\n",
       "      <td>0.000000e+00</td>\n",
       "      <td>0.000000e+00</td>\n",
       "      <td>0.000000</td>\n",
       "      <td>0.000000e+00</td>\n",
       "      <td>0.000000e+00</td>\n",
       "      <td>0.000000e+00</td>\n",
       "      <td>0.000000e+00</td>\n",
       "      <td>0.000000e+00</td>\n",
       "      <td>0.000000e+00</td>\n",
       "      <td>0.000000e+00</td>\n",
       "    </tr>\n",
       "    <tr>\n",
       "      <th>Александр_Шень</th>\n",
       "      <td>0.000000</td>\n",
       "      <td>0.000000e+00</td>\n",
       "      <td>0.000000</td>\n",
       "      <td>0.000000e+00</td>\n",
       "      <td>0.000000e+00</td>\n",
       "      <td>0.000000e+00</td>\n",
       "      <td>0.000000e+00</td>\n",
       "      <td>0.000000e+00</td>\n",
       "      <td>0.000000e+00</td>\n",
       "      <td>0.000000</td>\n",
       "      <td>...</td>\n",
       "      <td>0.000000e+00</td>\n",
       "      <td>0.000000e+00</td>\n",
       "      <td>0.000000</td>\n",
       "      <td>0.000000e+00</td>\n",
       "      <td>0.000000e+00</td>\n",
       "      <td>0.000000e+00</td>\n",
       "      <td>0.000000e+00</td>\n",
       "      <td>0.000000e+00</td>\n",
       "      <td>0.000000e+00</td>\n",
       "      <td>0.000000e+00</td>\n",
       "    </tr>\n",
       "    <tr>\n",
       "      <th>Александр_Каплан</th>\n",
       "      <td>0.000000</td>\n",
       "      <td>0.000000e+00</td>\n",
       "      <td>0.000000</td>\n",
       "      <td>0.000000e+00</td>\n",
       "      <td>1.000000e+00</td>\n",
       "      <td>0.000000e+00</td>\n",
       "      <td>0.000000e+00</td>\n",
       "      <td>0.000000e+00</td>\n",
       "      <td>0.000000e+00</td>\n",
       "      <td>0.000000</td>\n",
       "      <td>...</td>\n",
       "      <td>0.000000e+00</td>\n",
       "      <td>0.000000e+00</td>\n",
       "      <td>0.000000</td>\n",
       "      <td>0.000000e+00</td>\n",
       "      <td>0.000000e+00</td>\n",
       "      <td>0.000000e+00</td>\n",
       "      <td>0.000000e+00</td>\n",
       "      <td>0.000000e+00</td>\n",
       "      <td>0.000000e+00</td>\n",
       "      <td>0.000000e+00</td>\n",
       "    </tr>\n",
       "    <tr>\n",
       "      <th>Дмитрий_Гитман</th>\n",
       "      <td>0.000000</td>\n",
       "      <td>0.000000e+00</td>\n",
       "      <td>0.000000</td>\n",
       "      <td>0.000000e+00</td>\n",
       "      <td>0.000000e+00</td>\n",
       "      <td>0.000000e+00</td>\n",
       "      <td>0.000000e+00</td>\n",
       "      <td>0.000000e+00</td>\n",
       "      <td>0.000000e+00</td>\n",
       "      <td>0.000000</td>\n",
       "      <td>...</td>\n",
       "      <td>0.000000e+00</td>\n",
       "      <td>0.000000e+00</td>\n",
       "      <td>0.000000</td>\n",
       "      <td>0.000000e+00</td>\n",
       "      <td>0.000000e+00</td>\n",
       "      <td>0.000000e+00</td>\n",
       "      <td>0.000000e+00</td>\n",
       "      <td>0.000000e+00</td>\n",
       "      <td>1.000000e+00</td>\n",
       "      <td>0.000000e+00</td>\n",
       "    </tr>\n",
       "    <tr>\n",
       "      <th>Андрей_Головин</th>\n",
       "      <td>0.000000</td>\n",
       "      <td>4.783823e-09</td>\n",
       "      <td>0.000000</td>\n",
       "      <td>0.000000e+00</td>\n",
       "      <td>0.000000e+00</td>\n",
       "      <td>0.000000e+00</td>\n",
       "      <td>0.000000e+00</td>\n",
       "      <td>0.000000e+00</td>\n",
       "      <td>5.653527e-05</td>\n",
       "      <td>0.000000</td>\n",
       "      <td>...</td>\n",
       "      <td>0.000000e+00</td>\n",
       "      <td>0.000000e+00</td>\n",
       "      <td>0.000000</td>\n",
       "      <td>0.000000e+00</td>\n",
       "      <td>0.000000e+00</td>\n",
       "      <td>0.000000e+00</td>\n",
       "      <td>0.000000e+00</td>\n",
       "      <td>0.000000e+00</td>\n",
       "      <td>0.000000e+00</td>\n",
       "      <td>0.000000e+00</td>\n",
       "    </tr>\n",
       "    <tr>\n",
       "      <th>Павел_Уваров</th>\n",
       "      <td>0.000000</td>\n",
       "      <td>0.000000e+00</td>\n",
       "      <td>0.949295</td>\n",
       "      <td>0.000000e+00</td>\n",
       "      <td>0.000000e+00</td>\n",
       "      <td>0.000000e+00</td>\n",
       "      <td>0.000000e+00</td>\n",
       "      <td>5.070293e-02</td>\n",
       "      <td>0.000000e+00</td>\n",
       "      <td>0.000000</td>\n",
       "      <td>...</td>\n",
       "      <td>1.516871e-11</td>\n",
       "      <td>4.256526e-11</td>\n",
       "      <td>0.000000</td>\n",
       "      <td>0.000000e+00</td>\n",
       "      <td>0.000000e+00</td>\n",
       "      <td>0.000000e+00</td>\n",
       "      <td>1.340980e-07</td>\n",
       "      <td>0.000000e+00</td>\n",
       "      <td>0.000000e+00</td>\n",
       "      <td>0.000000e+00</td>\n",
       "    </tr>\n",
       "    <tr>\n",
       "      <th>Петр_Федичев</th>\n",
       "      <td>0.000000</td>\n",
       "      <td>6.939997e-01</td>\n",
       "      <td>0.000000</td>\n",
       "      <td>0.000000e+00</td>\n",
       "      <td>3.270699e-13</td>\n",
       "      <td>0.000000e+00</td>\n",
       "      <td>0.000000e+00</td>\n",
       "      <td>0.000000e+00</td>\n",
       "      <td>3.056054e-01</td>\n",
       "      <td>0.000000</td>\n",
       "      <td>...</td>\n",
       "      <td>0.000000e+00</td>\n",
       "      <td>0.000000e+00</td>\n",
       "      <td>0.000000</td>\n",
       "      <td>0.000000e+00</td>\n",
       "      <td>0.000000e+00</td>\n",
       "      <td>0.000000e+00</td>\n",
       "      <td>5.883560e-13</td>\n",
       "      <td>0.000000e+00</td>\n",
       "      <td>0.000000e+00</td>\n",
       "      <td>0.000000e+00</td>\n",
       "    </tr>\n",
       "    <tr>\n",
       "      <th>Алексей_Витухновский</th>\n",
       "      <td>0.000000</td>\n",
       "      <td>0.000000e+00</td>\n",
       "      <td>0.000000</td>\n",
       "      <td>0.000000e+00</td>\n",
       "      <td>0.000000e+00</td>\n",
       "      <td>0.000000e+00</td>\n",
       "      <td>0.000000e+00</td>\n",
       "      <td>0.000000e+00</td>\n",
       "      <td>0.000000e+00</td>\n",
       "      <td>0.000000</td>\n",
       "      <td>...</td>\n",
       "      <td>0.000000e+00</td>\n",
       "      <td>0.000000e+00</td>\n",
       "      <td>0.000000</td>\n",
       "      <td>0.000000e+00</td>\n",
       "      <td>0.000000e+00</td>\n",
       "      <td>0.000000e+00</td>\n",
       "      <td>0.000000e+00</td>\n",
       "      <td>0.000000e+00</td>\n",
       "      <td>0.000000e+00</td>\n",
       "      <td>0.000000e+00</td>\n",
       "    </tr>\n",
       "    <tr>\n",
       "      <th>Сергей_Серёгичев</th>\n",
       "      <td>0.000000</td>\n",
       "      <td>0.000000e+00</td>\n",
       "      <td>0.000000</td>\n",
       "      <td>0.000000e+00</td>\n",
       "      <td>0.000000e+00</td>\n",
       "      <td>0.000000e+00</td>\n",
       "      <td>0.000000e+00</td>\n",
       "      <td>2.909203e-15</td>\n",
       "      <td>0.000000e+00</td>\n",
       "      <td>0.000000</td>\n",
       "      <td>...</td>\n",
       "      <td>0.000000e+00</td>\n",
       "      <td>1.438750e-04</td>\n",
       "      <td>0.000000</td>\n",
       "      <td>0.000000e+00</td>\n",
       "      <td>1.382507e-12</td>\n",
       "      <td>0.000000e+00</td>\n",
       "      <td>0.000000e+00</td>\n",
       "      <td>9.998561e-01</td>\n",
       "      <td>0.000000e+00</td>\n",
       "      <td>0.000000e+00</td>\n",
       "    </tr>\n",
       "    <tr>\n",
       "      <th>Архат_Абжанов</th>\n",
       "      <td>0.000000</td>\n",
       "      <td>0.000000e+00</td>\n",
       "      <td>0.000000</td>\n",
       "      <td>0.000000e+00</td>\n",
       "      <td>0.000000e+00</td>\n",
       "      <td>0.000000e+00</td>\n",
       "      <td>0.000000e+00</td>\n",
       "      <td>0.000000e+00</td>\n",
       "      <td>0.000000e+00</td>\n",
       "      <td>0.000000</td>\n",
       "      <td>...</td>\n",
       "      <td>0.000000e+00</td>\n",
       "      <td>0.000000e+00</td>\n",
       "      <td>0.000000</td>\n",
       "      <td>0.000000e+00</td>\n",
       "      <td>0.000000e+00</td>\n",
       "      <td>0.000000e+00</td>\n",
       "      <td>0.000000e+00</td>\n",
       "      <td>0.000000e+00</td>\n",
       "      <td>0.000000e+00</td>\n",
       "      <td>0.000000e+00</td>\n",
       "    </tr>\n",
       "    <tr>\n",
       "      <th>Виктор_Задков</th>\n",
       "      <td>0.000000</td>\n",
       "      <td>0.000000e+00</td>\n",
       "      <td>0.000000</td>\n",
       "      <td>0.000000e+00</td>\n",
       "      <td>0.000000e+00</td>\n",
       "      <td>3.622812e-04</td>\n",
       "      <td>0.000000e+00</td>\n",
       "      <td>0.000000e+00</td>\n",
       "      <td>3.490730e-08</td>\n",
       "      <td>0.000000</td>\n",
       "      <td>...</td>\n",
       "      <td>0.000000e+00</td>\n",
       "      <td>0.000000e+00</td>\n",
       "      <td>0.000000</td>\n",
       "      <td>0.000000e+00</td>\n",
       "      <td>0.000000e+00</td>\n",
       "      <td>0.000000e+00</td>\n",
       "      <td>0.000000e+00</td>\n",
       "      <td>0.000000e+00</td>\n",
       "      <td>1.563313e-01</td>\n",
       "      <td>0.000000e+00</td>\n",
       "    </tr>\n",
       "    <tr>\n",
       "      <th>Алексей_Расторгуев</th>\n",
       "      <td>0.000000</td>\n",
       "      <td>0.000000e+00</td>\n",
       "      <td>0.000000</td>\n",
       "      <td>0.000000e+00</td>\n",
       "      <td>0.000000e+00</td>\n",
       "      <td>1.000000e+00</td>\n",
       "      <td>0.000000e+00</td>\n",
       "      <td>0.000000e+00</td>\n",
       "      <td>0.000000e+00</td>\n",
       "      <td>0.000000</td>\n",
       "      <td>...</td>\n",
       "      <td>0.000000e+00</td>\n",
       "      <td>0.000000e+00</td>\n",
       "      <td>0.000000</td>\n",
       "      <td>0.000000e+00</td>\n",
       "      <td>0.000000e+00</td>\n",
       "      <td>0.000000e+00</td>\n",
       "      <td>0.000000e+00</td>\n",
       "      <td>0.000000e+00</td>\n",
       "      <td>0.000000e+00</td>\n",
       "      <td>0.000000e+00</td>\n",
       "    </tr>\n",
       "    <tr>\n",
       "      <th>Александр_Марков</th>\n",
       "      <td>0.000000</td>\n",
       "      <td>0.000000e+00</td>\n",
       "      <td>0.000000</td>\n",
       "      <td>0.000000e+00</td>\n",
       "      <td>0.000000e+00</td>\n",
       "      <td>0.000000e+00</td>\n",
       "      <td>6.498603e-01</td>\n",
       "      <td>0.000000e+00</td>\n",
       "      <td>3.496679e-01</td>\n",
       "      <td>0.000000</td>\n",
       "      <td>...</td>\n",
       "      <td>0.000000e+00</td>\n",
       "      <td>0.000000e+00</td>\n",
       "      <td>0.000000</td>\n",
       "      <td>0.000000e+00</td>\n",
       "      <td>0.000000e+00</td>\n",
       "      <td>0.000000e+00</td>\n",
       "      <td>0.000000e+00</td>\n",
       "      <td>0.000000e+00</td>\n",
       "      <td>0.000000e+00</td>\n",
       "      <td>0.000000e+00</td>\n",
       "    </tr>\n",
       "    <tr>\n",
       "      <th>Сергей_Неклюдов</th>\n",
       "      <td>0.993615</td>\n",
       "      <td>0.000000e+00</td>\n",
       "      <td>0.000000</td>\n",
       "      <td>0.000000e+00</td>\n",
       "      <td>0.000000e+00</td>\n",
       "      <td>0.000000e+00</td>\n",
       "      <td>0.000000e+00</td>\n",
       "      <td>6.362361e-03</td>\n",
       "      <td>0.000000e+00</td>\n",
       "      <td>0.000000</td>\n",
       "      <td>...</td>\n",
       "      <td>0.000000e+00</td>\n",
       "      <td>0.000000e+00</td>\n",
       "      <td>0.000000</td>\n",
       "      <td>1.596039e-08</td>\n",
       "      <td>1.662841e-06</td>\n",
       "      <td>3.203774e-09</td>\n",
       "      <td>0.000000e+00</td>\n",
       "      <td>0.000000e+00</td>\n",
       "      <td>0.000000e+00</td>\n",
       "      <td>0.000000e+00</td>\n",
       "    </tr>\n",
       "    <tr>\n",
       "      <th>Евгений_Магид</th>\n",
       "      <td>0.000000</td>\n",
       "      <td>0.000000e+00</td>\n",
       "      <td>0.000000</td>\n",
       "      <td>1.000000e+00</td>\n",
       "      <td>0.000000e+00</td>\n",
       "      <td>0.000000e+00</td>\n",
       "      <td>0.000000e+00</td>\n",
       "      <td>0.000000e+00</td>\n",
       "      <td>0.000000e+00</td>\n",
       "      <td>0.000000</td>\n",
       "      <td>...</td>\n",
       "      <td>0.000000e+00</td>\n",
       "      <td>9.806971e-15</td>\n",
       "      <td>0.000000</td>\n",
       "      <td>0.000000e+00</td>\n",
       "      <td>0.000000e+00</td>\n",
       "      <td>0.000000e+00</td>\n",
       "      <td>0.000000e+00</td>\n",
       "      <td>0.000000e+00</td>\n",
       "      <td>0.000000e+00</td>\n",
       "      <td>0.000000e+00</td>\n",
       "    </tr>\n",
       "    <tr>\n",
       "      <th>Андрей_Кибрик</th>\n",
       "      <td>1.000000</td>\n",
       "      <td>0.000000e+00</td>\n",
       "      <td>0.000000</td>\n",
       "      <td>0.000000e+00</td>\n",
       "      <td>0.000000e+00</td>\n",
       "      <td>0.000000e+00</td>\n",
       "      <td>0.000000e+00</td>\n",
       "      <td>0.000000e+00</td>\n",
       "      <td>0.000000e+00</td>\n",
       "      <td>0.000000</td>\n",
       "      <td>...</td>\n",
       "      <td>0.000000e+00</td>\n",
       "      <td>0.000000e+00</td>\n",
       "      <td>0.000000</td>\n",
       "      <td>0.000000e+00</td>\n",
       "      <td>0.000000e+00</td>\n",
       "      <td>0.000000e+00</td>\n",
       "      <td>0.000000e+00</td>\n",
       "      <td>0.000000e+00</td>\n",
       "      <td>0.000000e+00</td>\n",
       "      <td>0.000000e+00</td>\n",
       "    </tr>\n",
       "    <tr>\n",
       "      <th>Михаил_Маяцкий</th>\n",
       "      <td>0.000000</td>\n",
       "      <td>0.000000e+00</td>\n",
       "      <td>0.000000</td>\n",
       "      <td>0.000000e+00</td>\n",
       "      <td>0.000000e+00</td>\n",
       "      <td>0.000000e+00</td>\n",
       "      <td>0.000000e+00</td>\n",
       "      <td>0.000000e+00</td>\n",
       "      <td>0.000000e+00</td>\n",
       "      <td>0.425613</td>\n",
       "      <td>...</td>\n",
       "      <td>1.885463e-01</td>\n",
       "      <td>0.000000e+00</td>\n",
       "      <td>0.000000</td>\n",
       "      <td>0.000000e+00</td>\n",
       "      <td>1.756544e-01</td>\n",
       "      <td>0.000000e+00</td>\n",
       "      <td>0.000000e+00</td>\n",
       "      <td>0.000000e+00</td>\n",
       "      <td>0.000000e+00</td>\n",
       "      <td>0.000000e+00</td>\n",
       "    </tr>\n",
       "    <tr>\n",
       "      <th>Мария_Неклюдова</th>\n",
       "      <td>0.000000</td>\n",
       "      <td>0.000000e+00</td>\n",
       "      <td>0.000000</td>\n",
       "      <td>0.000000e+00</td>\n",
       "      <td>0.000000e+00</td>\n",
       "      <td>0.000000e+00</td>\n",
       "      <td>0.000000e+00</td>\n",
       "      <td>0.000000e+00</td>\n",
       "      <td>0.000000e+00</td>\n",
       "      <td>0.783776</td>\n",
       "      <td>...</td>\n",
       "      <td>2.162241e-01</td>\n",
       "      <td>0.000000e+00</td>\n",
       "      <td>0.000000</td>\n",
       "      <td>0.000000e+00</td>\n",
       "      <td>0.000000e+00</td>\n",
       "      <td>0.000000e+00</td>\n",
       "      <td>0.000000e+00</td>\n",
       "      <td>0.000000e+00</td>\n",
       "      <td>0.000000e+00</td>\n",
       "      <td>0.000000e+00</td>\n",
       "    </tr>\n",
       "    <tr>\n",
       "      <th>Дмитрий_Вибе</th>\n",
       "      <td>0.000000</td>\n",
       "      <td>0.000000e+00</td>\n",
       "      <td>0.000000</td>\n",
       "      <td>0.000000e+00</td>\n",
       "      <td>0.000000e+00</td>\n",
       "      <td>7.370591e-01</td>\n",
       "      <td>2.629409e-01</td>\n",
       "      <td>0.000000e+00</td>\n",
       "      <td>0.000000e+00</td>\n",
       "      <td>0.000000</td>\n",
       "      <td>...</td>\n",
       "      <td>0.000000e+00</td>\n",
       "      <td>0.000000e+00</td>\n",
       "      <td>0.000000</td>\n",
       "      <td>0.000000e+00</td>\n",
       "      <td>0.000000e+00</td>\n",
       "      <td>0.000000e+00</td>\n",
       "      <td>0.000000e+00</td>\n",
       "      <td>0.000000e+00</td>\n",
       "      <td>0.000000e+00</td>\n",
       "      <td>0.000000e+00</td>\n",
       "    </tr>\n",
       "    <tr>\n",
       "      <th>Михаил_Ревнивцев</th>\n",
       "      <td>0.000000</td>\n",
       "      <td>0.000000e+00</td>\n",
       "      <td>0.000000</td>\n",
       "      <td>0.000000e+00</td>\n",
       "      <td>0.000000e+00</td>\n",
       "      <td>1.000000e+00</td>\n",
       "      <td>0.000000e+00</td>\n",
       "      <td>0.000000e+00</td>\n",
       "      <td>0.000000e+00</td>\n",
       "      <td>0.000000</td>\n",
       "      <td>...</td>\n",
       "      <td>0.000000e+00</td>\n",
       "      <td>0.000000e+00</td>\n",
       "      <td>0.000000</td>\n",
       "      <td>0.000000e+00</td>\n",
       "      <td>0.000000e+00</td>\n",
       "      <td>0.000000e+00</td>\n",
       "      <td>0.000000e+00</td>\n",
       "      <td>0.000000e+00</td>\n",
       "      <td>0.000000e+00</td>\n",
       "      <td>0.000000e+00</td>\n",
       "    </tr>\n",
       "    <tr>\n",
       "      <th>Виктор_Авдеев</th>\n",
       "      <td>0.000000</td>\n",
       "      <td>0.000000e+00</td>\n",
       "      <td>0.000000</td>\n",
       "      <td>0.000000e+00</td>\n",
       "      <td>0.000000e+00</td>\n",
       "      <td>0.000000e+00</td>\n",
       "      <td>0.000000e+00</td>\n",
       "      <td>0.000000e+00</td>\n",
       "      <td>0.000000e+00</td>\n",
       "      <td>0.000000</td>\n",
       "      <td>...</td>\n",
       "      <td>0.000000e+00</td>\n",
       "      <td>0.000000e+00</td>\n",
       "      <td>0.000000</td>\n",
       "      <td>0.000000e+00</td>\n",
       "      <td>0.000000e+00</td>\n",
       "      <td>0.000000e+00</td>\n",
       "      <td>0.000000e+00</td>\n",
       "      <td>0.000000e+00</td>\n",
       "      <td>0.000000e+00</td>\n",
       "      <td>0.000000e+00</td>\n",
       "    </tr>\n",
       "    <tr>\n",
       "      <th>Илья_Шкредов</th>\n",
       "      <td>0.000000</td>\n",
       "      <td>0.000000e+00</td>\n",
       "      <td>0.000000</td>\n",
       "      <td>0.000000e+00</td>\n",
       "      <td>0.000000e+00</td>\n",
       "      <td>0.000000e+00</td>\n",
       "      <td>0.000000e+00</td>\n",
       "      <td>0.000000e+00</td>\n",
       "      <td>0.000000e+00</td>\n",
       "      <td>0.000000</td>\n",
       "      <td>...</td>\n",
       "      <td>0.000000e+00</td>\n",
       "      <td>0.000000e+00</td>\n",
       "      <td>0.000000</td>\n",
       "      <td>0.000000e+00</td>\n",
       "      <td>0.000000e+00</td>\n",
       "      <td>0.000000e+00</td>\n",
       "      <td>1.000000e+00</td>\n",
       "      <td>0.000000e+00</td>\n",
       "      <td>0.000000e+00</td>\n",
       "      <td>0.000000e+00</td>\n",
       "    </tr>\n",
       "    <tr>\n",
       "      <th>Светлана_Боринская</th>\n",
       "      <td>0.000000</td>\n",
       "      <td>0.000000e+00</td>\n",
       "      <td>0.000000</td>\n",
       "      <td>0.000000e+00</td>\n",
       "      <td>0.000000e+00</td>\n",
       "      <td>0.000000e+00</td>\n",
       "      <td>0.000000e+00</td>\n",
       "      <td>0.000000e+00</td>\n",
       "      <td>1.000000e+00</td>\n",
       "      <td>0.000000</td>\n",
       "      <td>...</td>\n",
       "      <td>0.000000e+00</td>\n",
       "      <td>0.000000e+00</td>\n",
       "      <td>0.000000</td>\n",
       "      <td>0.000000e+00</td>\n",
       "      <td>0.000000e+00</td>\n",
       "      <td>0.000000e+00</td>\n",
       "      <td>0.000000e+00</td>\n",
       "      <td>0.000000e+00</td>\n",
       "      <td>0.000000e+00</td>\n",
       "      <td>0.000000e+00</td>\n",
       "    </tr>\n",
       "    <tr>\n",
       "      <th>Елена_Уханова</th>\n",
       "      <td>0.000001</td>\n",
       "      <td>0.000000e+00</td>\n",
       "      <td>0.999999</td>\n",
       "      <td>0.000000e+00</td>\n",
       "      <td>0.000000e+00</td>\n",
       "      <td>0.000000e+00</td>\n",
       "      <td>0.000000e+00</td>\n",
       "      <td>0.000000e+00</td>\n",
       "      <td>0.000000e+00</td>\n",
       "      <td>0.000000</td>\n",
       "      <td>...</td>\n",
       "      <td>0.000000e+00</td>\n",
       "      <td>0.000000e+00</td>\n",
       "      <td>0.000000</td>\n",
       "      <td>0.000000e+00</td>\n",
       "      <td>0.000000e+00</td>\n",
       "      <td>0.000000e+00</td>\n",
       "      <td>0.000000e+00</td>\n",
       "      <td>0.000000e+00</td>\n",
       "      <td>0.000000e+00</td>\n",
       "      <td>0.000000e+00</td>\n",
       "    </tr>\n",
       "    <tr>\n",
       "      <th>Алексей_Миллер</th>\n",
       "      <td>0.000000</td>\n",
       "      <td>0.000000e+00</td>\n",
       "      <td>0.000000</td>\n",
       "      <td>0.000000e+00</td>\n",
       "      <td>0.000000e+00</td>\n",
       "      <td>0.000000e+00</td>\n",
       "      <td>0.000000e+00</td>\n",
       "      <td>0.000000e+00</td>\n",
       "      <td>0.000000e+00</td>\n",
       "      <td>0.000000</td>\n",
       "      <td>...</td>\n",
       "      <td>9.983820e-01</td>\n",
       "      <td>2.295433e-10</td>\n",
       "      <td>0.000000</td>\n",
       "      <td>0.000000e+00</td>\n",
       "      <td>0.000000e+00</td>\n",
       "      <td>0.000000e+00</td>\n",
       "      <td>0.000000e+00</td>\n",
       "      <td>3.605661e-05</td>\n",
       "      <td>0.000000e+00</td>\n",
       "      <td>0.000000e+00</td>\n",
       "    </tr>\n",
       "    <tr>\n",
       "      <th>Владимир_Плунгян</th>\n",
       "      <td>1.000000</td>\n",
       "      <td>0.000000e+00</td>\n",
       "      <td>0.000000</td>\n",
       "      <td>0.000000e+00</td>\n",
       "      <td>0.000000e+00</td>\n",
       "      <td>0.000000e+00</td>\n",
       "      <td>0.000000e+00</td>\n",
       "      <td>0.000000e+00</td>\n",
       "      <td>0.000000e+00</td>\n",
       "      <td>0.000000</td>\n",
       "      <td>...</td>\n",
       "      <td>0.000000e+00</td>\n",
       "      <td>0.000000e+00</td>\n",
       "      <td>0.000000</td>\n",
       "      <td>4.335338e-12</td>\n",
       "      <td>0.000000e+00</td>\n",
       "      <td>0.000000e+00</td>\n",
       "      <td>0.000000e+00</td>\n",
       "      <td>0.000000e+00</td>\n",
       "      <td>0.000000e+00</td>\n",
       "      <td>0.000000e+00</td>\n",
       "    </tr>\n",
       "    <tr>\n",
       "      <th>Николай_Дронин</th>\n",
       "      <td>0.000000</td>\n",
       "      <td>0.000000e+00</td>\n",
       "      <td>0.000000</td>\n",
       "      <td>0.000000e+00</td>\n",
       "      <td>0.000000e+00</td>\n",
       "      <td>0.000000e+00</td>\n",
       "      <td>9.953015e-01</td>\n",
       "      <td>0.000000e+00</td>\n",
       "      <td>0.000000e+00</td>\n",
       "      <td>0.000000</td>\n",
       "      <td>...</td>\n",
       "      <td>0.000000e+00</td>\n",
       "      <td>0.000000e+00</td>\n",
       "      <td>0.000000</td>\n",
       "      <td>0.000000e+00</td>\n",
       "      <td>0.000000e+00</td>\n",
       "      <td>0.000000e+00</td>\n",
       "      <td>0.000000e+00</td>\n",
       "      <td>0.000000e+00</td>\n",
       "      <td>0.000000e+00</td>\n",
       "      <td>0.000000e+00</td>\n",
       "    </tr>\n",
       "    <tr>\n",
       "      <th>Виктор_Цетлин</th>\n",
       "      <td>0.000000</td>\n",
       "      <td>0.000000e+00</td>\n",
       "      <td>0.000000</td>\n",
       "      <td>0.000000e+00</td>\n",
       "      <td>0.000000e+00</td>\n",
       "      <td>0.000000e+00</td>\n",
       "      <td>0.000000e+00</td>\n",
       "      <td>0.000000e+00</td>\n",
       "      <td>0.000000e+00</td>\n",
       "      <td>0.000000</td>\n",
       "      <td>...</td>\n",
       "      <td>0.000000e+00</td>\n",
       "      <td>0.000000e+00</td>\n",
       "      <td>0.000000</td>\n",
       "      <td>0.000000e+00</td>\n",
       "      <td>0.000000e+00</td>\n",
       "      <td>0.000000e+00</td>\n",
       "      <td>0.000000e+00</td>\n",
       "      <td>0.000000e+00</td>\n",
       "      <td>0.000000e+00</td>\n",
       "      <td>0.000000e+00</td>\n",
       "    </tr>\n",
       "  </tbody>\n",
       "</table>\n",
       "<p>539 rows × 30 columns</p>\n",
       "</div>"
      ],
      "text/plain": [
       "                        Фоновая тема       болезнь    власть         город  \\\n",
       "Дэвид_Гросс                 0.000000  0.000000e+00  0.000000  0.000000e+00   \n",
       "Павел_Степанцов             0.000000  0.000000e+00  0.000000  0.000000e+00   \n",
       "Ирина_Каспэ                 0.000000  0.000000e+00  0.000000  0.000000e+00   \n",
       "Александр_Беленький         0.000000  0.000000e+00  0.000000  0.000000e+00   \n",
       "Татьяна_Гусарова            0.000000  0.000000e+00  0.000000  0.000000e+00   \n",
       "Андрей_Коротаев             0.000000  0.000000e+00  0.000000  0.000000e+00   \n",
       "Галина_Зеленина             0.000000  0.000000e+00  0.000000  0.000000e+00   \n",
       "Ирина_Левонтина             0.000000  4.888622e-10  0.000000  0.000000e+00   \n",
       "Алексей_Малашенко           0.000000  0.000000e+00  0.000000  0.000000e+00   \n",
       "Дэвид_Кларк                 0.000000  0.000000e+00  0.000000  4.001559e-06   \n",
       "Михаил_Полуэктов            0.000000  0.000000e+00  0.000000  0.000000e+00   \n",
       "Алексей_Москалев            0.000000  0.000000e+00  0.000000  0.000000e+00   \n",
       "Екатерина_Болтунова         0.000000  0.000000e+00  1.000000  0.000000e+00   \n",
       "Юрий_Рогулёв                0.000000  0.000000e+00  0.000000  0.000000e+00   \n",
       "Антон_Чугунов               0.000000  0.000000e+00  0.000000  0.000000e+00   \n",
       "Александр_Мещеряков         0.000000  0.000000e+00  0.000000  0.000000e+00   \n",
       "Алексей_Котов               0.000000  0.000000e+00  0.000000  0.000000e+00   \n",
       "Георгий_Старостин           1.000000  0.000000e+00  0.000000  0.000000e+00   \n",
       "Илья_Виньковецкий           0.000000  0.000000e+00  0.000000  0.000000e+00   \n",
       "Кирилл_Кожанов              1.000000  0.000000e+00  0.000000  0.000000e+00   \n",
       "Сергей_Таскаев              0.000000  0.000000e+00  0.000000  0.000000e+00   \n",
       "Сергей_Нечаев               0.000000  0.000000e+00  0.000000  0.000000e+00   \n",
       "Кристофер_Карр              0.000000  0.000000e+00  0.000000  0.000000e+00   \n",
       "Валерий_Рязанов             0.000000  0.000000e+00  0.000000  0.000000e+00   \n",
       "Дмитрий_Дождев              0.000000  0.000000e+00  0.000000  0.000000e+00   \n",
       "Илья_Кукулин                0.000000  0.000000e+00  0.000000  9.659081e-14   \n",
       "Анна_Рогожина               0.000146  0.000000e+00  0.000000  0.000000e+00   \n",
       "Марина_Корсакова-Крейн      0.000000  0.000000e+00  0.000000  0.000000e+00   \n",
       "Андрей_Иванцов              1.000000  0.000000e+00  0.000000  0.000000e+00   \n",
       "Дэвид_С._Джонс              0.000000  8.152560e-13  0.000000  0.000000e+00   \n",
       "...                              ...           ...       ...           ...   \n",
       "Пётр_Образцов               0.000000  0.000000e+00  0.000000  0.000000e+00   \n",
       "Эдуард_Боос                 0.000000  0.000000e+00  0.000000  0.000000e+00   \n",
       "Дмитрий_Казанцев            0.000000  0.000000e+00  0.000000  0.000000e+00   \n",
       "Александр_Шень              0.000000  0.000000e+00  0.000000  0.000000e+00   \n",
       "Александр_Каплан            0.000000  0.000000e+00  0.000000  0.000000e+00   \n",
       "Дмитрий_Гитман              0.000000  0.000000e+00  0.000000  0.000000e+00   \n",
       "Андрей_Головин              0.000000  4.783823e-09  0.000000  0.000000e+00   \n",
       "Павел_Уваров                0.000000  0.000000e+00  0.949295  0.000000e+00   \n",
       "Петр_Федичев                0.000000  6.939997e-01  0.000000  0.000000e+00   \n",
       "Алексей_Витухновский        0.000000  0.000000e+00  0.000000  0.000000e+00   \n",
       "Сергей_Серёгичев            0.000000  0.000000e+00  0.000000  0.000000e+00   \n",
       "Архат_Абжанов               0.000000  0.000000e+00  0.000000  0.000000e+00   \n",
       "Виктор_Задков               0.000000  0.000000e+00  0.000000  0.000000e+00   \n",
       "Алексей_Расторгуев          0.000000  0.000000e+00  0.000000  0.000000e+00   \n",
       "Александр_Марков            0.000000  0.000000e+00  0.000000  0.000000e+00   \n",
       "Сергей_Неклюдов             0.993615  0.000000e+00  0.000000  0.000000e+00   \n",
       "Евгений_Магид               0.000000  0.000000e+00  0.000000  1.000000e+00   \n",
       "Андрей_Кибрик               1.000000  0.000000e+00  0.000000  0.000000e+00   \n",
       "Михаил_Маяцкий              0.000000  0.000000e+00  0.000000  0.000000e+00   \n",
       "Мария_Неклюдова             0.000000  0.000000e+00  0.000000  0.000000e+00   \n",
       "Дмитрий_Вибе                0.000000  0.000000e+00  0.000000  0.000000e+00   \n",
       "Михаил_Ревнивцев            0.000000  0.000000e+00  0.000000  0.000000e+00   \n",
       "Виктор_Авдеев               0.000000  0.000000e+00  0.000000  0.000000e+00   \n",
       "Илья_Шкредов                0.000000  0.000000e+00  0.000000  0.000000e+00   \n",
       "Светлана_Боринская          0.000000  0.000000e+00  0.000000  0.000000e+00   \n",
       "Елена_Уханова               0.000001  0.000000e+00  0.999999  0.000000e+00   \n",
       "Алексей_Миллер              0.000000  0.000000e+00  0.000000  0.000000e+00   \n",
       "Владимир_Плунгян            1.000000  0.000000e+00  0.000000  0.000000e+00   \n",
       "Николай_Дронин              0.000000  0.000000e+00  0.000000  0.000000e+00   \n",
       "Виктор_Цетлин               0.000000  0.000000e+00  0.000000  0.000000e+00   \n",
       "\n",
       "                              задача        звезда         земля  \\\n",
       "Дэвид_Гросс             0.000000e+00  0.000000e+00  0.000000e+00   \n",
       "Павел_Степанцов         0.000000e+00  0.000000e+00  0.000000e+00   \n",
       "Ирина_Каспэ             0.000000e+00  0.000000e+00  0.000000e+00   \n",
       "Александр_Беленький     0.000000e+00  0.000000e+00  0.000000e+00   \n",
       "Татьяна_Гусарова        0.000000e+00  0.000000e+00  0.000000e+00   \n",
       "Андрей_Коротаев         0.000000e+00  0.000000e+00  0.000000e+00   \n",
       "Галина_Зеленина         0.000000e+00  0.000000e+00  0.000000e+00   \n",
       "Ирина_Левонтина         0.000000e+00  0.000000e+00  0.000000e+00   \n",
       "Алексей_Малашенко       0.000000e+00  0.000000e+00  0.000000e+00   \n",
       "Дэвид_Кларк             9.999960e-01  0.000000e+00  0.000000e+00   \n",
       "Михаил_Полуэктов        0.000000e+00  0.000000e+00  0.000000e+00   \n",
       "Алексей_Москалев        0.000000e+00  0.000000e+00  0.000000e+00   \n",
       "Екатерина_Болтунова     0.000000e+00  0.000000e+00  0.000000e+00   \n",
       "Юрий_Рогулёв            0.000000e+00  0.000000e+00  0.000000e+00   \n",
       "Антон_Чугунов           0.000000e+00  0.000000e+00  0.000000e+00   \n",
       "Александр_Мещеряков     0.000000e+00  0.000000e+00  0.000000e+00   \n",
       "Алексей_Котов           0.000000e+00  0.000000e+00  0.000000e+00   \n",
       "Георгий_Старостин       0.000000e+00  0.000000e+00  0.000000e+00   \n",
       "Илья_Виньковецкий       0.000000e+00  0.000000e+00  0.000000e+00   \n",
       "Кирилл_Кожанов          0.000000e+00  0.000000e+00  0.000000e+00   \n",
       "Сергей_Таскаев          0.000000e+00  0.000000e+00  0.000000e+00   \n",
       "Сергей_Нечаев           0.000000e+00  0.000000e+00  0.000000e+00   \n",
       "Кристофер_Карр          0.000000e+00  6.277897e-11  6.570147e-07   \n",
       "Валерий_Рязанов         0.000000e+00  0.000000e+00  0.000000e+00   \n",
       "Дмитрий_Дождев          0.000000e+00  0.000000e+00  0.000000e+00   \n",
       "Илья_Кукулин            0.000000e+00  0.000000e+00  0.000000e+00   \n",
       "Анна_Рогожина           0.000000e+00  0.000000e+00  0.000000e+00   \n",
       "Марина_Корсакова-Крейн  0.000000e+00  0.000000e+00  0.000000e+00   \n",
       "Андрей_Иванцов          0.000000e+00  0.000000e+00  4.627789e-09   \n",
       "Дэвид_С._Джонс          0.000000e+00  0.000000e+00  0.000000e+00   \n",
       "...                              ...           ...           ...   \n",
       "Пётр_Образцов           0.000000e+00  0.000000e+00  0.000000e+00   \n",
       "Эдуард_Боос             0.000000e+00  4.109406e-09  0.000000e+00   \n",
       "Дмитрий_Казанцев        0.000000e+00  3.779461e-09  0.000000e+00   \n",
       "Александр_Шень          0.000000e+00  0.000000e+00  0.000000e+00   \n",
       "Александр_Каплан        1.000000e+00  0.000000e+00  0.000000e+00   \n",
       "Дмитрий_Гитман          0.000000e+00  0.000000e+00  0.000000e+00   \n",
       "Андрей_Головин          0.000000e+00  0.000000e+00  0.000000e+00   \n",
       "Павел_Уваров            0.000000e+00  0.000000e+00  0.000000e+00   \n",
       "Петр_Федичев            3.270699e-13  0.000000e+00  0.000000e+00   \n",
       "Алексей_Витухновский    0.000000e+00  0.000000e+00  0.000000e+00   \n",
       "Сергей_Серёгичев        0.000000e+00  0.000000e+00  0.000000e+00   \n",
       "Архат_Абжанов           0.000000e+00  0.000000e+00  0.000000e+00   \n",
       "Виктор_Задков           0.000000e+00  3.622812e-04  0.000000e+00   \n",
       "Алексей_Расторгуев      0.000000e+00  1.000000e+00  0.000000e+00   \n",
       "Александр_Марков        0.000000e+00  0.000000e+00  6.498603e-01   \n",
       "Сергей_Неклюдов         0.000000e+00  0.000000e+00  0.000000e+00   \n",
       "Евгений_Магид           0.000000e+00  0.000000e+00  0.000000e+00   \n",
       "Андрей_Кибрик           0.000000e+00  0.000000e+00  0.000000e+00   \n",
       "Михаил_Маяцкий          0.000000e+00  0.000000e+00  0.000000e+00   \n",
       "Мария_Неклюдова         0.000000e+00  0.000000e+00  0.000000e+00   \n",
       "Дмитрий_Вибе            0.000000e+00  7.370591e-01  2.629409e-01   \n",
       "Михаил_Ревнивцев        0.000000e+00  1.000000e+00  0.000000e+00   \n",
       "Виктор_Авдеев           0.000000e+00  0.000000e+00  0.000000e+00   \n",
       "Илья_Шкредов            0.000000e+00  0.000000e+00  0.000000e+00   \n",
       "Светлана_Боринская      0.000000e+00  0.000000e+00  0.000000e+00   \n",
       "Елена_Уханова           0.000000e+00  0.000000e+00  0.000000e+00   \n",
       "Алексей_Миллер          0.000000e+00  0.000000e+00  0.000000e+00   \n",
       "Владимир_Плунгян        0.000000e+00  0.000000e+00  0.000000e+00   \n",
       "Николай_Дронин          0.000000e+00  0.000000e+00  9.953015e-01   \n",
       "Виктор_Цетлин           0.000000e+00  0.000000e+00  0.000000e+00   \n",
       "\n",
       "                        исторический        клетка     книга      ...        \\\n",
       "Дэвид_Гросс             0.000000e+00  0.000000e+00  0.000000      ...         \n",
       "Павел_Степанцов         0.000000e+00  0.000000e+00  0.000000      ...         \n",
       "Ирина_Каспэ             0.000000e+00  0.000000e+00  0.000000      ...         \n",
       "Александр_Беленький     0.000000e+00  0.000000e+00  0.000000      ...         \n",
       "Татьяна_Гусарова        0.000000e+00  0.000000e+00  0.000000      ...         \n",
       "Андрей_Коротаев         0.000000e+00  0.000000e+00  0.000000      ...         \n",
       "Галина_Зеленина         9.999998e-01  0.000000e+00  0.000000      ...         \n",
       "Ирина_Левонтина         5.410735e-01  0.000000e+00  0.000000      ...         \n",
       "Алексей_Малашенко       5.812384e-07  0.000000e+00  0.000000      ...         \n",
       "Дэвид_Кларк             0.000000e+00  0.000000e+00  0.000000      ...         \n",
       "Михаил_Полуэктов        0.000000e+00  0.000000e+00  0.000000      ...         \n",
       "Алексей_Москалев        0.000000e+00  0.000000e+00  0.000000      ...         \n",
       "Екатерина_Болтунова     0.000000e+00  0.000000e+00  0.000000      ...         \n",
       "Юрий_Рогулёв            0.000000e+00  0.000000e+00  0.000000      ...         \n",
       "Антон_Чугунов           0.000000e+00  1.322485e-05  0.000000      ...         \n",
       "Александр_Мещеряков     1.000000e+00  0.000000e+00  0.000000      ...         \n",
       "Алексей_Котов           0.000000e+00  0.000000e+00  0.000000      ...         \n",
       "Георгий_Старостин       0.000000e+00  0.000000e+00  0.000000      ...         \n",
       "Илья_Виньковецкий       0.000000e+00  0.000000e+00  0.000000      ...         \n",
       "Кирилл_Кожанов          1.971138e-11  0.000000e+00  0.000000      ...         \n",
       "Сергей_Таскаев          0.000000e+00  0.000000e+00  0.000000      ...         \n",
       "Сергей_Нечаев           0.000000e+00  0.000000e+00  0.000000      ...         \n",
       "Кристофер_Карр          0.000000e+00  1.702899e-06  0.000000      ...         \n",
       "Валерий_Рязанов         0.000000e+00  0.000000e+00  0.000000      ...         \n",
       "Дмитрий_Дождев          0.000000e+00  0.000000e+00  0.000000      ...         \n",
       "Илья_Кукулин            0.000000e+00  0.000000e+00  0.029044      ...         \n",
       "Анна_Рогожина           0.000000e+00  0.000000e+00  0.440404      ...         \n",
       "Марина_Корсакова-Крейн  0.000000e+00  0.000000e+00  0.000000      ...         \n",
       "Андрей_Иванцов          0.000000e+00  0.000000e+00  0.000000      ...         \n",
       "Дэвид_С._Джонс          0.000000e+00  0.000000e+00  0.000000      ...         \n",
       "...                              ...           ...       ...      ...         \n",
       "Пётр_Образцов           0.000000e+00  0.000000e+00  0.000000      ...         \n",
       "Эдуард_Боос             0.000000e+00  0.000000e+00  0.000000      ...         \n",
       "Дмитрий_Казанцев        0.000000e+00  0.000000e+00  0.000000      ...         \n",
       "Александр_Шень          0.000000e+00  0.000000e+00  0.000000      ...         \n",
       "Александр_Каплан        0.000000e+00  0.000000e+00  0.000000      ...         \n",
       "Дмитрий_Гитман          0.000000e+00  0.000000e+00  0.000000      ...         \n",
       "Андрей_Головин          0.000000e+00  5.653527e-05  0.000000      ...         \n",
       "Павел_Уваров            5.070293e-02  0.000000e+00  0.000000      ...         \n",
       "Петр_Федичев            0.000000e+00  3.056054e-01  0.000000      ...         \n",
       "Алексей_Витухновский    0.000000e+00  0.000000e+00  0.000000      ...         \n",
       "Сергей_Серёгичев        2.909203e-15  0.000000e+00  0.000000      ...         \n",
       "Архат_Абжанов           0.000000e+00  0.000000e+00  0.000000      ...         \n",
       "Виктор_Задков           0.000000e+00  3.490730e-08  0.000000      ...         \n",
       "Алексей_Расторгуев      0.000000e+00  0.000000e+00  0.000000      ...         \n",
       "Александр_Марков        0.000000e+00  3.496679e-01  0.000000      ...         \n",
       "Сергей_Неклюдов         6.362361e-03  0.000000e+00  0.000000      ...         \n",
       "Евгений_Магид           0.000000e+00  0.000000e+00  0.000000      ...         \n",
       "Андрей_Кибрик           0.000000e+00  0.000000e+00  0.000000      ...         \n",
       "Михаил_Маяцкий          0.000000e+00  0.000000e+00  0.425613      ...         \n",
       "Мария_Неклюдова         0.000000e+00  0.000000e+00  0.783776      ...         \n",
       "Дмитрий_Вибе            0.000000e+00  0.000000e+00  0.000000      ...         \n",
       "Михаил_Ревнивцев        0.000000e+00  0.000000e+00  0.000000      ...         \n",
       "Виктор_Авдеев           0.000000e+00  0.000000e+00  0.000000      ...         \n",
       "Илья_Шкредов            0.000000e+00  0.000000e+00  0.000000      ...         \n",
       "Светлана_Боринская      0.000000e+00  1.000000e+00  0.000000      ...         \n",
       "Елена_Уханова           0.000000e+00  0.000000e+00  0.000000      ...         \n",
       "Алексей_Миллер          0.000000e+00  0.000000e+00  0.000000      ...         \n",
       "Владимир_Плунгян        0.000000e+00  0.000000e+00  0.000000      ...         \n",
       "Николай_Дронин          0.000000e+00  0.000000e+00  0.000000      ...         \n",
       "Виктор_Цетлин           0.000000e+00  0.000000e+00  0.000000      ...         \n",
       "\n",
       "                           революция        россия   система         слово  \\\n",
       "Дэвид_Гросс             0.000000e+00  0.000000e+00  0.000000  0.000000e+00   \n",
       "Павел_Степанцов         0.000000e+00  0.000000e+00  0.000000  0.000000e+00   \n",
       "Ирина_Каспэ             0.000000e+00  0.000000e+00  0.000000  0.000000e+00   \n",
       "Александр_Беленький     0.000000e+00  0.000000e+00  0.000000  0.000000e+00   \n",
       "Татьяна_Гусарова        0.000000e+00  0.000000e+00  0.000000  0.000000e+00   \n",
       "Андрей_Коротаев         0.000000e+00  0.000000e+00  0.000000  0.000000e+00   \n",
       "Галина_Зеленина         1.630959e-11  2.288094e-07  0.000000  0.000000e+00   \n",
       "Ирина_Левонтина         0.000000e+00  0.000000e+00  0.000000  0.000000e+00   \n",
       "Алексей_Малашенко       0.000000e+00  0.000000e+00  0.000000  0.000000e+00   \n",
       "Дэвид_Кларк             0.000000e+00  0.000000e+00  0.000000  0.000000e+00   \n",
       "Михаил_Полуэктов        0.000000e+00  0.000000e+00  0.000000  0.000000e+00   \n",
       "Алексей_Москалев        0.000000e+00  0.000000e+00  0.000000  0.000000e+00   \n",
       "Екатерина_Болтунова     0.000000e+00  0.000000e+00  0.000000  0.000000e+00   \n",
       "Юрий_Рогулёв            0.000000e+00  0.000000e+00  0.000000  0.000000e+00   \n",
       "Антон_Чугунов           0.000000e+00  0.000000e+00  0.000000  0.000000e+00   \n",
       "Александр_Мещеряков     0.000000e+00  0.000000e+00  0.000000  0.000000e+00   \n",
       "Алексей_Котов           0.000000e+00  0.000000e+00  1.000000  0.000000e+00   \n",
       "Георгий_Старостин       0.000000e+00  0.000000e+00  0.000000  0.000000e+00   \n",
       "Илья_Виньковецкий       0.000000e+00  1.000000e+00  0.000000  0.000000e+00   \n",
       "Кирилл_Кожанов          0.000000e+00  0.000000e+00  0.000000  0.000000e+00   \n",
       "Сергей_Таскаев          0.000000e+00  0.000000e+00  0.000000  0.000000e+00   \n",
       "Сергей_Нечаев           0.000000e+00  0.000000e+00  0.000000  0.000000e+00   \n",
       "Кристофер_Карр          0.000000e+00  0.000000e+00  0.000006  0.000000e+00   \n",
       "Валерий_Рязанов         0.000000e+00  0.000000e+00  0.000000  0.000000e+00   \n",
       "Дмитрий_Дождев          0.000000e+00  0.000000e+00  0.000000  0.000000e+00   \n",
       "Илья_Кукулин            0.000000e+00  6.672643e-01  0.000000  0.000000e+00   \n",
       "Анна_Рогожина           0.000000e+00  0.000000e+00  0.000000  0.000000e+00   \n",
       "Марина_Корсакова-Крейн  0.000000e+00  0.000000e+00  0.000000  0.000000e+00   \n",
       "Андрей_Иванцов          0.000000e+00  0.000000e+00  0.000000  0.000000e+00   \n",
       "Дэвид_С._Джонс          0.000000e+00  0.000000e+00  0.000000  0.000000e+00   \n",
       "...                              ...           ...       ...           ...   \n",
       "Пётр_Образцов           0.000000e+00  0.000000e+00  0.000000  0.000000e+00   \n",
       "Эдуард_Боос             0.000000e+00  0.000000e+00  0.000000  0.000000e+00   \n",
       "Дмитрий_Казанцев        0.000000e+00  0.000000e+00  0.000000  0.000000e+00   \n",
       "Александр_Шень          0.000000e+00  0.000000e+00  0.000000  0.000000e+00   \n",
       "Александр_Каплан        0.000000e+00  0.000000e+00  0.000000  0.000000e+00   \n",
       "Дмитрий_Гитман          0.000000e+00  0.000000e+00  0.000000  0.000000e+00   \n",
       "Андрей_Головин          0.000000e+00  0.000000e+00  0.000000  0.000000e+00   \n",
       "Павел_Уваров            1.516871e-11  4.256526e-11  0.000000  0.000000e+00   \n",
       "Петр_Федичев            0.000000e+00  0.000000e+00  0.000000  0.000000e+00   \n",
       "Алексей_Витухновский    0.000000e+00  0.000000e+00  0.000000  0.000000e+00   \n",
       "Сергей_Серёгичев        0.000000e+00  1.438750e-04  0.000000  0.000000e+00   \n",
       "Архат_Абжанов           0.000000e+00  0.000000e+00  0.000000  0.000000e+00   \n",
       "Виктор_Задков           0.000000e+00  0.000000e+00  0.000000  0.000000e+00   \n",
       "Алексей_Расторгуев      0.000000e+00  0.000000e+00  0.000000  0.000000e+00   \n",
       "Александр_Марков        0.000000e+00  0.000000e+00  0.000000  0.000000e+00   \n",
       "Сергей_Неклюдов         0.000000e+00  0.000000e+00  0.000000  1.596039e-08   \n",
       "Евгений_Магид           0.000000e+00  9.806971e-15  0.000000  0.000000e+00   \n",
       "Андрей_Кибрик           0.000000e+00  0.000000e+00  0.000000  0.000000e+00   \n",
       "Михаил_Маяцкий          1.885463e-01  0.000000e+00  0.000000  0.000000e+00   \n",
       "Мария_Неклюдова         2.162241e-01  0.000000e+00  0.000000  0.000000e+00   \n",
       "Дмитрий_Вибе            0.000000e+00  0.000000e+00  0.000000  0.000000e+00   \n",
       "Михаил_Ревнивцев        0.000000e+00  0.000000e+00  0.000000  0.000000e+00   \n",
       "Виктор_Авдеев           0.000000e+00  0.000000e+00  0.000000  0.000000e+00   \n",
       "Илья_Шкредов            0.000000e+00  0.000000e+00  0.000000  0.000000e+00   \n",
       "Светлана_Боринская      0.000000e+00  0.000000e+00  0.000000  0.000000e+00   \n",
       "Елена_Уханова           0.000000e+00  0.000000e+00  0.000000  0.000000e+00   \n",
       "Алексей_Миллер          9.983820e-01  2.295433e-10  0.000000  0.000000e+00   \n",
       "Владимир_Плунгян        0.000000e+00  0.000000e+00  0.000000  4.335338e-12   \n",
       "Николай_Дронин          0.000000e+00  0.000000e+00  0.000000  0.000000e+00   \n",
       "Виктор_Цетлин           0.000000e+00  0.000000e+00  0.000000  0.000000e+00   \n",
       "\n",
       "                              смерть    социальный   температура  \\\n",
       "Дэвид_Гросс             0.000000e+00  0.000000e+00  0.000000e+00   \n",
       "Павел_Степанцов         0.000000e+00  0.000000e+00  0.000000e+00   \n",
       "Ирина_Каспэ             0.000000e+00  0.000000e+00  0.000000e+00   \n",
       "Александр_Беленький     0.000000e+00  0.000000e+00  0.000000e+00   \n",
       "Татьяна_Гусарова        0.000000e+00  0.000000e+00  0.000000e+00   \n",
       "Андрей_Коротаев         0.000000e+00  0.000000e+00  0.000000e+00   \n",
       "Галина_Зеленина         0.000000e+00  0.000000e+00  0.000000e+00   \n",
       "Ирина_Левонтина         0.000000e+00  0.000000e+00  0.000000e+00   \n",
       "Алексей_Малашенко       0.000000e+00  0.000000e+00  0.000000e+00   \n",
       "Дэвид_Кларк             0.000000e+00  0.000000e+00  0.000000e+00   \n",
       "Михаил_Полуэктов        0.000000e+00  0.000000e+00  0.000000e+00   \n",
       "Алексей_Москалев        0.000000e+00  0.000000e+00  0.000000e+00   \n",
       "Екатерина_Болтунова     0.000000e+00  0.000000e+00  0.000000e+00   \n",
       "Юрий_Рогулёв            0.000000e+00  0.000000e+00  0.000000e+00   \n",
       "Антон_Чугунов           0.000000e+00  0.000000e+00  0.000000e+00   \n",
       "Александр_Мещеряков     0.000000e+00  0.000000e+00  0.000000e+00   \n",
       "Алексей_Котов           0.000000e+00  0.000000e+00  0.000000e+00   \n",
       "Георгий_Старостин       0.000000e+00  0.000000e+00  0.000000e+00   \n",
       "Илья_Виньковецкий       0.000000e+00  0.000000e+00  0.000000e+00   \n",
       "Кирилл_Кожанов          0.000000e+00  0.000000e+00  0.000000e+00   \n",
       "Сергей_Таскаев          0.000000e+00  0.000000e+00  0.000000e+00   \n",
       "Сергей_Нечаев           0.000000e+00  0.000000e+00  0.000000e+00   \n",
       "Кристофер_Карр          0.000000e+00  9.999915e-01  2.508737e-12   \n",
       "Валерий_Рязанов         0.000000e+00  0.000000e+00  9.999991e-01   \n",
       "Дмитрий_Дождев          0.000000e+00  0.000000e+00  0.000000e+00   \n",
       "Илья_Кукулин            1.243420e-12  0.000000e+00  0.000000e+00   \n",
       "Анна_Рогожина           0.000000e+00  0.000000e+00  0.000000e+00   \n",
       "Марина_Корсакова-Крейн  0.000000e+00  0.000000e+00  0.000000e+00   \n",
       "Андрей_Иванцов          0.000000e+00  0.000000e+00  0.000000e+00   \n",
       "Дэвид_С._Джонс          0.000000e+00  0.000000e+00  0.000000e+00   \n",
       "...                              ...           ...           ...   \n",
       "Пётр_Образцов           0.000000e+00  0.000000e+00  0.000000e+00   \n",
       "Эдуард_Боос             0.000000e+00  0.000000e+00  0.000000e+00   \n",
       "Дмитрий_Казанцев        0.000000e+00  0.000000e+00  0.000000e+00   \n",
       "Александр_Шень          0.000000e+00  0.000000e+00  0.000000e+00   \n",
       "Александр_Каплан        0.000000e+00  0.000000e+00  0.000000e+00   \n",
       "Дмитрий_Гитман          0.000000e+00  0.000000e+00  0.000000e+00   \n",
       "Андрей_Головин          0.000000e+00  0.000000e+00  0.000000e+00   \n",
       "Павел_Уваров            0.000000e+00  0.000000e+00  1.340980e-07   \n",
       "Петр_Федичев            0.000000e+00  0.000000e+00  5.883560e-13   \n",
       "Алексей_Витухновский    0.000000e+00  0.000000e+00  0.000000e+00   \n",
       "Сергей_Серёгичев        1.382507e-12  0.000000e+00  0.000000e+00   \n",
       "Архат_Абжанов           0.000000e+00  0.000000e+00  0.000000e+00   \n",
       "Виктор_Задков           0.000000e+00  0.000000e+00  0.000000e+00   \n",
       "Алексей_Расторгуев      0.000000e+00  0.000000e+00  0.000000e+00   \n",
       "Александр_Марков        0.000000e+00  0.000000e+00  0.000000e+00   \n",
       "Сергей_Неклюдов         1.662841e-06  3.203774e-09  0.000000e+00   \n",
       "Евгений_Магид           0.000000e+00  0.000000e+00  0.000000e+00   \n",
       "Андрей_Кибрик           0.000000e+00  0.000000e+00  0.000000e+00   \n",
       "Михаил_Маяцкий          1.756544e-01  0.000000e+00  0.000000e+00   \n",
       "Мария_Неклюдова         0.000000e+00  0.000000e+00  0.000000e+00   \n",
       "Дмитрий_Вибе            0.000000e+00  0.000000e+00  0.000000e+00   \n",
       "Михаил_Ревнивцев        0.000000e+00  0.000000e+00  0.000000e+00   \n",
       "Виктор_Авдеев           0.000000e+00  0.000000e+00  0.000000e+00   \n",
       "Илья_Шкредов            0.000000e+00  0.000000e+00  1.000000e+00   \n",
       "Светлана_Боринская      0.000000e+00  0.000000e+00  0.000000e+00   \n",
       "Елена_Уханова           0.000000e+00  0.000000e+00  0.000000e+00   \n",
       "Алексей_Миллер          0.000000e+00  0.000000e+00  0.000000e+00   \n",
       "Владимир_Плунгян        0.000000e+00  0.000000e+00  0.000000e+00   \n",
       "Николай_Дронин          0.000000e+00  0.000000e+00  0.000000e+00   \n",
       "Виктор_Цетлин           0.000000e+00  0.000000e+00  0.000000e+00   \n",
       "\n",
       "                          территория       частица  экономический  \n",
       "Дэвид_Гросс             0.000000e+00  1.000000e+00   0.000000e+00  \n",
       "Павел_Степанцов         0.000000e+00  0.000000e+00   0.000000e+00  \n",
       "Ирина_Каспэ             0.000000e+00  0.000000e+00   0.000000e+00  \n",
       "Александр_Беленький     0.000000e+00  0.000000e+00   0.000000e+00  \n",
       "Татьяна_Гусарова        0.000000e+00  0.000000e+00   0.000000e+00  \n",
       "Андрей_Коротаев         0.000000e+00  0.000000e+00   0.000000e+00  \n",
       "Галина_Зеленина         0.000000e+00  0.000000e+00   0.000000e+00  \n",
       "Ирина_Левонтина         0.000000e+00  0.000000e+00   0.000000e+00  \n",
       "Алексей_Малашенко       4.760834e-05  0.000000e+00   0.000000e+00  \n",
       "Дэвид_Кларк             0.000000e+00  0.000000e+00   0.000000e+00  \n",
       "Михаил_Полуэктов        0.000000e+00  0.000000e+00   0.000000e+00  \n",
       "Алексей_Москалев        0.000000e+00  0.000000e+00   0.000000e+00  \n",
       "Екатерина_Болтунова     0.000000e+00  0.000000e+00   0.000000e+00  \n",
       "Юрий_Рогулёв            0.000000e+00  0.000000e+00   0.000000e+00  \n",
       "Антон_Чугунов           0.000000e+00  0.000000e+00   0.000000e+00  \n",
       "Александр_Мещеряков     0.000000e+00  0.000000e+00   0.000000e+00  \n",
       "Алексей_Котов           0.000000e+00  0.000000e+00   0.000000e+00  \n",
       "Георгий_Старостин       5.876561e-10  0.000000e+00   0.000000e+00  \n",
       "Илья_Виньковецкий       0.000000e+00  0.000000e+00   0.000000e+00  \n",
       "Кирилл_Кожанов          0.000000e+00  0.000000e+00   0.000000e+00  \n",
       "Сергей_Таскаев          0.000000e+00  0.000000e+00   0.000000e+00  \n",
       "Сергей_Нечаев           0.000000e+00  0.000000e+00   0.000000e+00  \n",
       "Кристофер_Карр          0.000000e+00  0.000000e+00   0.000000e+00  \n",
       "Валерий_Рязанов         0.000000e+00  9.245548e-07   0.000000e+00  \n",
       "Дмитрий_Дождев          0.000000e+00  0.000000e+00   0.000000e+00  \n",
       "Илья_Кукулин            0.000000e+00  0.000000e+00   2.731307e-14  \n",
       "Анна_Рогожина           5.594495e-01  0.000000e+00   0.000000e+00  \n",
       "Марина_Корсакова-Крейн  0.000000e+00  1.000000e+00   0.000000e+00  \n",
       "Андрей_Иванцов          0.000000e+00  0.000000e+00   0.000000e+00  \n",
       "Дэвид_С._Джонс          0.000000e+00  0.000000e+00   0.000000e+00  \n",
       "...                              ...           ...            ...  \n",
       "Пётр_Образцов           0.000000e+00  0.000000e+00   0.000000e+00  \n",
       "Эдуард_Боос             0.000000e+00  1.000000e+00   0.000000e+00  \n",
       "Дмитрий_Казанцев        0.000000e+00  0.000000e+00   0.000000e+00  \n",
       "Александр_Шень          0.000000e+00  0.000000e+00   0.000000e+00  \n",
       "Александр_Каплан        0.000000e+00  0.000000e+00   0.000000e+00  \n",
       "Дмитрий_Гитман          0.000000e+00  1.000000e+00   0.000000e+00  \n",
       "Андрей_Головин          0.000000e+00  0.000000e+00   0.000000e+00  \n",
       "Павел_Уваров            0.000000e+00  0.000000e+00   0.000000e+00  \n",
       "Петр_Федичев            0.000000e+00  0.000000e+00   0.000000e+00  \n",
       "Алексей_Витухновский    0.000000e+00  0.000000e+00   0.000000e+00  \n",
       "Сергей_Серёгичев        9.998561e-01  0.000000e+00   0.000000e+00  \n",
       "Архат_Абжанов           0.000000e+00  0.000000e+00   0.000000e+00  \n",
       "Виктор_Задков           0.000000e+00  1.563313e-01   0.000000e+00  \n",
       "Алексей_Расторгуев      0.000000e+00  0.000000e+00   0.000000e+00  \n",
       "Александр_Марков        0.000000e+00  0.000000e+00   0.000000e+00  \n",
       "Сергей_Неклюдов         0.000000e+00  0.000000e+00   0.000000e+00  \n",
       "Евгений_Магид           0.000000e+00  0.000000e+00   0.000000e+00  \n",
       "Андрей_Кибрик           0.000000e+00  0.000000e+00   0.000000e+00  \n",
       "Михаил_Маяцкий          0.000000e+00  0.000000e+00   0.000000e+00  \n",
       "Мария_Неклюдова         0.000000e+00  0.000000e+00   0.000000e+00  \n",
       "Дмитрий_Вибе            0.000000e+00  0.000000e+00   0.000000e+00  \n",
       "Михаил_Ревнивцев        0.000000e+00  0.000000e+00   0.000000e+00  \n",
       "Виктор_Авдеев           0.000000e+00  0.000000e+00   0.000000e+00  \n",
       "Илья_Шкредов            0.000000e+00  0.000000e+00   0.000000e+00  \n",
       "Светлана_Боринская      0.000000e+00  0.000000e+00   0.000000e+00  \n",
       "Елена_Уханова           0.000000e+00  0.000000e+00   0.000000e+00  \n",
       "Алексей_Миллер          3.605661e-05  0.000000e+00   0.000000e+00  \n",
       "Владимир_Плунгян        0.000000e+00  0.000000e+00   0.000000e+00  \n",
       "Николай_Дронин          0.000000e+00  0.000000e+00   0.000000e+00  \n",
       "Виктор_Цетлин           0.000000e+00  0.000000e+00   0.000000e+00  \n",
       "\n",
       "[539 rows x 30 columns]"
      ]
     },
     "execution_count": 45,
     "metadata": {},
     "output_type": "execute_result"
    }
   ],
   "source": [
    "A_profiles"
   ]
  },
  {
   "cell_type": "code",
   "execution_count": 43,
   "metadata": {},
   "outputs": [],
   "source": [
    "# Ваш код\n",
    "estimator=MDS(n_components=2,dissimilarity='precomputed')\n",
    "data=estimator.fit_transform(pairwise_distances(A_profiles,metric='cosine'))"
   ]
  },
  {
   "cell_type": "code",
   "execution_count": 44,
   "metadata": {},
   "outputs": [
    {
     "name": "stdout",
     "output_type": "stream",
     "text": [
      "Using matplotlib backend: TkAgg\n",
      "Populating the interactive namespace from numpy and matplotlib\n"
     ]
    },
    {
     "data": {
      "image/png": "[encoded data removed]",
      "text/plain": [
       "<Figure size 2160x2160 with 1 Axes>"
      ]
     },
     "metadata": {
      "needs_background": "light"
     },
     "output_type": "display_data"
    }
   ],
   "source": [
    "%pylab\n",
    "figsize(30,30)\n",
    "scatter(data[:,0],data[:,1])\n",
    "show()"
   ]
  },
  {
   "cell_type": "code",
   "execution_count": null,
   "metadata": {},
   "outputs": [],
   "source": []
  },
  {
   "cell_type": "markdown",
   "metadata": {},
   "source": [
    "Должно получиться, что некоторые грппы авторов формируют сгустки, которые можно считать тематическими группами авторов.\n",
    "\n",
    "Раскрасим точки следующим образом: для каждого автора выберем наиболее вероятную для него тему ($\\max_t p(t|a)$), и каждой теме сопоставим цвет. Кроме того, добавим на карту имена и фамилии авторов, это можно сделать в цикле по всем точкам с помощью функции plt.annotate, указывая метку точки первым аргументом и ее координаты в аргументе xy. Рекомендуется сделать размер изображения большим, тогда маркеры точек тоже придется увеличить (s=100 в plt.scatter). Изобразите карту авторов и сохраните в pdf-файл с помощью функции plt.savefig. \n",
    "\n",
    "Метки авторов будут пересекаться. Будет очень хорошо, если вы найдете способ, как этого можно избежать."
   ]
  },
  {
   "cell_type": "code",
   "execution_count": 46,
   "metadata": {},
   "outputs": [
    {
     "name": "stderr",
     "output_type": "stream",
     "text": [
      "/Users/artem/miniconda3/envs/bigartm/lib/python3.5/site-packages/ipykernel_launcher.py:5: FutureWarning: 'argmax' is deprecated, use 'idxmax' instead. The behavior of 'argmax'\n",
      "will be corrected to return the positional maximum in the future.\n",
      "Use 'series.values.argmax' to get the position of the maximum now.\n",
      "  \"\"\"\n"
     ]
    },
    {
     "data": {
      "image/png": "[encoded data removed]",
      "text/plain": [
       "<Figure size 2160x2160 with 1 Axes>"
      ]
     },
     "metadata": {
      "needs_background": "light"
     },
     "output_type": "display_data"
    }
   ],
   "source": [
    "import matplotlib.cm as cm\n",
    "colors = cm.rainbow(np.linspace(0, 1, len(T)))\n",
    "phi_a.index=[ind for ind,val in enumerate(phi_a.index)]\n",
    "phi_a.columns=[ind for ind,val in enumerate(phi_a.columns)]\n",
    "nearest = np.array(phi_a.apply(lambda x: x.argmax(),axis=1))\n",
    "plt.figure(figsize=(30,30))\n",
    "plt.axis('off')\n",
    "scatter(data[:,0],data[:,1],s=100, c=colors[nearest])\n",
    "for i, author in enumerate(P_a.index):\n",
    "        plt.annotate(author, data[i])\n",
    "plt.savefig(r'''D:\\Coursera_ML\\HA 3.4\\authors_map.pdf''', dpi=200, format='pdf')\n",
    "plt.show();"
   ]
  },
  {
   "cell_type": "code",
   "execution_count": null,
   "metadata": {},
   "outputs": [],
   "source": []
  },
  {
   "cell_type": "markdown",
   "metadata": {},
   "source": [
    "##### Создание простого тематического навигатора по Постнауке"
   ]
  },
  {
   "cell_type": "markdown",
   "metadata": {},
   "source": [
    "Наш тематический навигатор будет для каждой темы показывать ее список слов, а также список релевантных теме документов. \n",
    "\n",
    "Нам понадобятся распределения $p(d|t)$. По формуле Байеса $p(d|t) = \\frac{p(t|d)p(d)}{\\sum_{d'}p(t|d')p(d')}$, но поскольку мы считаем документы равновероятными, достаточно разделить каждую строку $\\Theta$ на ее сумму, чтобы оценить распределение. \n",
    "\n",
    "Отсортируйте матрицу $p(d|t)$ по убыванию $p(d|t)$ в каждой теме (то есть построчно). Нам понадобятся индексы наиболее вероятных документов в каждой теме, поэтому используйте функцию argmax."
   ]
  },
  {
   "cell_type": "code",
   "execution_count": 301,
   "metadata": {},
   "outputs": [
    {
     "name": "stderr",
     "output_type": "stream",
     "text": [
      "C:\\ProgramData\\Anaconda2\\lib\\site-packages\\ipykernel_launcher.py:4: FutureWarning: 'argmax' is deprecated, use 'idxmax' instead. The behavior of 'argmax'\n",
      "will be corrected to return the positional maximum in the future.\n",
      "Use 'series.values.argmax' to get the position of the maximum now.\n",
      "  after removing the cwd from sys.path.\n"
     ]
    },
    {
     "data": {
      "text/html": [
       "<div>\n",
       "<style scoped>\n",
       "    .dataframe tbody tr th:only-of-type {\n",
       "        vertical-align: middle;\n",
       "    }\n",
       "\n",
       "    .dataframe tbody tr th {\n",
       "        vertical-align: top;\n",
       "    }\n",
       "\n",
       "    .dataframe thead th {\n",
       "        text-align: right;\n",
       "    }\n",
       "</style>\n",
       "<table border=\"1\" class=\"dataframe\">\n",
       "  <thead>\n",
       "    <tr style=\"text-align: right;\">\n",
       "      <th></th>\n",
       "      <th>http://postnauka.ru/video/22977</th>\n",
       "      <th>http://postnauka.ru/video/22978</th>\n",
       "      <th>http://postnauka.ru/video/23077</th>\n",
       "      <th>http://postnauka.ru/video/23079</th>\n",
       "      <th>http://postnauka.ru/video/23111</th>\n",
       "      <th>http://postnauka.ru/video/23161</th>\n",
       "      <th>http://postnauka.ru/video/23163</th>\n",
       "      <th>http://postnauka.ru/video/23172</th>\n",
       "      <th>http://postnauka.ru/video/23233</th>\n",
       "      <th>http://postnauka.ru/video/23253</th>\n",
       "      <th>...</th>\n",
       "      <th>http://postnauka.ru/video/9874</th>\n",
       "      <th>http://postnauka.ru/video/9876</th>\n",
       "      <th>http://postnauka.ru/video/9968</th>\n",
       "      <th>http://postnauka.ru/video/9992</th>\n",
       "      <th>http://postnauka.ru/video/9993</th>\n",
       "      <th>http://postnauka.ru/video/9994</th>\n",
       "      <th>http://postnauka.ru/video/9995</th>\n",
       "      <th>http://postnauka.ru/video/9996</th>\n",
       "      <th>http://postnauka.ru/video/9997</th>\n",
       "      <th>http://postnauka.ru/video/9998</th>\n",
       "    </tr>\n",
       "  </thead>\n",
       "  <tbody>\n",
       "    <tr>\n",
       "      <th>власть</th>\n",
       "      <td>5.431673e-10</td>\n",
       "      <td>5.918203e-15</td>\n",
       "      <td>0.000000e+00</td>\n",
       "      <td>0.000000e+00</td>\n",
       "      <td>4.441254e-10</td>\n",
       "      <td>0.007970</td>\n",
       "      <td>0.000000e+00</td>\n",
       "      <td>0.000000e+00</td>\n",
       "      <td>6.525259e-02</td>\n",
       "      <td>0.000000e+00</td>\n",
       "      <td>...</td>\n",
       "      <td>0.000000e+00</td>\n",
       "      <td>0.000000e+00</td>\n",
       "      <td>0.284355</td>\n",
       "      <td>2.797549e-03</td>\n",
       "      <td>1.596833e-14</td>\n",
       "      <td>0.000000e+00</td>\n",
       "      <td>2.866584e-04</td>\n",
       "      <td>0.000000e+00</td>\n",
       "      <td>0.000000e+00</td>\n",
       "      <td>0.000000e+00</td>\n",
       "    </tr>\n",
       "    <tr>\n",
       "      <th>земля</th>\n",
       "      <td>4.027652e-02</td>\n",
       "      <td>5.388455e-03</td>\n",
       "      <td>7.437693e-03</td>\n",
       "      <td>0.000000e+00</td>\n",
       "      <td>9.353401e-02</td>\n",
       "      <td>0.000000</td>\n",
       "      <td>0.000000e+00</td>\n",
       "      <td>1.555192e-02</td>\n",
       "      <td>0.000000e+00</td>\n",
       "      <td>9.751944e-11</td>\n",
       "      <td>...</td>\n",
       "      <td>0.000000e+00</td>\n",
       "      <td>0.000000e+00</td>\n",
       "      <td>0.000000</td>\n",
       "      <td>0.000000e+00</td>\n",
       "      <td>3.959622e-03</td>\n",
       "      <td>6.229646e-04</td>\n",
       "      <td>3.186119e-02</td>\n",
       "      <td>0.000000e+00</td>\n",
       "      <td>0.000000e+00</td>\n",
       "      <td>0.000000e+00</td>\n",
       "    </tr>\n",
       "    <tr>\n",
       "      <th>система</th>\n",
       "      <td>5.746120e-03</td>\n",
       "      <td>1.086957e-02</td>\n",
       "      <td>0.000000e+00</td>\n",
       "      <td>1.023363e-10</td>\n",
       "      <td>6.172844e-03</td>\n",
       "      <td>0.008572</td>\n",
       "      <td>6.217738e-03</td>\n",
       "      <td>0.000000e+00</td>\n",
       "      <td>2.456987e-06</td>\n",
       "      <td>4.329650e-02</td>\n",
       "      <td>...</td>\n",
       "      <td>0.000000e+00</td>\n",
       "      <td>0.000000e+00</td>\n",
       "      <td>0.000000</td>\n",
       "      <td>0.000000e+00</td>\n",
       "      <td>1.489848e-02</td>\n",
       "      <td>0.000000e+00</td>\n",
       "      <td>0.000000e+00</td>\n",
       "      <td>0.000000e+00</td>\n",
       "      <td>0.000000e+00</td>\n",
       "      <td>0.000000e+00</td>\n",
       "    </tr>\n",
       "    <tr>\n",
       "      <th>культура</th>\n",
       "      <td>0.000000e+00</td>\n",
       "      <td>0.000000e+00</td>\n",
       "      <td>1.557914e-02</td>\n",
       "      <td>2.459800e-02</td>\n",
       "      <td>6.526163e-03</td>\n",
       "      <td>0.033337</td>\n",
       "      <td>6.306738e-02</td>\n",
       "      <td>2.608778e-16</td>\n",
       "      <td>4.560326e-02</td>\n",
       "      <td>0.000000e+00</td>\n",
       "      <td>...</td>\n",
       "      <td>2.042357e-01</td>\n",
       "      <td>0.000000e+00</td>\n",
       "      <td>0.000000</td>\n",
       "      <td>0.000000e+00</td>\n",
       "      <td>2.245317e-11</td>\n",
       "      <td>6.366605e-02</td>\n",
       "      <td>5.509054e-03</td>\n",
       "      <td>0.000000e+00</td>\n",
       "      <td>5.317041e-02</td>\n",
       "      <td>2.444534e-02</td>\n",
       "    </tr>\n",
       "    <tr>\n",
       "      <th>право</th>\n",
       "      <td>5.732441e-03</td>\n",
       "      <td>1.447152e-03</td>\n",
       "      <td>0.000000e+00</td>\n",
       "      <td>1.408451e-02</td>\n",
       "      <td>0.000000e+00</td>\n",
       "      <td>0.010087</td>\n",
       "      <td>0.000000e+00</td>\n",
       "      <td>0.000000e+00</td>\n",
       "      <td>0.000000e+00</td>\n",
       "      <td>2.993898e-14</td>\n",
       "      <td>...</td>\n",
       "      <td>0.000000e+00</td>\n",
       "      <td>0.000000e+00</td>\n",
       "      <td>0.064516</td>\n",
       "      <td>4.765081e-02</td>\n",
       "      <td>0.000000e+00</td>\n",
       "      <td>0.000000e+00</td>\n",
       "      <td>0.000000e+00</td>\n",
       "      <td>0.000000e+00</td>\n",
       "      <td>0.000000e+00</td>\n",
       "      <td>0.000000e+00</td>\n",
       "    </tr>\n",
       "    <tr>\n",
       "      <th>материал</th>\n",
       "      <td>2.047363e-02</td>\n",
       "      <td>0.000000e+00</td>\n",
       "      <td>0.000000e+00</td>\n",
       "      <td>0.000000e+00</td>\n",
       "      <td>2.452939e-02</td>\n",
       "      <td>0.000000</td>\n",
       "      <td>0.000000e+00</td>\n",
       "      <td>0.000000e+00</td>\n",
       "      <td>4.508641e-08</td>\n",
       "      <td>3.357279e-02</td>\n",
       "      <td>...</td>\n",
       "      <td>0.000000e+00</td>\n",
       "      <td>0.000000e+00</td>\n",
       "      <td>0.000000</td>\n",
       "      <td>0.000000e+00</td>\n",
       "      <td>8.057186e-03</td>\n",
       "      <td>4.276472e-02</td>\n",
       "      <td>0.000000e+00</td>\n",
       "      <td>3.020347e-02</td>\n",
       "      <td>0.000000e+00</td>\n",
       "      <td>1.030730e-16</td>\n",
       "    </tr>\n",
       "    <tr>\n",
       "      <th>книга</th>\n",
       "      <td>2.518962e-15</td>\n",
       "      <td>0.000000e+00</td>\n",
       "      <td>0.000000e+00</td>\n",
       "      <td>6.660479e-07</td>\n",
       "      <td>0.000000e+00</td>\n",
       "      <td>0.063133</td>\n",
       "      <td>2.103634e-02</td>\n",
       "      <td>2.208692e-02</td>\n",
       "      <td>1.494455e-02</td>\n",
       "      <td>0.000000e+00</td>\n",
       "      <td>...</td>\n",
       "      <td>3.030303e-02</td>\n",
       "      <td>0.000000e+00</td>\n",
       "      <td>0.000000</td>\n",
       "      <td>0.000000e+00</td>\n",
       "      <td>0.000000e+00</td>\n",
       "      <td>0.000000e+00</td>\n",
       "      <td>1.374547e-02</td>\n",
       "      <td>0.000000e+00</td>\n",
       "      <td>0.000000e+00</td>\n",
       "      <td>0.000000e+00</td>\n",
       "    </tr>\n",
       "    <tr>\n",
       "      <th>смерть</th>\n",
       "      <td>6.060480e-03</td>\n",
       "      <td>1.430158e-02</td>\n",
       "      <td>9.450706e-03</td>\n",
       "      <td>0.000000e+00</td>\n",
       "      <td>3.142832e-13</td>\n",
       "      <td>0.000000</td>\n",
       "      <td>4.624790e-07</td>\n",
       "      <td>0.000000e+00</td>\n",
       "      <td>0.000000e+00</td>\n",
       "      <td>0.000000e+00</td>\n",
       "      <td>...</td>\n",
       "      <td>0.000000e+00</td>\n",
       "      <td>0.000000e+00</td>\n",
       "      <td>0.000000</td>\n",
       "      <td>0.000000e+00</td>\n",
       "      <td>5.310018e-12</td>\n",
       "      <td>0.000000e+00</td>\n",
       "      <td>2.070411e-09</td>\n",
       "      <td>0.000000e+00</td>\n",
       "      <td>3.784686e-14</td>\n",
       "      <td>0.000000e+00</td>\n",
       "    </tr>\n",
       "    <tr>\n",
       "      <th>метод</th>\n",
       "      <td>0.000000e+00</td>\n",
       "      <td>1.470210e-14</td>\n",
       "      <td>1.848401e-02</td>\n",
       "      <td>0.000000e+00</td>\n",
       "      <td>1.490801e-02</td>\n",
       "      <td>0.009559</td>\n",
       "      <td>0.000000e+00</td>\n",
       "      <td>3.550430e-03</td>\n",
       "      <td>0.000000e+00</td>\n",
       "      <td>2.607492e-01</td>\n",
       "      <td>...</td>\n",
       "      <td>0.000000e+00</td>\n",
       "      <td>3.124997e-02</td>\n",
       "      <td>0.000000</td>\n",
       "      <td>0.000000e+00</td>\n",
       "      <td>1.096682e-01</td>\n",
       "      <td>1.507836e-01</td>\n",
       "      <td>5.310500e-03</td>\n",
       "      <td>8.523703e-02</td>\n",
       "      <td>0.000000e+00</td>\n",
       "      <td>3.337523e-02</td>\n",
       "    </tr>\n",
       "    <tr>\n",
       "      <th>частица</th>\n",
       "      <td>1.190365e-02</td>\n",
       "      <td>0.000000e+00</td>\n",
       "      <td>7.747017e-03</td>\n",
       "      <td>4.378259e-05</td>\n",
       "      <td>1.183475e-10</td>\n",
       "      <td>0.005394</td>\n",
       "      <td>0.000000e+00</td>\n",
       "      <td>6.384521e-02</td>\n",
       "      <td>0.000000e+00</td>\n",
       "      <td>5.827196e-02</td>\n",
       "      <td>...</td>\n",
       "      <td>5.221424e-02</td>\n",
       "      <td>0.000000e+00</td>\n",
       "      <td>0.000000</td>\n",
       "      <td>0.000000e+00</td>\n",
       "      <td>6.357938e-03</td>\n",
       "      <td>5.418323e-12</td>\n",
       "      <td>0.000000e+00</td>\n",
       "      <td>0.000000e+00</td>\n",
       "      <td>0.000000e+00</td>\n",
       "      <td>2.190773e-05</td>\n",
       "    </tr>\n",
       "    <tr>\n",
       "      <th>россия</th>\n",
       "      <td>1.545320e-02</td>\n",
       "      <td>4.422552e-02</td>\n",
       "      <td>1.026848e-02</td>\n",
       "      <td>0.000000e+00</td>\n",
       "      <td>7.869824e-03</td>\n",
       "      <td>0.213226</td>\n",
       "      <td>5.843522e-03</td>\n",
       "      <td>3.328550e-06</td>\n",
       "      <td>0.000000e+00</td>\n",
       "      <td>4.078158e-03</td>\n",
       "      <td>...</td>\n",
       "      <td>3.029035e-02</td>\n",
       "      <td>0.000000e+00</td>\n",
       "      <td>0.000000</td>\n",
       "      <td>2.092607e-14</td>\n",
       "      <td>0.000000e+00</td>\n",
       "      <td>0.000000e+00</td>\n",
       "      <td>1.980227e-06</td>\n",
       "      <td>3.030303e-02</td>\n",
       "      <td>2.777778e-02</td>\n",
       "      <td>0.000000e+00</td>\n",
       "    </tr>\n",
       "    <tr>\n",
       "      <th>ребенок</th>\n",
       "      <td>0.000000e+00</td>\n",
       "      <td>0.000000e+00</td>\n",
       "      <td>5.813397e-04</td>\n",
       "      <td>0.000000e+00</td>\n",
       "      <td>0.000000e+00</td>\n",
       "      <td>0.000000</td>\n",
       "      <td>4.250330e-11</td>\n",
       "      <td>1.072219e-02</td>\n",
       "      <td>0.000000e+00</td>\n",
       "      <td>0.000000e+00</td>\n",
       "      <td>...</td>\n",
       "      <td>0.000000e+00</td>\n",
       "      <td>0.000000e+00</td>\n",
       "      <td>0.000000</td>\n",
       "      <td>0.000000e+00</td>\n",
       "      <td>0.000000e+00</td>\n",
       "      <td>0.000000e+00</td>\n",
       "      <td>1.148569e-01</td>\n",
       "      <td>0.000000e+00</td>\n",
       "      <td>0.000000e+00</td>\n",
       "      <td>0.000000e+00</td>\n",
       "    </tr>\n",
       "    <tr>\n",
       "      <th>растение</th>\n",
       "      <td>0.000000e+00</td>\n",
       "      <td>0.000000e+00</td>\n",
       "      <td>0.000000e+00</td>\n",
       "      <td>0.000000e+00</td>\n",
       "      <td>1.472700e-01</td>\n",
       "      <td>0.000000</td>\n",
       "      <td>0.000000e+00</td>\n",
       "      <td>2.232051e-01</td>\n",
       "      <td>0.000000e+00</td>\n",
       "      <td>0.000000e+00</td>\n",
       "      <td>...</td>\n",
       "      <td>0.000000e+00</td>\n",
       "      <td>0.000000e+00</td>\n",
       "      <td>0.000000</td>\n",
       "      <td>8.787888e-02</td>\n",
       "      <td>4.187096e-07</td>\n",
       "      <td>0.000000e+00</td>\n",
       "      <td>2.355224e-02</td>\n",
       "      <td>1.146217e-08</td>\n",
       "      <td>0.000000e+00</td>\n",
       "      <td>0.000000e+00</td>\n",
       "    </tr>\n",
       "    <tr>\n",
       "      <th>территория</th>\n",
       "      <td>0.000000e+00</td>\n",
       "      <td>1.462065e-01</td>\n",
       "      <td>9.746140e-02</td>\n",
       "      <td>1.400453e-02</td>\n",
       "      <td>2.218145e-03</td>\n",
       "      <td>0.026474</td>\n",
       "      <td>6.765817e-03</td>\n",
       "      <td>9.205291e-03</td>\n",
       "      <td>6.846298e-15</td>\n",
       "      <td>0.000000e+00</td>\n",
       "      <td>...</td>\n",
       "      <td>0.000000e+00</td>\n",
       "      <td>3.894528e-09</td>\n",
       "      <td>0.000000</td>\n",
       "      <td>7.810888e-02</td>\n",
       "      <td>7.706982e-03</td>\n",
       "      <td>0.000000e+00</td>\n",
       "      <td>0.000000e+00</td>\n",
       "      <td>0.000000e+00</td>\n",
       "      <td>0.000000e+00</td>\n",
       "      <td>0.000000e+00</td>\n",
       "    </tr>\n",
       "    <tr>\n",
       "      <th>звезда</th>\n",
       "      <td>1.955178e-01</td>\n",
       "      <td>0.000000e+00</td>\n",
       "      <td>3.492740e-06</td>\n",
       "      <td>0.000000e+00</td>\n",
       "      <td>7.984537e-06</td>\n",
       "      <td>0.000000</td>\n",
       "      <td>0.000000e+00</td>\n",
       "      <td>3.208102e-02</td>\n",
       "      <td>0.000000e+00</td>\n",
       "      <td>3.323857e-02</td>\n",
       "      <td>...</td>\n",
       "      <td>7.812729e-04</td>\n",
       "      <td>5.309089e-03</td>\n",
       "      <td>0.000000</td>\n",
       "      <td>0.000000e+00</td>\n",
       "      <td>1.291435e-02</td>\n",
       "      <td>0.000000e+00</td>\n",
       "      <td>3.006709e-02</td>\n",
       "      <td>1.812628e-01</td>\n",
       "      <td>0.000000e+00</td>\n",
       "      <td>2.678730e-02</td>\n",
       "    </tr>\n",
       "    <tr>\n",
       "      <th>задача</th>\n",
       "      <td>6.353676e-03</td>\n",
       "      <td>2.538082e-02</td>\n",
       "      <td>4.342258e-02</td>\n",
       "      <td>1.189474e-01</td>\n",
       "      <td>0.000000e+00</td>\n",
       "      <td>0.000000</td>\n",
       "      <td>1.494903e-02</td>\n",
       "      <td>1.397937e-03</td>\n",
       "      <td>6.338736e-02</td>\n",
       "      <td>0.000000e+00</td>\n",
       "      <td>...</td>\n",
       "      <td>2.427179e-02</td>\n",
       "      <td>0.000000e+00</td>\n",
       "      <td>0.000000</td>\n",
       "      <td>0.000000e+00</td>\n",
       "      <td>2.191962e-02</td>\n",
       "      <td>0.000000e+00</td>\n",
       "      <td>2.928926e-02</td>\n",
       "      <td>0.000000e+00</td>\n",
       "      <td>0.000000e+00</td>\n",
       "      <td>2.631579e-02</td>\n",
       "    </tr>\n",
       "    <tr>\n",
       "      <th>раса</th>\n",
       "      <td>0.000000e+00</td>\n",
       "      <td>0.000000e+00</td>\n",
       "      <td>1.013985e-02</td>\n",
       "      <td>0.000000e+00</td>\n",
       "      <td>7.303067e-03</td>\n",
       "      <td>0.000000</td>\n",
       "      <td>7.621563e-03</td>\n",
       "      <td>0.000000e+00</td>\n",
       "      <td>0.000000e+00</td>\n",
       "      <td>0.000000e+00</td>\n",
       "      <td>...</td>\n",
       "      <td>0.000000e+00</td>\n",
       "      <td>0.000000e+00</td>\n",
       "      <td>0.000000</td>\n",
       "      <td>0.000000e+00</td>\n",
       "      <td>3.745317e-03</td>\n",
       "      <td>0.000000e+00</td>\n",
       "      <td>4.042184e-02</td>\n",
       "      <td>0.000000e+00</td>\n",
       "      <td>0.000000e+00</td>\n",
       "      <td>0.000000e+00</td>\n",
       "    </tr>\n",
       "    <tr>\n",
       "      <th>политический</th>\n",
       "      <td>1.499709e-02</td>\n",
       "      <td>2.887277e-02</td>\n",
       "      <td>3.603426e-02</td>\n",
       "      <td>4.287811e-03</td>\n",
       "      <td>1.843876e-02</td>\n",
       "      <td>0.007220</td>\n",
       "      <td>2.159257e-02</td>\n",
       "      <td>1.940359e-03</td>\n",
       "      <td>0.000000e+00</td>\n",
       "      <td>0.000000e+00</td>\n",
       "      <td>...</td>\n",
       "      <td>6.659772e-02</td>\n",
       "      <td>9.375000e-02</td>\n",
       "      <td>0.094662</td>\n",
       "      <td>2.644978e-08</td>\n",
       "      <td>3.728141e-03</td>\n",
       "      <td>0.000000e+00</td>\n",
       "      <td>0.000000e+00</td>\n",
       "      <td>0.000000e+00</td>\n",
       "      <td>5.303707e-02</td>\n",
       "      <td>3.365857e-09</td>\n",
       "    </tr>\n",
       "    <tr>\n",
       "      <th>слово</th>\n",
       "      <td>0.000000e+00</td>\n",
       "      <td>8.161303e-03</td>\n",
       "      <td>5.305747e-03</td>\n",
       "      <td>3.061989e-02</td>\n",
       "      <td>8.591783e-03</td>\n",
       "      <td>0.024089</td>\n",
       "      <td>4.497554e-03</td>\n",
       "      <td>2.209837e-02</td>\n",
       "      <td>3.785239e-02</td>\n",
       "      <td>0.000000e+00</td>\n",
       "      <td>...</td>\n",
       "      <td>0.000000e+00</td>\n",
       "      <td>0.000000e+00</td>\n",
       "      <td>0.031680</td>\n",
       "      <td>0.000000e+00</td>\n",
       "      <td>1.348211e-07</td>\n",
       "      <td>0.000000e+00</td>\n",
       "      <td>0.000000e+00</td>\n",
       "      <td>0.000000e+00</td>\n",
       "      <td>0.000000e+00</td>\n",
       "      <td>3.795956e-07</td>\n",
       "    </tr>\n",
       "    <tr>\n",
       "      <th>революция</th>\n",
       "      <td>3.202987e-07</td>\n",
       "      <td>0.000000e+00</td>\n",
       "      <td>5.197268e-05</td>\n",
       "      <td>0.000000e+00</td>\n",
       "      <td>0.000000e+00</td>\n",
       "      <td>0.067785</td>\n",
       "      <td>9.555043e-02</td>\n",
       "      <td>1.001809e-02</td>\n",
       "      <td>0.000000e+00</td>\n",
       "      <td>0.000000e+00</td>\n",
       "      <td>...</td>\n",
       "      <td>1.220407e-13</td>\n",
       "      <td>0.000000e+00</td>\n",
       "      <td>0.000000</td>\n",
       "      <td>0.000000e+00</td>\n",
       "      <td>7.703131e-07</td>\n",
       "      <td>0.000000e+00</td>\n",
       "      <td>4.443833e-03</td>\n",
       "      <td>2.000730e-02</td>\n",
       "      <td>1.388889e-01</td>\n",
       "      <td>0.000000e+00</td>\n",
       "    </tr>\n",
       "    <tr>\n",
       "      <th>город</th>\n",
       "      <td>1.817739e-02</td>\n",
       "      <td>9.397084e-03</td>\n",
       "      <td>1.886115e-02</td>\n",
       "      <td>0.000000e+00</td>\n",
       "      <td>0.000000e+00</td>\n",
       "      <td>0.000000</td>\n",
       "      <td>2.747142e-07</td>\n",
       "      <td>4.677041e-16</td>\n",
       "      <td>0.000000e+00</td>\n",
       "      <td>0.000000e+00</td>\n",
       "      <td>...</td>\n",
       "      <td>0.000000e+00</td>\n",
       "      <td>0.000000e+00</td>\n",
       "      <td>0.000000</td>\n",
       "      <td>0.000000e+00</td>\n",
       "      <td>0.000000e+00</td>\n",
       "      <td>0.000000e+00</td>\n",
       "      <td>0.000000e+00</td>\n",
       "      <td>0.000000e+00</td>\n",
       "      <td>0.000000e+00</td>\n",
       "      <td>2.556047e-01</td>\n",
       "    </tr>\n",
       "    <tr>\n",
       "      <th>болезнь</th>\n",
       "      <td>0.000000e+00</td>\n",
       "      <td>0.000000e+00</td>\n",
       "      <td>0.000000e+00</td>\n",
       "      <td>1.315218e-05</td>\n",
       "      <td>6.172843e-03</td>\n",
       "      <td>0.000000</td>\n",
       "      <td>2.006293e-02</td>\n",
       "      <td>1.774398e-02</td>\n",
       "      <td>2.437612e-09</td>\n",
       "      <td>0.000000e+00</td>\n",
       "      <td>...</td>\n",
       "      <td>0.000000e+00</td>\n",
       "      <td>0.000000e+00</td>\n",
       "      <td>0.000000</td>\n",
       "      <td>0.000000e+00</td>\n",
       "      <td>2.636310e-02</td>\n",
       "      <td>1.612903e-01</td>\n",
       "      <td>1.799530e-03</td>\n",
       "      <td>0.000000e+00</td>\n",
       "      <td>0.000000e+00</td>\n",
       "      <td>0.000000e+00</td>\n",
       "    </tr>\n",
       "    <tr>\n",
       "      <th>социальный</th>\n",
       "      <td>8.899978e-09</td>\n",
       "      <td>5.431977e-03</td>\n",
       "      <td>0.000000e+00</td>\n",
       "      <td>4.102723e-02</td>\n",
       "      <td>1.233726e-02</td>\n",
       "      <td>0.004902</td>\n",
       "      <td>2.954719e-02</td>\n",
       "      <td>5.524861e-03</td>\n",
       "      <td>0.000000e+00</td>\n",
       "      <td>1.301959e-08</td>\n",
       "      <td>...</td>\n",
       "      <td>0.000000e+00</td>\n",
       "      <td>0.000000e+00</td>\n",
       "      <td>0.000000</td>\n",
       "      <td>0.000000e+00</td>\n",
       "      <td>1.417381e-03</td>\n",
       "      <td>0.000000e+00</td>\n",
       "      <td>6.280432e-03</td>\n",
       "      <td>0.000000e+00</td>\n",
       "      <td>0.000000e+00</td>\n",
       "      <td>0.000000e+00</td>\n",
       "    </tr>\n",
       "    <tr>\n",
       "      <th>модель</th>\n",
       "      <td>1.625672e-05</td>\n",
       "      <td>1.925744e-11</td>\n",
       "      <td>1.139245e-02</td>\n",
       "      <td>1.408286e-02</td>\n",
       "      <td>0.000000e+00</td>\n",
       "      <td>0.007347</td>\n",
       "      <td>4.145144e-03</td>\n",
       "      <td>9.893375e-04</td>\n",
       "      <td>1.298702e-02</td>\n",
       "      <td>0.000000e+00</td>\n",
       "      <td>...</td>\n",
       "      <td>3.030303e-02</td>\n",
       "      <td>0.000000e+00</td>\n",
       "      <td>0.000000</td>\n",
       "      <td>0.000000e+00</td>\n",
       "      <td>3.641531e-02</td>\n",
       "      <td>0.000000e+00</td>\n",
       "      <td>9.009012e-03</td>\n",
       "      <td>0.000000e+00</td>\n",
       "      <td>0.000000e+00</td>\n",
       "      <td>0.000000e+00</td>\n",
       "    </tr>\n",
       "    <tr>\n",
       "      <th>исторический</th>\n",
       "      <td>2.978555e-08</td>\n",
       "      <td>1.060393e-01</td>\n",
       "      <td>0.000000e+00</td>\n",
       "      <td>2.696075e-03</td>\n",
       "      <td>0.000000e+00</td>\n",
       "      <td>0.011370</td>\n",
       "      <td>1.958306e-02</td>\n",
       "      <td>0.000000e+00</td>\n",
       "      <td>2.290894e-02</td>\n",
       "      <td>0.000000e+00</td>\n",
       "      <td>...</td>\n",
       "      <td>9.456492e-03</td>\n",
       "      <td>2.336649e-01</td>\n",
       "      <td>0.056999</td>\n",
       "      <td>2.026196e-01</td>\n",
       "      <td>0.000000e+00</td>\n",
       "      <td>0.000000e+00</td>\n",
       "      <td>1.779334e-13</td>\n",
       "      <td>2.305772e-02</td>\n",
       "      <td>2.772450e-01</td>\n",
       "      <td>6.797640e-05</td>\n",
       "    </tr>\n",
       "    <tr>\n",
       "      <th>программа</th>\n",
       "      <td>6.623791e-04</td>\n",
       "      <td>0.000000e+00</td>\n",
       "      <td>7.564257e-12</td>\n",
       "      <td>7.042253e-03</td>\n",
       "      <td>6.611070e-04</td>\n",
       "      <td>0.000000</td>\n",
       "      <td>0.000000e+00</td>\n",
       "      <td>0.000000e+00</td>\n",
       "      <td>7.414135e-03</td>\n",
       "      <td>0.000000e+00</td>\n",
       "      <td>...</td>\n",
       "      <td>0.000000e+00</td>\n",
       "      <td>0.000000e+00</td>\n",
       "      <td>0.000000</td>\n",
       "      <td>0.000000e+00</td>\n",
       "      <td>0.000000e+00</td>\n",
       "      <td>0.000000e+00</td>\n",
       "      <td>0.000000e+00</td>\n",
       "      <td>0.000000e+00</td>\n",
       "      <td>0.000000e+00</td>\n",
       "      <td>0.000000e+00</td>\n",
       "    </tr>\n",
       "    <tr>\n",
       "      <th>экономический</th>\n",
       "      <td>0.000000e+00</td>\n",
       "      <td>6.976514e-03</td>\n",
       "      <td>7.612047e-02</td>\n",
       "      <td>0.000000e+00</td>\n",
       "      <td>3.905055e-03</td>\n",
       "      <td>0.004902</td>\n",
       "      <td>3.384099e-02</td>\n",
       "      <td>3.595126e-03</td>\n",
       "      <td>6.493491e-03</td>\n",
       "      <td>0.000000e+00</td>\n",
       "      <td>...</td>\n",
       "      <td>6.060605e-02</td>\n",
       "      <td>0.000000e+00</td>\n",
       "      <td>0.000000</td>\n",
       "      <td>0.000000e+00</td>\n",
       "      <td>9.696534e-03</td>\n",
       "      <td>0.000000e+00</td>\n",
       "      <td>7.936351e-03</td>\n",
       "      <td>0.000000e+00</td>\n",
       "      <td>0.000000e+00</td>\n",
       "      <td>0.000000e+00</td>\n",
       "    </tr>\n",
       "    <tr>\n",
       "      <th>клетка</th>\n",
       "      <td>0.000000e+00</td>\n",
       "      <td>6.681666e-14</td>\n",
       "      <td>0.000000e+00</td>\n",
       "      <td>2.686920e-14</td>\n",
       "      <td>2.373839e-02</td>\n",
       "      <td>0.000000</td>\n",
       "      <td>1.352122e-11</td>\n",
       "      <td>6.593381e-02</td>\n",
       "      <td>0.000000e+00</td>\n",
       "      <td>5.888781e-03</td>\n",
       "      <td>...</td>\n",
       "      <td>1.179439e-01</td>\n",
       "      <td>0.000000e+00</td>\n",
       "      <td>0.000000</td>\n",
       "      <td>0.000000e+00</td>\n",
       "      <td>6.957884e-02</td>\n",
       "      <td>0.000000e+00</td>\n",
       "      <td>4.156406e-02</td>\n",
       "      <td>1.515151e-01</td>\n",
       "      <td>0.000000e+00</td>\n",
       "      <td>0.000000e+00</td>\n",
       "    </tr>\n",
       "    <tr>\n",
       "      <th>температура</th>\n",
       "      <td>1.344697e-02</td>\n",
       "      <td>0.000000e+00</td>\n",
       "      <td>1.389937e-02</td>\n",
       "      <td>0.000000e+00</td>\n",
       "      <td>0.000000e+00</td>\n",
       "      <td>0.000000</td>\n",
       "      <td>1.421793e-02</td>\n",
       "      <td>2.136984e-16</td>\n",
       "      <td>0.000000e+00</td>\n",
       "      <td>1.770135e-02</td>\n",
       "      <td>...</td>\n",
       "      <td>6.060606e-02</td>\n",
       "      <td>0.000000e+00</td>\n",
       "      <td>0.000000</td>\n",
       "      <td>0.000000e+00</td>\n",
       "      <td>1.474793e-02</td>\n",
       "      <td>0.000000e+00</td>\n",
       "      <td>9.009010e-03</td>\n",
       "      <td>0.000000e+00</td>\n",
       "      <td>0.000000e+00</td>\n",
       "      <td>0.000000e+00</td>\n",
       "    </tr>\n",
       "    <tr>\n",
       "      <th>Фоновая тема</th>\n",
       "      <td>6.451821e-01</td>\n",
       "      <td>5.873015e-01</td>\n",
       "      <td>6.177589e-01</td>\n",
       "      <td>7.285518e-01</td>\n",
       "      <td>6.158155e-01</td>\n",
       "      <td>0.494634</td>\n",
       "      <td>6.314601e-01</td>\n",
       "      <td>4.905066e-01</td>\n",
       "      <td>7.231538e-01</td>\n",
       "      <td>5.432026e-01</td>\n",
       "      <td>...</td>\n",
       "      <td>3.123903e-01</td>\n",
       "      <td>6.360260e-01</td>\n",
       "      <td>0.467787</td>\n",
       "      <td>5.809443e-01</td>\n",
       "      <td>6.488237e-01</td>\n",
       "      <td>5.808723e-01</td>\n",
       "      <td>6.250556e-01</td>\n",
       "      <td>4.784135e-01</td>\n",
       "      <td>4.498809e-01</td>\n",
       "      <td>6.333814e-01</td>\n",
       "    </tr>\n",
       "  </tbody>\n",
       "</table>\n",
       "<p>30 rows × 1728 columns</p>\n",
       "</div>"
      ],
      "text/plain": [
       "               http://postnauka.ru/video/22977  \\\n",
       "власть                            5.431673e-10   \n",
       "земля                             4.027652e-02   \n",
       "система                           5.746120e-03   \n",
       "культура                          0.000000e+00   \n",
       "право                             5.732441e-03   \n",
       "материал                          2.047363e-02   \n",
       "книга                             2.518962e-15   \n",
       "смерть                            6.060480e-03   \n",
       "метод                             0.000000e+00   \n",
       "частица                           1.190365e-02   \n",
       "россия                            1.545320e-02   \n",
       "ребенок                           0.000000e+00   \n",
       "растение                          0.000000e+00   \n",
       "территория                        0.000000e+00   \n",
       "звезда                            1.955178e-01   \n",
       "задача                            6.353676e-03   \n",
       "раса                              0.000000e+00   \n",
       "политический                      1.499709e-02   \n",
       "слово                             0.000000e+00   \n",
       "революция                         3.202987e-07   \n",
       "город                             1.817739e-02   \n",
       "болезнь                           0.000000e+00   \n",
       "социальный                        8.899978e-09   \n",
       "модель                            1.625672e-05   \n",
       "исторический                      2.978555e-08   \n",
       "программа                         6.623791e-04   \n",
       "экономический                     0.000000e+00   \n",
       "клетка                            0.000000e+00   \n",
       "температура                       1.344697e-02   \n",
       "Фоновая тема                      6.451821e-01   \n",
       "\n",
       "               http://postnauka.ru/video/22978  \\\n",
       "власть                            5.918203e-15   \n",
       "земля                             5.388455e-03   \n",
       "система                           1.086957e-02   \n",
       "культура                          0.000000e+00   \n",
       "право                             1.447152e-03   \n",
       "материал                          0.000000e+00   \n",
       "книга                             0.000000e+00   \n",
       "смерть                            1.430158e-02   \n",
       "метод                             1.470210e-14   \n",
       "частица                           0.000000e+00   \n",
       "россия                            4.422552e-02   \n",
       "ребенок                           0.000000e+00   \n",
       "растение                          0.000000e+00   \n",
       "территория                        1.462065e-01   \n",
       "звезда                            0.000000e+00   \n",
       "задача                            2.538082e-02   \n",
       "раса                              0.000000e+00   \n",
       "политический                      2.887277e-02   \n",
       "слово                             8.161303e-03   \n",
       "революция                         0.000000e+00   \n",
       "город                             9.397084e-03   \n",
       "болезнь                           0.000000e+00   \n",
       "социальный                        5.431977e-03   \n",
       "модель                            1.925744e-11   \n",
       "исторический                      1.060393e-01   \n",
       "программа                         0.000000e+00   \n",
       "экономический                     6.976514e-03   \n",
       "клетка                            6.681666e-14   \n",
       "температура                       0.000000e+00   \n",
       "Фоновая тема                      5.873015e-01   \n",
       "\n",
       "               http://postnauka.ru/video/23077  \\\n",
       "власть                            0.000000e+00   \n",
       "земля                             7.437693e-03   \n",
       "система                           0.000000e+00   \n",
       "культура                          1.557914e-02   \n",
       "право                             0.000000e+00   \n",
       "материал                          0.000000e+00   \n",
       "книга                             0.000000e+00   \n",
       "смерть                            9.450706e-03   \n",
       "метод                             1.848401e-02   \n",
       "частица                           7.747017e-03   \n",
       "россия                            1.026848e-02   \n",
       "ребенок                           5.813397e-04   \n",
       "растение                          0.000000e+00   \n",
       "территория                        9.746140e-02   \n",
       "звезда                            3.492740e-06   \n",
       "задача                            4.342258e-02   \n",
       "раса                              1.013985e-02   \n",
       "политический                      3.603426e-02   \n",
       "слово                             5.305747e-03   \n",
       "революция                         5.197268e-05   \n",
       "город                             1.886115e-02   \n",
       "болезнь                           0.000000e+00   \n",
       "социальный                        0.000000e+00   \n",
       "модель                            1.139245e-02   \n",
       "исторический                      0.000000e+00   \n",
       "программа                         7.564257e-12   \n",
       "экономический                     7.612047e-02   \n",
       "клетка                            0.000000e+00   \n",
       "температура                       1.389937e-02   \n",
       "Фоновая тема                      6.177589e-01   \n",
       "\n",
       "               http://postnauka.ru/video/23079  \\\n",
       "власть                            0.000000e+00   \n",
       "земля                             0.000000e+00   \n",
       "система                           1.023363e-10   \n",
       "культура                          2.459800e-02   \n",
       "право                             1.408451e-02   \n",
       "материал                          0.000000e+00   \n",
       "книга                             6.660479e-07   \n",
       "смерть                            0.000000e+00   \n",
       "метод                             0.000000e+00   \n",
       "частица                           4.378259e-05   \n",
       "россия                            0.000000e+00   \n",
       "ребенок                           0.000000e+00   \n",
       "растение                          0.000000e+00   \n",
       "территория                        1.400453e-02   \n",
       "звезда                            0.000000e+00   \n",
       "задача                            1.189474e-01   \n",
       "раса                              0.000000e+00   \n",
       "политический                      4.287811e-03   \n",
       "слово                             3.061989e-02   \n",
       "революция                         0.000000e+00   \n",
       "город                             0.000000e+00   \n",
       "болезнь                           1.315218e-05   \n",
       "социальный                        4.102723e-02   \n",
       "модель                            1.408286e-02   \n",
       "исторический                      2.696075e-03   \n",
       "программа                         7.042253e-03   \n",
       "экономический                     0.000000e+00   \n",
       "клетка                            2.686920e-14   \n",
       "температура                       0.000000e+00   \n",
       "Фоновая тема                      7.285518e-01   \n",
       "\n",
       "               http://postnauka.ru/video/23111  \\\n",
       "власть                            4.441254e-10   \n",
       "земля                             9.353401e-02   \n",
       "система                           6.172844e-03   \n",
       "культура                          6.526163e-03   \n",
       "право                             0.000000e+00   \n",
       "материал                          2.452939e-02   \n",
       "книга                             0.000000e+00   \n",
       "смерть                            3.142832e-13   \n",
       "метод                             1.490801e-02   \n",
       "частица                           1.183475e-10   \n",
       "россия                            7.869824e-03   \n",
       "ребенок                           0.000000e+00   \n",
       "растение                          1.472700e-01   \n",
       "территория                        2.218145e-03   \n",
       "звезда                            7.984537e-06   \n",
       "задача                            0.000000e+00   \n",
       "раса                              7.303067e-03   \n",
       "политический                      1.843876e-02   \n",
       "слово                             8.591783e-03   \n",
       "революция                         0.000000e+00   \n",
       "город                             0.000000e+00   \n",
       "болезнь                           6.172843e-03   \n",
       "социальный                        1.233726e-02   \n",
       "модель                            0.000000e+00   \n",
       "исторический                      0.000000e+00   \n",
       "программа                         6.611070e-04   \n",
       "экономический                     3.905055e-03   \n",
       "клетка                            2.373839e-02   \n",
       "температура                       0.000000e+00   \n",
       "Фоновая тема                      6.158155e-01   \n",
       "\n",
       "               http://postnauka.ru/video/23161  \\\n",
       "власть                                0.007970   \n",
       "земля                                 0.000000   \n",
       "система                               0.008572   \n",
       "культура                              0.033337   \n",
       "право                                 0.010087   \n",
       "материал                              0.000000   \n",
       "книга                                 0.063133   \n",
       "смерть                                0.000000   \n",
       "метод                                 0.009559   \n",
       "частица                               0.005394   \n",
       "россия                                0.213226   \n",
       "ребенок                               0.000000   \n",
       "растение                              0.000000   \n",
       "территория                            0.026474   \n",
       "звезда                                0.000000   \n",
       "задача                                0.000000   \n",
       "раса                                  0.000000   \n",
       "политический                          0.007220   \n",
       "слово                                 0.024089   \n",
       "революция                             0.067785   \n",
       "город                                 0.000000   \n",
       "болезнь                               0.000000   \n",
       "социальный                            0.004902   \n",
       "модель                                0.007347   \n",
       "исторический                          0.011370   \n",
       "программа                             0.000000   \n",
       "экономический                         0.004902   \n",
       "клетка                                0.000000   \n",
       "температура                           0.000000   \n",
       "Фоновая тема                          0.494634   \n",
       "\n",
       "               http://postnauka.ru/video/23163  \\\n",
       "власть                            0.000000e+00   \n",
       "земля                             0.000000e+00   \n",
       "система                           6.217738e-03   \n",
       "культура                          6.306738e-02   \n",
       "право                             0.000000e+00   \n",
       "материал                          0.000000e+00   \n",
       "книга                             2.103634e-02   \n",
       "смерть                            4.624790e-07   \n",
       "метод                             0.000000e+00   \n",
       "частица                           0.000000e+00   \n",
       "россия                            5.843522e-03   \n",
       "ребенок                           4.250330e-11   \n",
       "растение                          0.000000e+00   \n",
       "территория                        6.765817e-03   \n",
       "звезда                            0.000000e+00   \n",
       "задача                            1.494903e-02   \n",
       "раса                              7.621563e-03   \n",
       "политический                      2.159257e-02   \n",
       "слово                             4.497554e-03   \n",
       "революция                         9.555043e-02   \n",
       "город                             2.747142e-07   \n",
       "болезнь                           2.006293e-02   \n",
       "социальный                        2.954719e-02   \n",
       "модель                            4.145144e-03   \n",
       "исторический                      1.958306e-02   \n",
       "программа                         0.000000e+00   \n",
       "экономический                     3.384099e-02   \n",
       "клетка                            1.352122e-11   \n",
       "температура                       1.421793e-02   \n",
       "Фоновая тема                      6.314601e-01   \n",
       "\n",
       "               http://postnauka.ru/video/23172  \\\n",
       "власть                            0.000000e+00   \n",
       "земля                             1.555192e-02   \n",
       "система                           0.000000e+00   \n",
       "культура                          2.608778e-16   \n",
       "право                             0.000000e+00   \n",
       "материал                          0.000000e+00   \n",
       "книга                             2.208692e-02   \n",
       "смерть                            0.000000e+00   \n",
       "метод                             3.550430e-03   \n",
       "частица                           6.384521e-02   \n",
       "россия                            3.328550e-06   \n",
       "ребенок                           1.072219e-02   \n",
       "растение                          2.232051e-01   \n",
       "территория                        9.205291e-03   \n",
       "звезда                            3.208102e-02   \n",
       "задача                            1.397937e-03   \n",
       "раса                              0.000000e+00   \n",
       "политический                      1.940359e-03   \n",
       "слово                             2.209837e-02   \n",
       "революция                         1.001809e-02   \n",
       "город                             4.677041e-16   \n",
       "болезнь                           1.774398e-02   \n",
       "социальный                        5.524861e-03   \n",
       "модель                            9.893375e-04   \n",
       "исторический                      0.000000e+00   \n",
       "программа                         0.000000e+00   \n",
       "экономический                     3.595126e-03   \n",
       "клетка                            6.593381e-02   \n",
       "температура                       2.136984e-16   \n",
       "Фоновая тема                      4.905066e-01   \n",
       "\n",
       "               http://postnauka.ru/video/23233  \\\n",
       "власть                            6.525259e-02   \n",
       "земля                             0.000000e+00   \n",
       "система                           2.456987e-06   \n",
       "культура                          4.560326e-02   \n",
       "право                             0.000000e+00   \n",
       "материал                          4.508641e-08   \n",
       "книга                             1.494455e-02   \n",
       "смерть                            0.000000e+00   \n",
       "метод                             0.000000e+00   \n",
       "частица                           0.000000e+00   \n",
       "россия                            0.000000e+00   \n",
       "ребенок                           0.000000e+00   \n",
       "растение                          0.000000e+00   \n",
       "территория                        6.846298e-15   \n",
       "звезда                            0.000000e+00   \n",
       "задача                            6.338736e-02   \n",
       "раса                              0.000000e+00   \n",
       "политический                      0.000000e+00   \n",
       "слово                             3.785239e-02   \n",
       "революция                         0.000000e+00   \n",
       "город                             0.000000e+00   \n",
       "болезнь                           2.437612e-09   \n",
       "социальный                        0.000000e+00   \n",
       "модель                            1.298702e-02   \n",
       "исторический                      2.290894e-02   \n",
       "программа                         7.414135e-03   \n",
       "экономический                     6.493491e-03   \n",
       "клетка                            0.000000e+00   \n",
       "температура                       0.000000e+00   \n",
       "Фоновая тема                      7.231538e-01   \n",
       "\n",
       "               http://postnauka.ru/video/23253  \\\n",
       "власть                            0.000000e+00   \n",
       "земля                             9.751944e-11   \n",
       "система                           4.329650e-02   \n",
       "культура                          0.000000e+00   \n",
       "право                             2.993898e-14   \n",
       "материал                          3.357279e-02   \n",
       "книга                             0.000000e+00   \n",
       "смерть                            0.000000e+00   \n",
       "метод                             2.607492e-01   \n",
       "частица                           5.827196e-02   \n",
       "россия                            4.078158e-03   \n",
       "ребенок                           0.000000e+00   \n",
       "растение                          0.000000e+00   \n",
       "территория                        0.000000e+00   \n",
       "звезда                            3.323857e-02   \n",
       "задача                            0.000000e+00   \n",
       "раса                              0.000000e+00   \n",
       "политический                      0.000000e+00   \n",
       "слово                             0.000000e+00   \n",
       "революция                         0.000000e+00   \n",
       "город                             0.000000e+00   \n",
       "болезнь                           0.000000e+00   \n",
       "социальный                        1.301959e-08   \n",
       "модель                            0.000000e+00   \n",
       "исторический                      0.000000e+00   \n",
       "программа                         0.000000e+00   \n",
       "экономический                     0.000000e+00   \n",
       "клетка                            5.888781e-03   \n",
       "температура                       1.770135e-02   \n",
       "Фоновая тема                      5.432026e-01   \n",
       "\n",
       "                            ...                http://postnauka.ru/video/9874  \\\n",
       "власть                      ...                                  0.000000e+00   \n",
       "земля                       ...                                  0.000000e+00   \n",
       "система                     ...                                  0.000000e+00   \n",
       "культура                    ...                                  2.042357e-01   \n",
       "право                       ...                                  0.000000e+00   \n",
       "материал                    ...                                  0.000000e+00   \n",
       "книга                       ...                                  3.030303e-02   \n",
       "смерть                      ...                                  0.000000e+00   \n",
       "метод                       ...                                  0.000000e+00   \n",
       "частица                     ...                                  5.221424e-02   \n",
       "россия                      ...                                  3.029035e-02   \n",
       "ребенок                     ...                                  0.000000e+00   \n",
       "растение                    ...                                  0.000000e+00   \n",
       "территория                  ...                                  0.000000e+00   \n",
       "звезда                      ...                                  7.812729e-04   \n",
       "задача                      ...                                  2.427179e-02   \n",
       "раса                        ...                                  0.000000e+00   \n",
       "политический                ...                                  6.659772e-02   \n",
       "слово                       ...                                  0.000000e+00   \n",
       "революция                   ...                                  1.220407e-13   \n",
       "город                       ...                                  0.000000e+00   \n",
       "болезнь                     ...                                  0.000000e+00   \n",
       "социальный                  ...                                  0.000000e+00   \n",
       "модель                      ...                                  3.030303e-02   \n",
       "исторический                ...                                  9.456492e-03   \n",
       "программа                   ...                                  0.000000e+00   \n",
       "экономический               ...                                  6.060605e-02   \n",
       "клетка                      ...                                  1.179439e-01   \n",
       "температура                 ...                                  6.060606e-02   \n",
       "Фоновая тема                ...                                  3.123903e-01   \n",
       "\n",
       "               http://postnauka.ru/video/9876  http://postnauka.ru/video/9968  \\\n",
       "власть                           0.000000e+00                        0.284355   \n",
       "земля                            0.000000e+00                        0.000000   \n",
       "система                          0.000000e+00                        0.000000   \n",
       "культура                         0.000000e+00                        0.000000   \n",
       "право                            0.000000e+00                        0.064516   \n",
       "материал                         0.000000e+00                        0.000000   \n",
       "книга                            0.000000e+00                        0.000000   \n",
       "смерть                           0.000000e+00                        0.000000   \n",
       "метод                            3.124997e-02                        0.000000   \n",
       "частица                          0.000000e+00                        0.000000   \n",
       "россия                           0.000000e+00                        0.000000   \n",
       "ребенок                          0.000000e+00                        0.000000   \n",
       "растение                         0.000000e+00                        0.000000   \n",
       "территория                       3.894528e-09                        0.000000   \n",
       "звезда                           5.309089e-03                        0.000000   \n",
       "задача                           0.000000e+00                        0.000000   \n",
       "раса                             0.000000e+00                        0.000000   \n",
       "политический                     9.375000e-02                        0.094662   \n",
       "слово                            0.000000e+00                        0.031680   \n",
       "революция                        0.000000e+00                        0.000000   \n",
       "город                            0.000000e+00                        0.000000   \n",
       "болезнь                          0.000000e+00                        0.000000   \n",
       "социальный                       0.000000e+00                        0.000000   \n",
       "модель                           0.000000e+00                        0.000000   \n",
       "исторический                     2.336649e-01                        0.056999   \n",
       "программа                        0.000000e+00                        0.000000   \n",
       "экономический                    0.000000e+00                        0.000000   \n",
       "клетка                           0.000000e+00                        0.000000   \n",
       "температура                      0.000000e+00                        0.000000   \n",
       "Фоновая тема                     6.360260e-01                        0.467787   \n",
       "\n",
       "               http://postnauka.ru/video/9992  http://postnauka.ru/video/9993  \\\n",
       "власть                           2.797549e-03                    1.596833e-14   \n",
       "земля                            0.000000e+00                    3.959622e-03   \n",
       "система                          0.000000e+00                    1.489848e-02   \n",
       "культура                         0.000000e+00                    2.245317e-11   \n",
       "право                            4.765081e-02                    0.000000e+00   \n",
       "материал                         0.000000e+00                    8.057186e-03   \n",
       "книга                            0.000000e+00                    0.000000e+00   \n",
       "смерть                           0.000000e+00                    5.310018e-12   \n",
       "метод                            0.000000e+00                    1.096682e-01   \n",
       "частица                          0.000000e+00                    6.357938e-03   \n",
       "россия                           2.092607e-14                    0.000000e+00   \n",
       "ребенок                          0.000000e+00                    0.000000e+00   \n",
       "растение                         8.787888e-02                    4.187096e-07   \n",
       "территория                       7.810888e-02                    7.706982e-03   \n",
       "звезда                           0.000000e+00                    1.291435e-02   \n",
       "задача                           0.000000e+00                    2.191962e-02   \n",
       "раса                             0.000000e+00                    3.745317e-03   \n",
       "политический                     2.644978e-08                    3.728141e-03   \n",
       "слово                            0.000000e+00                    1.348211e-07   \n",
       "революция                        0.000000e+00                    7.703131e-07   \n",
       "город                            0.000000e+00                    0.000000e+00   \n",
       "болезнь                          0.000000e+00                    2.636310e-02   \n",
       "социальный                       0.000000e+00                    1.417381e-03   \n",
       "модель                           0.000000e+00                    3.641531e-02   \n",
       "исторический                     2.026196e-01                    0.000000e+00   \n",
       "программа                        0.000000e+00                    0.000000e+00   \n",
       "экономический                    0.000000e+00                    9.696534e-03   \n",
       "клетка                           0.000000e+00                    6.957884e-02   \n",
       "температура                      0.000000e+00                    1.474793e-02   \n",
       "Фоновая тема                     5.809443e-01                    6.488237e-01   \n",
       "\n",
       "               http://postnauka.ru/video/9994  http://postnauka.ru/video/9995  \\\n",
       "власть                           0.000000e+00                    2.866584e-04   \n",
       "земля                            6.229646e-04                    3.186119e-02   \n",
       "система                          0.000000e+00                    0.000000e+00   \n",
       "культура                         6.366605e-02                    5.509054e-03   \n",
       "право                            0.000000e+00                    0.000000e+00   \n",
       "материал                         4.276472e-02                    0.000000e+00   \n",
       "книга                            0.000000e+00                    1.374547e-02   \n",
       "смерть                           0.000000e+00                    2.070411e-09   \n",
       "метод                            1.507836e-01                    5.310500e-03   \n",
       "частица                          5.418323e-12                    0.000000e+00   \n",
       "россия                           0.000000e+00                    1.980227e-06   \n",
       "ребенок                          0.000000e+00                    1.148569e-01   \n",
       "растение                         0.000000e+00                    2.355224e-02   \n",
       "территория                       0.000000e+00                    0.000000e+00   \n",
       "звезда                           0.000000e+00                    3.006709e-02   \n",
       "задача                           0.000000e+00                    2.928926e-02   \n",
       "раса                             0.000000e+00                    4.042184e-02   \n",
       "политический                     0.000000e+00                    0.000000e+00   \n",
       "слово                            0.000000e+00                    0.000000e+00   \n",
       "революция                        0.000000e+00                    4.443833e-03   \n",
       "город                            0.000000e+00                    0.000000e+00   \n",
       "болезнь                          1.612903e-01                    1.799530e-03   \n",
       "социальный                       0.000000e+00                    6.280432e-03   \n",
       "модель                           0.000000e+00                    9.009012e-03   \n",
       "исторический                     0.000000e+00                    1.779334e-13   \n",
       "программа                        0.000000e+00                    0.000000e+00   \n",
       "экономический                    0.000000e+00                    7.936351e-03   \n",
       "клетка                           0.000000e+00                    4.156406e-02   \n",
       "температура                      0.000000e+00                    9.009010e-03   \n",
       "Фоновая тема                     5.808723e-01                    6.250556e-01   \n",
       "\n",
       "               http://postnauka.ru/video/9996  http://postnauka.ru/video/9997  \\\n",
       "власть                           0.000000e+00                    0.000000e+00   \n",
       "земля                            0.000000e+00                    0.000000e+00   \n",
       "система                          0.000000e+00                    0.000000e+00   \n",
       "культура                         0.000000e+00                    5.317041e-02   \n",
       "право                            0.000000e+00                    0.000000e+00   \n",
       "материал                         3.020347e-02                    0.000000e+00   \n",
       "книга                            0.000000e+00                    0.000000e+00   \n",
       "смерть                           0.000000e+00                    3.784686e-14   \n",
       "метод                            8.523703e-02                    0.000000e+00   \n",
       "частица                          0.000000e+00                    0.000000e+00   \n",
       "россия                           3.030303e-02                    2.777778e-02   \n",
       "ребенок                          0.000000e+00                    0.000000e+00   \n",
       "растение                         1.146217e-08                    0.000000e+00   \n",
       "территория                       0.000000e+00                    0.000000e+00   \n",
       "звезда                           1.812628e-01                    0.000000e+00   \n",
       "задача                           0.000000e+00                    0.000000e+00   \n",
       "раса                             0.000000e+00                    0.000000e+00   \n",
       "политический                     0.000000e+00                    5.303707e-02   \n",
       "слово                            0.000000e+00                    0.000000e+00   \n",
       "революция                        2.000730e-02                    1.388889e-01   \n",
       "город                            0.000000e+00                    0.000000e+00   \n",
       "болезнь                          0.000000e+00                    0.000000e+00   \n",
       "социальный                       0.000000e+00                    0.000000e+00   \n",
       "модель                           0.000000e+00                    0.000000e+00   \n",
       "исторический                     2.305772e-02                    2.772450e-01   \n",
       "программа                        0.000000e+00                    0.000000e+00   \n",
       "экономический                    0.000000e+00                    0.000000e+00   \n",
       "клетка                           1.515151e-01                    0.000000e+00   \n",
       "температура                      0.000000e+00                    0.000000e+00   \n",
       "Фоновая тема                     4.784135e-01                    4.498809e-01   \n",
       "\n",
       "               http://postnauka.ru/video/9998  \n",
       "власть                           0.000000e+00  \n",
       "земля                            0.000000e+00  \n",
       "система                          0.000000e+00  \n",
       "культура                         2.444534e-02  \n",
       "право                            0.000000e+00  \n",
       "материал                         1.030730e-16  \n",
       "книга                            0.000000e+00  \n",
       "смерть                           0.000000e+00  \n",
       "метод                            3.337523e-02  \n",
       "частица                          2.190773e-05  \n",
       "россия                           0.000000e+00  \n",
       "ребенок                          0.000000e+00  \n",
       "растение                         0.000000e+00  \n",
       "территория                       0.000000e+00  \n",
       "звезда                           2.678730e-02  \n",
       "задача                           2.631579e-02  \n",
       "раса                             0.000000e+00  \n",
       "политический                     3.365857e-09  \n",
       "слово                            3.795956e-07  \n",
       "революция                        0.000000e+00  \n",
       "город                            2.556047e-01  \n",
       "болезнь                          0.000000e+00  \n",
       "социальный                       0.000000e+00  \n",
       "модель                           0.000000e+00  \n",
       "исторический                     6.797640e-05  \n",
       "программа                        0.000000e+00  \n",
       "экономический                    0.000000e+00  \n",
       "клетка                           0.000000e+00  \n",
       "температура                      0.000000e+00  \n",
       "Фоновая тема                     6.333814e-01  \n",
       "\n",
       "[30 rows x 1728 columns]"
      ]
     },
     "execution_count": 301,
     "metadata": {},
     "output_type": "execute_result"
    }
   ],
   "source": [
    "# Ваш код\n",
    "theta.index=topic_labels\n",
    "P_d_t=theta.apply(lambda x: x/np.sum(x))\n",
    "mx_prob=P_d_t.apply(lambda x: x.argmax(),axis=1)\n"
   ]
  },
  {
   "cell_type": "code",
   "execution_count": null,
   "metadata": {},
   "outputs": [],
   "source": []
  },
  {
   "cell_type": "markdown",
   "metadata": {},
   "source": [
    "Создавать навигатор мы будем прямо в jupiter notebook: это возможно благодаря тому факту, что при печати ссылки она автоматически превращается в гиперссылку."
   ]
  },
  {
   "cell_type": "code",
   "execution_count": 299,
   "metadata": {},
   "outputs": [
    {
     "name": "stdout",
     "output_type": "stream",
     "text": [
      "http://yandex.ru\n"
     ]
    }
   ],
   "source": [
    "print \"http://yandex.ru\"   # получится кликабельная ссылка"
   ]
  },
  {
   "cell_type": "markdown",
   "metadata": {},
   "source": [
    "Кроме того, подключив модуль [ipython.core.display](https://ipython.org/ipython-doc/2/api/generated/IPython.core.display.html), можно использовать html-разметку в выводе. Например:"
   ]
  },
  {
   "cell_type": "code",
   "execution_count": 300,
   "metadata": {},
   "outputs": [
    {
     "data": {
      "text/html": [
       "<h1>Заголовок</h1>"
      ],
      "text/plain": [
       "<IPython.core.display.HTML object>"
      ]
     },
     "metadata": {},
     "output_type": "display_data"
    },
    {
     "data": {
      "text/html": [
       "<ul><li>Пункт 1</li><li>Пункт 2</li></ul>"
      ],
      "text/plain": [
       "<IPython.core.display.HTML object>"
      ]
     },
     "metadata": {},
     "output_type": "display_data"
    },
    {
     "data": {
      "text/html": [
       "<font color=\"green\">Зеленый!</font>"
      ],
      "text/plain": [
       "<IPython.core.display.HTML object>"
      ]
     },
     "metadata": {},
     "output_type": "display_data"
    },
    {
     "data": {
      "text/html": [
       "<a href=\"http://yandex.ru\">Еще один вариант вывода ссылки</a>"
      ],
      "text/plain": [
       "<IPython.core.display.HTML object>"
      ]
     },
     "metadata": {},
     "output_type": "display_data"
    }
   ],
   "source": [
    "from IPython.core.display import display, HTML\n",
    "display(HTML(u\"<h1>Заголовок</h1>\"))   # также <h2>, <h3>\n",
    "display(HTML(u\"<ul><li>Пункт 1</li><li>Пункт 2</li></ul>\"))\n",
    "display(HTML(u'<font color=\"green\">Зеленый!</font>'))\n",
    "display(HTML(u'<a href=\"http://yandex.ru\">Еще один вариант вывода ссылки</a>'))"
   ]
  },
  {
   "cell_type": "markdown",
   "metadata": {},
   "source": [
    "В цикле для каждой темы выведите ее заголовок, в следующей строке - топ-10 слов темы, затем в виде списка ссылки на 10 наиболее релевантных (по $p(d|t)$) теме документов. Используйте html-разметку. Творчество приветствуется :)"
   ]
  },
  {
   "cell_type": "code",
   "execution_count": 316,
   "metadata": {},
   "outputs": [
    {
     "data": {
      "text/html": [
       "<h1>задача</h1>"
      ],
      "text/plain": [
       "<IPython.core.display.HTML object>"
      ]
     },
     "metadata": {},
     "output_type": "display_data"
    },
    {
     "data": {
      "text/html": [
       "<font>Ключевые слова:</font>"
      ],
      "text/plain": [
       "<IPython.core.display.HTML object>"
      ]
     },
     "metadata": {},
     "output_type": "display_data"
    },
    {
     "name": "stdout",
     "output_type": "stream",
     "text": [
      " задача информация данные память решение анализ компьютер решать внимание психология мышление ошибка оценка деньги следующий\n"
     ]
    },
    {
     "data": {
      "text/html": [
       "<font>Ссылки:</font>"
      ],
      "text/plain": [
       "<IPython.core.display.HTML object>"
      ]
     },
     "metadata": {},
     "output_type": "display_data"
    },
    {
     "data": {
      "text/html": [
       "<ul><li>http://postnauka.ru/video/24182</li></ul>"
      ],
      "text/plain": [
       "<IPython.core.display.HTML object>"
      ]
     },
     "metadata": {},
     "output_type": "display_data"
    },
    {
     "data": {
      "text/html": [
       "<ul><li>http://postnauka.ru/video/24451</li></ul>"
      ],
      "text/plain": [
       "<IPython.core.display.HTML object>"
      ]
     },
     "metadata": {},
     "output_type": "display_data"
    },
    {
     "data": {
      "text/html": [
       "<ul><li>http://postnauka.ru/video/23763</li></ul>"
      ],
      "text/plain": [
       "<IPython.core.display.HTML object>"
      ]
     },
     "metadata": {},
     "output_type": "display_data"
    },
    {
     "data": {
      "text/html": [
       "<ul><li>http://postnauka.ru/video/19577</li></ul>"
      ],
      "text/plain": [
       "<IPython.core.display.HTML object>"
      ]
     },
     "metadata": {},
     "output_type": "display_data"
    },
    {
     "data": {
      "text/html": [
       "<ul><li>http://postnauka.ru/video/5181</li></ul>"
      ],
      "text/plain": [
       "<IPython.core.display.HTML object>"
      ]
     },
     "metadata": {},
     "output_type": "display_data"
    },
    {
     "data": {
      "text/html": [
       "<ul><li>http://postnauka.ru/video/53415</li></ul>"
      ],
      "text/plain": [
       "<IPython.core.display.HTML object>"
      ]
     },
     "metadata": {},
     "output_type": "display_data"
    },
    {
     "data": {
      "text/html": [
       "<ul><li>http://postnauka.ru/video/56052</li></ul>"
      ],
      "text/plain": [
       "<IPython.core.display.HTML object>"
      ]
     },
     "metadata": {},
     "output_type": "display_data"
    },
    {
     "data": {
      "text/html": [
       "<ul><li>http://postnauka.ru/video/17421</li></ul>"
      ],
      "text/plain": [
       "<IPython.core.display.HTML object>"
      ]
     },
     "metadata": {},
     "output_type": "display_data"
    },
    {
     "data": {
      "text/html": [
       "<ul><li>http://postnauka.ru/video/57336</li></ul>"
      ],
      "text/plain": [
       "<IPython.core.display.HTML object>"
      ]
     },
     "metadata": {},
     "output_type": "display_data"
    },
    {
     "data": {
      "text/html": [
       "<ul><li>http://postnauka.ru/video/46933</li></ul>"
      ],
      "text/plain": [
       "<IPython.core.display.HTML object>"
      ]
     },
     "metadata": {},
     "output_type": "display_data"
    },
    {
     "data": {
      "text/html": [
       "<h1>звезда</h1>"
      ],
      "text/plain": [
       "<IPython.core.display.HTML object>"
      ]
     },
     "metadata": {},
     "output_type": "display_data"
    },
    {
     "data": {
      "text/html": [
       "<font>Ключевые слова:</font>"
      ],
      "text/plain": [
       "<IPython.core.display.HTML object>"
      ]
     },
     "metadata": {},
     "output_type": "display_data"
    },
    {
     "name": "stdout",
     "output_type": "stream",
     "text": [
      "звезда галактика объект черный волна масса свет скорость вселенная дыра излучение расстояние вещество размер телескоп\n"
     ]
    },
    {
     "data": {
      "text/html": [
       "<font>Ссылки:</font>"
      ],
      "text/plain": [
       "<IPython.core.display.HTML object>"
      ]
     },
     "metadata": {},
     "output_type": "display_data"
    },
    {
     "data": {
      "text/html": [
       "<ul><li>http://postnauka.ru/video/6673</li></ul>"
      ],
      "text/plain": [
       "<IPython.core.display.HTML object>"
      ]
     },
     "metadata": {},
     "output_type": "display_data"
    },
    {
     "data": {
      "text/html": [
       "<ul><li>http://postnauka.ru/video/31193</li></ul>"
      ],
      "text/plain": [
       "<IPython.core.display.HTML object>"
      ]
     },
     "metadata": {},
     "output_type": "display_data"
    },
    {
     "data": {
      "text/html": [
       "<ul><li>http://postnauka.ru/video/17780</li></ul>"
      ],
      "text/plain": [
       "<IPython.core.display.HTML object>"
      ]
     },
     "metadata": {},
     "output_type": "display_data"
    },
    {
     "data": {
      "text/html": [
       "<ul><li>http://postnauka.ru/video/57338</li></ul>"
      ],
      "text/plain": [
       "<IPython.core.display.HTML object>"
      ]
     },
     "metadata": {},
     "output_type": "display_data"
    },
    {
     "data": {
      "text/html": [
       "<ul><li>http://postnauka.ru/video/29998</li></ul>"
      ],
      "text/plain": [
       "<IPython.core.display.HTML object>"
      ]
     },
     "metadata": {},
     "output_type": "display_data"
    },
    {
     "data": {
      "text/html": [
       "<ul><li>http://postnauka.ru/video/7067</li></ul>"
      ],
      "text/plain": [
       "<IPython.core.display.HTML object>"
      ]
     },
     "metadata": {},
     "output_type": "display_data"
    },
    {
     "data": {
      "text/html": [
       "<ul><li>http://postnauka.ru/video/2971</li></ul>"
      ],
      "text/plain": [
       "<IPython.core.display.HTML object>"
      ]
     },
     "metadata": {},
     "output_type": "display_data"
    },
    {
     "data": {
      "text/html": [
       "<ul><li>http://postnauka.ru/video/30015</li></ul>"
      ],
      "text/plain": [
       "<IPython.core.display.HTML object>"
      ]
     },
     "metadata": {},
     "output_type": "display_data"
    },
    {
     "data": {
      "text/html": [
       "<ul><li>http://postnauka.ru/video/23506</li></ul>"
      ],
      "text/plain": [
       "<IPython.core.display.HTML object>"
      ]
     },
     "metadata": {},
     "output_type": "display_data"
    },
    {
     "data": {
      "text/html": [
       "<ul><li>http://postnauka.ru/video/23502</li></ul>"
      ],
      "text/plain": [
       "<IPython.core.display.HTML object>"
      ]
     },
     "metadata": {},
     "output_type": "display_data"
    },
    {
     "data": {
      "text/html": [
       "<h1>политический</h1>"
      ],
      "text/plain": [
       "<IPython.core.display.HTML object>"
      ]
     },
     "metadata": {},
     "output_type": "display_data"
    },
    {
     "data": {
      "text/html": [
       "<font>Ключевые слова:</font>"
      ],
      "text/plain": [
       "<IPython.core.display.HTML object>"
      ]
     },
     "metadata": {},
     "output_type": "display_data"
    },
    {
     "name": "stdout",
     "output_type": "stream",
     "text": [
      "политический общество философия государство философский практика философ институт партия организация правовой политика ключевой повлиять идеология\n"
     ]
    },
    {
     "data": {
      "text/html": [
       "<font>Ссылки:</font>"
      ],
      "text/plain": [
       "<IPython.core.display.HTML object>"
      ]
     },
     "metadata": {},
     "output_type": "display_data"
    },
    {
     "data": {
      "text/html": [
       "<ul><li>http://postnauka.ru/video/12738</li></ul>"
      ],
      "text/plain": [
       "<IPython.core.display.HTML object>"
      ]
     },
     "metadata": {},
     "output_type": "display_data"
    },
    {
     "data": {
      "text/html": [
       "<ul><li>http://postnauka.ru/video/32906</li></ul>"
      ],
      "text/plain": [
       "<IPython.core.display.HTML object>"
      ]
     },
     "metadata": {},
     "output_type": "display_data"
    },
    {
     "data": {
      "text/html": [
       "<ul><li>http://postnauka.ru/video/2526</li></ul>"
      ],
      "text/plain": [
       "<IPython.core.display.HTML object>"
      ]
     },
     "metadata": {},
     "output_type": "display_data"
    },
    {
     "data": {
      "text/html": [
       "<ul><li>http://postnauka.ru/video/53044</li></ul>"
      ],
      "text/plain": [
       "<IPython.core.display.HTML object>"
      ]
     },
     "metadata": {},
     "output_type": "display_data"
    },
    {
     "data": {
      "text/html": [
       "<ul><li>http://postnauka.ru/video/12371</li></ul>"
      ],
      "text/plain": [
       "<IPython.core.display.HTML object>"
      ]
     },
     "metadata": {},
     "output_type": "display_data"
    },
    {
     "data": {
      "text/html": [
       "<ul><li>http://postnauka.ru/video/3418</li></ul>"
      ],
      "text/plain": [
       "<IPython.core.display.HTML object>"
      ]
     },
     "metadata": {},
     "output_type": "display_data"
    },
    {
     "data": {
      "text/html": [
       "<ul><li>http://postnauka.ru/video/9860</li></ul>"
      ],
      "text/plain": [
       "<IPython.core.display.HTML object>"
      ]
     },
     "metadata": {},
     "output_type": "display_data"
    },
    {
     "data": {
      "text/html": [
       "<ul><li>http://postnauka.ru/video/31690</li></ul>"
      ],
      "text/plain": [
       "<IPython.core.display.HTML object>"
      ]
     },
     "metadata": {},
     "output_type": "display_data"
    },
    {
     "data": {
      "text/html": [
       "<ul><li>http://postnauka.ru/video/37965</li></ul>"
      ],
      "text/plain": [
       "<IPython.core.display.HTML object>"
      ]
     },
     "metadata": {},
     "output_type": "display_data"
    },
    {
     "data": {
      "text/html": [
       "<ul><li>http://postnauka.ru/video/26234</li></ul>"
      ],
      "text/plain": [
       "<IPython.core.display.HTML object>"
      ]
     },
     "metadata": {},
     "output_type": "display_data"
    },
    {
     "data": {
      "text/html": [
       "<h1>раса</h1>"
      ],
      "text/plain": [
       "<IPython.core.display.HTML object>"
      ]
     },
     "metadata": {},
     "output_type": "display_data"
    },
    {
     "data": {
      "text/html": [
       "<font>Ключевые слова:</font>"
      ],
      "text/plain": [
       "<IPython.core.display.HTML object>"
      ]
     },
     "metadata": {},
     "output_type": "display_data"
    },
    {
     "name": "stdout",
     "output_type": "stream",
     "text": [
      "раса африка америка остров южный станислав волос нос индия структурный монголоид дробышевский рост штамм индеец\n"
     ]
    },
    {
     "data": {
      "text/html": [
       "<font>Ссылки:</font>"
      ],
      "text/plain": [
       "<IPython.core.display.HTML object>"
      ]
     },
     "metadata": {},
     "output_type": "display_data"
    },
    {
     "data": {
      "text/html": [
       "<ul><li>http://postnauka.ru/video/31707</li></ul>"
      ],
      "text/plain": [
       "<IPython.core.display.HTML object>"
      ]
     },
     "metadata": {},
     "output_type": "display_data"
    },
    {
     "data": {
      "text/html": [
       "<ul><li>http://postnauka.ru/video/32898</li></ul>"
      ],
      "text/plain": [
       "<IPython.core.display.HTML object>"
      ]
     },
     "metadata": {},
     "output_type": "display_data"
    },
    {
     "data": {
      "text/html": [
       "<ul><li>http://postnauka.ru/video/42707</li></ul>"
      ],
      "text/plain": [
       "<IPython.core.display.HTML object>"
      ]
     },
     "metadata": {},
     "output_type": "display_data"
    },
    {
     "data": {
      "text/html": [
       "<ul><li>http://postnauka.ru/video/42735</li></ul>"
      ],
      "text/plain": [
       "<IPython.core.display.HTML object>"
      ]
     },
     "metadata": {},
     "output_type": "display_data"
    },
    {
     "data": {
      "text/html": [
       "<ul><li>http://postnauka.ru/video/37732</li></ul>"
      ],
      "text/plain": [
       "<IPython.core.display.HTML object>"
      ]
     },
     "metadata": {},
     "output_type": "display_data"
    },
    {
     "data": {
      "text/html": [
       "<ul><li>http://postnauka.ru/video/49262</li></ul>"
      ],
      "text/plain": [
       "<IPython.core.display.HTML object>"
      ]
     },
     "metadata": {},
     "output_type": "display_data"
    },
    {
     "data": {
      "text/html": [
       "<ul><li>http://postnauka.ru/video/35150</li></ul>"
      ],
      "text/plain": [
       "<IPython.core.display.HTML object>"
      ]
     },
     "metadata": {},
     "output_type": "display_data"
    },
    {
     "data": {
      "text/html": [
       "<ul><li>http://postnauka.ru/video/40880</li></ul>"
      ],
      "text/plain": [
       "<IPython.core.display.HTML object>"
      ]
     },
     "metadata": {},
     "output_type": "display_data"
    },
    {
     "data": {
      "text/html": [
       "<ul><li>http://postnauka.ru/video/36253</li></ul>"
      ],
      "text/plain": [
       "<IPython.core.display.HTML object>"
      ]
     },
     "metadata": {},
     "output_type": "display_data"
    },
    {
     "data": {
      "text/html": [
       "<ul><li>http://postnauka.ru/video/17397</li></ul>"
      ],
      "text/plain": [
       "<IPython.core.display.HTML object>"
      ]
     },
     "metadata": {},
     "output_type": "display_data"
    },
    {
     "data": {
      "text/html": [
       "<h1>ребенок</h1>"
      ],
      "text/plain": [
       "<IPython.core.display.HTML object>"
      ]
     },
     "metadata": {},
     "output_type": "display_data"
    },
    {
     "data": {
      "text/html": [
       "<font>Ключевые слова:</font>"
      ],
      "text/plain": [
       "<IPython.core.display.HTML object>"
      ]
     },
     "metadata": {},
     "output_type": "display_data"
    },
    {
     "name": "stdout",
     "output_type": "stream",
     "text": [
      "ребенок возраст конфликт кровь взрослый молодой мать сон родитель семья защищать страшный катастрофа старение травма\n"
     ]
    },
    {
     "data": {
      "text/html": [
       "<font>Ссылки:</font>"
      ],
      "text/plain": [
       "<IPython.core.display.HTML object>"
      ]
     },
     "metadata": {},
     "output_type": "display_data"
    },
    {
     "data": {
      "text/html": [
       "<ul><li>http://postnauka.ru/video/22892</li></ul>"
      ],
      "text/plain": [
       "<IPython.core.display.HTML object>"
      ]
     },
     "metadata": {},
     "output_type": "display_data"
    },
    {
     "data": {
      "text/html": [
       "<ul><li>http://postnauka.ru/video/59638</li></ul>"
      ],
      "text/plain": [
       "<IPython.core.display.HTML object>"
      ]
     },
     "metadata": {},
     "output_type": "display_data"
    },
    {
     "data": {
      "text/html": [
       "<ul><li>http://postnauka.ru/video/18613</li></ul>"
      ],
      "text/plain": [
       "<IPython.core.display.HTML object>"
      ]
     },
     "metadata": {},
     "output_type": "display_data"
    },
    {
     "data": {
      "text/html": [
       "<ul><li>http://postnauka.ru/video/30678</li></ul>"
      ],
      "text/plain": [
       "<IPython.core.display.HTML object>"
      ]
     },
     "metadata": {},
     "output_type": "display_data"
    },
    {
     "data": {
      "text/html": [
       "<ul><li>http://postnauka.ru/video/22883</li></ul>"
      ],
      "text/plain": [
       "<IPython.core.display.HTML object>"
      ]
     },
     "metadata": {},
     "output_type": "display_data"
    },
    {
     "data": {
      "text/html": [
       "<ul><li>http://postnauka.ru/video/60527</li></ul>"
      ],
      "text/plain": [
       "<IPython.core.display.HTML object>"
      ]
     },
     "metadata": {},
     "output_type": "display_data"
    },
    {
     "data": {
      "text/html": [
       "<ul><li>http://postnauka.ru/video/57657</li></ul>"
      ],
      "text/plain": [
       "<IPython.core.display.HTML object>"
      ]
     },
     "metadata": {},
     "output_type": "display_data"
    },
    {
     "data": {
      "text/html": [
       "<ul><li>http://postnauka.ru/video/30606</li></ul>"
      ],
      "text/plain": [
       "<IPython.core.display.HTML object>"
      ]
     },
     "metadata": {},
     "output_type": "display_data"
    },
    {
     "data": {
      "text/html": [
       "<ul><li>http://postnauka.ru/video/40266</li></ul>"
      ],
      "text/plain": [
       "<IPython.core.display.HTML object>"
      ]
     },
     "metadata": {},
     "output_type": "display_data"
    },
    {
     "data": {
      "text/html": [
       "<ul><li>http://postnauka.ru/video/6377</li></ul>"
      ],
      "text/plain": [
       "<IPython.core.display.HTML object>"
      ]
     },
     "metadata": {},
     "output_type": "display_data"
    },
    {
     "data": {
      "text/html": [
       "<h1>россия</h1>"
      ],
      "text/plain": [
       "<IPython.core.display.HTML object>"
      ]
     },
     "metadata": {},
     "output_type": "display_data"
    },
    {
     "data": {
      "text/html": [
       "<font>Ключевые слова:</font>"
      ],
      "text/plain": [
       "<IPython.core.display.HTML object>"
      ]
     },
     "metadata": {},
     "output_type": "display_data"
    },
    {
     "name": "stdout",
     "output_type": "stream",
     "text": [
      "россия война советский российский власть германия страна мировой против историк немецкий реформа петр государственный военный\n"
     ]
    },
    {
     "data": {
      "text/html": [
       "<font>Ссылки:</font>"
      ],
      "text/plain": [
       "<IPython.core.display.HTML object>"
      ]
     },
     "metadata": {},
     "output_type": "display_data"
    },
    {
     "data": {
      "text/html": [
       "<ul><li>http://postnauka.ru/video/31183</li></ul>"
      ],
      "text/plain": [
       "<IPython.core.display.HTML object>"
      ]
     },
     "metadata": {},
     "output_type": "display_data"
    },
    {
     "data": {
      "text/html": [
       "<ul><li>http://postnauka.ru/video/35041</li></ul>"
      ],
      "text/plain": [
       "<IPython.core.display.HTML object>"
      ]
     },
     "metadata": {},
     "output_type": "display_data"
    },
    {
     "data": {
      "text/html": [
       "<ul><li>http://postnauka.ru/video/46939</li></ul>"
      ],
      "text/plain": [
       "<IPython.core.display.HTML object>"
      ]
     },
     "metadata": {},
     "output_type": "display_data"
    },
    {
     "data": {
      "text/html": [
       "<ul><li>http://postnauka.ru/video/19574</li></ul>"
      ],
      "text/plain": [
       "<IPython.core.display.HTML object>"
      ]
     },
     "metadata": {},
     "output_type": "display_data"
    },
    {
     "data": {
      "text/html": [
       "<ul><li>http://postnauka.ru/video/51180</li></ul>"
      ],
      "text/plain": [
       "<IPython.core.display.HTML object>"
      ]
     },
     "metadata": {},
     "output_type": "display_data"
    },
    {
     "data": {
      "text/html": [
       "<ul><li>http://postnauka.ru/video/25906</li></ul>"
      ],
      "text/plain": [
       "<IPython.core.display.HTML object>"
      ]
     },
     "metadata": {},
     "output_type": "display_data"
    },
    {
     "data": {
      "text/html": [
       "<ul><li>http://postnauka.ru/video/41895</li></ul>"
      ],
      "text/plain": [
       "<IPython.core.display.HTML object>"
      ]
     },
     "metadata": {},
     "output_type": "display_data"
    },
    {
     "data": {
      "text/html": [
       "<ul><li>http://postnauka.ru/video/29992</li></ul>"
      ],
      "text/plain": [
       "<IPython.core.display.HTML object>"
      ]
     },
     "metadata": {},
     "output_type": "display_data"
    },
    {
     "data": {
      "text/html": [
       "<ul><li>http://postnauka.ru/video/42809</li></ul>"
      ],
      "text/plain": [
       "<IPython.core.display.HTML object>"
      ]
     },
     "metadata": {},
     "output_type": "display_data"
    },
    {
     "data": {
      "text/html": [
       "<ul><li>http://postnauka.ru/video/26667</li></ul>"
      ],
      "text/plain": [
       "<IPython.core.display.HTML object>"
      ]
     },
     "metadata": {},
     "output_type": "display_data"
    },
    {
     "data": {
      "text/html": [
       "<h1>территория</h1>"
      ],
      "text/plain": [
       "<IPython.core.display.HTML object>"
      ]
     },
     "metadata": {},
     "output_type": "display_data"
    },
    {
     "data": {
      "text/html": [
       "<font>Ключевые слова:</font>"
      ],
      "text/plain": [
       "<IPython.core.display.HTML object>"
      ]
     },
     "metadata": {},
     "output_type": "display_data"
    },
    {
     "name": "stdout",
     "output_type": "stream",
     "text": [
      "территория христианский империя народ восток древний письменность регион традиция цивилизация китай памятник христианство северный восточный\n"
     ]
    },
    {
     "data": {
      "text/html": [
       "<font>Ссылки:</font>"
      ],
      "text/plain": [
       "<IPython.core.display.HTML object>"
      ]
     },
     "metadata": {},
     "output_type": "display_data"
    },
    {
     "data": {
      "text/html": [
       "<ul><li>http://postnauka.ru/video/53171</li></ul>"
      ],
      "text/plain": [
       "<IPython.core.display.HTML object>"
      ]
     },
     "metadata": {},
     "output_type": "display_data"
    },
    {
     "data": {
      "text/html": [
       "<ul><li>http://postnauka.ru/video/50071</li></ul>"
      ],
      "text/plain": [
       "<IPython.core.display.HTML object>"
      ]
     },
     "metadata": {},
     "output_type": "display_data"
    },
    {
     "data": {
      "text/html": [
       "<ul><li>http://postnauka.ru/video/59201</li></ul>"
      ],
      "text/plain": [
       "<IPython.core.display.HTML object>"
      ]
     },
     "metadata": {},
     "output_type": "display_data"
    },
    {
     "data": {
      "text/html": [
       "<ul><li>http://postnauka.ru/video/2527</li></ul>"
      ],
      "text/plain": [
       "<IPython.core.display.HTML object>"
      ]
     },
     "metadata": {},
     "output_type": "display_data"
    },
    {
     "data": {
      "text/html": [
       "<ul><li>http://postnauka.ru/video/58742</li></ul>"
      ],
      "text/plain": [
       "<IPython.core.display.HTML object>"
      ]
     },
     "metadata": {},
     "output_type": "display_data"
    },
    {
     "data": {
      "text/html": [
       "<ul><li>http://postnauka.ru/video/50066</li></ul>"
      ],
      "text/plain": [
       "<IPython.core.display.HTML object>"
      ]
     },
     "metadata": {},
     "output_type": "display_data"
    },
    {
     "data": {
      "text/html": [
       "<ul><li>http://postnauka.ru/video/48959</li></ul>"
      ],
      "text/plain": [
       "<IPython.core.display.HTML object>"
      ]
     },
     "metadata": {},
     "output_type": "display_data"
    },
    {
     "data": {
      "text/html": [
       "<ul><li>http://postnauka.ru/video/49203</li></ul>"
      ],
      "text/plain": [
       "<IPython.core.display.HTML object>"
      ]
     },
     "metadata": {},
     "output_type": "display_data"
    },
    {
     "data": {
      "text/html": [
       "<ul><li>http://postnauka.ru/video/10751</li></ul>"
      ],
      "text/plain": [
       "<IPython.core.display.HTML object>"
      ]
     },
     "metadata": {},
     "output_type": "display_data"
    },
    {
     "data": {
      "text/html": [
       "<ul><li>http://postnauka.ru/video/46313</li></ul>"
      ],
      "text/plain": [
       "<IPython.core.display.HTML object>"
      ]
     },
     "metadata": {},
     "output_type": "display_data"
    },
    {
     "data": {
      "text/html": [
       "<h1>растение</h1>"
      ],
      "text/plain": [
       "<IPython.core.display.HTML object>"
      ]
     },
     "metadata": {},
     "output_type": "display_data"
    },
    {
     "data": {
      "text/html": [
       "<font>Ключевые слова:</font>"
      ],
      "text/plain": [
       "<IPython.core.display.HTML object>"
      ]
     },
     "metadata": {},
     "output_type": "display_data"
    },
    {
     "name": "stdout",
     "output_type": "stream",
     "text": [
      "растение орган сердце рак озеро стадия опухоль вода нейронный птица мышца инженерия линзовидный печень экосистема\n"
     ]
    },
    {
     "data": {
      "text/html": [
       "<font>Ссылки:</font>"
      ],
      "text/plain": [
       "<IPython.core.display.HTML object>"
      ]
     },
     "metadata": {},
     "output_type": "display_data"
    },
    {
     "data": {
      "text/html": [
       "<ul><li>http://postnauka.ru/video/46562</li></ul>"
      ],
      "text/plain": [
       "<IPython.core.display.HTML object>"
      ]
     },
     "metadata": {},
     "output_type": "display_data"
    },
    {
     "data": {
      "text/html": [
       "<ul><li>http://postnauka.ru/video/23172</li></ul>"
      ],
      "text/plain": [
       "<IPython.core.display.HTML object>"
      ]
     },
     "metadata": {},
     "output_type": "display_data"
    },
    {
     "data": {
      "text/html": [
       "<ul><li>http://postnauka.ru/video/33793</li></ul>"
      ],
      "text/plain": [
       "<IPython.core.display.HTML object>"
      ]
     },
     "metadata": {},
     "output_type": "display_data"
    },
    {
     "data": {
      "text/html": [
       "<ul><li>http://postnauka.ru/video/51169</li></ul>"
      ],
      "text/plain": [
       "<IPython.core.display.HTML object>"
      ]
     },
     "metadata": {},
     "output_type": "display_data"
    },
    {
     "data": {
      "text/html": [
       "<ul><li>http://postnauka.ru/video/13746</li></ul>"
      ],
      "text/plain": [
       "<IPython.core.display.HTML object>"
      ]
     },
     "metadata": {},
     "output_type": "display_data"
    },
    {
     "data": {
      "text/html": [
       "<ul><li>http://postnauka.ru/video/51501</li></ul>"
      ],
      "text/plain": [
       "<IPython.core.display.HTML object>"
      ]
     },
     "metadata": {},
     "output_type": "display_data"
    },
    {
     "data": {
      "text/html": [
       "<ul><li>http://postnauka.ru/video/59617</li></ul>"
      ],
      "text/plain": [
       "<IPython.core.display.HTML object>"
      ]
     },
     "metadata": {},
     "output_type": "display_data"
    },
    {
     "data": {
      "text/html": [
       "<ul><li>http://postnauka.ru/video/25321</li></ul>"
      ],
      "text/plain": [
       "<IPython.core.display.HTML object>"
      ]
     },
     "metadata": {},
     "output_type": "display_data"
    },
    {
     "data": {
      "text/html": [
       "<ul><li>http://postnauka.ru/video/12156</li></ul>"
      ],
      "text/plain": [
       "<IPython.core.display.HTML object>"
      ]
     },
     "metadata": {},
     "output_type": "display_data"
    },
    {
     "data": {
      "text/html": [
       "<ul><li>http://postnauka.ru/video/40277</li></ul>"
      ],
      "text/plain": [
       "<IPython.core.display.HTML object>"
      ]
     },
     "metadata": {},
     "output_type": "display_data"
    },
    {
     "data": {
      "text/html": [
       "<h1>революция</h1>"
      ],
      "text/plain": [
       "<IPython.core.display.HTML object>"
      ]
     },
     "metadata": {},
     "output_type": "display_data"
    },
    {
     "data": {
      "text/html": [
       "<font>Ключевые слова:</font>"
      ],
      "text/plain": [
       "<IPython.core.display.HTML object>"
      ]
     },
     "metadata": {},
     "output_type": "display_data"
    },
    {
     "name": "stdout",
     "output_type": "stream",
     "text": [
      "революция французский свобода роль франция роман национальный аргумент костюм вовсе сцена нация творчество король общественный\n"
     ]
    },
    {
     "data": {
      "text/html": [
       "<font>Ссылки:</font>"
      ],
      "text/plain": [
       "<IPython.core.display.HTML object>"
      ]
     },
     "metadata": {},
     "output_type": "display_data"
    },
    {
     "data": {
      "text/html": [
       "<ul><li>http://postnauka.ru/video/5396</li></ul>"
      ],
      "text/plain": [
       "<IPython.core.display.HTML object>"
      ]
     },
     "metadata": {},
     "output_type": "display_data"
    },
    {
     "data": {
      "text/html": [
       "<ul><li>http://postnauka.ru/video/48492</li></ul>"
      ],
      "text/plain": [
       "<IPython.core.display.HTML object>"
      ]
     },
     "metadata": {},
     "output_type": "display_data"
    },
    {
     "data": {
      "text/html": [
       "<ul><li>http://postnauka.ru/video/43843</li></ul>"
      ],
      "text/plain": [
       "<IPython.core.display.HTML object>"
      ]
     },
     "metadata": {},
     "output_type": "display_data"
    },
    {
     "data": {
      "text/html": [
       "<ul><li>http://postnauka.ru/video/47823</li></ul>"
      ],
      "text/plain": [
       "<IPython.core.display.HTML object>"
      ]
     },
     "metadata": {},
     "output_type": "display_data"
    },
    {
     "data": {
      "text/html": [
       "<ul><li>http://postnauka.ru/video/45548</li></ul>"
      ],
      "text/plain": [
       "<IPython.core.display.HTML object>"
      ]
     },
     "metadata": {},
     "output_type": "display_data"
    },
    {
     "data": {
      "text/html": [
       "<ul><li>http://postnauka.ru/video/28944</li></ul>"
      ],
      "text/plain": [
       "<IPython.core.display.HTML object>"
      ]
     },
     "metadata": {},
     "output_type": "display_data"
    },
    {
     "data": {
      "text/html": [
       "<ul><li>http://postnauka.ru/video/22079</li></ul>"
      ],
      "text/plain": [
       "<IPython.core.display.HTML object>"
      ]
     },
     "metadata": {},
     "output_type": "display_data"
    },
    {
     "data": {
      "text/html": [
       "<ul><li>http://postnauka.ru/video/54742</li></ul>"
      ],
      "text/plain": [
       "<IPython.core.display.HTML object>"
      ]
     },
     "metadata": {},
     "output_type": "display_data"
    },
    {
     "data": {
      "text/html": [
       "<ul><li>http://postnauka.ru/video/48621</li></ul>"
      ],
      "text/plain": [
       "<IPython.core.display.HTML object>"
      ]
     },
     "metadata": {},
     "output_type": "display_data"
    },
    {
     "data": {
      "text/html": [
       "<ul><li>http://postnauka.ru/video/55533</li></ul>"
      ],
      "text/plain": [
       "<IPython.core.display.HTML object>"
      ]
     },
     "metadata": {},
     "output_type": "display_data"
    },
    {
     "data": {
      "text/html": [
       "<h1>слово</h1>"
      ],
      "text/plain": [
       "<IPython.core.display.HTML object>"
      ]
     },
     "metadata": {},
     "output_type": "display_data"
    },
    {
     "data": {
      "text/html": [
       "<font>Ключевые слова:</font>"
      ],
      "text/plain": [
       "<IPython.core.display.HTML object>"
      ]
     },
     "metadata": {},
     "output_type": "display_data"
    },
    {
     "name": "stdout",
     "output_type": "stream",
     "text": [
      "слово текст словарь категория значение предложение конструкция корпус глагол грамматика лицо поэт контекст устный синтаксический\n"
     ]
    },
    {
     "data": {
      "text/html": [
       "<font>Ссылки:</font>"
      ],
      "text/plain": [
       "<IPython.core.display.HTML object>"
      ]
     },
     "metadata": {},
     "output_type": "display_data"
    },
    {
     "data": {
      "text/html": [
       "<ul><li>http://postnauka.ru/video/6720</li></ul>"
      ],
      "text/plain": [
       "<IPython.core.display.HTML object>"
      ]
     },
     "metadata": {},
     "output_type": "display_data"
    },
    {
     "data": {
      "text/html": [
       "<ul><li>http://postnauka.ru/video/36272</li></ul>"
      ],
      "text/plain": [
       "<IPython.core.display.HTML object>"
      ]
     },
     "metadata": {},
     "output_type": "display_data"
    },
    {
     "data": {
      "text/html": [
       "<ul><li>http://postnauka.ru/video/47548</li></ul>"
      ],
      "text/plain": [
       "<IPython.core.display.HTML object>"
      ]
     },
     "metadata": {},
     "output_type": "display_data"
    },
    {
     "data": {
      "text/html": [
       "<ul><li>http://postnauka.ru/video/30017</li></ul>"
      ],
      "text/plain": [
       "<IPython.core.display.HTML object>"
      ]
     },
     "metadata": {},
     "output_type": "display_data"
    },
    {
     "data": {
      "text/html": [
       "<ul><li>http://postnauka.ru/video/56616</li></ul>"
      ],
      "text/plain": [
       "<IPython.core.display.HTML object>"
      ]
     },
     "metadata": {},
     "output_type": "display_data"
    },
    {
     "data": {
      "text/html": [
       "<ul><li>http://postnauka.ru/video/46559</li></ul>"
      ],
      "text/plain": [
       "<IPython.core.display.HTML object>"
      ]
     },
     "metadata": {},
     "output_type": "display_data"
    },
    {
     "data": {
      "text/html": [
       "<ul><li>http://postnauka.ru/video/48960</li></ul>"
      ],
      "text/plain": [
       "<IPython.core.display.HTML object>"
      ]
     },
     "metadata": {},
     "output_type": "display_data"
    },
    {
     "data": {
      "text/html": [
       "<ul><li>http://postnauka.ru/video/2946</li></ul>"
      ],
      "text/plain": [
       "<IPython.core.display.HTML object>"
      ]
     },
     "metadata": {},
     "output_type": "display_data"
    },
    {
     "data": {
      "text/html": [
       "<ul><li>http://postnauka.ru/video/57524</li></ul>"
      ],
      "text/plain": [
       "<IPython.core.display.HTML object>"
      ]
     },
     "metadata": {},
     "output_type": "display_data"
    },
    {
     "data": {
      "text/html": [
       "<ul><li>http://postnauka.ru/video/51499</li></ul>"
      ],
      "text/plain": [
       "<IPython.core.display.HTML object>"
      ]
     },
     "metadata": {},
     "output_type": "display_data"
    },
    {
     "data": {
      "text/html": [
       "<h1>температура</h1>"
      ],
      "text/plain": [
       "<IPython.core.display.HTML object>"
      ]
     },
     "metadata": {},
     "output_type": "display_data"
    },
    {
     "data": {
      "text/html": [
       "<font>Ключевые слова:</font>"
      ],
      "text/plain": [
       "<IPython.core.display.HTML object>"
      ]
     },
     "metadata": {},
     "output_type": "display_data"
    },
    {
     "name": "stdout",
     "output_type": "stream",
     "text": [
      "температура университет магнитный профессор сверхпроводимость ток дальнейший студент сверхпроводник металл канал сверхпроводящий низкий электроника железо\n"
     ]
    },
    {
     "data": {
      "text/html": [
       "<font>Ссылки:</font>"
      ],
      "text/plain": [
       "<IPython.core.display.HTML object>"
      ]
     },
     "metadata": {},
     "output_type": "display_data"
    },
    {
     "data": {
      "text/html": [
       "<ul><li>http://postnauka.ru/video/2973</li></ul>"
      ],
      "text/plain": [
       "<IPython.core.display.HTML object>"
      ]
     },
     "metadata": {},
     "output_type": "display_data"
    },
    {
     "data": {
      "text/html": [
       "<ul><li>http://postnauka.ru/video/50340</li></ul>"
      ],
      "text/plain": [
       "<IPython.core.display.HTML object>"
      ]
     },
     "metadata": {},
     "output_type": "display_data"
    },
    {
     "data": {
      "text/html": [
       "<ul><li>http://postnauka.ru/video/22314</li></ul>"
      ],
      "text/plain": [
       "<IPython.core.display.HTML object>"
      ]
     },
     "metadata": {},
     "output_type": "display_data"
    },
    {
     "data": {
      "text/html": [
       "<ul><li>http://postnauka.ru/video/31198</li></ul>"
      ],
      "text/plain": [
       "<IPython.core.display.HTML object>"
      ]
     },
     "metadata": {},
     "output_type": "display_data"
    },
    {
     "data": {
      "text/html": [
       "<ul><li>http://postnauka.ru/video/18408</li></ul>"
      ],
      "text/plain": [
       "<IPython.core.display.HTML object>"
      ]
     },
     "metadata": {},
     "output_type": "display_data"
    },
    {
     "data": {
      "text/html": [
       "<ul><li>http://postnauka.ru/video/50699</li></ul>"
      ],
      "text/plain": [
       "<IPython.core.display.HTML object>"
      ]
     },
     "metadata": {},
     "output_type": "display_data"
    },
    {
     "data": {
      "text/html": [
       "<ul><li>http://postnauka.ru/video/56293</li></ul>"
      ],
      "text/plain": [
       "<IPython.core.display.HTML object>"
      ]
     },
     "metadata": {},
     "output_type": "display_data"
    },
    {
     "data": {
      "text/html": [
       "<ul><li>http://postnauka.ru/video/21125</li></ul>"
      ],
      "text/plain": [
       "<IPython.core.display.HTML object>"
      ]
     },
     "metadata": {},
     "output_type": "display_data"
    },
    {
     "data": {
      "text/html": [
       "<ul><li>http://postnauka.ru/video/27835</li></ul>"
      ],
      "text/plain": [
       "<IPython.core.display.HTML object>"
      ]
     },
     "metadata": {},
     "output_type": "display_data"
    },
    {
     "data": {
      "text/html": [
       "<ul><li>http://postnauka.ru/video/24473</li></ul>"
      ],
      "text/plain": [
       "<IPython.core.display.HTML object>"
      ]
     },
     "metadata": {},
     "output_type": "display_data"
    },
    {
     "data": {
      "text/html": [
       "<h1>исторический</h1>"
      ],
      "text/plain": [
       "<IPython.core.display.HTML object>"
      ]
     },
     "metadata": {},
     "output_type": "display_data"
    },
    {
     "data": {
      "text/html": [
       "<font>Ключевые слова:</font>"
      ],
      "text/plain": [
       "<IPython.core.display.HTML object>"
      ]
     },
     "metadata": {},
     "output_type": "display_data"
    },
    {
     "name": "stdout",
     "output_type": "stream",
     "text": [
      "исторический бог миф царь история греческий представление религиозный эпоха спор сюжет имя религия море душа\n"
     ]
    },
    {
     "data": {
      "text/html": [
       "<font>Ссылки:</font>"
      ],
      "text/plain": [
       "<IPython.core.display.HTML object>"
      ]
     },
     "metadata": {},
     "output_type": "display_data"
    },
    {
     "data": {
      "text/html": [
       "<ul><li>http://postnauka.ru/video/10779</li></ul>"
      ],
      "text/plain": [
       "<IPython.core.display.HTML object>"
      ]
     },
     "metadata": {},
     "output_type": "display_data"
    },
    {
     "data": {
      "text/html": [
       "<ul><li>http://postnauka.ru/video/9429</li></ul>"
      ],
      "text/plain": [
       "<IPython.core.display.HTML object>"
      ]
     },
     "metadata": {},
     "output_type": "display_data"
    },
    {
     "data": {
      "text/html": [
       "<ul><li>http://postnauka.ru/video/12527</li></ul>"
      ],
      "text/plain": [
       "<IPython.core.display.HTML object>"
      ]
     },
     "metadata": {},
     "output_type": "display_data"
    },
    {
     "data": {
      "text/html": [
       "<ul><li>http://postnauka.ru/video/21631</li></ul>"
      ],
      "text/plain": [
       "<IPython.core.display.HTML object>"
      ]
     },
     "metadata": {},
     "output_type": "display_data"
    },
    {
     "data": {
      "text/html": [
       "<ul><li>http://postnauka.ru/video/43664</li></ul>"
      ],
      "text/plain": [
       "<IPython.core.display.HTML object>"
      ]
     },
     "metadata": {},
     "output_type": "display_data"
    },
    {
     "data": {
      "text/html": [
       "<ul><li>http://postnauka.ru/video/9997</li></ul>"
      ],
      "text/plain": [
       "<IPython.core.display.HTML object>"
      ]
     },
     "metadata": {},
     "output_type": "display_data"
    },
    {
     "data": {
      "text/html": [
       "<ul><li>http://postnauka.ru/video/47300</li></ul>"
      ],
      "text/plain": [
       "<IPython.core.display.HTML object>"
      ]
     },
     "metadata": {},
     "output_type": "display_data"
    },
    {
     "data": {
      "text/html": [
       "<ul><li>http://postnauka.ru/video/5999</li></ul>"
      ],
      "text/plain": [
       "<IPython.core.display.HTML object>"
      ]
     },
     "metadata": {},
     "output_type": "display_data"
    },
    {
     "data": {
      "text/html": [
       "<ul><li>http://postnauka.ru/video/7065</li></ul>"
      ],
      "text/plain": [
       "<IPython.core.display.HTML object>"
      ]
     },
     "metadata": {},
     "output_type": "display_data"
    },
    {
     "data": {
      "text/html": [
       "<ul><li>http://postnauka.ru/video/7785</li></ul>"
      ],
      "text/plain": [
       "<IPython.core.display.HTML object>"
      ]
     },
     "metadata": {},
     "output_type": "display_data"
    },
    {
     "data": {
      "text/html": [
       "<h1>программа</h1>"
      ],
      "text/plain": [
       "<IPython.core.display.HTML object>"
      ]
     },
     "metadata": {},
     "output_type": "display_data"
    },
    {
     "data": {
      "text/html": [
       "<font>Ключевые слова:</font>"
      ],
      "text/plain": [
       "<IPython.core.display.HTML object>"
      ]
     },
     "metadata": {},
     "output_type": "display_data"
    },
    {
     "name": "stdout",
     "output_type": "stream",
     "text": [
      "программа гласный согласный говор программирование компилятор игра мягкий жест твердость ричард интегрировать галилей столыпин программист\n"
     ]
    },
    {
     "data": {
      "text/html": [
       "<font>Ссылки:</font>"
      ],
      "text/plain": [
       "<IPython.core.display.HTML object>"
      ]
     },
     "metadata": {},
     "output_type": "display_data"
    },
    {
     "data": {
      "text/html": [
       "<ul><li>http://postnauka.ru/video/12375</li></ul>"
      ],
      "text/plain": [
       "<IPython.core.display.HTML object>"
      ]
     },
     "metadata": {},
     "output_type": "display_data"
    },
    {
     "data": {
      "text/html": [
       "<ul><li>http://postnauka.ru/video/48114</li></ul>"
      ],
      "text/plain": [
       "<IPython.core.display.HTML object>"
      ]
     },
     "metadata": {},
     "output_type": "display_data"
    },
    {
     "data": {
      "text/html": [
       "<ul><li>http://postnauka.ru/video/51171</li></ul>"
      ],
      "text/plain": [
       "<IPython.core.display.HTML object>"
      ]
     },
     "metadata": {},
     "output_type": "display_data"
    },
    {
     "data": {
      "text/html": [
       "<ul><li>http://postnauka.ru/video/15341</li></ul>"
      ],
      "text/plain": [
       "<IPython.core.display.HTML object>"
      ]
     },
     "metadata": {},
     "output_type": "display_data"
    },
    {
     "data": {
      "text/html": [
       "<ul><li>http://postnauka.ru/video/47550</li></ul>"
      ],
      "text/plain": [
       "<IPython.core.display.HTML object>"
      ]
     },
     "metadata": {},
     "output_type": "display_data"
    },
    {
     "data": {
      "text/html": [
       "<ul><li>http://postnauka.ru/video/40001</li></ul>"
      ],
      "text/plain": [
       "<IPython.core.display.HTML object>"
      ]
     },
     "metadata": {},
     "output_type": "display_data"
    },
    {
     "data": {
      "text/html": [
       "<ul><li>http://postnauka.ru/video/24461</li></ul>"
      ],
      "text/plain": [
       "<IPython.core.display.HTML object>"
      ]
     },
     "metadata": {},
     "output_type": "display_data"
    },
    {
     "data": {
      "text/html": [
       "<ul><li>http://postnauka.ru/video/35038</li></ul>"
      ],
      "text/plain": [
       "<IPython.core.display.HTML object>"
      ]
     },
     "metadata": {},
     "output_type": "display_data"
    },
    {
     "data": {
      "text/html": [
       "<ul><li>http://postnauka.ru/video/46341</li></ul>"
      ],
      "text/plain": [
       "<IPython.core.display.HTML object>"
      ]
     },
     "metadata": {},
     "output_type": "display_data"
    },
    {
     "data": {
      "text/html": [
       "<ul><li>http://postnauka.ru/video/8964</li></ul>"
      ],
      "text/plain": [
       "<IPython.core.display.HTML object>"
      ]
     },
     "metadata": {},
     "output_type": "display_data"
    },
    {
     "data": {
      "text/html": [
       "<h1>экономический</h1>"
      ],
      "text/plain": [
       "<IPython.core.display.HTML object>"
      ]
     },
     "metadata": {},
     "output_type": "display_data"
    },
    {
     "data": {
      "text/html": [
       "<font>Ключевые слова:</font>"
      ],
      "text/plain": [
       "<IPython.core.display.HTML object>"
      ]
     },
     "metadata": {},
     "output_type": "display_data"
    },
    {
     "name": "stdout",
     "output_type": "stream",
     "text": [
      "экономический страна экономика выбор ценность ресурс идентичность решение кризис проводиться принятие сталин коллективный процедура влияние\n"
     ]
    },
    {
     "data": {
      "text/html": [
       "<font>Ссылки:</font>"
      ],
      "text/plain": [
       "<IPython.core.display.HTML object>"
      ]
     },
     "metadata": {},
     "output_type": "display_data"
    },
    {
     "data": {
      "text/html": [
       "<ul><li>http://postnauka.ru/video/31684</li></ul>"
      ],
      "text/plain": [
       "<IPython.core.display.HTML object>"
      ]
     },
     "metadata": {},
     "output_type": "display_data"
    },
    {
     "data": {
      "text/html": [
       "<ul><li>http://postnauka.ru/video/9389</li></ul>"
      ],
      "text/plain": [
       "<IPython.core.display.HTML object>"
      ]
     },
     "metadata": {},
     "output_type": "display_data"
    },
    {
     "data": {
      "text/html": [
       "<ul><li>http://postnauka.ru/video/7781</li></ul>"
      ],
      "text/plain": [
       "<IPython.core.display.HTML object>"
      ]
     },
     "metadata": {},
     "output_type": "display_data"
    },
    {
     "data": {
      "text/html": [
       "<ul><li>http://postnauka.ru/video/30601</li></ul>"
      ],
      "text/plain": [
       "<IPython.core.display.HTML object>"
      ]
     },
     "metadata": {},
     "output_type": "display_data"
    },
    {
     "data": {
      "text/html": [
       "<ul><li>http://postnauka.ru/video/3605</li></ul>"
      ],
      "text/plain": [
       "<IPython.core.display.HTML object>"
      ]
     },
     "metadata": {},
     "output_type": "display_data"
    },
    {
     "data": {
      "text/html": [
       "<ul><li>http://postnauka.ru/video/28282</li></ul>"
      ],
      "text/plain": [
       "<IPython.core.display.HTML object>"
      ]
     },
     "metadata": {},
     "output_type": "display_data"
    },
    {
     "data": {
      "text/html": [
       "<ul><li>http://postnauka.ru/video/5882</li></ul>"
      ],
      "text/plain": [
       "<IPython.core.display.HTML object>"
      ]
     },
     "metadata": {},
     "output_type": "display_data"
    },
    {
     "data": {
      "text/html": [
       "<ul><li>http://postnauka.ru/video/6497</li></ul>"
      ],
      "text/plain": [
       "<IPython.core.display.HTML object>"
      ]
     },
     "metadata": {},
     "output_type": "display_data"
    },
    {
     "data": {
      "text/html": [
       "<ul><li>http://postnauka.ru/video/13152</li></ul>"
      ],
      "text/plain": [
       "<IPython.core.display.HTML object>"
      ]
     },
     "metadata": {},
     "output_type": "display_data"
    },
    {
     "data": {
      "text/html": [
       "<ul><li>http://postnauka.ru/video/56290</li></ul>"
      ],
      "text/plain": [
       "<IPython.core.display.HTML object>"
      ]
     },
     "metadata": {},
     "output_type": "display_data"
    },
    {
     "data": {
      "text/html": [
       "<h1>клетка</h1>"
      ],
      "text/plain": [
       "<IPython.core.display.HTML object>"
      ]
     },
     "metadata": {},
     "output_type": "display_data"
    },
    {
     "data": {
      "text/html": [
       "<font>Ключевые слова:</font>"
      ],
      "text/plain": [
       "<IPython.core.display.HTML object>"
      ]
     },
     "metadata": {},
     "output_type": "display_data"
    },
    {
     "name": "stdout",
     "output_type": "stream",
     "text": [
      "клетка мозг организм ген днк белок биологический животное генетический нейрон молекулярный геном биология лаборатория бактерия\n"
     ]
    },
    {
     "data": {
      "text/html": [
       "<font>Ссылки:</font>"
      ],
      "text/plain": [
       "<IPython.core.display.HTML object>"
      ]
     },
     "metadata": {},
     "output_type": "display_data"
    },
    {
     "data": {
      "text/html": [
       "<ul><li>http://postnauka.ru/video/19436</li></ul>"
      ],
      "text/plain": [
       "<IPython.core.display.HTML object>"
      ]
     },
     "metadata": {},
     "output_type": "display_data"
    },
    {
     "data": {
      "text/html": [
       "<ul><li>http://postnauka.ru/video/10475</li></ul>"
      ],
      "text/plain": [
       "<IPython.core.display.HTML object>"
      ]
     },
     "metadata": {},
     "output_type": "display_data"
    },
    {
     "data": {
      "text/html": [
       "<ul><li>http://postnauka.ru/video/5915</li></ul>"
      ],
      "text/plain": [
       "<IPython.core.display.HTML object>"
      ]
     },
     "metadata": {},
     "output_type": "display_data"
    },
    {
     "data": {
      "text/html": [
       "<ul><li>http://postnauka.ru/video/10754</li></ul>"
      ],
      "text/plain": [
       "<IPython.core.display.HTML object>"
      ]
     },
     "metadata": {},
     "output_type": "display_data"
    },
    {
     "data": {
      "text/html": [
       "<ul><li>http://postnauka.ru/video/17051</li></ul>"
      ],
      "text/plain": [
       "<IPython.core.display.HTML object>"
      ]
     },
     "metadata": {},
     "output_type": "display_data"
    },
    {
     "data": {
      "text/html": [
       "<ul><li>http://postnauka.ru/video/5390</li></ul>"
      ],
      "text/plain": [
       "<IPython.core.display.HTML object>"
      ]
     },
     "metadata": {},
     "output_type": "display_data"
    },
    {
     "data": {
      "text/html": [
       "<ul><li>http://postnauka.ru/video/9854</li></ul>"
      ],
      "text/plain": [
       "<IPython.core.display.HTML object>"
      ]
     },
     "metadata": {},
     "output_type": "display_data"
    },
    {
     "data": {
      "text/html": [
       "<ul><li>http://postnauka.ru/video/35051</li></ul>"
      ],
      "text/plain": [
       "<IPython.core.display.HTML object>"
      ]
     },
     "metadata": {},
     "output_type": "display_data"
    },
    {
     "data": {
      "text/html": [
       "<ul><li>http://postnauka.ru/video/44252</li></ul>"
      ],
      "text/plain": [
       "<IPython.core.display.HTML object>"
      ]
     },
     "metadata": {},
     "output_type": "display_data"
    },
    {
     "data": {
      "text/html": [
       "<ul><li>http://postnauka.ru/video/6477</li></ul>"
      ],
      "text/plain": [
       "<IPython.core.display.HTML object>"
      ]
     },
     "metadata": {},
     "output_type": "display_data"
    },
    {
     "data": {
      "text/html": [
       "<h1>город</h1>"
      ],
      "text/plain": [
       "<IPython.core.display.HTML object>"
      ]
     },
     "metadata": {},
     "output_type": "display_data"
    },
    {
     "data": {
      "text/html": [
       "<font>Ключевые слова:</font>"
      ],
      "text/plain": [
       "<IPython.core.display.HTML object>"
      ]
     },
     "metadata": {},
     "output_type": "display_data"
    },
    {
     "name": "stdout",
     "output_type": "stream",
     "text": [
      "город технология сеть проект пространство робот городской интернет управление компания пользователь музей технологический библиотека медиа\n"
     ]
    },
    {
     "data": {
      "text/html": [
       "<font>Ссылки:</font>"
      ],
      "text/plain": [
       "<IPython.core.display.HTML object>"
      ]
     },
     "metadata": {},
     "output_type": "display_data"
    },
    {
     "data": {
      "text/html": [
       "<ul><li>http://postnauka.ru/video/13742</li></ul>"
      ],
      "text/plain": [
       "<IPython.core.display.HTML object>"
      ]
     },
     "metadata": {},
     "output_type": "display_data"
    },
    {
     "data": {
      "text/html": [
       "<ul><li>http://postnauka.ru/video/12515</li></ul>"
      ],
      "text/plain": [
       "<IPython.core.display.HTML object>"
      ]
     },
     "metadata": {},
     "output_type": "display_data"
    },
    {
     "data": {
      "text/html": [
       "<ul><li>http://postnauka.ru/video/11634</li></ul>"
      ],
      "text/plain": [
       "<IPython.core.display.HTML object>"
      ]
     },
     "metadata": {},
     "output_type": "display_data"
    },
    {
     "data": {
      "text/html": [
       "<ul><li>http://postnauka.ru/video/47301</li></ul>"
      ],
      "text/plain": [
       "<IPython.core.display.HTML object>"
      ]
     },
     "metadata": {},
     "output_type": "display_data"
    },
    {
     "data": {
      "text/html": [
       "<ul><li>http://postnauka.ru/video/9998</li></ul>"
      ],
      "text/plain": [
       "<IPython.core.display.HTML object>"
      ]
     },
     "metadata": {},
     "output_type": "display_data"
    },
    {
     "data": {
      "text/html": [
       "<ul><li>http://postnauka.ru/video/17604</li></ul>"
      ],
      "text/plain": [
       "<IPython.core.display.HTML object>"
      ]
     },
     "metadata": {},
     "output_type": "display_data"
    },
    {
     "data": {
      "text/html": [
       "<ul><li>http://postnauka.ru/video/7068</li></ul>"
      ],
      "text/plain": [
       "<IPython.core.display.HTML object>"
      ]
     },
     "metadata": {},
     "output_type": "display_data"
    },
    {
     "data": {
      "text/html": [
       "<ul><li>http://postnauka.ru/video/29812</li></ul>"
      ],
      "text/plain": [
       "<IPython.core.display.HTML object>"
      ]
     },
     "metadata": {},
     "output_type": "display_data"
    },
    {
     "data": {
      "text/html": [
       "<ul><li>http://postnauka.ru/video/30026</li></ul>"
      ],
      "text/plain": [
       "<IPython.core.display.HTML object>"
      ]
     },
     "metadata": {},
     "output_type": "display_data"
    },
    {
     "data": {
      "text/html": [
       "<ul><li>http://postnauka.ru/video/32900</li></ul>"
      ],
      "text/plain": [
       "<IPython.core.display.HTML object>"
      ]
     },
     "metadata": {},
     "output_type": "display_data"
    },
    {
     "data": {
      "text/html": [
       "<h1>болезнь</h1>"
      ],
      "text/plain": [
       "<IPython.core.display.HTML object>"
      ]
     },
     "metadata": {},
     "output_type": "display_data"
    },
    {
     "data": {
      "text/html": [
       "<font>Ключевые слова:</font>"
      ],
      "text/plain": [
       "<IPython.core.display.HTML object>"
      ]
     },
     "metadata": {},
     "output_type": "display_data"
    },
    {
     "name": "stdout",
     "output_type": "stream",
     "text": [
      "болезнь заболевание пациент лечение медицина операция врач боль женщина препарат медицинский мужчина нарушение больной диагностика\n"
     ]
    },
    {
     "data": {
      "text/html": [
       "<font>Ссылки:</font>"
      ],
      "text/plain": [
       "<IPython.core.display.HTML object>"
      ]
     },
     "metadata": {},
     "output_type": "display_data"
    },
    {
     "data": {
      "text/html": [
       "<ul><li>http://postnauka.ru/video/2541</li></ul>"
      ],
      "text/plain": [
       "<IPython.core.display.HTML object>"
      ]
     },
     "metadata": {},
     "output_type": "display_data"
    },
    {
     "data": {
      "text/html": [
       "<ul><li>http://postnauka.ru/video/54325</li></ul>"
      ],
      "text/plain": [
       "<IPython.core.display.HTML object>"
      ]
     },
     "metadata": {},
     "output_type": "display_data"
    },
    {
     "data": {
      "text/html": [
       "<ul><li>http://postnauka.ru/video/51384</li></ul>"
      ],
      "text/plain": [
       "<IPython.core.display.HTML object>"
      ]
     },
     "metadata": {},
     "output_type": "display_data"
    },
    {
     "data": {
      "text/html": [
       "<ul><li>http://postnauka.ru/video/27925</li></ul>"
      ],
      "text/plain": [
       "<IPython.core.display.HTML object>"
      ]
     },
     "metadata": {},
     "output_type": "display_data"
    },
    {
     "data": {
      "text/html": [
       "<ul><li>http://postnauka.ru/video/55539</li></ul>"
      ],
      "text/plain": [
       "<IPython.core.display.HTML object>"
      ]
     },
     "metadata": {},
     "output_type": "display_data"
    },
    {
     "data": {
      "text/html": [
       "<ul><li>http://postnauka.ru/video/43853</li></ul>"
      ],
      "text/plain": [
       "<IPython.core.display.HTML object>"
      ]
     },
     "metadata": {},
     "output_type": "display_data"
    },
    {
     "data": {
      "text/html": [
       "<ul><li>http://postnauka.ru/video/13746</li></ul>"
      ],
      "text/plain": [
       "<IPython.core.display.HTML object>"
      ]
     },
     "metadata": {},
     "output_type": "display_data"
    },
    {
     "data": {
      "text/html": [
       "<ul><li>http://postnauka.ru/video/44263</li></ul>"
      ],
      "text/plain": [
       "<IPython.core.display.HTML object>"
      ]
     },
     "metadata": {},
     "output_type": "display_data"
    },
    {
     "data": {
      "text/html": [
       "<ul><li>http://postnauka.ru/video/12974</li></ul>"
      ],
      "text/plain": [
       "<IPython.core.display.HTML object>"
      ]
     },
     "metadata": {},
     "output_type": "display_data"
    },
    {
     "data": {
      "text/html": [
       "<ul><li>http://postnauka.ru/video/49206</li></ul>"
      ],
      "text/plain": [
       "<IPython.core.display.HTML object>"
      ]
     },
     "metadata": {},
     "output_type": "display_data"
    },
    {
     "data": {
      "text/html": [
       "<h1>социальный</h1>"
      ],
      "text/plain": [
       "<IPython.core.display.HTML object>"
      ]
     },
     "metadata": {},
     "output_type": "display_data"
    },
    {
     "data": {
      "text/html": [
       "<font>Ключевые слова:</font>"
      ],
      "text/plain": [
       "<IPython.core.display.HTML object>"
      ]
     },
     "metadata": {},
     "output_type": "display_data"
    },
    {
     "name": "stdout",
     "output_type": "stream",
     "text": [
      "социальный знание объект научный социология смысл дисциплина социологический познание обучение описание объяснение перевод применять виктор\n"
     ]
    },
    {
     "data": {
      "text/html": [
       "<font>Ссылки:</font>"
      ],
      "text/plain": [
       "<IPython.core.display.HTML object>"
      ]
     },
     "metadata": {},
     "output_type": "display_data"
    },
    {
     "data": {
      "text/html": [
       "<ul><li>http://postnauka.ru/video/12083</li></ul>"
      ],
      "text/plain": [
       "<IPython.core.display.HTML object>"
      ]
     },
     "metadata": {},
     "output_type": "display_data"
    },
    {
     "data": {
      "text/html": [
       "<ul><li>http://postnauka.ru/video/3628</li></ul>"
      ],
      "text/plain": [
       "<IPython.core.display.HTML object>"
      ]
     },
     "metadata": {},
     "output_type": "display_data"
    },
    {
     "data": {
      "text/html": [
       "<ul><li>http://postnauka.ru/video/10783</li></ul>"
      ],
      "text/plain": [
       "<IPython.core.display.HTML object>"
      ]
     },
     "metadata": {},
     "output_type": "display_data"
    },
    {
     "data": {
      "text/html": [
       "<ul><li>http://postnauka.ru/video/434</li></ul>"
      ],
      "text/plain": [
       "<IPython.core.display.HTML object>"
      ]
     },
     "metadata": {},
     "output_type": "display_data"
    },
    {
     "data": {
      "text/html": [
       "<ul><li>http://postnauka.ru/video/11640</li></ul>"
      ],
      "text/plain": [
       "<IPython.core.display.HTML object>"
      ]
     },
     "metadata": {},
     "output_type": "display_data"
    },
    {
     "data": {
      "text/html": [
       "<ul><li>http://postnauka.ru/video/17492</li></ul>"
      ],
      "text/plain": [
       "<IPython.core.display.HTML object>"
      ]
     },
     "metadata": {},
     "output_type": "display_data"
    },
    {
     "data": {
      "text/html": [
       "<ul><li>http://postnauka.ru/video/17491</li></ul>"
      ],
      "text/plain": [
       "<IPython.core.display.HTML object>"
      ]
     },
     "metadata": {},
     "output_type": "display_data"
    },
    {
     "data": {
      "text/html": [
       "<ul><li>http://postnauka.ru/video/23361</li></ul>"
      ],
      "text/plain": [
       "<IPython.core.display.HTML object>"
      ]
     },
     "metadata": {},
     "output_type": "display_data"
    },
    {
     "data": {
      "text/html": [
       "<ul><li>http://postnauka.ru/video/6380</li></ul>"
      ],
      "text/plain": [
       "<IPython.core.display.HTML object>"
      ]
     },
     "metadata": {},
     "output_type": "display_data"
    },
    {
     "data": {
      "text/html": [
       "<ul><li>http://postnauka.ru/video/2530</li></ul>"
      ],
      "text/plain": [
       "<IPython.core.display.HTML object>"
      ]
     },
     "metadata": {},
     "output_type": "display_data"
    },
    {
     "data": {
      "text/html": [
       "<h1>модель</h1>"
      ],
      "text/plain": [
       "<IPython.core.display.HTML object>"
      ]
     },
     "metadata": {},
     "output_type": "display_data"
    },
    {
     "data": {
      "text/html": [
       "<font>Ключевые слова:</font>"
      ],
      "text/plain": [
       "<IPython.core.display.HTML object>"
      ]
     },
     "metadata": {},
     "output_type": "display_data"
    },
    {
     "name": "stdout",
     "output_type": "stream",
     "text": [
      "модель сообщество схема матрица микроорганизм эмоция интеллект алгоритм вычислительный эмоциональный функция глубина осуществлять машина реализовать\n"
     ]
    },
    {
     "data": {
      "text/html": [
       "<font>Ссылки:</font>"
      ],
      "text/plain": [
       "<IPython.core.display.HTML object>"
      ]
     },
     "metadata": {},
     "output_type": "display_data"
    },
    {
     "data": {
      "text/html": [
       "<ul><li>http://postnauka.ru/video/2531</li></ul>"
      ],
      "text/plain": [
       "<IPython.core.display.HTML object>"
      ]
     },
     "metadata": {},
     "output_type": "display_data"
    },
    {
     "data": {
      "text/html": [
       "<ul><li>http://postnauka.ru/video/52738</li></ul>"
      ],
      "text/plain": [
       "<IPython.core.display.HTML object>"
      ]
     },
     "metadata": {},
     "output_type": "display_data"
    },
    {
     "data": {
      "text/html": [
       "<ul><li>http://postnauka.ru/video/31671</li></ul>"
      ],
      "text/plain": [
       "<IPython.core.display.HTML object>"
      ]
     },
     "metadata": {},
     "output_type": "display_data"
    },
    {
     "data": {
      "text/html": [
       "<ul><li>http://postnauka.ru/video/2947</li></ul>"
      ],
      "text/plain": [
       "<IPython.core.display.HTML object>"
      ]
     },
     "metadata": {},
     "output_type": "display_data"
    },
    {
     "data": {
      "text/html": [
       "<ul><li>http://postnauka.ru/video/34964</li></ul>"
      ],
      "text/plain": [
       "<IPython.core.display.HTML object>"
      ]
     },
     "metadata": {},
     "output_type": "display_data"
    },
    {
     "data": {
      "text/html": [
       "<ul><li>http://postnauka.ru/video/42416</li></ul>"
      ],
      "text/plain": [
       "<IPython.core.display.HTML object>"
      ]
     },
     "metadata": {},
     "output_type": "display_data"
    },
    {
     "data": {
      "text/html": [
       "<ul><li>http://postnauka.ru/video/3635</li></ul>"
      ],
      "text/plain": [
       "<IPython.core.display.HTML object>"
      ]
     },
     "metadata": {},
     "output_type": "display_data"
    },
    {
     "data": {
      "text/html": [
       "<ul><li>http://postnauka.ru/video/3420</li></ul>"
      ],
      "text/plain": [
       "<IPython.core.display.HTML object>"
      ]
     },
     "metadata": {},
     "output_type": "display_data"
    },
    {
     "data": {
      "text/html": [
       "<ul><li>http://postnauka.ru/video/49437</li></ul>"
      ],
      "text/plain": [
       "<IPython.core.display.HTML object>"
      ]
     },
     "metadata": {},
     "output_type": "display_data"
    },
    {
     "data": {
      "text/html": [
       "<ul><li>http://postnauka.ru/video/37976</li></ul>"
      ],
      "text/plain": [
       "<IPython.core.display.HTML object>"
      ]
     },
     "metadata": {},
     "output_type": "display_data"
    },
    {
     "data": {
      "text/html": [
       "<h1>материал</h1>"
      ],
      "text/plain": [
       "<IPython.core.display.HTML object>"
      ]
     },
     "metadata": {},
     "output_type": "display_data"
    },
    {
     "data": {
      "text/html": [
       "<font>Ключевые слова:</font>"
      ],
      "text/plain": [
       "<IPython.core.display.HTML object>"
      ]
     },
     "metadata": {},
     "output_type": "display_data"
    },
    {
     "name": "stdout",
     "output_type": "stream",
     "text": [
      "материал структура свойство молекула применение электронный углерод поверхность полимер кристалл использование трехмерный алмаз твердый углеродный\n"
     ]
    },
    {
     "data": {
      "text/html": [
       "<font>Ссылки:</font>"
      ],
      "text/plain": [
       "<IPython.core.display.HTML object>"
      ]
     },
     "metadata": {},
     "output_type": "display_data"
    },
    {
     "data": {
      "text/html": [
       "<ul><li>http://postnauka.ru/video/13544</li></ul>"
      ],
      "text/plain": [
       "<IPython.core.display.HTML object>"
      ]
     },
     "metadata": {},
     "output_type": "display_data"
    },
    {
     "data": {
      "text/html": [
       "<ul><li>http://postnauka.ru/video/31182</li></ul>"
      ],
      "text/plain": [
       "<IPython.core.display.HTML object>"
      ]
     },
     "metadata": {},
     "output_type": "display_data"
    },
    {
     "data": {
      "text/html": [
       "<ul><li>http://postnauka.ru/video/41686</li></ul>"
      ],
      "text/plain": [
       "<IPython.core.display.HTML object>"
      ]
     },
     "metadata": {},
     "output_type": "display_data"
    },
    {
     "data": {
      "text/html": [
       "<ul><li>http://postnauka.ru/video/22592</li></ul>"
      ],
      "text/plain": [
       "<IPython.core.display.HTML object>"
      ]
     },
     "metadata": {},
     "output_type": "display_data"
    },
    {
     "data": {
      "text/html": [
       "<ul><li>http://postnauka.ru/video/46379</li></ul>"
      ],
      "text/plain": [
       "<IPython.core.display.HTML object>"
      ]
     },
     "metadata": {},
     "output_type": "display_data"
    },
    {
     "data": {
      "text/html": [
       "<ul><li>http://postnauka.ru/video/36492</li></ul>"
      ],
      "text/plain": [
       "<IPython.core.display.HTML object>"
      ]
     },
     "metadata": {},
     "output_type": "display_data"
    },
    {
     "data": {
      "text/html": [
       "<ul><li>http://postnauka.ru/video/36490</li></ul>"
      ],
      "text/plain": [
       "<IPython.core.display.HTML object>"
      ]
     },
     "metadata": {},
     "output_type": "display_data"
    },
    {
     "data": {
      "text/html": [
       "<ul><li>http://postnauka.ru/video/47818</li></ul>"
      ],
      "text/plain": [
       "<IPython.core.display.HTML object>"
      ]
     },
     "metadata": {},
     "output_type": "display_data"
    },
    {
     "data": {
      "text/html": [
       "<ul><li>http://postnauka.ru/video/36657</li></ul>"
      ],
      "text/plain": [
       "<IPython.core.display.HTML object>"
      ]
     },
     "metadata": {},
     "output_type": "display_data"
    },
    {
     "data": {
      "text/html": [
       "<ul><li>http://postnauka.ru/video/36655</li></ul>"
      ],
      "text/plain": [
       "<IPython.core.display.HTML object>"
      ]
     },
     "metadata": {},
     "output_type": "display_data"
    },
    {
     "data": {
      "text/html": [
       "<h1>право</h1>"
      ],
      "text/plain": [
       "<IPython.core.display.HTML object>"
      ]
     },
     "metadata": {},
     "output_type": "display_data"
    },
    {
     "data": {
      "text/html": [
       "<font>Ключевые слова:</font>"
      ],
      "text/plain": [
       "<IPython.core.display.HTML object>"
      ]
     },
     "metadata": {},
     "output_type": "display_data"
    },
    {
     "name": "stdout",
     "output_type": "stream",
     "text": [
      "право искусство литературный литература юрист произведение юридический писатель должник собственность обязательство владение требование римский исполнение\n"
     ]
    },
    {
     "data": {
      "text/html": [
       "<font>Ссылки:</font>"
      ],
      "text/plain": [
       "<IPython.core.display.HTML object>"
      ]
     },
     "metadata": {},
     "output_type": "display_data"
    },
    {
     "data": {
      "text/html": [
       "<ul><li>http://postnauka.ru/video/17913</li></ul>"
      ],
      "text/plain": [
       "<IPython.core.display.HTML object>"
      ]
     },
     "metadata": {},
     "output_type": "display_data"
    },
    {
     "data": {
      "text/html": [
       "<ul><li>http://postnauka.ru/video/38009</li></ul>"
      ],
      "text/plain": [
       "<IPython.core.display.HTML object>"
      ]
     },
     "metadata": {},
     "output_type": "display_data"
    },
    {
     "data": {
      "text/html": [
       "<ul><li>http://postnauka.ru/video/31688</li></ul>"
      ],
      "text/plain": [
       "<IPython.core.display.HTML object>"
      ]
     },
     "metadata": {},
     "output_type": "display_data"
    },
    {
     "data": {
      "text/html": [
       "<ul><li>http://postnauka.ru/video/34414</li></ul>"
      ],
      "text/plain": [
       "<IPython.core.display.HTML object>"
      ]
     },
     "metadata": {},
     "output_type": "display_data"
    },
    {
     "data": {
      "text/html": [
       "<ul><li>http://postnauka.ru/video/49455</li></ul>"
      ],
      "text/plain": [
       "<IPython.core.display.HTML object>"
      ]
     },
     "metadata": {},
     "output_type": "display_data"
    },
    {
     "data": {
      "text/html": [
       "<ul><li>http://postnauka.ru/video/16822</li></ul>"
      ],
      "text/plain": [
       "<IPython.core.display.HTML object>"
      ]
     },
     "metadata": {},
     "output_type": "display_data"
    },
    {
     "data": {
      "text/html": [
       "<ul><li>http://postnauka.ru/video/17825</li></ul>"
      ],
      "text/plain": [
       "<IPython.core.display.HTML object>"
      ]
     },
     "metadata": {},
     "output_type": "display_data"
    },
    {
     "data": {
      "text/html": [
       "<ul><li>http://postnauka.ru/video/14297</li></ul>"
      ],
      "text/plain": [
       "<IPython.core.display.HTML object>"
      ]
     },
     "metadata": {},
     "output_type": "display_data"
    },
    {
     "data": {
      "text/html": [
       "<ul><li>http://postnauka.ru/video/36715</li></ul>"
      ],
      "text/plain": [
       "<IPython.core.display.HTML object>"
      ]
     },
     "metadata": {},
     "output_type": "display_data"
    },
    {
     "data": {
      "text/html": [
       "<ul><li>http://postnauka.ru/video/39998</li></ul>"
      ],
      "text/plain": [
       "<IPython.core.display.HTML object>"
      ]
     },
     "metadata": {},
     "output_type": "display_data"
    },
    {
     "data": {
      "text/html": [
       "<h1>смерть</h1>"
      ],
      "text/plain": [
       "<IPython.core.display.HTML object>"
      ]
     },
     "metadata": {},
     "output_type": "display_data"
    },
    {
     "data": {
      "text/html": [
       "<font>Ключевые слова:</font>"
      ],
      "text/plain": [
       "<IPython.core.display.HTML object>"
      ]
     },
     "metadata": {},
     "output_type": "display_data"
    },
    {
     "name": "stdout",
     "output_type": "stream",
     "text": [
      "смерть ритуал террор правитель государь служба обряд михаил орден конвент моральный критический подданный монтаньяр диктатура\n"
     ]
    },
    {
     "data": {
      "text/html": [
       "<font>Ссылки:</font>"
      ],
      "text/plain": [
       "<IPython.core.display.HTML object>"
      ]
     },
     "metadata": {},
     "output_type": "display_data"
    },
    {
     "data": {
      "text/html": [
       "<ul><li>http://postnauka.ru/video/1893</li></ul>"
      ],
      "text/plain": [
       "<IPython.core.display.HTML object>"
      ]
     },
     "metadata": {},
     "output_type": "display_data"
    },
    {
     "data": {
      "text/html": [
       "<ul><li>http://postnauka.ru/video/48480</li></ul>"
      ],
      "text/plain": [
       "<IPython.core.display.HTML object>"
      ]
     },
     "metadata": {},
     "output_type": "display_data"
    },
    {
     "data": {
      "text/html": [
       "<ul><li>http://postnauka.ru/video/32882</li></ul>"
      ],
      "text/plain": [
       "<IPython.core.display.HTML object>"
      ]
     },
     "metadata": {},
     "output_type": "display_data"
    },
    {
     "data": {
      "text/html": [
       "<ul><li>http://postnauka.ru/video/37992</li></ul>"
      ],
      "text/plain": [
       "<IPython.core.display.HTML object>"
      ]
     },
     "metadata": {},
     "output_type": "display_data"
    },
    {
     "data": {
      "text/html": [
       "<ul><li>http://postnauka.ru/video/50656</li></ul>"
      ],
      "text/plain": [
       "<IPython.core.display.HTML object>"
      ]
     },
     "metadata": {},
     "output_type": "display_data"
    },
    {
     "data": {
      "text/html": [
       "<ul><li>http://postnauka.ru/video/51331</li></ul>"
      ],
      "text/plain": [
       "<IPython.core.display.HTML object>"
      ]
     },
     "metadata": {},
     "output_type": "display_data"
    },
    {
     "data": {
      "text/html": [
       "<ul><li>http://postnauka.ru/video/1899</li></ul>"
      ],
      "text/plain": [
       "<IPython.core.display.HTML object>"
      ]
     },
     "metadata": {},
     "output_type": "display_data"
    },
    {
     "data": {
      "text/html": [
       "<ul><li>http://postnauka.ru/video/21660</li></ul>"
      ],
      "text/plain": [
       "<IPython.core.display.HTML object>"
      ]
     },
     "metadata": {},
     "output_type": "display_data"
    },
    {
     "data": {
      "text/html": [
       "<ul><li>http://postnauka.ru/video/27967</li></ul>"
      ],
      "text/plain": [
       "<IPython.core.display.HTML object>"
      ]
     },
     "metadata": {},
     "output_type": "display_data"
    },
    {
     "data": {
      "text/html": [
       "<ul><li>http://postnauka.ru/video/42803</li></ul>"
      ],
      "text/plain": [
       "<IPython.core.display.HTML object>"
      ]
     },
     "metadata": {},
     "output_type": "display_data"
    },
    {
     "data": {
      "text/html": [
       "<h1>книга</h1>"
      ],
      "text/plain": [
       "<IPython.core.display.HTML object>"
      ]
     },
     "metadata": {},
     "output_type": "display_data"
    },
    {
     "data": {
      "text/html": [
       "<font>Ключевые слова:</font>"
      ],
      "text/plain": [
       "<IPython.core.display.HTML object>"
      ]
     },
     "metadata": {},
     "output_type": "display_data"
    },
    {
     "name": "stdout",
     "output_type": "stream",
     "text": [
      "книга тема фильм автор статья написать литература посвящать кино опубликовывать документ журнал жанр театр академия\n"
     ]
    },
    {
     "data": {
      "text/html": [
       "<font>Ссылки:</font>"
      ],
      "text/plain": [
       "<IPython.core.display.HTML object>"
      ]
     },
     "metadata": {},
     "output_type": "display_data"
    },
    {
     "data": {
      "text/html": [
       "<ul><li>http://postnauka.ru/video/10759</li></ul>"
      ],
      "text/plain": [
       "<IPython.core.display.HTML object>"
      ]
     },
     "metadata": {},
     "output_type": "display_data"
    },
    {
     "data": {
      "text/html": [
       "<ul><li>http://postnauka.ru/video/39723</li></ul>"
      ],
      "text/plain": [
       "<IPython.core.display.HTML object>"
      ]
     },
     "metadata": {},
     "output_type": "display_data"
    },
    {
     "data": {
      "text/html": [
       "<ul><li>http://postnauka.ru/video/13541</li></ul>"
      ],
      "text/plain": [
       "<IPython.core.display.HTML object>"
      ]
     },
     "metadata": {},
     "output_type": "display_data"
    },
    {
     "data": {
      "text/html": [
       "<ul><li>http://postnauka.ru/video/47204</li></ul>"
      ],
      "text/plain": [
       "<IPython.core.display.HTML object>"
      ]
     },
     "metadata": {},
     "output_type": "display_data"
    },
    {
     "data": {
      "text/html": [
       "<ul><li>http://postnauka.ru/video/38510</li></ul>"
      ],
      "text/plain": [
       "<IPython.core.display.HTML object>"
      ]
     },
     "metadata": {},
     "output_type": "display_data"
    },
    {
     "data": {
      "text/html": [
       "<ul><li>http://postnauka.ru/video/47202</li></ul>"
      ],
      "text/plain": [
       "<IPython.core.display.HTML object>"
      ]
     },
     "metadata": {},
     "output_type": "display_data"
    },
    {
     "data": {
      "text/html": [
       "<ul><li>http://postnauka.ru/video/47208</li></ul>"
      ],
      "text/plain": [
       "<IPython.core.display.HTML object>"
      ]
     },
     "metadata": {},
     "output_type": "display_data"
    },
    {
     "data": {
      "text/html": [
       "<ul><li>http://postnauka.ru/video/42807</li></ul>"
      ],
      "text/plain": [
       "<IPython.core.display.HTML object>"
      ]
     },
     "metadata": {},
     "output_type": "display_data"
    },
    {
     "data": {
      "text/html": [
       "<ul><li>http://postnauka.ru/video/57010</li></ul>"
      ],
      "text/plain": [
       "<IPython.core.display.HTML object>"
      ]
     },
     "metadata": {},
     "output_type": "display_data"
    },
    {
     "data": {
      "text/html": [
       "<ul><li>http://postnauka.ru/video/57127</li></ul>"
      ],
      "text/plain": [
       "<IPython.core.display.HTML object>"
      ]
     },
     "metadata": {},
     "output_type": "display_data"
    },
    {
     "data": {
      "text/html": [
       "<h1>земля</h1>"
      ],
      "text/plain": [
       "<IPython.core.display.HTML object>"
      ]
     },
     "metadata": {},
     "output_type": "display_data"
    },
    {
     "data": {
      "text/html": [
       "<font>Ключевые слова:</font>"
      ],
      "text/plain": [
       "<IPython.core.display.HTML object>"
      ]
     },
     "metadata": {},
     "output_type": "display_data"
    },
    {
     "name": "stdout",
     "output_type": "stream",
     "text": [
      "земля планета вокруг атмосфера солнце образовываться внутренний белый солнечный газ вода карлик спутник поверхность орбита\n"
     ]
    },
    {
     "data": {
      "text/html": [
       "<font>Ссылки:</font>"
      ],
      "text/plain": [
       "<IPython.core.display.HTML object>"
      ]
     },
     "metadata": {},
     "output_type": "display_data"
    },
    {
     "data": {
      "text/html": [
       "<ul><li>http://postnauka.ru/video/53693</li></ul>"
      ],
      "text/plain": [
       "<IPython.core.display.HTML object>"
      ]
     },
     "metadata": {},
     "output_type": "display_data"
    },
    {
     "data": {
      "text/html": [
       "<ul><li>http://postnauka.ru/video/9690</li></ul>"
      ],
      "text/plain": [
       "<IPython.core.display.HTML object>"
      ]
     },
     "metadata": {},
     "output_type": "display_data"
    },
    {
     "data": {
      "text/html": [
       "<ul><li>http://postnauka.ru/video/31695</li></ul>"
      ],
      "text/plain": [
       "<IPython.core.display.HTML object>"
      ]
     },
     "metadata": {},
     "output_type": "display_data"
    },
    {
     "data": {
      "text/html": [
       "<ul><li>http://postnauka.ru/video/32889</li></ul>"
      ],
      "text/plain": [
       "<IPython.core.display.HTML object>"
      ]
     },
     "metadata": {},
     "output_type": "display_data"
    },
    {
     "data": {
      "text/html": [
       "<ul><li>http://postnauka.ru/video/9835</li></ul>"
      ],
      "text/plain": [
       "<IPython.core.display.HTML object>"
      ]
     },
     "metadata": {},
     "output_type": "display_data"
    },
    {
     "data": {
      "text/html": [
       "<ul><li>http://postnauka.ru/video/51364</li></ul>"
      ],
      "text/plain": [
       "<IPython.core.display.HTML object>"
      ]
     },
     "metadata": {},
     "output_type": "display_data"
    },
    {
     "data": {
      "text/html": [
       "<ul><li>http://postnauka.ru/video/36249</li></ul>"
      ],
      "text/plain": [
       "<IPython.core.display.HTML object>"
      ]
     },
     "metadata": {},
     "output_type": "display_data"
    },
    {
     "data": {
      "text/html": [
       "<ul><li>http://postnauka.ru/video/49261</li></ul>"
      ],
      "text/plain": [
       "<IPython.core.display.HTML object>"
      ]
     },
     "metadata": {},
     "output_type": "display_data"
    },
    {
     "data": {
      "text/html": [
       "<ul><li>http://postnauka.ru/video/37994</li></ul>"
      ],
      "text/plain": [
       "<IPython.core.display.HTML object>"
      ]
     },
     "metadata": {},
     "output_type": "display_data"
    },
    {
     "data": {
      "text/html": [
       "<ul><li>http://postnauka.ru/video/24245</li></ul>"
      ],
      "text/plain": [
       "<IPython.core.display.HTML object>"
      ]
     },
     "metadata": {},
     "output_type": "display_data"
    },
    {
     "data": {
      "text/html": [
       "<h1>власть</h1>"
      ],
      "text/plain": [
       "<IPython.core.display.HTML object>"
      ]
     },
     "metadata": {},
     "output_type": "display_data"
    },
    {
     "data": {
      "text/html": [
       "<font>Ключевые слова:</font>"
      ],
      "text/plain": [
       "<IPython.core.display.HTML object>"
      ]
     },
     "metadata": {},
     "output_type": "display_data"
    },
    {
     "name": "stdout",
     "output_type": "stream",
     "text": [
      "власть церковь средневековый император совершать русь римский святой александр папа вера князь король сага знаменитый\n"
     ]
    },
    {
     "data": {
      "text/html": [
       "<font>Ссылки:</font>"
      ],
      "text/plain": [
       "<IPython.core.display.HTML object>"
      ]
     },
     "metadata": {},
     "output_type": "display_data"
    },
    {
     "data": {
      "text/html": [
       "<ul><li>http://postnauka.ru/video/3348</li></ul>"
      ],
      "text/plain": [
       "<IPython.core.display.HTML object>"
      ]
     },
     "metadata": {},
     "output_type": "display_data"
    },
    {
     "data": {
      "text/html": [
       "<ul><li>http://postnauka.ru/video/24030</li></ul>"
      ],
      "text/plain": [
       "<IPython.core.display.HTML object>"
      ]
     },
     "metadata": {},
     "output_type": "display_data"
    },
    {
     "data": {
      "text/html": [
       "<ul><li>http://postnauka.ru/video/23472</li></ul>"
      ],
      "text/plain": [
       "<IPython.core.display.HTML object>"
      ]
     },
     "metadata": {},
     "output_type": "display_data"
    },
    {
     "data": {
      "text/html": [
       "<ul><li>http://postnauka.ru/video/9299</li></ul>"
      ],
      "text/plain": [
       "<IPython.core.display.HTML object>"
      ]
     },
     "metadata": {},
     "output_type": "display_data"
    },
    {
     "data": {
      "text/html": [
       "<ul><li>http://postnauka.ru/video/9968</li></ul>"
      ],
      "text/plain": [
       "<IPython.core.display.HTML object>"
      ]
     },
     "metadata": {},
     "output_type": "display_data"
    },
    {
     "data": {
      "text/html": [
       "<ul><li>http://postnauka.ru/video/31677</li></ul>"
      ],
      "text/plain": [
       "<IPython.core.display.HTML object>"
      ]
     },
     "metadata": {},
     "output_type": "display_data"
    },
    {
     "data": {
      "text/html": [
       "<ul><li>http://postnauka.ru/video/50350</li></ul>"
      ],
      "text/plain": [
       "<IPython.core.display.HTML object>"
      ]
     },
     "metadata": {},
     "output_type": "display_data"
    },
    {
     "data": {
      "text/html": [
       "<ul><li>http://postnauka.ru/video/42999</li></ul>"
      ],
      "text/plain": [
       "<IPython.core.display.HTML object>"
      ]
     },
     "metadata": {},
     "output_type": "display_data"
    },
    {
     "data": {
      "text/html": [
       "<ul><li>http://postnauka.ru/video/50668</li></ul>"
      ],
      "text/plain": [
       "<IPython.core.display.HTML object>"
      ]
     },
     "metadata": {},
     "output_type": "display_data"
    },
    {
     "data": {
      "text/html": [
       "<ul><li>http://postnauka.ru/video/24034</li></ul>"
      ],
      "text/plain": [
       "<IPython.core.display.HTML object>"
      ]
     },
     "metadata": {},
     "output_type": "display_data"
    },
    {
     "data": {
      "text/html": [
       "<h1>культура</h1>"
      ],
      "text/plain": [
       "<IPython.core.display.HTML object>"
      ]
     },
     "metadata": {},
     "output_type": "display_data"
    },
    {
     "data": {
      "text/html": [
       "<font>Ключевые слова:</font>"
      ],
      "text/plain": [
       "<IPython.core.display.HTML object>"
      ]
     },
     "metadata": {},
     "output_type": "display_data"
    },
    {
     "name": "stdout",
     "output_type": "stream",
     "text": [
      "культура понятие культурный опыт восприятие сознание формироваться личность феномен воспринимать ощущение логика чувство михаил предмет\n"
     ]
    },
    {
     "data": {
      "text/html": [
       "<font>Ссылки:</font>"
      ],
      "text/plain": [
       "<IPython.core.display.HTML object>"
      ]
     },
     "metadata": {},
     "output_type": "display_data"
    },
    {
     "data": {
      "text/html": [
       "<ul><li>http://postnauka.ru/video/11034</li></ul>"
      ],
      "text/plain": [
       "<IPython.core.display.HTML object>"
      ]
     },
     "metadata": {},
     "output_type": "display_data"
    },
    {
     "data": {
      "text/html": [
       "<ul><li>http://postnauka.ru/video/5891</li></ul>"
      ],
      "text/plain": [
       "<IPython.core.display.HTML object>"
      ]
     },
     "metadata": {},
     "output_type": "display_data"
    },
    {
     "data": {
      "text/html": [
       "<ul><li>http://postnauka.ru/video/7169</li></ul>"
      ],
      "text/plain": [
       "<IPython.core.display.HTML object>"
      ]
     },
     "metadata": {},
     "output_type": "display_data"
    },
    {
     "data": {
      "text/html": [
       "<ul><li>http://postnauka.ru/video/12740</li></ul>"
      ],
      "text/plain": [
       "<IPython.core.display.HTML object>"
      ]
     },
     "metadata": {},
     "output_type": "display_data"
    },
    {
     "data": {
      "text/html": [
       "<ul><li>http://postnauka.ru/video/12524</li></ul>"
      ],
      "text/plain": [
       "<IPython.core.display.HTML object>"
      ]
     },
     "metadata": {},
     "output_type": "display_data"
    },
    {
     "data": {
      "text/html": [
       "<ul><li>http://postnauka.ru/video/36707</li></ul>"
      ],
      "text/plain": [
       "<IPython.core.display.HTML object>"
      ]
     },
     "metadata": {},
     "output_type": "display_data"
    },
    {
     "data": {
      "text/html": [
       "<ul><li>http://postnauka.ru/video/7747</li></ul>"
      ],
      "text/plain": [
       "<IPython.core.display.HTML object>"
      ]
     },
     "metadata": {},
     "output_type": "display_data"
    },
    {
     "data": {
      "text/html": [
       "<ul><li>http://postnauka.ru/video/20388</li></ul>"
      ],
      "text/plain": [
       "<IPython.core.display.HTML object>"
      ]
     },
     "metadata": {},
     "output_type": "display_data"
    },
    {
     "data": {
      "text/html": [
       "<ul><li>http://postnauka.ru/video/5180</li></ul>"
      ],
      "text/plain": [
       "<IPython.core.display.HTML object>"
      ]
     },
     "metadata": {},
     "output_type": "display_data"
    },
    {
     "data": {
      "text/html": [
       "<ul><li>http://postnauka.ru/video/8623</li></ul>"
      ],
      "text/plain": [
       "<IPython.core.display.HTML object>"
      ]
     },
     "metadata": {},
     "output_type": "display_data"
    },
    {
     "data": {
      "text/html": [
       "<h1>система</h1>"
      ],
      "text/plain": [
       "<IPython.core.display.HTML object>"
      ]
     },
     "metadata": {},
     "output_type": "display_data"
    },
    {
     "data": {
      "text/html": [
       "<font>Ключевые слова:</font>"
      ],
      "text/plain": [
       "<IPython.core.display.HTML object>"
      ]
     },
     "metadata": {},
     "output_type": "display_data"
    },
    {
     "name": "stdout",
     "output_type": "stream",
     "text": [
      "система движение поведение двигаться трудность частота придумывать точность испытывать цикл искусственный час участник положительный относительность\n"
     ]
    },
    {
     "data": {
      "text/html": [
       "<font>Ссылки:</font>"
      ],
      "text/plain": [
       "<IPython.core.display.HTML object>"
      ]
     },
     "metadata": {},
     "output_type": "display_data"
    },
    {
     "data": {
      "text/html": [
       "<ul><li>http://postnauka.ru/video/1856</li></ul>"
      ],
      "text/plain": [
       "<IPython.core.display.HTML object>"
      ]
     },
     "metadata": {},
     "output_type": "display_data"
    },
    {
     "data": {
      "text/html": [
       "<ul><li>http://postnauka.ru/video/51174</li></ul>"
      ],
      "text/plain": [
       "<IPython.core.display.HTML object>"
      ]
     },
     "metadata": {},
     "output_type": "display_data"
    },
    {
     "data": {
      "text/html": [
       "<ul><li>http://postnauka.ru/video/52548</li></ul>"
      ],
      "text/plain": [
       "<IPython.core.display.HTML object>"
      ]
     },
     "metadata": {},
     "output_type": "display_data"
    },
    {
     "data": {
      "text/html": [
       "<ul><li>http://postnauka.ru/video/52553</li></ul>"
      ],
      "text/plain": [
       "<IPython.core.display.HTML object>"
      ]
     },
     "metadata": {},
     "output_type": "display_data"
    },
    {
     "data": {
      "text/html": [
       "<ul><li>http://postnauka.ru/video/56618</li></ul>"
      ],
      "text/plain": [
       "<IPython.core.display.HTML object>"
      ]
     },
     "metadata": {},
     "output_type": "display_data"
    },
    {
     "data": {
      "text/html": [
       "<ul><li>http://postnauka.ru/video/34426</li></ul>"
      ],
      "text/plain": [
       "<IPython.core.display.HTML object>"
      ]
     },
     "metadata": {},
     "output_type": "display_data"
    },
    {
     "data": {
      "text/html": [
       "<ul><li>http://postnauka.ru/video/19509</li></ul>"
      ],
      "text/plain": [
       "<IPython.core.display.HTML object>"
      ]
     },
     "metadata": {},
     "output_type": "display_data"
    },
    {
     "data": {
      "text/html": [
       "<ul><li>http://postnauka.ru/video/21662</li></ul>"
      ],
      "text/plain": [
       "<IPython.core.display.HTML object>"
      ]
     },
     "metadata": {},
     "output_type": "display_data"
    },
    {
     "data": {
      "text/html": [
       "<ul><li>http://postnauka.ru/video/37982</li></ul>"
      ],
      "text/plain": [
       "<IPython.core.display.HTML object>"
      ]
     },
     "metadata": {},
     "output_type": "display_data"
    },
    {
     "data": {
      "text/html": [
       "<ul><li>http://postnauka.ru/video/51382</li></ul>"
      ],
      "text/plain": [
       "<IPython.core.display.HTML object>"
      ]
     },
     "metadata": {},
     "output_type": "display_data"
    },
    {
     "data": {
      "text/html": [
       "<h1>Фоновая тема</h1>"
      ],
      "text/plain": [
       "<IPython.core.display.HTML object>"
      ]
     },
     "metadata": {},
     "output_type": "display_data"
    },
    {
     "data": {
      "text/html": [
       "<font>Ключевые слова:</font>"
      ],
      "text/plain": [
       "<IPython.core.display.HTML object>"
      ]
     },
     "metadata": {},
     "output_type": "display_data"
    },
    {
     "ename": "KeyError",
     "evalue": "'bcg'",
     "output_type": "error",
     "traceback": [
      "\u001b[1;31m---------------------------------------------------------------------------\u001b[0m",
      "\u001b[1;31mKeyError\u001b[0m                                  Traceback (most recent call last)",
      "\u001b[1;32m<ipython-input-316-a0632524884d>\u001b[0m in \u001b[0;36m<module>\u001b[1;34m()\u001b[0m\n\u001b[0;32m      9\u001b[0m     \u001b[0mdisplay\u001b[0m\u001b[1;33m(\u001b[0m\u001b[0mHTML\u001b[0m\u001b[1;33m(\u001b[0m\u001b[1;34mu'<font>Ключевые слова:</font>'\u001b[0m\u001b[1;33m)\u001b[0m\u001b[1;33m)\u001b[0m\u001b[1;33m\u001b[0m\u001b[0m\n\u001b[0;32m     10\u001b[0m     \u001b[0mtokens\u001b[0m \u001b[1;33m=\u001b[0m \u001b[0mmodel_artm\u001b[0m\u001b[1;33m.\u001b[0m\u001b[0mscore_tracker\u001b[0m\u001b[1;33m[\u001b[0m\u001b[1;34m\"TTScore_text\"\u001b[0m\u001b[1;33m]\u001b[0m\u001b[1;33m.\u001b[0m\u001b[0mlast_tokens\u001b[0m\u001b[1;33m\u001b[0m\u001b[0m\n\u001b[1;32m---> 11\u001b[1;33m     \u001b[1;32mfor\u001b[0m \u001b[0mword\u001b[0m \u001b[1;32min\u001b[0m \u001b[0mtokens\u001b[0m\u001b[1;33m[\u001b[0m\u001b[0mname\u001b[0m\u001b[1;33m]\u001b[0m\u001b[1;33m:\u001b[0m\u001b[1;33m\u001b[0m\u001b[0m\n\u001b[0m\u001b[0;32m     12\u001b[0m         \u001b[1;32mprint\u001b[0m \u001b[0mword\u001b[0m\u001b[1;33m,\u001b[0m\u001b[1;33m\u001b[0m\u001b[0m\n\u001b[0;32m     13\u001b[0m     \u001b[1;32mprint\u001b[0m\u001b[1;33m\u001b[0m\u001b[0m\n",
      "\u001b[1;31mKeyError\u001b[0m: 'bcg'"
     ]
    }
   ],
   "source": [
    "# Ваш код\n",
    "import warnings\n",
    "warnings.filterwarnings(\"ignore\")\n",
    "dc={'sbj'+str(num):val for num,val in enumerate(topic_labels[:-1])}\n",
    "dc['bcg']=topic_labels[-1]\n",
    "\n",
    "for name in dc:\n",
    "    display(HTML(u'<h1>'+dc[name]+u'</h1>'))\n",
    "    display(HTML(u'<font>Ключевые слова:</font>'))\n",
    "    tokens = model_artm.score_tracker[\"TTScore_text\"].last_tokens\n",
    "    for word in tokens[name]:    \n",
    "        print word,\n",
    "    print\n",
    "    display(HTML(u'<font>Ссылки:</font>'))\n",
    "    for item in list((P_d_t.ix[dc[name]].sort_values(ascending=False)[:10]).index):\n",
    "        display(HTML(u'<ul><li>'+item+'</li></ul>'))\n"
   ]
  },
  {
   "cell_type": "code",
   "execution_count": 313,
   "metadata": {},
   "outputs": [
    {
     "name": "stdout",
     "output_type": "stream",
     "text": [
      "власть\n"
     ]
    }
   ],
   "source": [
    "\n"
   ]
  },
  {
   "cell_type": "markdown",
   "metadata": {},
   "source": [
    "##### Заключение"
   ]
  },
  {
   "cell_type": "markdown",
   "metadata": {},
   "source": [
    "В этом Peer Review мы познакомились с базовыми возможностями библиотеки BigARTM и с методами визуализации тематических моделей. Визуализация тематических моделей - это широкая и активно развивающаяся область научных исследований. Мы рассмотрели только самые простые приемы. Желающие могут попробовать применить [Serendip](http://vep.cs.wisc.edu/serendip/#serendipHero), разработанный в  University of Wisconsin-Madison, к построенной модели. Эта библиотека позволяет максимально полно охарактеризовать темы и написана для языка python. \n",
    "\n",
    "Сделав задание, вы можете выбрать в навигаторе наиболее интересную для вас тему и посмотреть видеолекции :) На Постнауке очень много интересных материалов. "
   ]
  }
 ],
 "metadata": {
  "kernelspec": {
   "display_name": "Python 3.5.0 [bigartm]",
   "language": "python",
   "name": "bigartm"
  },
  "language_info": {
   "codemirror_mode": {
    "name": "ipython",
    "version": 3
   },
   "file_extension": ".py",
   "mimetype": "text/x-python",
   "name": "python",
   "nbconvert_exporter": "python",
   "pygments_lexer": "ipython3",
   "version": "3.5.0"
  }
 },
 "nbformat": 4,
 "nbformat_minor": 2
}
