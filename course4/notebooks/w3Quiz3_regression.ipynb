{
 "cells": [
  {
   "cell_type": "markdown",
   "metadata": {},
   "source": [
    "# w3Quiz3. Regression"
   ]
  },
  {
   "cell_type": "code",
   "execution_count": 1,
   "metadata": {},
   "outputs": [],
   "source": [
    "import numpy as np\n",
    "import pandas as pd\n",
    "import scipy as sc\n",
    "import matplotlib.pyplot as plt\n",
    "plt.rcParams['patch.force_edgecolor'] = True\n",
    "\n",
    "import statsmodels.formula.api as smf\n",
    "import statsmodels.stats.api as sms"
   ]
  },
  {
   "cell_type": "markdown",
   "metadata": {},
   "source": [
    "___\n",
    "Проанализируем данные опроса 4361 женщин из Ботсваны:\n",
    "О каждой из них мы знаем:\n",
    "\n",
    "- сколько детей она родила (признак **ceb**)\n",
    "- возраст (**age**)\n",
    "- длительность получения образования (**educ**)\n",
    "- религиозная принадлежность (**religion**)\n",
    "- идеальное, по её мнению, количество детей в семье (**idlnchld**)\n",
    "- была ли она когда-нибудь замужем (**evermarr**)\n",
    "- возраст первого замужества (**agefm**)\n",
    "- длительность получения образования мужем (**heduc**)\n",
    "- знает ли она о методах контрацепции (**knowmeth**)\n",
    "- использует ли она методы контрацепции (**usemeth**)\n",
    "- живёт ли она в городе (**urban**)\n",
    "- есть ли у неё электричество, радио, телевизор и велосипед (**electric, radio, tv, bicycle**)\n",
    "\n",
    "Давайте научимся оценивать количество детей ceb по остальным признакам."
   ]
  },
  {
   "cell_type": "code",
   "execution_count": 2,
   "metadata": {},
   "outputs": [
    {
     "data": {
      "text/html": [
       "<div>\n",
       "<style scoped>\n",
       "    .dataframe tbody tr th:only-of-type {\n",
       "        vertical-align: middle;\n",
       "    }\n",
       "\n",
       "    .dataframe tbody tr th {\n",
       "        vertical-align: top;\n",
       "    }\n",
       "\n",
       "    .dataframe thead th {\n",
       "        text-align: right;\n",
       "    }\n",
       "</style>\n",
       "<table border=\"1\" class=\"dataframe\">\n",
       "  <thead>\n",
       "    <tr style=\"text-align: right;\">\n",
       "      <th></th>\n",
       "      <th>ceb</th>\n",
       "      <th>age</th>\n",
       "      <th>educ</th>\n",
       "      <th>religion</th>\n",
       "      <th>idlnchld</th>\n",
       "      <th>knowmeth</th>\n",
       "      <th>usemeth</th>\n",
       "      <th>evermarr</th>\n",
       "      <th>agefm</th>\n",
       "      <th>heduc</th>\n",
       "      <th>urban</th>\n",
       "      <th>electric</th>\n",
       "      <th>radio</th>\n",
       "      <th>tv</th>\n",
       "      <th>bicycle</th>\n",
       "    </tr>\n",
       "  </thead>\n",
       "  <tbody>\n",
       "    <tr>\n",
       "      <th>0</th>\n",
       "      <td>0</td>\n",
       "      <td>18</td>\n",
       "      <td>10</td>\n",
       "      <td>catholic</td>\n",
       "      <td>4.0</td>\n",
       "      <td>1.0</td>\n",
       "      <td>1.0</td>\n",
       "      <td>0</td>\n",
       "      <td>NaN</td>\n",
       "      <td>NaN</td>\n",
       "      <td>1</td>\n",
       "      <td>1.0</td>\n",
       "      <td>1.0</td>\n",
       "      <td>1.0</td>\n",
       "      <td>1.0</td>\n",
       "    </tr>\n",
       "    <tr>\n",
       "      <th>1</th>\n",
       "      <td>2</td>\n",
       "      <td>43</td>\n",
       "      <td>11</td>\n",
       "      <td>protestant</td>\n",
       "      <td>2.0</td>\n",
       "      <td>1.0</td>\n",
       "      <td>1.0</td>\n",
       "      <td>1</td>\n",
       "      <td>20.0</td>\n",
       "      <td>14.0</td>\n",
       "      <td>1</td>\n",
       "      <td>1.0</td>\n",
       "      <td>1.0</td>\n",
       "      <td>1.0</td>\n",
       "      <td>1.0</td>\n",
       "    </tr>\n",
       "    <tr>\n",
       "      <th>2</th>\n",
       "      <td>0</td>\n",
       "      <td>49</td>\n",
       "      <td>4</td>\n",
       "      <td>spirit</td>\n",
       "      <td>4.0</td>\n",
       "      <td>1.0</td>\n",
       "      <td>0.0</td>\n",
       "      <td>1</td>\n",
       "      <td>22.0</td>\n",
       "      <td>1.0</td>\n",
       "      <td>1</td>\n",
       "      <td>1.0</td>\n",
       "      <td>1.0</td>\n",
       "      <td>0.0</td>\n",
       "      <td>0.0</td>\n",
       "    </tr>\n",
       "    <tr>\n",
       "      <th>3</th>\n",
       "      <td>0</td>\n",
       "      <td>24</td>\n",
       "      <td>12</td>\n",
       "      <td>other</td>\n",
       "      <td>2.0</td>\n",
       "      <td>1.0</td>\n",
       "      <td>0.0</td>\n",
       "      <td>0</td>\n",
       "      <td>NaN</td>\n",
       "      <td>NaN</td>\n",
       "      <td>1</td>\n",
       "      <td>1.0</td>\n",
       "      <td>1.0</td>\n",
       "      <td>1.0</td>\n",
       "      <td>1.0</td>\n",
       "    </tr>\n",
       "    <tr>\n",
       "      <th>4</th>\n",
       "      <td>3</td>\n",
       "      <td>32</td>\n",
       "      <td>13</td>\n",
       "      <td>other</td>\n",
       "      <td>3.0</td>\n",
       "      <td>1.0</td>\n",
       "      <td>1.0</td>\n",
       "      <td>1</td>\n",
       "      <td>24.0</td>\n",
       "      <td>12.0</td>\n",
       "      <td>1</td>\n",
       "      <td>1.0</td>\n",
       "      <td>1.0</td>\n",
       "      <td>1.0</td>\n",
       "      <td>1.0</td>\n",
       "    </tr>\n",
       "  </tbody>\n",
       "</table>\n",
       "</div>"
      ],
      "text/plain": [
       "   ceb  age  educ    religion  idlnchld  knowmeth  usemeth  evermarr  agefm  \\\n",
       "0    0   18    10    catholic       4.0       1.0      1.0         0    NaN   \n",
       "1    2   43    11  protestant       2.0       1.0      1.0         1   20.0   \n",
       "2    0   49     4      spirit       4.0       1.0      0.0         1   22.0   \n",
       "3    0   24    12       other       2.0       1.0      0.0         0    NaN   \n",
       "4    3   32    13       other       3.0       1.0      1.0         1   24.0   \n",
       "\n",
       "   heduc  urban  electric  radio   tv  bicycle  \n",
       "0    NaN      1       1.0    1.0  1.0      1.0  \n",
       "1   14.0      1       1.0    1.0  1.0      1.0  \n",
       "2    1.0      1       1.0    1.0  0.0      0.0  \n",
       "3    NaN      1       1.0    1.0  1.0      1.0  \n",
       "4   12.0      1       1.0    1.0  1.0      1.0  "
      ]
     },
     "execution_count": 2,
     "metadata": {},
     "output_type": "execute_result"
    }
   ],
   "source": [
    "df = pd.read_csv('data/botswana.tsv', sep='\\t')\n",
    "df.head()"
   ]
  },
  {
   "cell_type": "markdown",
   "metadata": {},
   "source": [
    "___\n",
    "В разных признаках пропуски возникают по разным причинам и должны обрабатываться по-разному.\n",
    "\n",
    "Например, в признаке agefm пропуски стоят только там, где evermarr=0, то есть, они соответствуют женщинам, никогда не выходившим замуж. Таким образом, для этого признака NaN соответствует значению \"не применимо\".\n",
    "\n",
    "В подобных случаях, когда признак $x_1$ на части объектов в принципе не может принимать никакие значения, рекомендуется поступать так:\n",
    "\n",
    "- создать новый бинарный признак\n",
    "$$\n",
    "    x_1 =\n",
    "    \\begin{cases}\n",
    "        1, & x_1=\\text{не применимо;} \\\\\n",
    "        0, & \\text{иначе}\n",
    "    \\end{cases}\n",
    "$$\n",
    "\n",
    "- заменить \"не применимо\" в $x_1$ на произвольную константу c, которая среди других значений $x_1$ не встречается.\n",
    "\n",
    "Теперь, когда мы построим регрессию на оба признака и получим модель вида:\n",
    "$$ y = \\beta_0 + \\beta_1 x_1 + \\beta_2 x_2 $$\n",
    "на тех объектах, где $x_1$ было измерено, регрессионное уравнение примет вид:\n",
    "$$ y = \\beta_0 + \\beta_1 x $$\n",
    "а там, где $x_1$ было \"не применимо\", получится:\n",
    "$$ y = \\beta_0 + \\beta_1 c + \\beta_2 $$\n",
    "Выбор c влияет только на значение и интерпретацию $\\beta_2$, но не $\\beta_1$.\n",
    "\n",
    "Давайте используем этот метод для обработки пропусков в agefm и heduc.\n",
    "\n",
    "- Создайте признак nevermarr, равный единице там, где в agefm пропуски.\n",
    "- Удалите признак evermarr — в сумме с nevermarr он даёт константу, значит, в нашей матрице X будет мультиколлинеарность.\n",
    "- Замените NaN в признаке agefm на $c_{agefm}=0$.\n",
    "- У объектов, где nevermarr = 1, замените NaN в признаке heduc на $c_{heduc1}=-1$(ноль использовать нельзя, так как он уже встречается у некоторых объектов выборки)."
   ]
  },
  {
   "cell_type": "code",
   "execution_count": 3,
   "metadata": {},
   "outputs": [
    {
     "data": {
      "text/html": [
       "<div>\n",
       "<style scoped>\n",
       "    .dataframe tbody tr th:only-of-type {\n",
       "        vertical-align: middle;\n",
       "    }\n",
       "\n",
       "    .dataframe tbody tr th {\n",
       "        vertical-align: top;\n",
       "    }\n",
       "\n",
       "    .dataframe thead th {\n",
       "        text-align: right;\n",
       "    }\n",
       "</style>\n",
       "<table border=\"1\" class=\"dataframe\">\n",
       "  <thead>\n",
       "    <tr style=\"text-align: right;\">\n",
       "      <th></th>\n",
       "      <th>ceb</th>\n",
       "      <th>age</th>\n",
       "      <th>educ</th>\n",
       "      <th>religion</th>\n",
       "      <th>idlnchld</th>\n",
       "      <th>knowmeth</th>\n",
       "      <th>usemeth</th>\n",
       "      <th>agefm</th>\n",
       "      <th>heduc</th>\n",
       "      <th>urban</th>\n",
       "      <th>electric</th>\n",
       "      <th>radio</th>\n",
       "      <th>tv</th>\n",
       "      <th>bicycle</th>\n",
       "      <th>nevermarr</th>\n",
       "    </tr>\n",
       "  </thead>\n",
       "  <tbody>\n",
       "    <tr>\n",
       "      <th>0</th>\n",
       "      <td>0</td>\n",
       "      <td>18</td>\n",
       "      <td>10</td>\n",
       "      <td>catholic</td>\n",
       "      <td>4.0</td>\n",
       "      <td>1.0</td>\n",
       "      <td>1.0</td>\n",
       "      <td>0.0</td>\n",
       "      <td>-1.0</td>\n",
       "      <td>1</td>\n",
       "      <td>1.0</td>\n",
       "      <td>1.0</td>\n",
       "      <td>1.0</td>\n",
       "      <td>1.0</td>\n",
       "      <td>1.0</td>\n",
       "    </tr>\n",
       "    <tr>\n",
       "      <th>1</th>\n",
       "      <td>2</td>\n",
       "      <td>43</td>\n",
       "      <td>11</td>\n",
       "      <td>protestant</td>\n",
       "      <td>2.0</td>\n",
       "      <td>1.0</td>\n",
       "      <td>1.0</td>\n",
       "      <td>20.0</td>\n",
       "      <td>14.0</td>\n",
       "      <td>1</td>\n",
       "      <td>1.0</td>\n",
       "      <td>1.0</td>\n",
       "      <td>1.0</td>\n",
       "      <td>1.0</td>\n",
       "      <td>0.0</td>\n",
       "    </tr>\n",
       "    <tr>\n",
       "      <th>2</th>\n",
       "      <td>0</td>\n",
       "      <td>49</td>\n",
       "      <td>4</td>\n",
       "      <td>spirit</td>\n",
       "      <td>4.0</td>\n",
       "      <td>1.0</td>\n",
       "      <td>0.0</td>\n",
       "      <td>22.0</td>\n",
       "      <td>1.0</td>\n",
       "      <td>1</td>\n",
       "      <td>1.0</td>\n",
       "      <td>1.0</td>\n",
       "      <td>0.0</td>\n",
       "      <td>0.0</td>\n",
       "      <td>0.0</td>\n",
       "    </tr>\n",
       "    <tr>\n",
       "      <th>3</th>\n",
       "      <td>0</td>\n",
       "      <td>24</td>\n",
       "      <td>12</td>\n",
       "      <td>other</td>\n",
       "      <td>2.0</td>\n",
       "      <td>1.0</td>\n",
       "      <td>0.0</td>\n",
       "      <td>0.0</td>\n",
       "      <td>-1.0</td>\n",
       "      <td>1</td>\n",
       "      <td>1.0</td>\n",
       "      <td>1.0</td>\n",
       "      <td>1.0</td>\n",
       "      <td>1.0</td>\n",
       "      <td>1.0</td>\n",
       "    </tr>\n",
       "    <tr>\n",
       "      <th>4</th>\n",
       "      <td>3</td>\n",
       "      <td>32</td>\n",
       "      <td>13</td>\n",
       "      <td>other</td>\n",
       "      <td>3.0</td>\n",
       "      <td>1.0</td>\n",
       "      <td>1.0</td>\n",
       "      <td>24.0</td>\n",
       "      <td>12.0</td>\n",
       "      <td>1</td>\n",
       "      <td>1.0</td>\n",
       "      <td>1.0</td>\n",
       "      <td>1.0</td>\n",
       "      <td>1.0</td>\n",
       "      <td>0.0</td>\n",
       "    </tr>\n",
       "  </tbody>\n",
       "</table>\n",
       "</div>"
      ],
      "text/plain": [
       "   ceb  age  educ    religion  idlnchld  knowmeth  usemeth  agefm  heduc  \\\n",
       "0    0   18    10    catholic       4.0       1.0      1.0    0.0   -1.0   \n",
       "1    2   43    11  protestant       2.0       1.0      1.0   20.0   14.0   \n",
       "2    0   49     4      spirit       4.0       1.0      0.0   22.0    1.0   \n",
       "3    0   24    12       other       2.0       1.0      0.0    0.0   -1.0   \n",
       "4    3   32    13       other       3.0       1.0      1.0   24.0   12.0   \n",
       "\n",
       "   urban  electric  radio   tv  bicycle  nevermarr  \n",
       "0      1       1.0    1.0  1.0      1.0        1.0  \n",
       "1      1       1.0    1.0  1.0      1.0        0.0  \n",
       "2      1       1.0    1.0  0.0      0.0        0.0  \n",
       "3      1       1.0    1.0  1.0      1.0        1.0  \n",
       "4      1       1.0    1.0  1.0      1.0        0.0  "
      ]
     },
     "execution_count": 3,
     "metadata": {},
     "output_type": "execute_result"
    }
   ],
   "source": [
    "df['nevermarr'] = (df.agefm * 0).fillna(1)\n",
    "df = df.drop('evermarr', axis=1)\n",
    "df['agefm'] = df['agefm'].fillna(0)\n",
    "df.heduc = df.heduc.where(df.nevermarr==0, other=-1)\n",
    "df.head()"
   ]
  },
  {
   "cell_type": "code",
   "execution_count": 4,
   "metadata": {},
   "outputs": [
    {
     "data": {
      "text/plain": [
       "False    4238\n",
       "True      123\n",
       "Name: heduc, dtype: int64"
      ]
     },
     "execution_count": 4,
     "metadata": {},
     "output_type": "execute_result"
    }
   ],
   "source": [
    "df.heduc.isna().value_counts()"
   ]
  },
  {
   "cell_type": "code",
   "execution_count": 5,
   "metadata": {},
   "outputs": [
    {
     "data": {
      "text/plain": [
       "ceb            0\n",
       "age            0\n",
       "educ           0\n",
       "religion       0\n",
       "idlnchld     120\n",
       "knowmeth       7\n",
       "usemeth       71\n",
       "agefm          0\n",
       "heduc        123\n",
       "urban          0\n",
       "electric       3\n",
       "radio          2\n",
       "tv             2\n",
       "bicycle        3\n",
       "nevermarr      0\n",
       "dtype: int64"
      ]
     },
     "execution_count": 5,
     "metadata": {},
     "output_type": "execute_result"
    }
   ],
   "source": [
    "df.isna().sum()"
   ]
  },
  {
   "cell_type": "markdown",
   "metadata": {},
   "source": [
    "___\n",
    "Избавимся от оставшихся пропусков.\n",
    "\n",
    "Для признаков idlnchld, heduc и usemeth проведите операцию, аналогичную предыдущей: создайте индикаторы пропусков по этим признакам (idlnchld_noans, heduc_noans, usemeth_noans), замените пропуски на нехарактерные значения ($c_{idlnchld} = -1$, $c_{heduc_2} = -2$ (значение -1 мы уже использовали), $c_{usemeth} = -1$).\n",
    "\n",
    "Остались только пропуски в признаках knowmeth, electric, radio, tv и bicycle. Их очень мало, так что удалите объекты, на которых их значения пропущены.\n",
    "\n",
    "Какого размера теперь наша матрица данных? Умножьте количество строк на количество всех столбцов (включая отклик ceb)."
   ]
  },
  {
   "cell_type": "code",
   "execution_count": 7,
   "metadata": {},
   "outputs": [
    {
     "data": {
      "text/plain": [
       "array([ 4.,  2.,  3.,  5.,  6.,  1., nan,  0., 11., 10.,  8.,  7., 20.,\n",
       "        9., 14., 17., 12., 15., 16., 13.])"
      ]
     },
     "execution_count": 7,
     "metadata": {},
     "output_type": "execute_result"
    }
   ],
   "source": [
    "df.idlnchld.unique()"
   ]
  },
  {
   "cell_type": "code",
   "execution_count": 8,
   "metadata": {},
   "outputs": [
    {
     "data": {
      "text/html": [
       "<div>\n",
       "<style scoped>\n",
       "    .dataframe tbody tr th:only-of-type {\n",
       "        vertical-align: middle;\n",
       "    }\n",
       "\n",
       "    .dataframe tbody tr th {\n",
       "        vertical-align: top;\n",
       "    }\n",
       "\n",
       "    .dataframe thead th {\n",
       "        text-align: right;\n",
       "    }\n",
       "</style>\n",
       "<table border=\"1\" class=\"dataframe\">\n",
       "  <thead>\n",
       "    <tr style=\"text-align: right;\">\n",
       "      <th></th>\n",
       "      <th>ceb</th>\n",
       "      <th>age</th>\n",
       "      <th>educ</th>\n",
       "      <th>religion</th>\n",
       "      <th>idlnchld</th>\n",
       "      <th>knowmeth</th>\n",
       "      <th>usemeth</th>\n",
       "      <th>agefm</th>\n",
       "      <th>heduc</th>\n",
       "      <th>urban</th>\n",
       "      <th>electric</th>\n",
       "      <th>radio</th>\n",
       "      <th>tv</th>\n",
       "      <th>bicycle</th>\n",
       "      <th>nevermarr</th>\n",
       "      <th>idlnchld_noans</th>\n",
       "      <th>heduc_noans</th>\n",
       "      <th>usemeth_noans</th>\n",
       "    </tr>\n",
       "  </thead>\n",
       "  <tbody>\n",
       "    <tr>\n",
       "      <th>0</th>\n",
       "      <td>0</td>\n",
       "      <td>18</td>\n",
       "      <td>10</td>\n",
       "      <td>catholic</td>\n",
       "      <td>4.0</td>\n",
       "      <td>1.0</td>\n",
       "      <td>1.0</td>\n",
       "      <td>0.0</td>\n",
       "      <td>-1.0</td>\n",
       "      <td>1</td>\n",
       "      <td>1.0</td>\n",
       "      <td>1.0</td>\n",
       "      <td>1.0</td>\n",
       "      <td>1.0</td>\n",
       "      <td>1.0</td>\n",
       "      <td>0.0</td>\n",
       "      <td>-0.0</td>\n",
       "      <td>0.0</td>\n",
       "    </tr>\n",
       "    <tr>\n",
       "      <th>1</th>\n",
       "      <td>2</td>\n",
       "      <td>43</td>\n",
       "      <td>11</td>\n",
       "      <td>protestant</td>\n",
       "      <td>2.0</td>\n",
       "      <td>1.0</td>\n",
       "      <td>1.0</td>\n",
       "      <td>20.0</td>\n",
       "      <td>14.0</td>\n",
       "      <td>1</td>\n",
       "      <td>1.0</td>\n",
       "      <td>1.0</td>\n",
       "      <td>1.0</td>\n",
       "      <td>1.0</td>\n",
       "      <td>0.0</td>\n",
       "      <td>0.0</td>\n",
       "      <td>0.0</td>\n",
       "      <td>0.0</td>\n",
       "    </tr>\n",
       "    <tr>\n",
       "      <th>2</th>\n",
       "      <td>0</td>\n",
       "      <td>49</td>\n",
       "      <td>4</td>\n",
       "      <td>spirit</td>\n",
       "      <td>4.0</td>\n",
       "      <td>1.0</td>\n",
       "      <td>0.0</td>\n",
       "      <td>22.0</td>\n",
       "      <td>1.0</td>\n",
       "      <td>1</td>\n",
       "      <td>1.0</td>\n",
       "      <td>1.0</td>\n",
       "      <td>0.0</td>\n",
       "      <td>0.0</td>\n",
       "      <td>0.0</td>\n",
       "      <td>0.0</td>\n",
       "      <td>0.0</td>\n",
       "      <td>0.0</td>\n",
       "    </tr>\n",
       "    <tr>\n",
       "      <th>3</th>\n",
       "      <td>0</td>\n",
       "      <td>24</td>\n",
       "      <td>12</td>\n",
       "      <td>other</td>\n",
       "      <td>2.0</td>\n",
       "      <td>1.0</td>\n",
       "      <td>0.0</td>\n",
       "      <td>0.0</td>\n",
       "      <td>-1.0</td>\n",
       "      <td>1</td>\n",
       "      <td>1.0</td>\n",
       "      <td>1.0</td>\n",
       "      <td>1.0</td>\n",
       "      <td>1.0</td>\n",
       "      <td>1.0</td>\n",
       "      <td>0.0</td>\n",
       "      <td>-0.0</td>\n",
       "      <td>0.0</td>\n",
       "    </tr>\n",
       "    <tr>\n",
       "      <th>4</th>\n",
       "      <td>3</td>\n",
       "      <td>32</td>\n",
       "      <td>13</td>\n",
       "      <td>other</td>\n",
       "      <td>3.0</td>\n",
       "      <td>1.0</td>\n",
       "      <td>1.0</td>\n",
       "      <td>24.0</td>\n",
       "      <td>12.0</td>\n",
       "      <td>1</td>\n",
       "      <td>1.0</td>\n",
       "      <td>1.0</td>\n",
       "      <td>1.0</td>\n",
       "      <td>1.0</td>\n",
       "      <td>0.0</td>\n",
       "      <td>0.0</td>\n",
       "      <td>0.0</td>\n",
       "      <td>0.0</td>\n",
       "    </tr>\n",
       "  </tbody>\n",
       "</table>\n",
       "</div>"
      ],
      "text/plain": [
       "   ceb  age  educ    religion  idlnchld  knowmeth  usemeth  agefm  heduc  \\\n",
       "0    0   18    10    catholic       4.0       1.0      1.0    0.0   -1.0   \n",
       "1    2   43    11  protestant       2.0       1.0      1.0   20.0   14.0   \n",
       "2    0   49     4      spirit       4.0       1.0      0.0   22.0    1.0   \n",
       "3    0   24    12       other       2.0       1.0      0.0    0.0   -1.0   \n",
       "4    3   32    13       other       3.0       1.0      1.0   24.0   12.0   \n",
       "\n",
       "   urban  electric  radio   tv  bicycle  nevermarr  idlnchld_noans  \\\n",
       "0      1       1.0    1.0  1.0      1.0        1.0             0.0   \n",
       "1      1       1.0    1.0  1.0      1.0        0.0             0.0   \n",
       "2      1       1.0    1.0  0.0      0.0        0.0             0.0   \n",
       "3      1       1.0    1.0  1.0      1.0        1.0             0.0   \n",
       "4      1       1.0    1.0  1.0      1.0        0.0             0.0   \n",
       "\n",
       "   heduc_noans  usemeth_noans  \n",
       "0         -0.0            0.0  \n",
       "1          0.0            0.0  \n",
       "2          0.0            0.0  \n",
       "3         -0.0            0.0  \n",
       "4          0.0            0.0  "
      ]
     },
     "execution_count": 8,
     "metadata": {},
     "output_type": "execute_result"
    }
   ],
   "source": [
    "df['idlnchld_noans'] = (df.idlnchld * 0).fillna(0.1)\n",
    "df['heduc_noans'] = (df.heduc * 0).fillna(0.1)\n",
    "df['usemeth_noans'] = (df.usemeth * 0).fillna(0.1)\n",
    "df.head()"
   ]
  },
  {
   "cell_type": "code",
   "execution_count": 9,
   "metadata": {},
   "outputs": [
    {
     "data": {
      "text/html": [
       "<div>\n",
       "<style scoped>\n",
       "    .dataframe tbody tr th:only-of-type {\n",
       "        vertical-align: middle;\n",
       "    }\n",
       "\n",
       "    .dataframe tbody tr th {\n",
       "        vertical-align: top;\n",
       "    }\n",
       "\n",
       "    .dataframe thead th {\n",
       "        text-align: right;\n",
       "    }\n",
       "</style>\n",
       "<table border=\"1\" class=\"dataframe\">\n",
       "  <thead>\n",
       "    <tr style=\"text-align: right;\">\n",
       "      <th></th>\n",
       "      <th>ceb</th>\n",
       "      <th>age</th>\n",
       "      <th>educ</th>\n",
       "      <th>religion</th>\n",
       "      <th>idlnchld</th>\n",
       "      <th>knowmeth</th>\n",
       "      <th>usemeth</th>\n",
       "      <th>agefm</th>\n",
       "      <th>heduc</th>\n",
       "      <th>urban</th>\n",
       "      <th>electric</th>\n",
       "      <th>radio</th>\n",
       "      <th>tv</th>\n",
       "      <th>bicycle</th>\n",
       "      <th>nevermarr</th>\n",
       "      <th>idlnchld_noans</th>\n",
       "      <th>heduc_noans</th>\n",
       "      <th>usemeth_noans</th>\n",
       "    </tr>\n",
       "  </thead>\n",
       "  <tbody>\n",
       "    <tr>\n",
       "      <th>0</th>\n",
       "      <td>0</td>\n",
       "      <td>18</td>\n",
       "      <td>10</td>\n",
       "      <td>catholic</td>\n",
       "      <td>4.0</td>\n",
       "      <td>1.0</td>\n",
       "      <td>1.0</td>\n",
       "      <td>0.0</td>\n",
       "      <td>-1.0</td>\n",
       "      <td>1</td>\n",
       "      <td>1.0</td>\n",
       "      <td>1.0</td>\n",
       "      <td>1.0</td>\n",
       "      <td>1.0</td>\n",
       "      <td>1.0</td>\n",
       "      <td>0.0</td>\n",
       "      <td>-0.0</td>\n",
       "      <td>0.0</td>\n",
       "    </tr>\n",
       "    <tr>\n",
       "      <th>1</th>\n",
       "      <td>2</td>\n",
       "      <td>43</td>\n",
       "      <td>11</td>\n",
       "      <td>protestant</td>\n",
       "      <td>2.0</td>\n",
       "      <td>1.0</td>\n",
       "      <td>1.0</td>\n",
       "      <td>20.0</td>\n",
       "      <td>14.0</td>\n",
       "      <td>1</td>\n",
       "      <td>1.0</td>\n",
       "      <td>1.0</td>\n",
       "      <td>1.0</td>\n",
       "      <td>1.0</td>\n",
       "      <td>0.0</td>\n",
       "      <td>0.0</td>\n",
       "      <td>0.0</td>\n",
       "      <td>0.0</td>\n",
       "    </tr>\n",
       "    <tr>\n",
       "      <th>2</th>\n",
       "      <td>0</td>\n",
       "      <td>49</td>\n",
       "      <td>4</td>\n",
       "      <td>spirit</td>\n",
       "      <td>4.0</td>\n",
       "      <td>1.0</td>\n",
       "      <td>0.0</td>\n",
       "      <td>22.0</td>\n",
       "      <td>1.0</td>\n",
       "      <td>1</td>\n",
       "      <td>1.0</td>\n",
       "      <td>1.0</td>\n",
       "      <td>0.0</td>\n",
       "      <td>0.0</td>\n",
       "      <td>0.0</td>\n",
       "      <td>0.0</td>\n",
       "      <td>0.0</td>\n",
       "      <td>0.0</td>\n",
       "    </tr>\n",
       "    <tr>\n",
       "      <th>3</th>\n",
       "      <td>0</td>\n",
       "      <td>24</td>\n",
       "      <td>12</td>\n",
       "      <td>other</td>\n",
       "      <td>2.0</td>\n",
       "      <td>1.0</td>\n",
       "      <td>0.0</td>\n",
       "      <td>0.0</td>\n",
       "      <td>-1.0</td>\n",
       "      <td>1</td>\n",
       "      <td>1.0</td>\n",
       "      <td>1.0</td>\n",
       "      <td>1.0</td>\n",
       "      <td>1.0</td>\n",
       "      <td>1.0</td>\n",
       "      <td>0.0</td>\n",
       "      <td>-0.0</td>\n",
       "      <td>0.0</td>\n",
       "    </tr>\n",
       "    <tr>\n",
       "      <th>4</th>\n",
       "      <td>3</td>\n",
       "      <td>32</td>\n",
       "      <td>13</td>\n",
       "      <td>other</td>\n",
       "      <td>3.0</td>\n",
       "      <td>1.0</td>\n",
       "      <td>1.0</td>\n",
       "      <td>24.0</td>\n",
       "      <td>12.0</td>\n",
       "      <td>1</td>\n",
       "      <td>1.0</td>\n",
       "      <td>1.0</td>\n",
       "      <td>1.0</td>\n",
       "      <td>1.0</td>\n",
       "      <td>0.0</td>\n",
       "      <td>0.0</td>\n",
       "      <td>0.0</td>\n",
       "      <td>0.0</td>\n",
       "    </tr>\n",
       "  </tbody>\n",
       "</table>\n",
       "</div>"
      ],
      "text/plain": [
       "   ceb  age  educ    religion  idlnchld  knowmeth  usemeth  agefm  heduc  \\\n",
       "0    0   18    10    catholic       4.0       1.0      1.0    0.0   -1.0   \n",
       "1    2   43    11  protestant       2.0       1.0      1.0   20.0   14.0   \n",
       "2    0   49     4      spirit       4.0       1.0      0.0   22.0    1.0   \n",
       "3    0   24    12       other       2.0       1.0      0.0    0.0   -1.0   \n",
       "4    3   32    13       other       3.0       1.0      1.0   24.0   12.0   \n",
       "\n",
       "   urban  electric  radio   tv  bicycle  nevermarr  idlnchld_noans  \\\n",
       "0      1       1.0    1.0  1.0      1.0        1.0             0.0   \n",
       "1      1       1.0    1.0  1.0      1.0        0.0             0.0   \n",
       "2      1       1.0    1.0  0.0      0.0        0.0             0.0   \n",
       "3      1       1.0    1.0  1.0      1.0        1.0             0.0   \n",
       "4      1       1.0    1.0  1.0      1.0        0.0             0.0   \n",
       "\n",
       "   heduc_noans  usemeth_noans  \n",
       "0         -0.0            0.0  \n",
       "1          0.0            0.0  \n",
       "2          0.0            0.0  \n",
       "3         -0.0            0.0  \n",
       "4          0.0            0.0  "
      ]
     },
     "execution_count": 9,
     "metadata": {},
     "output_type": "execute_result"
    }
   ],
   "source": [
    "df.idlnchld = df.idlnchld.fillna(-1)\n",
    "df.heduc = df.heduc.fillna(-2)\n",
    "df.usemeth = df.usemeth.fillna(-1)\n",
    "df = df.dropna()\n",
    "df.head()"
   ]
  },
  {
   "cell_type": "code",
   "execution_count": 10,
   "metadata": {},
   "outputs": [
    {
     "name": "stdout",
     "output_type": "stream",
     "text": [
      "(4348, 18)\n"
     ]
    },
    {
     "data": {
      "text/plain": [
       "78264"
      ]
     },
     "execution_count": 10,
     "metadata": {},
     "output_type": "execute_result"
    }
   ],
   "source": [
    "print(df.shape)\n",
    "df.shape[0] * df.shape[1]"
   ]
  },
  {
   "cell_type": "markdown",
   "metadata": {},
   "source": [
    "___\n",
    "Постройте регрессию количества детей ceb на все имеющиеся признаки методом smf.ols, как в разобранном до этого примере. Какой получился коэффициент детерминации $R^2$\n",
    " ? Округлите до трёх знаков после десятичной точки."
   ]
  },
  {
   "cell_type": "code",
   "execution_count": 11,
   "metadata": {},
   "outputs": [
    {
     "name": "stdout",
     "output_type": "stream",
     "text": [
      "ceb + age + educ + religion + idlnchld + knowmeth + usemeth + agefm + heduc + urban + electric + radio + tv + bicycle + nevermarr + idlnchld_noans + heduc_noans + usemeth_noans\n"
     ]
    }
   ],
   "source": [
    "print(' + '.join(df.columns.tolist()))"
   ]
  },
  {
   "cell_type": "code",
   "execution_count": 12,
   "metadata": {},
   "outputs": [
    {
     "name": "stdout",
     "output_type": "stream",
     "text": [
      "                            OLS Regression Results                            \n",
      "==============================================================================\n",
      "Dep. Variable:                    ceb   R-squared:                       0.644\n",
      "Model:                            OLS   Adj. R-squared:                  0.643\n",
      "Method:                 Least Squares   F-statistic:                     412.5\n",
      "Date:                Wed, 17 Oct 2018   Prob (F-statistic):               0.00\n",
      "Time:                        14:45:26   Log-Likelihood:                -7732.1\n",
      "No. Observations:                4348   AIC:                         1.550e+04\n",
      "Df Residuals:                    4328   BIC:                         1.563e+04\n",
      "Df Model:                          19                                         \n",
      "Covariance Type:            nonrobust                                         \n",
      "==========================================================================================\n",
      "                             coef    std err          t      P>|t|      [0.025      0.975]\n",
      "------------------------------------------------------------------------------------------\n",
      "Intercept                 -1.0263      0.212     -4.835      0.000      -1.443      -0.610\n",
      "religion[T.other]         -0.0830      0.083     -1.001      0.317      -0.245       0.080\n",
      "religion[T.protestant]    -0.0149      0.082     -0.181      0.857      -0.176       0.146\n",
      "religion[T.spirit]        -0.0191      0.077     -0.248      0.804      -0.171       0.132\n",
      "age                        0.1703      0.003     51.891      0.000       0.164       0.177\n",
      "educ                      -0.0724      0.007     -9.843      0.000      -0.087      -0.058\n",
      "idlnchld                   0.0760      0.011      6.923      0.000       0.054       0.098\n",
      "knowmeth                   0.5564      0.121      4.580      0.000       0.318       0.795\n",
      "usemeth                    0.6473      0.048     13.424      0.000       0.553       0.742\n",
      "agefm                     -0.0604      0.007     -9.213      0.000      -0.073      -0.048\n",
      "heduc                     -0.0551      0.008     -6.838      0.000      -0.071      -0.039\n",
      "urban                     -0.2137      0.047     -4.527      0.000      -0.306      -0.121\n",
      "electric                  -0.2685      0.077     -3.479      0.001      -0.420      -0.117\n",
      "radio                     -0.0235      0.051     -0.461      0.645      -0.123       0.076\n",
      "tv                        -0.1451      0.093     -1.566      0.118      -0.327       0.037\n",
      "bicycle                    0.2139      0.050      4.260      0.000       0.115       0.312\n",
      "nevermarr                 -2.2393      0.148    -15.143      0.000      -2.529      -1.949\n",
      "idlnchld_noans             6.5394      1.526      4.286      0.000       3.548       9.531\n",
      "heduc_noans               -8.7245      1.448     -6.026      0.000     -11.563      -5.886\n",
      "usemeth_noans              7.6524      1.957      3.910      0.000       3.816      11.489\n",
      "==============================================================================\n",
      "Omnibus:                      224.411   Durbin-Watson:                   1.887\n",
      "Prob(Omnibus):                  0.000   Jarque-Bera (JB):              859.014\n",
      "Skew:                           0.003   Prob(JB):                    2.93e-187\n",
      "Kurtosis:                       5.178   Cond. No.                     2.87e+03\n",
      "==============================================================================\n",
      "\n",
      "Warnings:\n",
      "[1] Standard Errors assume that the covariance matrix of the errors is correctly specified.\n",
      "[2] The condition number is large, 2.87e+03. This might indicate that there are\n",
      "strong multicollinearity or other numerical problems.\n"
     ]
    },
    {
     "data": {
      "text/plain": [
       "Text(0.5, 0, 'Residuals')"
      ]
     },
     "execution_count": 12,
     "metadata": {},
     "output_type": "execute_result"
    },
    {
     "data": {
      "image/png": "[encoded data removed]",
      "text/plain": [
       "<Figure size 1152x504 with 2 Axes>"
      ]
     },
     "metadata": {
      "needs_background": "light"
     },
     "output_type": "display_data"
    }
   ],
   "source": [
    "m1 = smf.ols(\n",
    "    'ceb ~ age + educ + religion + idlnchld + knowmeth + usemeth + agefm + \\\n",
    "    heduc + urban + electric + radio + tv + bicycle + nevermarr + \\\n",
    "    idlnchld_noans + heduc_noans + usemeth_noans',\n",
    "    data=df\n",
    ")\n",
    "#the_number_of_symbols_to_limit_the_line_length_according_to_PEP8_is________79\n",
    "fitted = m1.fit()\n",
    "print(fitted.summary())\n",
    "\n",
    "plt.figure(figsize=(16,7))\n",
    "\n",
    "plt.subplot(121)\n",
    "sc.stats.probplot(fitted.resid, dist=\"norm\", plot=plt)\n",
    "\n",
    "plt.subplot(122)\n",
    "#np.log(fitted.resid).plot.hist()\n",
    "fitted.resid.plot.hist()\n",
    "plt.xlabel('Residuals', fontsize=14)"
   ]
  },
  {
   "cell_type": "markdown",
   "metadata": {},
   "source": [
    "___\n",
    "Проверьте критерием Бройша-Пагана гомоскедастичность ошибки в построенной модели. Выполняется ли она?\n",
    "\n",
    "Если ошибка гетероскедастична, перенастройте модель, сделав поправку Уайта типа HC1."
   ]
  },
  {
   "cell_type": "code",
   "execution_count": 13,
   "metadata": {},
   "outputs": [
    {
     "name": "stdout",
     "output_type": "stream",
     "text": [
      "Breusch-Pagan test: p=0.000000\n"
     ]
    }
   ],
   "source": [
    "print('Breusch-Pagan test: p=%f' % sms.het_breuschpagan(\n",
    "    fitted.resid, fitted.model.exog)[1])"
   ]
  },
  {
   "cell_type": "code",
   "execution_count": 14,
   "metadata": {},
   "outputs": [
    {
     "name": "stdout",
     "output_type": "stream",
     "text": [
      "                            OLS Regression Results                            \n",
      "==============================================================================\n",
      "Dep. Variable:                    ceb   R-squared:                       0.644\n",
      "Model:                            OLS   Adj. R-squared:                  0.643\n",
      "Method:                 Least Squares   F-statistic:                     463.4\n",
      "Date:                Wed, 17 Oct 2018   Prob (F-statistic):               0.00\n",
      "Time:                        14:45:45   Log-Likelihood:                -7734.5\n",
      "No. Observations:                4348   AIC:                         1.550e+04\n",
      "Df Residuals:                    4333   BIC:                         1.559e+04\n",
      "Df Model:                          14                                         \n",
      "Covariance Type:                  HC1                                         \n",
      "==================================================================================\n",
      "                     coef    std err          z      P>|z|      [0.025      0.975]\n",
      "----------------------------------------------------------------------------------\n",
      "Intercept         -1.0698      0.258     -4.152      0.000      -1.575      -0.565\n",
      "age                0.1702      0.004     38.746      0.000       0.162       0.179\n",
      "educ              -0.0729      0.007    -10.311      0.000      -0.087      -0.059\n",
      "idlnchld           0.0770      0.014      5.323      0.000       0.049       0.105\n",
      "knowmeth           0.5610      0.174      3.224      0.001       0.220       0.902\n",
      "usemeth            0.6516      0.052     12.571      0.000       0.550       0.753\n",
      "agefm             -0.0606      0.010     -6.192      0.000      -0.080      -0.041\n",
      "heduc             -0.0573      0.009     -6.440      0.000      -0.075      -0.040\n",
      "urban             -0.2190      0.045     -4.814      0.000      -0.308      -0.130\n",
      "electric          -0.3207      0.063     -5.076      0.000      -0.445      -0.197\n",
      "bicycle            0.2046      0.048      4.279      0.000       0.111       0.298\n",
      "nevermarr         -2.2501      0.202    -11.158      0.000      -2.645      -1.855\n",
      "idlnchld_noans     6.5649      2.157      3.043      0.002       2.337      10.793\n",
      "heduc_noans       -8.8532      1.909     -4.638      0.000     -12.595      -5.112\n",
      "usemeth_noans      7.7317      2.125      3.639      0.000       3.568      11.896\n",
      "==============================================================================\n",
      "Omnibus:                      224.096   Durbin-Watson:                   1.886\n",
      "Prob(Omnibus):                  0.000   Jarque-Bera (JB):              856.760\n",
      "Skew:                           0.004   Prob(JB):                    9.06e-187\n",
      "Kurtosis:                       5.175   Cond. No.                     2.87e+03\n",
      "==============================================================================\n",
      "\n",
      "Warnings:\n",
      "[1] Standard Errors are heteroscedasticity robust (HC1)\n",
      "[2] The condition number is large, 2.87e+03. This might indicate that there are\n",
      "strong multicollinearity or other numerical problems.\n"
     ]
    },
    {
     "data": {
      "image/png": "[encoded data removed]",
      "text/plain": [
       "<Figure size 1152x504 with 2 Axes>"
      ]
     },
     "metadata": {
      "needs_background": "light"
     },
     "output_type": "display_data"
    }
   ],
   "source": [
    "m2 = smf.ols(\n",
    "    'ceb ~ age + educ + idlnchld + knowmeth + usemeth + agefm + \\\n",
    "    heduc + urban + electric + bicycle + nevermarr + \\\n",
    "    idlnchld_noans + heduc_noans + usemeth_noans',\n",
    "    data=df\n",
    ")\n",
    "#the_number_of_symbols_to_limit_the_line_length_according_to_PEP8_is________79\n",
    "fitted = m2.fit(cov_type='HC1')\n",
    "print(fitted.summary())\n",
    "\n",
    "plt.figure(figsize=(16,7))\n",
    "\n",
    "plt.subplot(121)\n",
    "sc.stats.probplot(fitted.resid, dist=\"norm\", plot=plt)\n",
    "\n",
    "plt.subplot(122)\n",
    "#np.log(fitted.resid).plot.hist()\n",
    "fitted.resid.plot.hist()\n",
    "plt.xlabel('Residuals', fontsize=14);"
   ]
  },
  {
   "cell_type": "code",
   "execution_count": 15,
   "metadata": {},
   "outputs": [
    {
     "name": "stdout",
     "output_type": "stream",
     "text": [
      "Breusch-Pagan test: p=0.000000\n"
     ]
    }
   ],
   "source": [
    "print('Breusch-Pagan test: p=%f' % sms.het_breuschpagan(\n",
    "    fitted.resid, fitted.model.exog)[1])"
   ]
  },
  {
   "cell_type": "code",
   "execution_count": 16,
   "metadata": {},
   "outputs": [
    {
     "data": {
      "text/plain": [
       "(0.9192357784633435, 0.46723055472730823, 5.0)"
      ]
     },
     "execution_count": 16,
     "metadata": {},
     "output_type": "execute_result"
    }
   ],
   "source": [
    "m1.fit().compare_f_test(m2.fit())"
   ]
  },
  {
   "cell_type": "markdown",
   "metadata": {},
   "source": [
    "___\n",
    "Признак usemeth_noans значим по критерию Стьюдента, то есть, при его удалении модель значимо ухудшится. Но вообще-то отдельно его удалять нельзя: из-за того, что мы перекодировали пропуски в usemeth произвольно выбранным значением $c_{usemeth} = -1$, удалять usemeth_noans и usemeth можно только вместе.\n",
    "\n",
    "Удалите из текущей модели usemeth_noans и usemeth. Проверьте критерием Фишера гипотезу о том, что качество модели не ухудшилось. Введите номер первой значащей цифры в достигаемом уровне значимости (например, если вы получили $5.5 \\times 10^{-8}$ нужно ввести 8).\n",
    "\n",
    "Если достигаемый уровень значимости получился маленький, верните удалённые признаки; если он достаточно велик, оставьте модель без usemeth и usemeth_noans."
   ]
  },
  {
   "cell_type": "code",
   "execution_count": 17,
   "metadata": {},
   "outputs": [
    {
     "name": "stdout",
     "output_type": "stream",
     "text": [
      "                            OLS Regression Results                            \n",
      "==============================================================================\n",
      "Dep. Variable:                    ceb   R-squared:                       0.629\n",
      "Model:                            OLS   Adj. R-squared:                  0.628\n",
      "Method:                 Least Squares   F-statistic:                     396.4\n",
      "Date:                Wed, 17 Oct 2018   Prob (F-statistic):               0.00\n",
      "Time:                        14:46:30   Log-Likelihood:                -7825.7\n",
      "No. Observations:                4348   AIC:                         1.568e+04\n",
      "Df Residuals:                    4335   BIC:                         1.576e+04\n",
      "Df Model:                          12                                         \n",
      "Covariance Type:                  HC1                                         \n",
      "==================================================================================\n",
      "                     coef    std err          z      P>|z|      [0.025      0.975]\n",
      "----------------------------------------------------------------------------------\n",
      "Intercept         -1.1931      0.262     -4.562      0.000      -1.706      -0.681\n",
      "age                0.1776      0.004     41.592      0.000       0.169       0.186\n",
      "educ              -0.0560      0.007     -7.788      0.000      -0.070      -0.042\n",
      "idlnchld           0.0705      0.015      4.748      0.000       0.041       0.100\n",
      "knowmeth           0.8739      0.174      5.029      0.000       0.533       1.214\n",
      "agefm             -0.0649      0.010     -6.489      0.000      -0.085      -0.045\n",
      "heduc             -0.0521      0.009     -5.658      0.000      -0.070      -0.034\n",
      "urban             -0.1866      0.046     -4.019      0.000      -0.278      -0.096\n",
      "electric          -0.3218      0.065     -4.953      0.000      -0.449      -0.194\n",
      "bicycle            0.1979      0.048      4.083      0.000       0.103       0.293\n",
      "nevermarr         -2.3625      0.205    -11.498      0.000      -2.765      -1.960\n",
      "idlnchld_noans     5.2665      2.248      2.343      0.019       0.861       9.672\n",
      "heduc_noans       -7.9466      1.952     -4.070      0.000     -11.773      -4.120\n",
      "==============================================================================\n",
      "Omnibus:                      250.641   Durbin-Watson:                   1.910\n",
      "Prob(Omnibus):                  0.000   Jarque-Bera (JB):              936.515\n",
      "Skew:                          -0.158   Prob(JB):                    4.35e-204\n",
      "Kurtosis:                       5.251   Cond. No.                     2.23e+03\n",
      "==============================================================================\n",
      "\n",
      "Warnings:\n",
      "[1] Standard Errors are heteroscedasticity robust (HC1)\n",
      "[2] The condition number is large, 2.23e+03. This might indicate that there are\n",
      "strong multicollinearity or other numerical problems.\n"
     ]
    },
    {
     "data": {
      "image/png": "[encoded data removed]",
      "text/plain": [
       "<Figure size 1152x504 with 2 Axes>"
      ]
     },
     "metadata": {
      "needs_background": "light"
     },
     "output_type": "display_data"
    }
   ],
   "source": [
    "m3 = smf.ols(\n",
    "    'ceb ~ age + educ + idlnchld + knowmeth + agefm + \\\n",
    "    heduc + urban + electric + bicycle + nevermarr + \\\n",
    "    idlnchld_noans + heduc_noans',\n",
    "    data=df\n",
    ")\n",
    "#the_number_of_symbols_to_limit_the_line_length_according_to_PEP8_is________79\n",
    "fitted = m3.fit(cov_type='HC1')\n",
    "print(fitted.summary())\n",
    "\n",
    "plt.figure(figsize=(16,7))\n",
    "\n",
    "plt.subplot(121)\n",
    "sc.stats.probplot(fitted.resid, dist=\"norm\", plot=plt)\n",
    "\n",
    "plt.subplot(122)\n",
    "#np.log(fitted.resid).plot.hist()\n",
    "fitted.resid.plot.hist()\n",
    "plt.xlabel('Residuals', fontsize=14);"
   ]
  },
  {
   "cell_type": "code",
   "execution_count": 18,
   "metadata": {},
   "outputs": [
    {
     "name": "stdout",
     "output_type": "stream",
     "text": [
      "Breusch-Pagan test: p=0.000000\n"
     ]
    }
   ],
   "source": [
    "print('Breusch-Pagan test: p=%f' % sms.het_breuschpagan(\n",
    "    fitted.resid, fitted.model.exog)[1])"
   ]
  },
  {
   "cell_type": "code",
   "execution_count": 19,
   "metadata": {},
   "outputs": [
    {
     "data": {
      "text/plain": [
       "(92.89058230109713, 3.155200948040263e-40, 2.0)"
      ]
     },
     "execution_count": 19,
     "metadata": {},
     "output_type": "execute_result"
    }
   ],
   "source": [
    "m2.fit().compare_f_test(m3.fit())"
   ]
  },
  {
   "cell_type": "markdown",
   "metadata": {},
   "source": [
    "___\n",
    "Посмотрите на доверительные интервалы для коэффициентов итоговой модели (не забудьте использовать поправку Уайта, если есть гетероскедастичность ошибки) и выберите правильные выводы.\n",
    "\n",
    "- [X] У женщин, никогда не выходивших замуж, при прочих равных в среднем на 2.3 ребёнка меньше (p<0.001, 95% доверительный интервал для разницы между средними — \\[-2.6, -1.9\\])\n",
    "- [ ] Итоговая модель объясняет 63% вариации отклика\n",
    "- [ ] У женщин, не знающих, какое количество детей идеально, в среднем на 0.66 ребёнка больше (p=0.002, 95% доверительный интервал — \\[0.2, 1.1\\])\n",
    "- [ ] У женщин, не знающих, какое количество детей идеально, в среднем на\n",
    "$$\\beta_{idlnchld_noans}+ c_{idlnchld}\\beta_{idlnchld} \\approx 0.58 $$\n",
    "детей больше\n",
    "- [ ] У женщин, знакомых с методами контрацепции, при прочих равных в среднем на 0.6 ребёнка меньше (p=0.001, 95% доверительный интервал для разницы между средними — \\[-0.9, -0.2\\])\n",
    "- [x] С увеличением возраста женщины на 1 год среднее количество детей возрастает на 0.17 (p<0.001, 95% доверительный интервал — \\[0.16, 0.18\\])"
   ]
  },
  {
   "cell_type": "code",
   "execution_count": 21,
   "metadata": {},
   "outputs": [
    {
     "name": "stdout",
     "output_type": "stream",
     "text": [
      "                            OLS Regression Results                            \n",
      "==============================================================================\n",
      "Dep. Variable:                    ceb   R-squared:                       0.644\n",
      "Model:                            OLS   Adj. R-squared:                  0.643\n",
      "Method:                 Least Squares   F-statistic:                     463.4\n",
      "Date:                Wed, 17 Oct 2018   Prob (F-statistic):               0.00\n",
      "Time:                        14:51:22   Log-Likelihood:                -7734.5\n",
      "No. Observations:                4348   AIC:                         1.550e+04\n",
      "Df Residuals:                    4333   BIC:                         1.559e+04\n",
      "Df Model:                          14                                         \n",
      "Covariance Type:                  HC1                                         \n",
      "==================================================================================\n",
      "                     coef    std err          z      P>|z|      [0.025      0.975]\n",
      "----------------------------------------------------------------------------------\n",
      "Intercept         -1.0698      0.258     -4.152      0.000      -1.575      -0.565\n",
      "age                0.1702      0.004     38.746      0.000       0.162       0.179\n",
      "educ              -0.0729      0.007    -10.311      0.000      -0.087      -0.059\n",
      "idlnchld           0.0770      0.014      5.323      0.000       0.049       0.105\n",
      "knowmeth           0.5610      0.174      3.224      0.001       0.220       0.902\n",
      "usemeth            0.6516      0.052     12.571      0.000       0.550       0.753\n",
      "agefm             -0.0606      0.010     -6.192      0.000      -0.080      -0.041\n",
      "heduc             -0.0573      0.009     -6.440      0.000      -0.075      -0.040\n",
      "urban             -0.2190      0.045     -4.814      0.000      -0.308      -0.130\n",
      "electric          -0.3207      0.063     -5.076      0.000      -0.445      -0.197\n",
      "bicycle            0.2046      0.048      4.279      0.000       0.111       0.298\n",
      "nevermarr         -2.2501      0.202    -11.158      0.000      -2.645      -1.855\n",
      "idlnchld_noans     6.5649      2.157      3.043      0.002       2.337      10.793\n",
      "heduc_noans       -8.8532      1.909     -4.638      0.000     -12.595      -5.112\n",
      "usemeth_noans      7.7317      2.125      3.639      0.000       3.568      11.896\n",
      "==============================================================================\n",
      "Omnibus:                      224.096   Durbin-Watson:                   1.886\n",
      "Prob(Omnibus):                  0.000   Jarque-Bera (JB):              856.760\n",
      "Skew:                           0.004   Prob(JB):                    9.06e-187\n",
      "Kurtosis:                       5.175   Cond. No.                     2.87e+03\n",
      "==============================================================================\n",
      "\n",
      "Warnings:\n",
      "[1] Standard Errors are heteroscedasticity robust (HC1)\n",
      "[2] The condition number is large, 2.87e+03. This might indicate that there are\n",
      "strong multicollinearity or other numerical problems.\n"
     ]
    }
   ],
   "source": [
    "m4 = smf.ols(\n",
    "    'ceb ~ age + educ + idlnchld + knowmeth + usemeth + agefm + \\\n",
    "    heduc + urban + electric + bicycle + nevermarr + \\\n",
    "    idlnchld_noans + heduc_noans + usemeth_noans',\n",
    "    data=df\n",
    ")\n",
    "fitted = m4.fit(cov_type='HC1')\n",
    "print(fitted.summary())\n"
   ]
  }
 ],
 "metadata": {
  "kernelspec": {
   "display_name": "Python 3.7 [mldaspec]",
   "language": "python",
   "name": "mldaspec"
  },
  "language_info": {
   "codemirror_mode": {
    "name": "ipython",
    "version": 3
   },
   "file_extension": ".py",
   "mimetype": "text/x-python",
   "name": "python",
   "nbconvert_exporter": "python",
   "pygments_lexer": "ipython3",
   "version": "3.7.0"
  }
 },
 "nbformat": 4,
 "nbformat_minor": 2
}
