{
 "cells": [
  {
   "cell_type": "code",
   "execution_count": 1,
   "metadata": {},
   "outputs": [],
   "source": [
    "import numpy as np\n",
    "import pandas as pd\n",
    "import scipy as sc\n",
    "import seaborn as sns\n",
    "import matplotlib.pyplot as plt\n",
    "plt.rcParams['patch.force_edgecolor'] = True\n",
    "\n",
    "import statsmodels.stats.weightstats as wsts"
   ]
  },
  {
   "cell_type": "markdown",
   "metadata": {},
   "source": [
    "Для выполнения этого задания вам понадобятся данные о кредитных историях клиентов одного из банков. Поля в предоставляемых данных имеют следующий смысл:\n",
    "\n",
    "- LIMIT_BAL: размер кредитного лимита (в том числе и на семью клиента)\n",
    "- SEX: пол клиента (1 = мужской, 2 = женский )\n",
    "- EDUCATION: образование (0 = доктор, 1 = магистр; 2 = бакалавр; 3 = выпускник школы; 4 = начальное образование; 5= прочее; 6 = нет данных ).\n",
    "- MARRIAGE: (0 = отказываюсь отвечать; 1 = замужем/женат; 2 = холост; 3 = нет данных).\n",
    "- AGE: возраст в годах\n",
    "- PAY_0 - PAY_6 : История прошлых платежей по кредиту. PAY_6 - платеж в апреле, ... Pay_0 - платеж в сентябре. Платеж = (0 = исправный платеж, 1=задержка в один месяц, 2=задержка в 2 месяца ...)\n",
    "- BILL_AMT1 - BILL_AMT6: задолженность, BILL_AMT6 - на апрель, BILL_AMT1 - на сентябрь\n",
    "- PAY_AMT1 - PAY_AMT6: сумма уплаченная в PAY_AMT6 - апреле, ..., PAY_AMT1 - сентябре\n",
    "- default - индикатор невозврата денежных средств"
   ]
  },
  {
   "cell_type": "code",
   "execution_count": 2,
   "metadata": {},
   "outputs": [
    {
     "data": {
      "text/html": [
       "<div>\n",
       "<style scoped>\n",
       "    .dataframe tbody tr th:only-of-type {\n",
       "        vertical-align: middle;\n",
       "    }\n",
       "\n",
       "    .dataframe tbody tr th {\n",
       "        vertical-align: top;\n",
       "    }\n",
       "\n",
       "    .dataframe thead th {\n",
       "        text-align: right;\n",
       "    }\n",
       "</style>\n",
       "<table border=\"1\" class=\"dataframe\">\n",
       "  <thead>\n",
       "    <tr style=\"text-align: right;\">\n",
       "      <th></th>\n",
       "      <th>ID</th>\n",
       "      <th>LIMIT_BAL</th>\n",
       "      <th>SEX</th>\n",
       "      <th>EDUCATION</th>\n",
       "      <th>MARRIAGE</th>\n",
       "      <th>AGE</th>\n",
       "      <th>PAY_0</th>\n",
       "      <th>PAY_2</th>\n",
       "      <th>PAY_3</th>\n",
       "      <th>PAY_4</th>\n",
       "      <th>...</th>\n",
       "      <th>BILL_AMT4</th>\n",
       "      <th>BILL_AMT5</th>\n",
       "      <th>BILL_AMT6</th>\n",
       "      <th>PAY_AMT1</th>\n",
       "      <th>PAY_AMT2</th>\n",
       "      <th>PAY_AMT3</th>\n",
       "      <th>PAY_AMT4</th>\n",
       "      <th>PAY_AMT5</th>\n",
       "      <th>PAY_AMT6</th>\n",
       "      <th>default</th>\n",
       "    </tr>\n",
       "  </thead>\n",
       "  <tbody>\n",
       "    <tr>\n",
       "      <th>0</th>\n",
       "      <td>1</td>\n",
       "      <td>20000</td>\n",
       "      <td>2</td>\n",
       "      <td>2</td>\n",
       "      <td>1</td>\n",
       "      <td>24</td>\n",
       "      <td>2</td>\n",
       "      <td>2</td>\n",
       "      <td>0</td>\n",
       "      <td>0</td>\n",
       "      <td>...</td>\n",
       "      <td>0</td>\n",
       "      <td>0</td>\n",
       "      <td>0</td>\n",
       "      <td>0</td>\n",
       "      <td>689</td>\n",
       "      <td>0</td>\n",
       "      <td>0</td>\n",
       "      <td>0</td>\n",
       "      <td>0</td>\n",
       "      <td>1</td>\n",
       "    </tr>\n",
       "    <tr>\n",
       "      <th>1</th>\n",
       "      <td>2</td>\n",
       "      <td>120000</td>\n",
       "      <td>2</td>\n",
       "      <td>2</td>\n",
       "      <td>2</td>\n",
       "      <td>26</td>\n",
       "      <td>0</td>\n",
       "      <td>2</td>\n",
       "      <td>0</td>\n",
       "      <td>0</td>\n",
       "      <td>...</td>\n",
       "      <td>3272</td>\n",
       "      <td>3455</td>\n",
       "      <td>3261</td>\n",
       "      <td>0</td>\n",
       "      <td>1000</td>\n",
       "      <td>1000</td>\n",
       "      <td>1000</td>\n",
       "      <td>0</td>\n",
       "      <td>2000</td>\n",
       "      <td>1</td>\n",
       "    </tr>\n",
       "    <tr>\n",
       "      <th>2</th>\n",
       "      <td>3</td>\n",
       "      <td>90000</td>\n",
       "      <td>2</td>\n",
       "      <td>2</td>\n",
       "      <td>2</td>\n",
       "      <td>34</td>\n",
       "      <td>0</td>\n",
       "      <td>0</td>\n",
       "      <td>0</td>\n",
       "      <td>0</td>\n",
       "      <td>...</td>\n",
       "      <td>14331</td>\n",
       "      <td>14948</td>\n",
       "      <td>15549</td>\n",
       "      <td>1518</td>\n",
       "      <td>1500</td>\n",
       "      <td>1000</td>\n",
       "      <td>1000</td>\n",
       "      <td>1000</td>\n",
       "      <td>5000</td>\n",
       "      <td>0</td>\n",
       "    </tr>\n",
       "    <tr>\n",
       "      <th>3</th>\n",
       "      <td>4</td>\n",
       "      <td>50000</td>\n",
       "      <td>2</td>\n",
       "      <td>2</td>\n",
       "      <td>1</td>\n",
       "      <td>37</td>\n",
       "      <td>0</td>\n",
       "      <td>0</td>\n",
       "      <td>0</td>\n",
       "      <td>0</td>\n",
       "      <td>...</td>\n",
       "      <td>28314</td>\n",
       "      <td>28959</td>\n",
       "      <td>29547</td>\n",
       "      <td>2000</td>\n",
       "      <td>2019</td>\n",
       "      <td>1200</td>\n",
       "      <td>1100</td>\n",
       "      <td>1069</td>\n",
       "      <td>1000</td>\n",
       "      <td>0</td>\n",
       "    </tr>\n",
       "    <tr>\n",
       "      <th>4</th>\n",
       "      <td>5</td>\n",
       "      <td>50000</td>\n",
       "      <td>1</td>\n",
       "      <td>2</td>\n",
       "      <td>1</td>\n",
       "      <td>57</td>\n",
       "      <td>0</td>\n",
       "      <td>0</td>\n",
       "      <td>0</td>\n",
       "      <td>0</td>\n",
       "      <td>...</td>\n",
       "      <td>20940</td>\n",
       "      <td>19146</td>\n",
       "      <td>19131</td>\n",
       "      <td>2000</td>\n",
       "      <td>36681</td>\n",
       "      <td>10000</td>\n",
       "      <td>9000</td>\n",
       "      <td>689</td>\n",
       "      <td>679</td>\n",
       "      <td>0</td>\n",
       "    </tr>\n",
       "  </tbody>\n",
       "</table>\n",
       "<p>5 rows × 25 columns</p>\n",
       "</div>"
      ],
      "text/plain": [
       "   ID  LIMIT_BAL  SEX  EDUCATION  MARRIAGE  AGE  PAY_0  PAY_2  PAY_3  PAY_4  \\\n",
       "0   1      20000    2          2         1   24      2      2      0      0   \n",
       "1   2     120000    2          2         2   26      0      2      0      0   \n",
       "2   3      90000    2          2         2   34      0      0      0      0   \n",
       "3   4      50000    2          2         1   37      0      0      0      0   \n",
       "4   5      50000    1          2         1   57      0      0      0      0   \n",
       "\n",
       "    ...     BILL_AMT4  BILL_AMT5  BILL_AMT6  PAY_AMT1  PAY_AMT2  PAY_AMT3  \\\n",
       "0   ...             0          0          0         0       689         0   \n",
       "1   ...          3272       3455       3261         0      1000      1000   \n",
       "2   ...         14331      14948      15549      1518      1500      1000   \n",
       "3   ...         28314      28959      29547      2000      2019      1200   \n",
       "4   ...         20940      19146      19131      2000     36681     10000   \n",
       "\n",
       "   PAY_AMT4  PAY_AMT5  PAY_AMT6  default  \n",
       "0         0         0         0        1  \n",
       "1      1000         0      2000        1  \n",
       "2      1000      1000      5000        0  \n",
       "3      1100      1069      1000        0  \n",
       "4      9000       689       679        0  \n",
       "\n",
       "[5 rows x 25 columns]"
      ]
     },
     "execution_count": 2,
     "metadata": {},
     "output_type": "execute_result"
    }
   ],
   "source": [
    "df = pd.read_csv('data/credit_card_default_analysis.csv')\n",
    "\n",
    "df.head()"
   ]
  },
  {
   "cell_type": "markdown",
   "metadata": {},
   "source": [
    "## Задание 1\n",
    "Размер кредитного лимита (LIMIT_BAL). В двух группах, тех людей, кто вернул кредит (default = 0) и тех, кто его не вернул (default = 1) проверьте гипотезы: \n",
    "- a) о равенстве медианных значений кредитного лимита с помощью подходящей интервальной оценки \n",
    "- b) о равенстве распределений с помощью одного из подходящих непараметрических критериев проверки равенства средних. \n",
    "\n",
    "Значимы ли полученные результаты с практической точки зрения ?"
   ]
  },
  {
   "cell_type": "markdown",
   "metadata": {},
   "source": [
    "### Визуальная и точечная оценка"
   ]
  },
  {
   "cell_type": "code",
   "execution_count": 3,
   "metadata": {},
   "outputs": [
    {
     "data": {
      "image/png": "[encoded data removed]",
      "text/plain": [
       "<Figure size 756x216 with 1 Axes>"
      ]
     },
     "metadata": {
      "needs_background": "light"
     },
     "output_type": "display_data"
    }
   ],
   "source": [
    "sns.catplot(data=df, x='LIMIT_BAL', y='default',\n",
    "            kind='box', height=3, aspect=3.5,\n",
    "            orient='h');"
   ]
  },
  {
   "cell_type": "code",
   "execution_count": 4,
   "metadata": {},
   "outputs": [],
   "source": [
    "default0 = df[df.default == 0]\n",
    "default1 = df[df.default == 1]"
   ]
  },
  {
   "cell_type": "code",
   "execution_count": 5,
   "metadata": {},
   "outputs": [],
   "source": [
    "default0_lim = default0['LIMIT_BAL']\n",
    "default1_lim = default1['LIMIT_BAL']"
   ]
  },
  {
   "cell_type": "markdown",
   "metadata": {},
   "source": [
    "Оценим точечено. Видим, что в среднем кредитный лимит, у тех кто отдал кредит, был выше на 60к чем у тех, кто не отдал."
   ]
  },
  {
   "cell_type": "code",
   "execution_count": 6,
   "metadata": {},
   "outputs": [
    {
     "name": "stdout",
     "output_type": "stream",
     "text": [
      "Median limit balance difference 60000.0\n"
     ]
    }
   ],
   "source": [
    "print(\n",
    "    'Median limit balance difference',\n",
    "    np.median(default0_lim) - np.median(default1_lim))"
   ]
  },
  {
   "cell_type": "markdown",
   "metadata": {},
   "source": [
    "### Интервальная оценка бустрэпом"
   ]
  },
  {
   "cell_type": "markdown",
   "metadata": {},
   "source": [
    "Чтобы построить интервальную оценку среднего, взглянем на распределения признака. Из гистограм видно, что распределение похоже на Пуассоновское, однако мы не уверены в этом, поэтому воспользуемся бустрапированной выборкой для интервальной оценки разности медиан выборок. Бустрап, благодаря своей универсальности позволяет делать оценки на неизвестных нам распределениях."
   ]
  },
  {
   "cell_type": "code",
   "execution_count": 7,
   "metadata": {},
   "outputs": [
    {
     "data": {
      "image/png": "[encoded data removed]",
      "text/plain": [
       "<Figure size 864x288 with 2 Axes>"
      ]
     },
     "metadata": {
      "needs_background": "light"
     },
     "output_type": "display_data"
    }
   ],
   "source": [
    "plt.figure(figsize=(12,4))\n",
    "plt.subplot(121)\n",
    "df[df.default==0].LIMIT_BAL.plot(kind='hist', bins=50);\n",
    "plt.title('Returned')\n",
    "plt.subplot(122)\n",
    "df[df.default==1].LIMIT_BAL.plot(kind='hist', bins=50, color='r');\n",
    "plt.title('Defaulted');"
   ]
  },
  {
   "cell_type": "code",
   "execution_count": 8,
   "metadata": {},
   "outputs": [],
   "source": [
    "def get_bootstrap_samples(data, n_samples):\n",
    "    ints = np.random.randint(0, len(data), size=(n_samples, len(data)))\n",
    "    return np.asarray(data)[ints]"
   ]
  },
  {
   "cell_type": "code",
   "execution_count": 9,
   "metadata": {},
   "outputs": [],
   "source": [
    "def tolerance_int(stat, alpha):\n",
    "    return np.percentile(stat, [100*alpha/2, 100*(1-alpha/2)])"
   ]
  },
  {
   "cell_type": "code",
   "execution_count": 10,
   "metadata": {},
   "outputs": [],
   "source": [
    "default0_lim_boot = get_bootstrap_samples(default0_lim, 1000)\n",
    "default1_lim_boot = get_bootstrap_samples(default1_lim, 1000)"
   ]
  },
  {
   "cell_type": "code",
   "execution_count": 11,
   "metadata": {},
   "outputs": [],
   "source": [
    "default0_lim_med_scores = np.apply_along_axis(np.median, 1, default0_lim_boot)\n",
    "default1_lim_med_scores = np.apply_along_axis(np.median, 1, default1_lim_boot)"
   ]
  },
  {
   "cell_type": "code",
   "execution_count": 12,
   "metadata": {},
   "outputs": [],
   "source": [
    "def0_def1_lim_med_diffs = default0_lim_med_scores - default1_lim_med_scores"
   ]
  },
  {
   "cell_type": "markdown",
   "metadata": {},
   "source": [
    "Как видно из интервальной оценки, в среднем у тех, кто отдаёт кредит кредитный лимит на 60000-70000 тысяч больше"
   ]
  },
  {
   "cell_type": "code",
   "execution_count": 13,
   "metadata": {
    "scrolled": true
   },
   "outputs": [
    {
     "name": "stdout",
     "output_type": "stream",
     "text": [
      "[60000. 70000.]\n"
     ]
    }
   ],
   "source": [
    "print(tolerance_int(def0_def1_lim_med_diffs, 0.05))"
   ]
  },
  {
   "cell_type": "markdown",
   "metadata": {},
   "source": [
    "Проверим гипотезу о равенстве распределений с помощью непараметрического критерия знаковых рангов Уилкоксона-Манна-Уитни для двух независимых выборок."
   ]
  },
  {
   "cell_type": "markdown",
   "metadata": {},
   "source": [
    "**Критерий:**\n",
    "- Уилкоксона-Манна-Уитни\n",
    "\n",
    "**Условия применимости:**\n",
    "- [X] $n \\ge 20$ in each sample"
   ]
  },
  {
   "cell_type": "code",
   "execution_count": 19,
   "metadata": {},
   "outputs": [
    {
     "name": "stdout",
     "output_type": "stream",
     "text": [
      "23364 6636\n"
     ]
    }
   ],
   "source": [
    "print(len(default0_lim), len(default1_lim))"
   ]
  },
  {
   "cell_type": "markdown",
   "metadata": {},
   "source": [
    "**Гипотезы:**\n",
    "- $H_0:$ Распределение кредитного баланса одинаково для тех кто вернул кредит и для тех кто не вернул\n",
    "- $H_1:$ Распределения не одинаковы. Двусторонняя альтернатива."
   ]
  },
  {
   "cell_type": "code",
   "execution_count": 18,
   "metadata": {},
   "outputs": [
    {
     "name": "stdout",
     "output_type": "stream",
     "text": [
      "23364\n",
      "6636\n"
     ]
    }
   ],
   "source": [
    "print(len(default0_lim))\n",
    "print(len(default1_lim))"
   ]
  },
  {
   "cell_type": "code",
   "execution_count": 14,
   "metadata": {},
   "outputs": [
    {
     "data": {
      "text/plain": [
       "MannwhitneyuResult(statistic=95786286.5, pvalue=1.2255485818223303e-189)"
      ]
     },
     "execution_count": 14,
     "metadata": {},
     "output_type": "execute_result"
    }
   ],
   "source": [
    " sc.stats.mannwhitneyu(default0_lim, default1_lim, alternative='two-sided')"
   ]
  },
  {
   "cell_type": "markdown",
   "metadata": {},
   "source": [
    "Проверим те же гипотезы при помощи перестановочного критерия."
   ]
  },
  {
   "cell_type": "markdown",
   "metadata": {},
   "source": [
    "UPD:\n",
    "**Критерий:**\n",
    "- Перестановочный для двух независимых выборок\n",
    "\n",
    "**Условия применимости:** [вики](https://goo.gl/sDF7d)\n",
    "- [X] В каждой из выборок должно быть не менее 3 значений признака. Допускается, чтобы в одной выборке было два значения, но во второй тогда не менее пяти.\n",
    "- [ ] В выборочных данных не должно быть совпадающих значений (все числа — разные) или таких совпадений должно быть очень мало (до 10).\n",
    "\n",
    "Как видим, второе условие применимости не выполняется. Однако, в предыдущей итерации я уже применил его, и оставил вам небольшой бонус. Поэтому в анализе этот критерий игнорируем."
   ]
  },
  {
   "cell_type": "code",
   "execution_count": 52,
   "metadata": {
    "scrolled": true
   },
   "outputs": [
    {
     "data": {
      "text/plain": [
       "Counter({20000: 698,\n",
       "         120000: 179,\n",
       "         70000: 210,\n",
       "         450000: 26,\n",
       "         60000: 233,\n",
       "         50000: 885,\n",
       "         210000: 117,\n",
       "         150000: 187,\n",
       "         500000: 81,\n",
       "         200000: 270,\n",
       "         10000: 197,\n",
       "         320000: 44,\n",
       "         30000: 568,\n",
       "         240000: 110,\n",
       "         360000: 154,\n",
       "         80000: 363,\n",
       "         310000: 27,\n",
       "         180000: 176,\n",
       "         170000: 78,\n",
       "         130000: 157,\n",
       "         100000: 272,\n",
       "         190000: 49,\n",
       "         140000: 170,\n",
       "         220000: 89,\n",
       "         260000: 87,\n",
       "         460000: 10,\n",
       "         280000: 69,\n",
       "         300000: 95,\n",
       "         110000: 132,\n",
       "         230000: 113,\n",
       "         380000: 20,\n",
       "         160000: 137,\n",
       "         390000: 18,\n",
       "         270000: 28,\n",
       "         600000: 3,\n",
       "         620000: 1,\n",
       "         90000: 166,\n",
       "         290000: 53,\n",
       "         40000: 92,\n",
       "         470000: 11,\n",
       "         250000: 51,\n",
       "         410000: 12,\n",
       "         340000: 32,\n",
       "         350000: 32,\n",
       "         400000: 31,\n",
       "         550000: 6,\n",
       "         440000: 12,\n",
       "         420000: 18,\n",
       "         330000: 21,\n",
       "         490000: 8,\n",
       "         370000: 8,\n",
       "         710000: 1,\n",
       "         430000: 10,\n",
       "         480000: 6,\n",
       "         520000: 2,\n",
       "         630000: 1,\n",
       "         327680: 1,\n",
       "         740000: 1,\n",
       "         560000: 1,\n",
       "         590000: 1,\n",
       "         680000: 1,\n",
       "         510000: 2,\n",
       "         530000: 1,\n",
       "         720000: 1,\n",
       "         580000: 1})"
      ]
     },
     "execution_count": 52,
     "metadata": {},
     "output_type": "execute_result"
    }
   ],
   "source": [
    "from collections import Counter\n",
    "Counter(default1_lim)"
   ]
  },
  {
   "cell_type": "markdown",
   "metadata": {},
   "source": [
    "**Гипотезы:**\n",
    "- $H_0:$ Распределение кредитного баланса одинаково для тех кто вернул кредит и для тех кто не вернул\n",
    "- $H_1:$ Распределения не одинаковы. Двусторонняя альтернатива."
   ]
  },
  {
   "cell_type": "markdown",
   "metadata": {},
   "source": [
    "**Я собрал перестановочные функции от авторов курса в один файл. Он уже в архиве с ноутбуком. Чтобы всё работало, поместите файл в одну папку с ноутбуком. (скорее всего он уже там, если вы извлекли весь архив в одну папку)** \n",
    "\n",
    "Прошу прощения, если это доставит вам неудобство, но я надеялся, что в последствии этот минипакет сделает вашу жизнь удобнее, хотя бы в аспекте применения перестановочных критериев  ;)\n",
    "\n",
    "Если файл из архива исчез волшебным образом, он есть на гитхабе:\n",
    "https://github.com/armavox/mldaspec/blob/master/course4/notebooks/permutation_criteria.py"
   ]
  },
  {
   "cell_type": "code",
   "execution_count": 15,
   "metadata": {},
   "outputs": [
    {
     "data": {
      "text/plain": [
       "0.001"
      ]
     },
     "execution_count": 15,
     "metadata": {},
     "output_type": "execute_result"
    }
   ],
   "source": [
    "import permutation_criteria as perm\n",
    "\n",
    "perm.permutation_test_2sample_ind(default0_lim, default1_lim, max_permutations=1000)"
   ]
  },
  {
   "cell_type": "markdown",
   "metadata": {},
   "source": [
    "### Вывод по заданию 1:  \n",
    "Распределения признака 'LIMIT_BAL' для подвыборок из вернувших (default = 0) и не вернувших (default = 1) кредит отличны друг от друга. Это показывают интервальная оценка медиан на бустрапированных подвыборках, критерий Манна-Уитни, а также перестановочный критерий для двух независимых выборок. \n",
    "\n",
    "Из этого можно сделать следующие выводы:\n",
    "- Люди, у которых выше кредитный лимит более склонны возвращать кредит чем  те, у которых кредитный лимит ниже.\n",
    "- Скорее всего, некоторый алгоритм назначения кредитного лимита, который был применен для установления значений в этой выборке работает успешно.\n",
    "- Возможно, выборка смещена. То есть кредитный лимит назначен по каким-то предыдущим сведениям о кредитной истории клиентов, и тем, кто уже успешно возвращал кредит назначен больший кредитный лимит. Если признак 'LIMIT_BAL' в выборке составлен с использованием истории возврата кредитов клиентами, то анализировать её так как это сделано выше будет некорректно."
   ]
  },
  {
   "cell_type": "markdown",
   "metadata": {},
   "source": [
    "## Задание 2\n",
    "Пол (SEX): Проверьте гипотезу о том, что гендерный состав группы людей вернувших и не вернувших кредит отличается. Хорошо, если вы предоставите несколько различных решений этой задачи (с помощью доверительного интервала и подходящего статистического критерия)"
   ]
  },
  {
   "cell_type": "markdown",
   "metadata": {},
   "source": [
    "Доли вернувших кредит мужчин и женщин:"
   ]
  },
  {
   "cell_type": "code",
   "execution_count": 54,
   "metadata": {},
   "outputs": [
    {
     "data": {
      "image/png": "[encoded data removed]",
      "text/plain": [
       "<Figure size 403.375x360 with 1 Axes>"
      ]
     },
     "metadata": {
      "needs_background": "light"
     },
     "output_type": "display_data"
    }
   ],
   "source": [
    "c = sns.catplot(data=df, x='SEX', hue='default', kind='count', dodge=False);\n",
    "c.set_xticklabels(['male', 'female']);"
   ]
  },
  {
   "cell_type": "code",
   "execution_count": 55,
   "metadata": {},
   "outputs": [],
   "source": [
    "def_male_sample = df[df.SEX == 1]['default']\n",
    "def_female_sample = df[df.SEX == 2]['default']"
   ]
  },
  {
   "cell_type": "markdown",
   "metadata": {},
   "source": [
    "Мы рассматриваем долю мужчин не вернувших кредит среди всех мужчин и долю женщин не вернувших кредит среди всех женщин, взявших кредит.  "
   ]
  },
  {
   "cell_type": "markdown",
   "metadata": {},
   "source": [
    "Посмотрим на доверительные интервалы для доли невернувших кредиты мужчин и женщин"
   ]
  },
  {
   "cell_type": "code",
   "execution_count": 56,
   "metadata": {},
   "outputs": [
    {
     "name": "stdout",
     "output_type": "stream",
     "text": [
      "Male confint: (0.23397679702375163, 0.2493677521014166)\n",
      "Female confint: (0.20185432056295824, 0.21367129781160007) \n",
      "\n"
     ]
    }
   ],
   "source": [
    "import statsmodels.stats.proportion as psts\n",
    "\n",
    "male_confint = psts.proportion_confint(def_male_sample.sum(), len(def_male_sample))\n",
    "female_confint = psts.proportion_confint(def_female_sample.sum(), len(def_female_sample))\n",
    "print('Male confint:', male_confint)\n",
    "print('Female confint:', female_confint, '\\n')\n"
   ]
  },
  {
   "cell_type": "markdown",
   "metadata": {},
   "source": [
    "Мы можем с уверенностью в 95% говорить, что кредит не вернут:  \n",
    "от 23.38% до 24.94% мужчин  \n",
    "и от 20.19% до 21.37% женщин"
   ]
  },
  {
   "cell_type": "markdown",
   "metadata": {},
   "source": [
    "Проверим с помощью z-критерия для доли для двух независимых выборок гипотезу о том, что доли мужчин и женщин невозвращающих кредит равны"
   ]
  },
  {
   "cell_type": "markdown",
   "metadata": {},
   "source": [
    "**Критерий:**\n",
    "- z-критерий для доли\n",
    "\n",
    "**Условия применимости:**\n",
    "- [X] Биномиальное распределение.\n",
    "\n",
    "**Гипотезы:**\n",
    "- $H_0:$ Доли мужчин и женщин невозвращающих кредит равны  \n",
    "- $H_1: $ $H_0$ неверна "
   ]
  },
  {
   "cell_type": "code",
   "execution_count": 57,
   "metadata": {},
   "outputs": [
    {
     "name": "stdout",
     "output_type": "stream",
     "text": [
      "Z-stat: 6.9214, p-value: 4.472804335814144e-12\n"
     ]
    }
   ],
   "source": [
    "res = psts.proportions_ztest(\n",
    "    [def_male_sample.sum(), def_female_sample.sum()],\n",
    "    [len(def_male_sample), len(def_female_sample)])\n",
    "\n",
    "print(f'Z-stat: {res[0]:.4f}, p-value: {res[1]}')"
   ]
  },
  {
   "cell_type": "markdown",
   "metadata": {},
   "source": [
    "Достигаемый уровень значимости очень мал. Можно с уверенностью отвергнуть нулевую гипотезу о равенстве долей мужчин и женщин, не вернувших кредит."
   ]
  },
  {
   "cell_type": "markdown",
   "metadata": {},
   "source": [
    "## Задание 3 . Образование и дефолт\n",
    "Образование (EDUCATION): Проверьте гипотезу о том, что образование не влияет на то, вернет ли человек долг. Предложите способ наглядного представления разницы в ожидаемых и наблюдаемых значениях количества человек вернувших и не вернувших долг. Например, составьте таблицу сопряженности \"образование\" на \"возврат долга\", где значением ячейки была бы разность между наблюдаемым и ожидаемым количеством человек. \n",
    "\n",
    "Как бы вы предложили модифицировать таблицу так, чтобы привести значения ячеек к одному масштабу не потеряв в интерпретируемости? Наличие какого образования является наилучшим индикатором того, что человек отдаст долг? наоборт, не отдаст долг?"
   ]
  },
  {
   "cell_type": "code",
   "execution_count": 43,
   "metadata": {},
   "outputs": [
    {
     "data": {
      "image/png": "[encoded data removed]",
      "text/plain": [
       "<Figure size 475.375x216 with 1 Axes>"
      ]
     },
     "metadata": {
      "needs_background": "light"
     },
     "output_type": "display_data"
    }
   ],
   "source": [
    "c = sns.catplot(data=df, x='EDUCATION', hue='default', kind='count', aspect=2, height=3);\n",
    "c.set_xlabels('Education level. Descending');"
   ]
  },
  {
   "cell_type": "markdown",
   "metadata": {},
   "source": [
    "### Способ 1: Критерий хи-квадрат для корреляции категориальных величин"
   ]
  },
  {
   "cell_type": "markdown",
   "metadata": {},
   "source": [
    "Проверим корреляцию при помощи критерия хи-квадрат для категориальных величин. Для этого необходимо составить таблицу сопряженности, в ячейках которой будет количество человек, соотвествующего образования вернувших и не вернувших кредит.  "
   ]
  },
  {
   "cell_type": "code",
   "execution_count": 59,
   "metadata": {},
   "outputs": [
    {
     "data": {
      "text/html": [
       "<div>\n",
       "<style scoped>\n",
       "    .dataframe tbody tr th:only-of-type {\n",
       "        vertical-align: middle;\n",
       "    }\n",
       "\n",
       "    .dataframe tbody tr th {\n",
       "        vertical-align: top;\n",
       "    }\n",
       "\n",
       "    .dataframe thead th {\n",
       "        text-align: right;\n",
       "    }\n",
       "</style>\n",
       "<table border=\"1\" class=\"dataframe\">\n",
       "  <thead>\n",
       "    <tr style=\"text-align: right;\">\n",
       "      <th>EDUCATION</th>\n",
       "      <th>0</th>\n",
       "      <th>1</th>\n",
       "      <th>2</th>\n",
       "      <th>3</th>\n",
       "      <th>4</th>\n",
       "      <th>5</th>\n",
       "      <th>6</th>\n",
       "    </tr>\n",
       "    <tr>\n",
       "      <th>default</th>\n",
       "      <th></th>\n",
       "      <th></th>\n",
       "      <th></th>\n",
       "      <th></th>\n",
       "      <th></th>\n",
       "      <th></th>\n",
       "      <th></th>\n",
       "    </tr>\n",
       "  </thead>\n",
       "  <tbody>\n",
       "    <tr>\n",
       "      <th>0</th>\n",
       "      <td>14</td>\n",
       "      <td>8549</td>\n",
       "      <td>10700</td>\n",
       "      <td>3680</td>\n",
       "      <td>116</td>\n",
       "      <td>262</td>\n",
       "      <td>43</td>\n",
       "    </tr>\n",
       "    <tr>\n",
       "      <th>1</th>\n",
       "      <td>0</td>\n",
       "      <td>2036</td>\n",
       "      <td>3330</td>\n",
       "      <td>1237</td>\n",
       "      <td>7</td>\n",
       "      <td>18</td>\n",
       "      <td>8</td>\n",
       "    </tr>\n",
       "  </tbody>\n",
       "</table>\n",
       "</div>"
      ],
      "text/plain": [
       "EDUCATION   0     1      2     3    4    5   6\n",
       "default                                       \n",
       "0          14  8549  10700  3680  116  262  43\n",
       "1           0  2036   3330  1237    7   18   8"
      ]
     },
     "execution_count": 59,
     "metadata": {},
     "output_type": "execute_result"
    }
   ],
   "source": [
    "ct = pd.crosstab(df['EDUCATION'], df['default']).T\n",
    "ct"
   ]
  },
  {
   "cell_type": "markdown",
   "metadata": {},
   "source": [
    "**Критерий:**  \n",
    "- Критерий хи-квадрат для корреляции категориальных величин\n",
    "\n",
    "**Условия применимости:** \n",
    " - [X] $n \\ge 40$\n",
    " - [X] $\\frac{n_{i+}n_{+j}}{n} < 5$ in less than 20% cells\n"
   ]
  },
  {
   "cell_type": "code",
   "execution_count": 60,
   "metadata": {},
   "outputs": [
    {
     "data": {
      "text/html": [
       "<div>\n",
       "<style scoped>\n",
       "    .dataframe tbody tr th:only-of-type {\n",
       "        vertical-align: middle;\n",
       "    }\n",
       "\n",
       "    .dataframe tbody tr th {\n",
       "        vertical-align: top;\n",
       "    }\n",
       "\n",
       "    .dataframe thead th {\n",
       "        text-align: right;\n",
       "    }\n",
       "</style>\n",
       "<table border=\"1\" class=\"dataframe\">\n",
       "  <thead>\n",
       "    <tr style=\"text-align: right;\">\n",
       "      <th>EDUCATION</th>\n",
       "      <th>0</th>\n",
       "      <th>1</th>\n",
       "      <th>2</th>\n",
       "      <th>3</th>\n",
       "      <th>4</th>\n",
       "      <th>5</th>\n",
       "      <th>6</th>\n",
       "    </tr>\n",
       "    <tr>\n",
       "      <th>default</th>\n",
       "      <th></th>\n",
       "      <th></th>\n",
       "      <th></th>\n",
       "      <th></th>\n",
       "      <th></th>\n",
       "      <th></th>\n",
       "      <th></th>\n",
       "    </tr>\n",
       "  </thead>\n",
       "  <tbody>\n",
       "    <tr>\n",
       "      <th>0</th>\n",
       "      <td>False</td>\n",
       "      <td>False</td>\n",
       "      <td>False</td>\n",
       "      <td>False</td>\n",
       "      <td>False</td>\n",
       "      <td>False</td>\n",
       "      <td>False</td>\n",
       "    </tr>\n",
       "    <tr>\n",
       "      <th>1</th>\n",
       "      <td>True</td>\n",
       "      <td>False</td>\n",
       "      <td>False</td>\n",
       "      <td>False</td>\n",
       "      <td>False</td>\n",
       "      <td>False</td>\n",
       "      <td>False</td>\n",
       "    </tr>\n",
       "  </tbody>\n",
       "</table>\n",
       "</div>"
      ],
      "text/plain": [
       "EDUCATION      0      1      2      3      4      5      6\n",
       "default                                                   \n",
       "0          False  False  False  False  False  False  False\n",
       "1           True  False  False  False  False  False  False"
      ]
     },
     "execution_count": 60,
     "metadata": {},
     "output_type": "execute_result"
    }
   ],
   "source": [
    "ct_check = ct.copy()\n",
    "for i in range(len(ct.index)):\n",
    "    for j in range(len(ct.columns)):\n",
    "        ct_check.loc[i, j] = (ct.loc[i].sum() * ct[j].sum()) / ct.sum().sum()\n",
    "\n",
    "ct_check < 5"
   ]
  },
  {
   "cell_type": "markdown",
   "metadata": {},
   "source": [
    "Оба условия выполняются.\n",
    "\n",
    "**Гипотезы:**  \n",
    "$H_0:$ выборки `default` и  `EDUCATION` не зависимы.  \n",
    "$H_1:$ выборки зависимы. Двусторонняя альтернатива."
   ]
  },
  {
   "cell_type": "code",
   "execution_count": 62,
   "metadata": {},
   "outputs": [
    {
     "name": "stdout",
     "output_type": "stream",
     "text": [
      "Статистика: 163.2166, p-value: 1.2332626245415605e-32\n"
     ]
    }
   ],
   "source": [
    "chistats = sc.stats.chi2_contingency(ct.values)\n",
    "print(f'Статистика: {chistats[0]:.4f}, p-value: {chistats[1]}')"
   ]
  },
  {
   "cell_type": "markdown",
   "metadata": {},
   "source": [
    "На уровне значимости $\\alpha=0.05$ нулевую гипотезу об остутствии корреляции между уровнем образования человеком и возвращаемостью кредита можно смело отвергнуть.\n",
    "То есть образование человека непосредственно влияет на вероятность не вернуть кредит. "
   ]
  },
  {
   "cell_type": "markdown",
   "metadata": {},
   "source": [
    "Посчитаем коэффициент корреляции V Крамера чтобы оценить степень корреляции.  \n",
    "*`proportions_hypotheses` также лежат в одной папке с ноутбуком и здесь: https://github.com/armavox/mldaspec/blob/master/course4/notebooks/proportions_hypotheses.py"
   ]
  },
  {
   "cell_type": "code",
   "execution_count": 95,
   "metadata": {},
   "outputs": [],
   "source": [
    "import proportions_hypotheses\n",
    "\n",
    "cramers_v = proportions_hypotheses.cramers_corrected_stat(ct)\n",
    "print(f\"Cramers' V: {cramers_v:.4f}\")"
   ]
  },
  {
   "cell_type": "markdown",
   "metadata": {},
   "source": [
    "### Способ 2: сравнение с равномерным распределением при помощи критерия согласия Пирсона."
   ]
  },
  {
   "cell_type": "markdown",
   "metadata": {
    "scrolled": true
   },
   "source": [
    "Для того чтобы сравнить две выборки необходимо сравнить таблицу сопряженности с аналогичной со значениями извлеченными из равномерного распределения. То есть со случаем, когда вне зависимости от уровня образования среднее количество вернувших и не вернувших кредит одинаково."
   ]
  },
  {
   "cell_type": "code",
   "execution_count": 112,
   "metadata": {},
   "outputs": [],
   "source": [
    "# Converting contingency matrix to one-dimension\n",
    "ct_flat = ct.values.flatten()\n",
    "\n",
    "# Uniformly distributed contingency matrix.\n",
    "ct_uniform = np.full(ct_flat.shape, ct_flat.mean())"
   ]
  },
  {
   "cell_type": "markdown",
   "metadata": {},
   "source": [
    "**Критерий:**  \n",
    "- Критерий согласия Пирсона\n",
    "\n",
    "**Условия применимости:**  \n",
    "- [X] Количество наблюдений в каждом разбиении больше пяти. (В нашем случае только в одной меньше пяти)\n",
    "\n",
    "**Гипотезы:**   \n",
    "$H_0:$ распределение образования на возвращении кредита равномерно.  \n",
    "$H_1:$ $H_0$ неверна. Двусторонняя альтернатива."
   ]
  },
  {
   "cell_type": "code",
   "execution_count": 111,
   "metadata": {},
   "outputs": [
    {
     "data": {
      "text/plain": [
       "Power_divergenceResult(statistic=71522.4824, pvalue=0.0)"
      ]
     },
     "execution_count": 111,
     "metadata": {},
     "output_type": "execute_result"
    }
   ],
   "source": [
    "sc.stats.chisquare(ct_flat, ct_uniform, ddof=1)"
   ]
  },
  {
   "cell_type": "markdown",
   "metadata": {},
   "source": [
    "Критерий хи-квадрат отвергает гипотезу о том, что распределение равномерно. Значит корреляция скорее всего есть."
   ]
  },
  {
   "cell_type": "markdown",
   "metadata": {},
   "source": [
    "### Визуализация"
   ]
  },
  {
   "cell_type": "markdown",
   "metadata": {},
   "source": [
    "Чтобы визуализировать степень кредитного доверия к человеку на основе его образования вычислим долю вернувших в своей категории образования. Значения в таблице соответствуютт вероятности вернуть/не вернуть кредит при наличии данного образования."
   ]
  },
  {
   "cell_type": "code",
   "execution_count": 113,
   "metadata": {},
   "outputs": [
    {
     "data": {
      "text/html": [
       "<div>\n",
       "<style scoped>\n",
       "    .dataframe tbody tr th:only-of-type {\n",
       "        vertical-align: middle;\n",
       "    }\n",
       "\n",
       "    .dataframe tbody tr th {\n",
       "        vertical-align: top;\n",
       "    }\n",
       "\n",
       "    .dataframe thead th {\n",
       "        text-align: right;\n",
       "    }\n",
       "</style>\n",
       "<table border=\"1\" class=\"dataframe\">\n",
       "  <thead>\n",
       "    <tr style=\"text-align: right;\">\n",
       "      <th>EDUCATION</th>\n",
       "      <th>0</th>\n",
       "      <th>1</th>\n",
       "      <th>2</th>\n",
       "      <th>3</th>\n",
       "      <th>4</th>\n",
       "      <th>5</th>\n",
       "      <th>6</th>\n",
       "    </tr>\n",
       "    <tr>\n",
       "      <th>default</th>\n",
       "      <th></th>\n",
       "      <th></th>\n",
       "      <th></th>\n",
       "      <th></th>\n",
       "      <th></th>\n",
       "      <th></th>\n",
       "      <th></th>\n",
       "    </tr>\n",
       "  </thead>\n",
       "  <tbody>\n",
       "    <tr>\n",
       "      <th>0</th>\n",
       "      <td>1.0</td>\n",
       "      <td>0.807652</td>\n",
       "      <td>0.762651</td>\n",
       "      <td>0.748424</td>\n",
       "      <td>0.943089</td>\n",
       "      <td>0.935714</td>\n",
       "      <td>0.843137</td>\n",
       "    </tr>\n",
       "    <tr>\n",
       "      <th>1</th>\n",
       "      <td>0.0</td>\n",
       "      <td>0.192348</td>\n",
       "      <td>0.237349</td>\n",
       "      <td>0.251576</td>\n",
       "      <td>0.056911</td>\n",
       "      <td>0.064286</td>\n",
       "      <td>0.156863</td>\n",
       "    </tr>\n",
       "  </tbody>\n",
       "</table>\n",
       "</div>"
      ],
      "text/plain": [
       "EDUCATION    0         1         2         3         4         5         6\n",
       "default                                                                   \n",
       "0          1.0  0.807652  0.762651  0.748424  0.943089  0.935714  0.843137\n",
       "1          0.0  0.192348  0.237349  0.251576  0.056911  0.064286  0.156863"
      ]
     },
     "execution_count": 113,
     "metadata": {},
     "output_type": "execute_result"
    }
   ],
   "source": [
    "cont_diff = (ct) / ct.sum()\n",
    "\n",
    "cont_diff = pd.DataFrame(cont_diff)\n",
    "\n",
    "cont_diff.columns.names = ['EDUCATION']\n",
    "cont_diff.index.names = ['default']\n",
    "\n",
    "cont_diff"
   ]
  },
  {
   "cell_type": "markdown",
   "metadata": {},
   "source": [
    "Можно визуализировать эту таблицу в виде 'heatmap'"
   ]
  },
  {
   "cell_type": "code",
   "execution_count": 125,
   "metadata": {
    "scrolled": true
   },
   "outputs": [
    {
     "data": {
      "image/png": "[encoded data removed]",
      "text/plain": [
       "<Figure size 864x216 with 1 Axes>"
      ]
     },
     "metadata": {
      "needs_background": "light"
     },
     "output_type": "display_data"
    }
   ],
   "source": [
    "plt.figure(figsize=(12,3))\n",
    "sns.heatmap(cont_diff, cmap='cividis', annot=True, center=.5, square=True, cbar=False);"
   ]
  },
  {
   "cell_type": "markdown",
   "metadata": {},
   "source": [
    "## Задание 4"
   ]
  },
  {
   "cell_type": "markdown",
   "metadata": {},
   "source": [
    "Семейное положение (MARRIAGE): Проверьте, как связан семейный статус с индикатором дефолта: нужно предложить меру, по которой можно измерить возможную связь этих переменных и посчитать ее значение."
   ]
  },
  {
   "cell_type": "code",
   "execution_count": 28,
   "metadata": {},
   "outputs": [
    {
     "data": {
      "image/png": "[encoded data removed]",
      "text/plain": [
       "<Figure size 475.375x216 with 1 Axes>"
      ]
     },
     "metadata": {
      "needs_background": "light"
     },
     "output_type": "display_data"
    }
   ],
   "source": [
    "c = sns.catplot(data=df, x='MARRIAGE', hue='default', kind='count', aspect=2, height=3)\n",
    "c.set_xticklabels(['no_ans', 'single', 'married', 'no_data']);"
   ]
  },
  {
   "cell_type": "markdown",
   "metadata": {},
   "source": [
    "Примем в рассмотрение только те данные, в которых статус указан."
   ]
  },
  {
   "cell_type": "code",
   "execution_count": 29,
   "metadata": {},
   "outputs": [],
   "source": [
    "df_marriage = df[df['MARRIAGE'].isin([1,2])]"
   ]
  },
  {
   "cell_type": "markdown",
   "metadata": {},
   "source": [
    "Данные – бинарны. В таком случае, чтобы оценить корреляцию, можно воспользоваться критерием **хи-квадрат Мэттьюса: MCC**. Составим таблицу сопряженности для бинарных признаков."
   ]
  },
  {
   "cell_type": "code",
   "execution_count": 30,
   "metadata": {},
   "outputs": [
    {
     "data": {
      "text/html": [
       "<div>\n",
       "<style scoped>\n",
       "    .dataframe tbody tr th:only-of-type {\n",
       "        vertical-align: middle;\n",
       "    }\n",
       "\n",
       "    .dataframe tbody tr th {\n",
       "        vertical-align: top;\n",
       "    }\n",
       "\n",
       "    .dataframe thead th {\n",
       "        text-align: right;\n",
       "    }\n",
       "</style>\n",
       "<table border=\"1\" class=\"dataframe\">\n",
       "  <thead>\n",
       "    <tr style=\"text-align: right;\">\n",
       "      <th>default</th>\n",
       "      <th>0</th>\n",
       "      <th>1</th>\n",
       "    </tr>\n",
       "    <tr>\n",
       "      <th>MARRIAGE</th>\n",
       "      <th></th>\n",
       "      <th></th>\n",
       "    </tr>\n",
       "  </thead>\n",
       "  <tbody>\n",
       "    <tr>\n",
       "      <th>1</th>\n",
       "      <td>10453</td>\n",
       "      <td>3206</td>\n",
       "    </tr>\n",
       "    <tr>\n",
       "      <th>2</th>\n",
       "      <td>12623</td>\n",
       "      <td>3341</td>\n",
       "    </tr>\n",
       "  </tbody>\n",
       "</table>\n",
       "</div>"
      ],
      "text/plain": [
       "default       0     1\n",
       "MARRIAGE             \n",
       "1         10453  3206\n",
       "2         12623  3341"
      ]
     },
     "execution_count": 30,
     "metadata": {},
     "output_type": "execute_result"
    }
   ],
   "source": [
    "marriage_crosstab = pd.crosstab(df_marriage['MARRIAGE'], df_marriage['default'])\n",
    "marriage_crosstab"
   ]
  },
  {
   "cell_type": "code",
   "execution_count": 31,
   "metadata": {},
   "outputs": [],
   "source": [
    "def MCC(a, b, c, d):\n",
    "    num = a*d - b*c\n",
    "    den = np.sqrt((a+b)*(a+c)*(b+d)*(c+d))\n",
    "    return num / den"
   ]
  },
  {
   "cell_type": "code",
   "execution_count": 32,
   "metadata": {},
   "outputs": [
    {
     "data": {
      "text/plain": [
       "1.44851434298125e-07"
      ]
     },
     "execution_count": 32,
     "metadata": {},
     "output_type": "execute_result"
    }
   ],
   "source": [
    "chi2 = marriage_crosstab.sum().sum() * MCC(\n",
    "                                           marriage_crosstab[0].at[1],\n",
    "                                           marriage_crosstab[1].at[1],\n",
    "                                           marriage_crosstab[0].at[2],\n",
    "                                           marriage_crosstab[1].at[2])**2\n",
    "sc.stats.chi2.sf(chi2, df=1)"
   ]
  },
  {
   "cell_type": "markdown",
   "metadata": {},
   "source": [
    "**Критерий:**\n",
    "- хи-квадрат для категориальных величин\n",
    "\n",
    "**Условия применимости:**\n",
    "- [X] $n \\ge 40$\n",
    "- [X] $\\frac{n_{i+}n_{+j}}{n} < 5$ in less than 20% cells\n",
    "\n",
    "**Гипотезы:**\n",
    "- $H_0:$ возвращаемость кредита не зависит от штампа в паспорте против  альтернативы  \n",
    "- $H_1:$ всё-таки зависит.\n",
    "\n"
   ]
  },
  {
   "cell_type": "code",
   "execution_count": 118,
   "metadata": {},
   "outputs": [
    {
     "data": {
      "text/html": [
       "<div>\n",
       "<style scoped>\n",
       "    .dataframe tbody tr th:only-of-type {\n",
       "        vertical-align: middle;\n",
       "    }\n",
       "\n",
       "    .dataframe tbody tr th {\n",
       "        vertical-align: top;\n",
       "    }\n",
       "\n",
       "    .dataframe thead th {\n",
       "        text-align: right;\n",
       "    }\n",
       "</style>\n",
       "<table border=\"1\" class=\"dataframe\">\n",
       "  <thead>\n",
       "    <tr style=\"text-align: right;\">\n",
       "      <th>default</th>\n",
       "      <th>0</th>\n",
       "      <th>1</th>\n",
       "    </tr>\n",
       "    <tr>\n",
       "      <th>MARRIAGE</th>\n",
       "      <th></th>\n",
       "      <th></th>\n",
       "    </tr>\n",
       "  </thead>\n",
       "  <tbody>\n",
       "    <tr>\n",
       "      <th>1</th>\n",
       "      <td>True</td>\n",
       "      <td>False</td>\n",
       "    </tr>\n",
       "    <tr>\n",
       "      <th>2</th>\n",
       "      <td>False</td>\n",
       "      <td>False</td>\n",
       "    </tr>\n",
       "    <tr>\n",
       "      <th>0</th>\n",
       "      <td>False</td>\n",
       "      <td>False</td>\n",
       "    </tr>\n",
       "  </tbody>\n",
       "</table>\n",
       "</div>"
      ],
      "text/plain": [
       "default       0      1\n",
       "MARRIAGE              \n",
       "1          True  False\n",
       "2         False  False\n",
       "0         False  False"
      ]
     },
     "execution_count": 118,
     "metadata": {},
     "output_type": "execute_result"
    }
   ],
   "source": [
    "marriage_ct_check = marriage_crosstab.copy()\n",
    "for i in range(len(marriage_ct_check.index)):\n",
    "    for j in range(len(marriage_ct_check.columns)):\n",
    "        marriage_ct_check.loc[i, j] = (ct.loc[i].sum() * ct[j].sum()) / ct.sum().sum()\n",
    "\n",
    "marriage_ct_check < 5"
   ]
  },
  {
   "cell_type": "code",
   "execution_count": 33,
   "metadata": {},
   "outputs": [
    {
     "name": "stdout",
     "output_type": "stream",
     "text": [
      "Chi statistic: 27.6569;\n",
      "p-value: 1.4485143429812136e-07\n"
     ]
    }
   ],
   "source": [
    "chistat = sc.stats.chi2_contingency(marriage_crosstab, correction=False)\n",
    "print(f'Chi statistic: {chistat[0]:.4f};' f'\\np-value: {chistat[1]}')"
   ]
  },
  {
   "cell_type": "markdown",
   "metadata": {},
   "source": [
    "Для оценки корреляции, посчитаем коэффициент V Крамера"
   ]
  },
  {
   "cell_type": "code",
   "execution_count": 106,
   "metadata": {},
   "outputs": [
    {
     "name": "stdout",
     "output_type": "stream",
     "text": [
      "Cramers' V: 0.0306\n"
     ]
    }
   ],
   "source": [
    "v_cramer_corrcoef = (chistat[0] / marriage_crosstab.sum().sum() * 1)**0.5\n",
    "print(f\"Cramers' V: {v_cramer_corrcoef:.4f}\")"
   ]
  },
  {
   "cell_type": "markdown",
   "metadata": {},
   "source": [
    "Значение корреляции достаточно мало, чтобы мы могли сказать, что брак не является весомым фактором при принятии решения о выдаче кредита."
   ]
  },
  {
   "cell_type": "markdown",
   "metadata": {},
   "source": [
    "## Задание 5"
   ]
  },
  {
   "cell_type": "markdown",
   "metadata": {},
   "source": [
    "Возраст (AGE): Относительно двух групп людей вернувших и не вернувших кредит проверьте следующие гипотезы: \n",
    "- a) о равенстве медианных значений возрастов людей \n",
    "- b) о равенстве распределений с помощью одного из подходящих непараметрических критериев проверки равенства средних. \n",
    "\n",
    "Значимы ли полученные результаты с практической точки зрения?"
   ]
  },
  {
   "cell_type": "code",
   "execution_count": 34,
   "metadata": {},
   "outputs": [
    {
     "data": {
      "image/png": "[encoded data removed]",
      "text/plain": [
       "<Figure size 432x288 with 1 Axes>"
      ]
     },
     "metadata": {
      "needs_background": "light"
     },
     "output_type": "display_data"
    }
   ],
   "source": [
    "plt.hist(df[df.default == 0].AGE, color='r', bins=10);\n",
    "plt.hist(df[df.default == 1].AGE, color='b', bins=10);"
   ]
  },
  {
   "cell_type": "code",
   "execution_count": 35,
   "metadata": {
    "scrolled": false
   },
   "outputs": [
    {
     "data": {
      "image/png": "[encoded data removed]",
      "text/plain": [
       "<Figure size 864x216 with 1 Axes>"
      ]
     },
     "metadata": {
      "needs_background": "light"
     },
     "output_type": "display_data"
    }
   ],
   "source": [
    "sns.catplot(data=df, x='AGE', y='default', kind='box', orient='h', height=3, aspect=4);"
   ]
  },
  {
   "cell_type": "markdown",
   "metadata": {},
   "source": [
    "### Гипотеза 1. О равенстве медиан возрастов среди вернувших и не вернувших кредит"
   ]
  },
  {
   "cell_type": "markdown",
   "metadata": {},
   "source": [
    "Используем опять оценку равенства медиан при помощи интервальных оценок бустрапированной выборки."
   ]
  },
  {
   "cell_type": "code",
   "execution_count": 36,
   "metadata": {},
   "outputs": [],
   "source": [
    "def0_age_boot = get_bootstrap_samples(df[df.default == 0].AGE, 1000)\n",
    "def1_age_boot = get_bootstrap_samples(df[df.default == 1].AGE, 1000)"
   ]
  },
  {
   "cell_type": "code",
   "execution_count": 37,
   "metadata": {},
   "outputs": [],
   "source": [
    "def0_age_boot_med = np.apply_along_axis(np.median, 1, def0_age_boot)\n",
    "def1_age_boot_med = np.apply_along_axis(np.median, 1, def1_age_boot)"
   ]
  },
  {
   "cell_type": "code",
   "execution_count": 38,
   "metadata": {},
   "outputs": [
    {
     "data": {
      "text/plain": [
       "array([-1.,  0.])"
      ]
     },
     "execution_count": 38,
     "metadata": {},
     "output_type": "execute_result"
    }
   ],
   "source": [
    "tolerance_int(def0_age_boot_med - def1_age_boot_med, 0.05)"
   ]
  },
  {
   "cell_type": "markdown",
   "metadata": {},
   "source": [
    "Интервальная оценка на бутстрапированных выборках показывает, что в интервал входит ноль, поэтому отвергнуть нулевую гипотезу о равенстве медианных значений нельзя."
   ]
  },
  {
   "cell_type": "markdown",
   "metadata": {},
   "source": [
    "### Гипотеза 2. О равенстве распределений"
   ]
  },
  {
   "cell_type": "markdown",
   "metadata": {},
   "source": [
    "Для сравнения распределений используем критерий Манна-Уитни. Он не предполагает определенного распределения выборки.  \n",
    "**Условия применимости:**\n",
    "- [X]  $n >  40$\n",
    "\n",
    "**Гипотезы:**\n",
    "- $H_0: F_{X_1}(x) = F_{X_2}(x)$\n",
    "- $H_1: F_{X_1}(x) = F_{X_2}(x+\\delta)$"
   ]
  },
  {
   "cell_type": "markdown",
   "metadata": {},
   "source": [
    "Достигаемый уровень значимости критерия Манна-Уитни показывает, что отвергуть нулевую гипотезу нельзя. То есть возраст не является значимым фактором при принятии решения о  выдаче кредита."
   ]
  },
  {
   "cell_type": "code",
   "execution_count": 39,
   "metadata": {},
   "outputs": [
    {
     "data": {
      "text/plain": [
       "MannwhitneyuResult(statistic=76966879.5, pvalue=0.3725035434898616)"
      ]
     },
     "execution_count": 39,
     "metadata": {},
     "output_type": "execute_result"
    }
   ],
   "source": [
    "sc.stats.mannwhitneyu(\n",
    "    df[df.default == 0].AGE,\n",
    "    df[df.default == 1].AGE, \n",
    "    alternative='two-sided')"
   ]
  },
  {
   "cell_type": "code",
   "execution_count": null,
   "metadata": {},
   "outputs": [],
   "source": []
  }
 ],
 "metadata": {
  "kernelspec": {
   "display_name": "Python 3.7 [mldaspec]",
   "language": "python",
   "name": "mldaspec"
  },
  "language_info": {
   "codemirror_mode": {
    "name": "ipython",
    "version": 3
   },
   "file_extension": ".py",
   "mimetype": "text/x-python",
   "name": "python",
   "nbconvert_exporter": "python",
   "pygments_lexer": "ipython3",
   "version": "3.7.0"
  }
 },
 "nbformat": 4,
 "nbformat_minor": 2
}
